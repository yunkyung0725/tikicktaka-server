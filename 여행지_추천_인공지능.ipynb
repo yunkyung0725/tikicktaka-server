{
  "cells": [
    {
      "cell_type": "markdown",
      "metadata": {
        "id": "view-in-github",
        "colab_type": "text"
      },
      "source": [
        "<a href=\"https://colab.research.google.com/github/yunkyung0725/tikicktaka-server/blob/dev/%EC%97%AC%ED%96%89%EC%A7%80_%EC%B6%94%EC%B2%9C_%EC%9D%B8%EA%B3%B5%EC%A7%80%EB%8A%A5.ipynb\" target=\"_parent\"><img src=\"https://colab.research.google.com/assets/colab-badge.svg\" alt=\"Open In Colab\"/></a>"
      ]
    },
    {
      "cell_type": "markdown",
      "source": [
        "## 국내 여행로그 데이터(수도권) - AI 허브\n",
        "\n",
        "https://aihub.or.kr/aihubdata/data/view.do?data&dataSetSn=71581"
      ],
      "metadata": {
        "id": "nZbvfxzPB814"
      }
    },
    {
      "cell_type": "code",
      "source": [
        "!wget -q https://raw.githubusercontent.com/kairess/toy-datasets/master/tn_travel_%E1%84%8B%E1%85%A7%E1%84%92%E1%85%A2%E1%86%BC_A.csv\n",
        "!wget -q https://raw.githubusercontent.com/kairess/toy-datasets/master/tn_traveller_master_%E1%84%8B%E1%85%A7%E1%84%92%E1%85%A2%E1%86%BC%E1%84%80%E1%85%A2%E1%86%A8%20Master_A.csv\n",
        "!wget -q https://raw.githubusercontent.com/kairess/toy-datasets/master/tn_visit_area_info_%E1%84%87%E1%85%A1%E1%86%BC%E1%84%86%E1%85%AE%E1%86%AB%E1%84%8C%E1%85%B5%E1%84%8C%E1%85%A5%E1%86%BC%E1%84%87%E1%85%A9_A.csv"
      ],
      "metadata": {
        "id": "xdaKBmKnFJyH"
      },
      "execution_count": null,
      "outputs": []
    },
    {
      "cell_type": "code",
      "execution_count": null,
      "metadata": {
        "id": "7eksaNh5tU_A"
      },
      "outputs": [],
      "source": [
        "import pandas as pd"
      ]
    },
    {
      "cell_type": "markdown",
      "source": [
        "### 방문자 정보"
      ],
      "metadata": {
        "id": "K3Y74ww2CN_P"
      }
    },
    {
      "cell_type": "code",
      "execution_count": null,
      "metadata": {
        "colab": {
          "base_uri": "https://localhost:8080/",
          "height": 635
        },
        "id": "V7FCW8PwuAa3",
        "outputId": "69519585-2b21-493e-9f26-6b78aef0f809"
      },
      "outputs": [
        {
          "output_type": "execute_result",
          "data": {
            "text/plain": [
              "       VISIT_AREA_ID  TRAVEL_ID  VISIT_ORDER  VISIT_AREA_NM VISIT_START_YMD  \\\n",
              "0         2210300006  a_a015688            5         프로방스마을      2022-10-30   \n",
              "1         2208050001  a_a000164            1         친구/친지집      2022-08-05   \n",
              "2         2210030002  a_a004293            2        병점역 1호선      2022-10-03   \n",
              "3         2208200003  a_a000491           12          더현대서울      2022-08-20   \n",
              "4         2208110007  a_a000172           13         강릉중앙시장      2022-08-11   \n",
              "...              ...        ...          ...            ...             ...   \n",
              "30149     2210220005  a_a008553            5              집      2022-10-22   \n",
              "30150     2208280003  a_a001505            6         카페아쁠뤼스      2022-08-28   \n",
              "30151     2210290005  a_a013660            4        국립중앙박물관      2022-10-29   \n",
              "30152     2208060008  a_a000019            7       송도달빛축제공원      2022-08-06   \n",
              "30153     2209060002  a_a000567            2  콩카페 롯데백화점 잠실점      2022-09-06   \n",
              "\n",
              "      VISIT_END_YMD         ROAD_NM_ADDR           LOTNO_ADDR     X_COORD  \\\n",
              "0        2022-10-30   경기 파주시 탄현면 새오리로 77  경기 파주시 탄현면 성동리 82-1  126.685239   \n",
              "1        2022-08-05                  NaN       경기도 안산시 단원구 와동         NaN   \n",
              "2        2022-10-03       경기 화성시 떡전골로 97     경기 화성시 진안동 824-1  127.033200   \n",
              "3        2022-08-20     서울 영등포구 여의대로 108      서울 영등포구 여의도동 22  126.928446   \n",
              "4        2022-08-11        강원 강릉시 금성로 21        강원 강릉시 성남동 50  128.898624   \n",
              "...             ...                  ...                  ...         ...   \n",
              "30149    2022-10-23                  NaN                  NaN         NaN   \n",
              "30150    2022-08-28  경기 가평군 청평면 신청평로 107   경기 가평군 청평면 대성리 3-5  127.406939   \n",
              "30151    2022-10-29      서울 용산구 서빙고로 137   서울 용산구 용산동6가 168-6  126.980203   \n",
              "30152    2022-08-06      인천 연수구 센트럴로 350      인천 연수구 송도동 26-1  126.634896   \n",
              "30153    2022-09-06      서울 송파구 올림픽로 240      서울 송파구 잠실동 40-1  127.098572   \n",
              "\n",
              "         Y_COORD  ...    POI_NM RESIDENCE_TIME_MIN VISIT_AREA_TYPE_CD  \\\n",
              "0      37.790405  ...       NaN               60.0                  7   \n",
              "1            NaN  ...       NaN                NaN                 22   \n",
              "2      37.206753  ...       병점역               30.0                  9   \n",
              "3      37.525872  ...       NaN              180.0                  4   \n",
              "4      37.754025  ...      신흥수산               30.0                  4   \n",
              "...          ...  ...       ...                ...                ...   \n",
              "30149        NaN  ...       NaN              300.0                 21   \n",
              "30150  37.728238  ...       NaN               90.0                 11   \n",
              "30151  37.523847  ...   국립중앙박물관               30.0                  2   \n",
              "30152  37.407218  ...       NaN               60.0                  8   \n",
              "30153  37.511906  ...  롯데월드어드벤처                0.0                 11   \n",
              "\n",
              "      REVISIT_YN  VISIT_CHC_REASON_CD  LODGING_TYPE_CD DGSTFN  \\\n",
              "0              Y                  9.0              NaN    4.0   \n",
              "1            NaN                  NaN              NaN    NaN   \n",
              "2              Y                  6.0              NaN    4.0   \n",
              "3              N                  2.0              NaN    5.0   \n",
              "4              N                  1.0              NaN    4.0   \n",
              "...          ...                  ...              ...    ...   \n",
              "30149        NaN                  NaN              NaN    NaN   \n",
              "30150          N                  9.0              NaN    5.0   \n",
              "30151          N                 10.0              NaN    5.0   \n",
              "30152          N                  9.0              NaN    4.0   \n",
              "30153          N                  9.0              NaN    3.0   \n",
              "\n",
              "       REVISIT_INTENTION  RCMDTN_INTENTION   SGG_CD  \n",
              "0                    4.0               4.0      NaN  \n",
              "1                    NaN               NaN  41273.0  \n",
              "2                    5.0               5.0      NaN  \n",
              "3                    5.0               5.0      NaN  \n",
              "4                    4.0               4.0      NaN  \n",
              "...                  ...               ...      ...  \n",
              "30149                NaN               NaN      NaN  \n",
              "30150                4.0               4.0      NaN  \n",
              "30151                5.0               5.0      NaN  \n",
              "30152                4.0               4.0      NaN  \n",
              "30153                2.0               2.0      NaN  \n",
              "\n",
              "[30154 rows x 23 columns]"
            ],
            "text/html": [
              "\n",
              "  <div id=\"df-ed453bba-4285-4ee6-a3d3-940223b26eff\" class=\"colab-df-container\">\n",
              "    <div>\n",
              "<style scoped>\n",
              "    .dataframe tbody tr th:only-of-type {\n",
              "        vertical-align: middle;\n",
              "    }\n",
              "\n",
              "    .dataframe tbody tr th {\n",
              "        vertical-align: top;\n",
              "    }\n",
              "\n",
              "    .dataframe thead th {\n",
              "        text-align: right;\n",
              "    }\n",
              "</style>\n",
              "<table border=\"1\" class=\"dataframe\">\n",
              "  <thead>\n",
              "    <tr style=\"text-align: right;\">\n",
              "      <th></th>\n",
              "      <th>VISIT_AREA_ID</th>\n",
              "      <th>TRAVEL_ID</th>\n",
              "      <th>VISIT_ORDER</th>\n",
              "      <th>VISIT_AREA_NM</th>\n",
              "      <th>VISIT_START_YMD</th>\n",
              "      <th>VISIT_END_YMD</th>\n",
              "      <th>ROAD_NM_ADDR</th>\n",
              "      <th>LOTNO_ADDR</th>\n",
              "      <th>X_COORD</th>\n",
              "      <th>Y_COORD</th>\n",
              "      <th>...</th>\n",
              "      <th>POI_NM</th>\n",
              "      <th>RESIDENCE_TIME_MIN</th>\n",
              "      <th>VISIT_AREA_TYPE_CD</th>\n",
              "      <th>REVISIT_YN</th>\n",
              "      <th>VISIT_CHC_REASON_CD</th>\n",
              "      <th>LODGING_TYPE_CD</th>\n",
              "      <th>DGSTFN</th>\n",
              "      <th>REVISIT_INTENTION</th>\n",
              "      <th>RCMDTN_INTENTION</th>\n",
              "      <th>SGG_CD</th>\n",
              "    </tr>\n",
              "  </thead>\n",
              "  <tbody>\n",
              "    <tr>\n",
              "      <th>0</th>\n",
              "      <td>2210300006</td>\n",
              "      <td>a_a015688</td>\n",
              "      <td>5</td>\n",
              "      <td>프로방스마을</td>\n",
              "      <td>2022-10-30</td>\n",
              "      <td>2022-10-30</td>\n",
              "      <td>경기 파주시 탄현면 새오리로 77</td>\n",
              "      <td>경기 파주시 탄현면 성동리 82-1</td>\n",
              "      <td>126.685239</td>\n",
              "      <td>37.790405</td>\n",
              "      <td>...</td>\n",
              "      <td>NaN</td>\n",
              "      <td>60.0</td>\n",
              "      <td>7</td>\n",
              "      <td>Y</td>\n",
              "      <td>9.0</td>\n",
              "      <td>NaN</td>\n",
              "      <td>4.0</td>\n",
              "      <td>4.0</td>\n",
              "      <td>4.0</td>\n",
              "      <td>NaN</td>\n",
              "    </tr>\n",
              "    <tr>\n",
              "      <th>1</th>\n",
              "      <td>2208050001</td>\n",
              "      <td>a_a000164</td>\n",
              "      <td>1</td>\n",
              "      <td>친구/친지집</td>\n",
              "      <td>2022-08-05</td>\n",
              "      <td>2022-08-05</td>\n",
              "      <td>NaN</td>\n",
              "      <td>경기도 안산시 단원구 와동</td>\n",
              "      <td>NaN</td>\n",
              "      <td>NaN</td>\n",
              "      <td>...</td>\n",
              "      <td>NaN</td>\n",
              "      <td>NaN</td>\n",
              "      <td>22</td>\n",
              "      <td>NaN</td>\n",
              "      <td>NaN</td>\n",
              "      <td>NaN</td>\n",
              "      <td>NaN</td>\n",
              "      <td>NaN</td>\n",
              "      <td>NaN</td>\n",
              "      <td>41273.0</td>\n",
              "    </tr>\n",
              "    <tr>\n",
              "      <th>2</th>\n",
              "      <td>2210030002</td>\n",
              "      <td>a_a004293</td>\n",
              "      <td>2</td>\n",
              "      <td>병점역 1호선</td>\n",
              "      <td>2022-10-03</td>\n",
              "      <td>2022-10-03</td>\n",
              "      <td>경기 화성시 떡전골로 97</td>\n",
              "      <td>경기 화성시 진안동 824-1</td>\n",
              "      <td>127.033200</td>\n",
              "      <td>37.206753</td>\n",
              "      <td>...</td>\n",
              "      <td>병점역</td>\n",
              "      <td>30.0</td>\n",
              "      <td>9</td>\n",
              "      <td>Y</td>\n",
              "      <td>6.0</td>\n",
              "      <td>NaN</td>\n",
              "      <td>4.0</td>\n",
              "      <td>5.0</td>\n",
              "      <td>5.0</td>\n",
              "      <td>NaN</td>\n",
              "    </tr>\n",
              "    <tr>\n",
              "      <th>3</th>\n",
              "      <td>2208200003</td>\n",
              "      <td>a_a000491</td>\n",
              "      <td>12</td>\n",
              "      <td>더현대서울</td>\n",
              "      <td>2022-08-20</td>\n",
              "      <td>2022-08-20</td>\n",
              "      <td>서울 영등포구 여의대로 108</td>\n",
              "      <td>서울 영등포구 여의도동 22</td>\n",
              "      <td>126.928446</td>\n",
              "      <td>37.525872</td>\n",
              "      <td>...</td>\n",
              "      <td>NaN</td>\n",
              "      <td>180.0</td>\n",
              "      <td>4</td>\n",
              "      <td>N</td>\n",
              "      <td>2.0</td>\n",
              "      <td>NaN</td>\n",
              "      <td>5.0</td>\n",
              "      <td>5.0</td>\n",
              "      <td>5.0</td>\n",
              "      <td>NaN</td>\n",
              "    </tr>\n",
              "    <tr>\n",
              "      <th>4</th>\n",
              "      <td>2208110007</td>\n",
              "      <td>a_a000172</td>\n",
              "      <td>13</td>\n",
              "      <td>강릉중앙시장</td>\n",
              "      <td>2022-08-11</td>\n",
              "      <td>2022-08-11</td>\n",
              "      <td>강원 강릉시 금성로 21</td>\n",
              "      <td>강원 강릉시 성남동 50</td>\n",
              "      <td>128.898624</td>\n",
              "      <td>37.754025</td>\n",
              "      <td>...</td>\n",
              "      <td>신흥수산</td>\n",
              "      <td>30.0</td>\n",
              "      <td>4</td>\n",
              "      <td>N</td>\n",
              "      <td>1.0</td>\n",
              "      <td>NaN</td>\n",
              "      <td>4.0</td>\n",
              "      <td>4.0</td>\n",
              "      <td>4.0</td>\n",
              "      <td>NaN</td>\n",
              "    </tr>\n",
              "    <tr>\n",
              "      <th>...</th>\n",
              "      <td>...</td>\n",
              "      <td>...</td>\n",
              "      <td>...</td>\n",
              "      <td>...</td>\n",
              "      <td>...</td>\n",
              "      <td>...</td>\n",
              "      <td>...</td>\n",
              "      <td>...</td>\n",
              "      <td>...</td>\n",
              "      <td>...</td>\n",
              "      <td>...</td>\n",
              "      <td>...</td>\n",
              "      <td>...</td>\n",
              "      <td>...</td>\n",
              "      <td>...</td>\n",
              "      <td>...</td>\n",
              "      <td>...</td>\n",
              "      <td>...</td>\n",
              "      <td>...</td>\n",
              "      <td>...</td>\n",
              "      <td>...</td>\n",
              "    </tr>\n",
              "    <tr>\n",
              "      <th>30149</th>\n",
              "      <td>2210220005</td>\n",
              "      <td>a_a008553</td>\n",
              "      <td>5</td>\n",
              "      <td>집</td>\n",
              "      <td>2022-10-22</td>\n",
              "      <td>2022-10-23</td>\n",
              "      <td>NaN</td>\n",
              "      <td>NaN</td>\n",
              "      <td>NaN</td>\n",
              "      <td>NaN</td>\n",
              "      <td>...</td>\n",
              "      <td>NaN</td>\n",
              "      <td>300.0</td>\n",
              "      <td>21</td>\n",
              "      <td>NaN</td>\n",
              "      <td>NaN</td>\n",
              "      <td>NaN</td>\n",
              "      <td>NaN</td>\n",
              "      <td>NaN</td>\n",
              "      <td>NaN</td>\n",
              "      <td>NaN</td>\n",
              "    </tr>\n",
              "    <tr>\n",
              "      <th>30150</th>\n",
              "      <td>2208280003</td>\n",
              "      <td>a_a001505</td>\n",
              "      <td>6</td>\n",
              "      <td>카페아쁠뤼스</td>\n",
              "      <td>2022-08-28</td>\n",
              "      <td>2022-08-28</td>\n",
              "      <td>경기 가평군 청평면 신청평로 107</td>\n",
              "      <td>경기 가평군 청평면 대성리 3-5</td>\n",
              "      <td>127.406939</td>\n",
              "      <td>37.728238</td>\n",
              "      <td>...</td>\n",
              "      <td>NaN</td>\n",
              "      <td>90.0</td>\n",
              "      <td>11</td>\n",
              "      <td>N</td>\n",
              "      <td>9.0</td>\n",
              "      <td>NaN</td>\n",
              "      <td>5.0</td>\n",
              "      <td>4.0</td>\n",
              "      <td>4.0</td>\n",
              "      <td>NaN</td>\n",
              "    </tr>\n",
              "    <tr>\n",
              "      <th>30151</th>\n",
              "      <td>2210290005</td>\n",
              "      <td>a_a013660</td>\n",
              "      <td>4</td>\n",
              "      <td>국립중앙박물관</td>\n",
              "      <td>2022-10-29</td>\n",
              "      <td>2022-10-29</td>\n",
              "      <td>서울 용산구 서빙고로 137</td>\n",
              "      <td>서울 용산구 용산동6가 168-6</td>\n",
              "      <td>126.980203</td>\n",
              "      <td>37.523847</td>\n",
              "      <td>...</td>\n",
              "      <td>국립중앙박물관</td>\n",
              "      <td>30.0</td>\n",
              "      <td>2</td>\n",
              "      <td>N</td>\n",
              "      <td>10.0</td>\n",
              "      <td>NaN</td>\n",
              "      <td>5.0</td>\n",
              "      <td>5.0</td>\n",
              "      <td>5.0</td>\n",
              "      <td>NaN</td>\n",
              "    </tr>\n",
              "    <tr>\n",
              "      <th>30152</th>\n",
              "      <td>2208060008</td>\n",
              "      <td>a_a000019</td>\n",
              "      <td>7</td>\n",
              "      <td>송도달빛축제공원</td>\n",
              "      <td>2022-08-06</td>\n",
              "      <td>2022-08-06</td>\n",
              "      <td>인천 연수구 센트럴로 350</td>\n",
              "      <td>인천 연수구 송도동 26-1</td>\n",
              "      <td>126.634896</td>\n",
              "      <td>37.407218</td>\n",
              "      <td>...</td>\n",
              "      <td>NaN</td>\n",
              "      <td>60.0</td>\n",
              "      <td>8</td>\n",
              "      <td>N</td>\n",
              "      <td>9.0</td>\n",
              "      <td>NaN</td>\n",
              "      <td>4.0</td>\n",
              "      <td>4.0</td>\n",
              "      <td>4.0</td>\n",
              "      <td>NaN</td>\n",
              "    </tr>\n",
              "    <tr>\n",
              "      <th>30153</th>\n",
              "      <td>2209060002</td>\n",
              "      <td>a_a000567</td>\n",
              "      <td>2</td>\n",
              "      <td>콩카페 롯데백화점 잠실점</td>\n",
              "      <td>2022-09-06</td>\n",
              "      <td>2022-09-06</td>\n",
              "      <td>서울 송파구 올림픽로 240</td>\n",
              "      <td>서울 송파구 잠실동 40-1</td>\n",
              "      <td>127.098572</td>\n",
              "      <td>37.511906</td>\n",
              "      <td>...</td>\n",
              "      <td>롯데월드어드벤처</td>\n",
              "      <td>0.0</td>\n",
              "      <td>11</td>\n",
              "      <td>N</td>\n",
              "      <td>9.0</td>\n",
              "      <td>NaN</td>\n",
              "      <td>3.0</td>\n",
              "      <td>2.0</td>\n",
              "      <td>2.0</td>\n",
              "      <td>NaN</td>\n",
              "    </tr>\n",
              "  </tbody>\n",
              "</table>\n",
              "<p>30154 rows × 23 columns</p>\n",
              "</div>\n",
              "    <div class=\"colab-df-buttons\">\n",
              "\n",
              "  <div class=\"colab-df-container\">\n",
              "    <button class=\"colab-df-convert\" onclick=\"convertToInteractive('df-ed453bba-4285-4ee6-a3d3-940223b26eff')\"\n",
              "            title=\"Convert this dataframe to an interactive table.\"\n",
              "            style=\"display:none;\">\n",
              "\n",
              "  <svg xmlns=\"http://www.w3.org/2000/svg\" height=\"24px\" viewBox=\"0 -960 960 960\">\n",
              "    <path d=\"M120-120v-720h720v720H120Zm60-500h600v-160H180v160Zm220 220h160v-160H400v160Zm0 220h160v-160H400v160ZM180-400h160v-160H180v160Zm440 0h160v-160H620v160ZM180-180h160v-160H180v160Zm440 0h160v-160H620v160Z\"/>\n",
              "  </svg>\n",
              "    </button>\n",
              "\n",
              "  <style>\n",
              "    .colab-df-container {\n",
              "      display:flex;\n",
              "      gap: 12px;\n",
              "    }\n",
              "\n",
              "    .colab-df-convert {\n",
              "      background-color: #E8F0FE;\n",
              "      border: none;\n",
              "      border-radius: 50%;\n",
              "      cursor: pointer;\n",
              "      display: none;\n",
              "      fill: #1967D2;\n",
              "      height: 32px;\n",
              "      padding: 0 0 0 0;\n",
              "      width: 32px;\n",
              "    }\n",
              "\n",
              "    .colab-df-convert:hover {\n",
              "      background-color: #E2EBFA;\n",
              "      box-shadow: 0px 1px 2px rgba(60, 64, 67, 0.3), 0px 1px 3px 1px rgba(60, 64, 67, 0.15);\n",
              "      fill: #174EA6;\n",
              "    }\n",
              "\n",
              "    .colab-df-buttons div {\n",
              "      margin-bottom: 4px;\n",
              "    }\n",
              "\n",
              "    [theme=dark] .colab-df-convert {\n",
              "      background-color: #3B4455;\n",
              "      fill: #D2E3FC;\n",
              "    }\n",
              "\n",
              "    [theme=dark] .colab-df-convert:hover {\n",
              "      background-color: #434B5C;\n",
              "      box-shadow: 0px 1px 3px 1px rgba(0, 0, 0, 0.15);\n",
              "      filter: drop-shadow(0px 1px 2px rgba(0, 0, 0, 0.3));\n",
              "      fill: #FFFFFF;\n",
              "    }\n",
              "  </style>\n",
              "\n",
              "    <script>\n",
              "      const buttonEl =\n",
              "        document.querySelector('#df-ed453bba-4285-4ee6-a3d3-940223b26eff button.colab-df-convert');\n",
              "      buttonEl.style.display =\n",
              "        google.colab.kernel.accessAllowed ? 'block' : 'none';\n",
              "\n",
              "      async function convertToInteractive(key) {\n",
              "        const element = document.querySelector('#df-ed453bba-4285-4ee6-a3d3-940223b26eff');\n",
              "        const dataTable =\n",
              "          await google.colab.kernel.invokeFunction('convertToInteractive',\n",
              "                                                    [key], {});\n",
              "        if (!dataTable) return;\n",
              "\n",
              "        const docLinkHtml = 'Like what you see? Visit the ' +\n",
              "          '<a target=\"_blank\" href=https://colab.research.google.com/notebooks/data_table.ipynb>data table notebook</a>'\n",
              "          + ' to learn more about interactive tables.';\n",
              "        element.innerHTML = '';\n",
              "        dataTable['output_type'] = 'display_data';\n",
              "        await google.colab.output.renderOutput(dataTable, element);\n",
              "        const docLink = document.createElement('div');\n",
              "        docLink.innerHTML = docLinkHtml;\n",
              "        element.appendChild(docLink);\n",
              "      }\n",
              "    </script>\n",
              "  </div>\n",
              "\n",
              "\n",
              "<div id=\"df-ce88866c-e099-4e56-bcab-a39cfe4e9fcd\">\n",
              "  <button class=\"colab-df-quickchart\" onclick=\"quickchart('df-ce88866c-e099-4e56-bcab-a39cfe4e9fcd')\"\n",
              "            title=\"Suggest charts\"\n",
              "            style=\"display:none;\">\n",
              "\n",
              "<svg xmlns=\"http://www.w3.org/2000/svg\" height=\"24px\"viewBox=\"0 0 24 24\"\n",
              "     width=\"24px\">\n",
              "    <g>\n",
              "        <path d=\"M19 3H5c-1.1 0-2 .9-2 2v14c0 1.1.9 2 2 2h14c1.1 0 2-.9 2-2V5c0-1.1-.9-2-2-2zM9 17H7v-7h2v7zm4 0h-2V7h2v10zm4 0h-2v-4h2v4z\"/>\n",
              "    </g>\n",
              "</svg>\n",
              "  </button>\n",
              "\n",
              "<style>\n",
              "  .colab-df-quickchart {\n",
              "      --bg-color: #E8F0FE;\n",
              "      --fill-color: #1967D2;\n",
              "      --hover-bg-color: #E2EBFA;\n",
              "      --hover-fill-color: #174EA6;\n",
              "      --disabled-fill-color: #AAA;\n",
              "      --disabled-bg-color: #DDD;\n",
              "  }\n",
              "\n",
              "  [theme=dark] .colab-df-quickchart {\n",
              "      --bg-color: #3B4455;\n",
              "      --fill-color: #D2E3FC;\n",
              "      --hover-bg-color: #434B5C;\n",
              "      --hover-fill-color: #FFFFFF;\n",
              "      --disabled-bg-color: #3B4455;\n",
              "      --disabled-fill-color: #666;\n",
              "  }\n",
              "\n",
              "  .colab-df-quickchart {\n",
              "    background-color: var(--bg-color);\n",
              "    border: none;\n",
              "    border-radius: 50%;\n",
              "    cursor: pointer;\n",
              "    display: none;\n",
              "    fill: var(--fill-color);\n",
              "    height: 32px;\n",
              "    padding: 0;\n",
              "    width: 32px;\n",
              "  }\n",
              "\n",
              "  .colab-df-quickchart:hover {\n",
              "    background-color: var(--hover-bg-color);\n",
              "    box-shadow: 0 1px 2px rgba(60, 64, 67, 0.3), 0 1px 3px 1px rgba(60, 64, 67, 0.15);\n",
              "    fill: var(--button-hover-fill-color);\n",
              "  }\n",
              "\n",
              "  .colab-df-quickchart-complete:disabled,\n",
              "  .colab-df-quickchart-complete:disabled:hover {\n",
              "    background-color: var(--disabled-bg-color);\n",
              "    fill: var(--disabled-fill-color);\n",
              "    box-shadow: none;\n",
              "  }\n",
              "\n",
              "  .colab-df-spinner {\n",
              "    border: 2px solid var(--fill-color);\n",
              "    border-color: transparent;\n",
              "    border-bottom-color: var(--fill-color);\n",
              "    animation:\n",
              "      spin 1s steps(1) infinite;\n",
              "  }\n",
              "\n",
              "  @keyframes spin {\n",
              "    0% {\n",
              "      border-color: transparent;\n",
              "      border-bottom-color: var(--fill-color);\n",
              "      border-left-color: var(--fill-color);\n",
              "    }\n",
              "    20% {\n",
              "      border-color: transparent;\n",
              "      border-left-color: var(--fill-color);\n",
              "      border-top-color: var(--fill-color);\n",
              "    }\n",
              "    30% {\n",
              "      border-color: transparent;\n",
              "      border-left-color: var(--fill-color);\n",
              "      border-top-color: var(--fill-color);\n",
              "      border-right-color: var(--fill-color);\n",
              "    }\n",
              "    40% {\n",
              "      border-color: transparent;\n",
              "      border-right-color: var(--fill-color);\n",
              "      border-top-color: var(--fill-color);\n",
              "    }\n",
              "    60% {\n",
              "      border-color: transparent;\n",
              "      border-right-color: var(--fill-color);\n",
              "    }\n",
              "    80% {\n",
              "      border-color: transparent;\n",
              "      border-right-color: var(--fill-color);\n",
              "      border-bottom-color: var(--fill-color);\n",
              "    }\n",
              "    90% {\n",
              "      border-color: transparent;\n",
              "      border-bottom-color: var(--fill-color);\n",
              "    }\n",
              "  }\n",
              "</style>\n",
              "\n",
              "  <script>\n",
              "    async function quickchart(key) {\n",
              "      const quickchartButtonEl =\n",
              "        document.querySelector('#' + key + ' button');\n",
              "      quickchartButtonEl.disabled = true;  // To prevent multiple clicks.\n",
              "      quickchartButtonEl.classList.add('colab-df-spinner');\n",
              "      try {\n",
              "        const charts = await google.colab.kernel.invokeFunction(\n",
              "            'suggestCharts', [key], {});\n",
              "      } catch (error) {\n",
              "        console.error('Error during call to suggestCharts:', error);\n",
              "      }\n",
              "      quickchartButtonEl.classList.remove('colab-df-spinner');\n",
              "      quickchartButtonEl.classList.add('colab-df-quickchart-complete');\n",
              "    }\n",
              "    (() => {\n",
              "      let quickchartButtonEl =\n",
              "        document.querySelector('#df-ce88866c-e099-4e56-bcab-a39cfe4e9fcd button');\n",
              "      quickchartButtonEl.style.display =\n",
              "        google.colab.kernel.accessAllowed ? 'block' : 'none';\n",
              "    })();\n",
              "  </script>\n",
              "</div>\n",
              "\n",
              "  <div id=\"id_fbb651d9-6dc0-47da-8f57-25814f6a57b1\">\n",
              "    <style>\n",
              "      .colab-df-generate {\n",
              "        background-color: #E8F0FE;\n",
              "        border: none;\n",
              "        border-radius: 50%;\n",
              "        cursor: pointer;\n",
              "        display: none;\n",
              "        fill: #1967D2;\n",
              "        height: 32px;\n",
              "        padding: 0 0 0 0;\n",
              "        width: 32px;\n",
              "      }\n",
              "\n",
              "      .colab-df-generate:hover {\n",
              "        background-color: #E2EBFA;\n",
              "        box-shadow: 0px 1px 2px rgba(60, 64, 67, 0.3), 0px 1px 3px 1px rgba(60, 64, 67, 0.15);\n",
              "        fill: #174EA6;\n",
              "      }\n",
              "\n",
              "      [theme=dark] .colab-df-generate {\n",
              "        background-color: #3B4455;\n",
              "        fill: #D2E3FC;\n",
              "      }\n",
              "\n",
              "      [theme=dark] .colab-df-generate:hover {\n",
              "        background-color: #434B5C;\n",
              "        box-shadow: 0px 1px 3px 1px rgba(0, 0, 0, 0.15);\n",
              "        filter: drop-shadow(0px 1px 2px rgba(0, 0, 0, 0.3));\n",
              "        fill: #FFFFFF;\n",
              "      }\n",
              "    </style>\n",
              "    <button class=\"colab-df-generate\" onclick=\"generateWithVariable('df_place')\"\n",
              "            title=\"Generate code using this dataframe.\"\n",
              "            style=\"display:none;\">\n",
              "\n",
              "  <svg xmlns=\"http://www.w3.org/2000/svg\" height=\"24px\"viewBox=\"0 0 24 24\"\n",
              "       width=\"24px\">\n",
              "    <path d=\"M7,19H8.4L18.45,9,17,7.55,7,17.6ZM5,21V16.75L18.45,3.32a2,2,0,0,1,2.83,0l1.4,1.43a1.91,1.91,0,0,1,.58,1.4,1.91,1.91,0,0,1-.58,1.4L9.25,21ZM18.45,9,17,7.55Zm-12,3A5.31,5.31,0,0,0,4.9,8.1,5.31,5.31,0,0,0,1,6.5,5.31,5.31,0,0,0,4.9,4.9,5.31,5.31,0,0,0,6.5,1,5.31,5.31,0,0,0,8.1,4.9,5.31,5.31,0,0,0,12,6.5,5.46,5.46,0,0,0,6.5,12Z\"/>\n",
              "  </svg>\n",
              "    </button>\n",
              "    <script>\n",
              "      (() => {\n",
              "      const buttonEl =\n",
              "        document.querySelector('#id_fbb651d9-6dc0-47da-8f57-25814f6a57b1 button.colab-df-generate');\n",
              "      buttonEl.style.display =\n",
              "        google.colab.kernel.accessAllowed ? 'block' : 'none';\n",
              "\n",
              "      buttonEl.onclick = () => {\n",
              "        google.colab.notebook.generateWithVariable('df_place');\n",
              "      }\n",
              "      })();\n",
              "    </script>\n",
              "  </div>\n",
              "\n",
              "    </div>\n",
              "  </div>\n"
            ]
          },
          "metadata": {},
          "execution_count": 3
        }
      ],
      "source": [
        "df_place = pd.read_csv('/content/tn_visit_area_info_방문지정보_A.csv')\n",
        "\n",
        "df_place"
      ]
    },
    {
      "cell_type": "markdown",
      "source": [
        "### 여행 정보"
      ],
      "metadata": {
        "id": "niVlZOhICPdA"
      }
    },
    {
      "cell_type": "code",
      "execution_count": null,
      "metadata": {
        "colab": {
          "base_uri": "https://localhost:8080/",
          "height": 548
        },
        "id": "OmKTW6EmuMVD",
        "outputId": "a1434583-64ca-4dac-af65-b4807046a608"
      },
      "outputs": [
        {
          "output_type": "execute_result",
          "data": {
            "text/plain": [
              "      TRAVEL_ID TRAVEL_NM TRAVELER_ID       TRAVEL_PURPOSE TRAVEL_START_YMD  \\\n",
              "0     a_a014262       A03     a014262           1;11;2;22;       2022-10-29   \n",
              "1     a_a006728       A03     a006728    21;24;5;22;26;27;       2022-10-10   \n",
              "2     a_a015745       A02     a015745               1;2;6;       2022-10-31   \n",
              "3     a_a010544       A03     a010544         21;22;24;26;       2022-11-01   \n",
              "4     a_a012058       A03     a012058  1;4;10;12;21;22;26;       2022-11-05   \n",
              "...         ...       ...         ...                  ...              ...   \n",
              "3195  a_a008457       A01     a008457         1;23;24;4;6;       2022-10-16   \n",
              "3196  a_a007638       A03     a007638             1;21;22;       2022-10-23   \n",
              "3197  a_a002111       A01     a002111                 4;6;       2022-09-20   \n",
              "3198  a_a007634       A03     a007634             21;22;4;       2022-10-22   \n",
              "3199  a_a007716       A03     a007716                  28;       2022-10-22   \n",
              "\n",
              "     TRAVEL_END_YMD MVMN_NM      TRAVEL_PERSONA       TRAVEL_MISSION  \\\n",
              "0        2022-10-30     자가용                 NaN           1;11;2;22;   \n",
              "1        2022-10-11     자가용                 NaN    21;24;5;22;26;27;   \n",
              "2        2022-11-03  대중교통 등                 NaN               1;2;6;   \n",
              "3        2022-11-02     자가용                 NaN         21;22;24;26;   \n",
              "4        2022-11-06  대중교통 등  수도권 외 거주 39세 이하 커플  1;4;10;12;21;22;26;   \n",
              "...             ...     ...                 ...                  ...   \n",
              "3195     2022-10-18  대중교통 등                 NaN         1;23;24;4;6;   \n",
              "3196     2022-10-24     NaN    수도권 거주 39세 이하 부부             1;21;22;   \n",
              "3197     2022-09-22  대중교통 등                 NaN                 4;6;   \n",
              "3198     2022-10-23     NaN    수도권 거주 39세 이하 커플             21;22;4;   \n",
              "3199     2022-10-23     자가용                 NaN                  28;   \n",
              "\n",
              "     TRAVEL_MISSION_CHECK  \n",
              "0                  2;1;22  \n",
              "1                  6;1;22  \n",
              "2                 13;3;28  \n",
              "3                 1;22;26  \n",
              "4                 1;21;22  \n",
              "...                   ...  \n",
              "3195               6;23;4  \n",
              "3196               1;22;4  \n",
              "3197               6;4;21  \n",
              "3198               1;21;4  \n",
              "3199               28;3;1  \n",
              "\n",
              "[3200 rows x 10 columns]"
            ],
            "text/html": [
              "\n",
              "  <div id=\"df-0c6aed8d-2504-412c-b8c0-22655000847f\" class=\"colab-df-container\">\n",
              "    <div>\n",
              "<style scoped>\n",
              "    .dataframe tbody tr th:only-of-type {\n",
              "        vertical-align: middle;\n",
              "    }\n",
              "\n",
              "    .dataframe tbody tr th {\n",
              "        vertical-align: top;\n",
              "    }\n",
              "\n",
              "    .dataframe thead th {\n",
              "        text-align: right;\n",
              "    }\n",
              "</style>\n",
              "<table border=\"1\" class=\"dataframe\">\n",
              "  <thead>\n",
              "    <tr style=\"text-align: right;\">\n",
              "      <th></th>\n",
              "      <th>TRAVEL_ID</th>\n",
              "      <th>TRAVEL_NM</th>\n",
              "      <th>TRAVELER_ID</th>\n",
              "      <th>TRAVEL_PURPOSE</th>\n",
              "      <th>TRAVEL_START_YMD</th>\n",
              "      <th>TRAVEL_END_YMD</th>\n",
              "      <th>MVMN_NM</th>\n",
              "      <th>TRAVEL_PERSONA</th>\n",
              "      <th>TRAVEL_MISSION</th>\n",
              "      <th>TRAVEL_MISSION_CHECK</th>\n",
              "    </tr>\n",
              "  </thead>\n",
              "  <tbody>\n",
              "    <tr>\n",
              "      <th>0</th>\n",
              "      <td>a_a014262</td>\n",
              "      <td>A03</td>\n",
              "      <td>a014262</td>\n",
              "      <td>1;11;2;22;</td>\n",
              "      <td>2022-10-29</td>\n",
              "      <td>2022-10-30</td>\n",
              "      <td>자가용</td>\n",
              "      <td>NaN</td>\n",
              "      <td>1;11;2;22;</td>\n",
              "      <td>2;1;22</td>\n",
              "    </tr>\n",
              "    <tr>\n",
              "      <th>1</th>\n",
              "      <td>a_a006728</td>\n",
              "      <td>A03</td>\n",
              "      <td>a006728</td>\n",
              "      <td>21;24;5;22;26;27;</td>\n",
              "      <td>2022-10-10</td>\n",
              "      <td>2022-10-11</td>\n",
              "      <td>자가용</td>\n",
              "      <td>NaN</td>\n",
              "      <td>21;24;5;22;26;27;</td>\n",
              "      <td>6;1;22</td>\n",
              "    </tr>\n",
              "    <tr>\n",
              "      <th>2</th>\n",
              "      <td>a_a015745</td>\n",
              "      <td>A02</td>\n",
              "      <td>a015745</td>\n",
              "      <td>1;2;6;</td>\n",
              "      <td>2022-10-31</td>\n",
              "      <td>2022-11-03</td>\n",
              "      <td>대중교통 등</td>\n",
              "      <td>NaN</td>\n",
              "      <td>1;2;6;</td>\n",
              "      <td>13;3;28</td>\n",
              "    </tr>\n",
              "    <tr>\n",
              "      <th>3</th>\n",
              "      <td>a_a010544</td>\n",
              "      <td>A03</td>\n",
              "      <td>a010544</td>\n",
              "      <td>21;22;24;26;</td>\n",
              "      <td>2022-11-01</td>\n",
              "      <td>2022-11-02</td>\n",
              "      <td>자가용</td>\n",
              "      <td>NaN</td>\n",
              "      <td>21;22;24;26;</td>\n",
              "      <td>1;22;26</td>\n",
              "    </tr>\n",
              "    <tr>\n",
              "      <th>4</th>\n",
              "      <td>a_a012058</td>\n",
              "      <td>A03</td>\n",
              "      <td>a012058</td>\n",
              "      <td>1;4;10;12;21;22;26;</td>\n",
              "      <td>2022-11-05</td>\n",
              "      <td>2022-11-06</td>\n",
              "      <td>대중교통 등</td>\n",
              "      <td>수도권 외 거주 39세 이하 커플</td>\n",
              "      <td>1;4;10;12;21;22;26;</td>\n",
              "      <td>1;21;22</td>\n",
              "    </tr>\n",
              "    <tr>\n",
              "      <th>...</th>\n",
              "      <td>...</td>\n",
              "      <td>...</td>\n",
              "      <td>...</td>\n",
              "      <td>...</td>\n",
              "      <td>...</td>\n",
              "      <td>...</td>\n",
              "      <td>...</td>\n",
              "      <td>...</td>\n",
              "      <td>...</td>\n",
              "      <td>...</td>\n",
              "    </tr>\n",
              "    <tr>\n",
              "      <th>3195</th>\n",
              "      <td>a_a008457</td>\n",
              "      <td>A01</td>\n",
              "      <td>a008457</td>\n",
              "      <td>1;23;24;4;6;</td>\n",
              "      <td>2022-10-16</td>\n",
              "      <td>2022-10-18</td>\n",
              "      <td>대중교통 등</td>\n",
              "      <td>NaN</td>\n",
              "      <td>1;23;24;4;6;</td>\n",
              "      <td>6;23;4</td>\n",
              "    </tr>\n",
              "    <tr>\n",
              "      <th>3196</th>\n",
              "      <td>a_a007638</td>\n",
              "      <td>A03</td>\n",
              "      <td>a007638</td>\n",
              "      <td>1;21;22;</td>\n",
              "      <td>2022-10-23</td>\n",
              "      <td>2022-10-24</td>\n",
              "      <td>NaN</td>\n",
              "      <td>수도권 거주 39세 이하 부부</td>\n",
              "      <td>1;21;22;</td>\n",
              "      <td>1;22;4</td>\n",
              "    </tr>\n",
              "    <tr>\n",
              "      <th>3197</th>\n",
              "      <td>a_a002111</td>\n",
              "      <td>A01</td>\n",
              "      <td>a002111</td>\n",
              "      <td>4;6;</td>\n",
              "      <td>2022-09-20</td>\n",
              "      <td>2022-09-22</td>\n",
              "      <td>대중교통 등</td>\n",
              "      <td>NaN</td>\n",
              "      <td>4;6;</td>\n",
              "      <td>6;4;21</td>\n",
              "    </tr>\n",
              "    <tr>\n",
              "      <th>3198</th>\n",
              "      <td>a_a007634</td>\n",
              "      <td>A03</td>\n",
              "      <td>a007634</td>\n",
              "      <td>21;22;4;</td>\n",
              "      <td>2022-10-22</td>\n",
              "      <td>2022-10-23</td>\n",
              "      <td>NaN</td>\n",
              "      <td>수도권 거주 39세 이하 커플</td>\n",
              "      <td>21;22;4;</td>\n",
              "      <td>1;21;4</td>\n",
              "    </tr>\n",
              "    <tr>\n",
              "      <th>3199</th>\n",
              "      <td>a_a007716</td>\n",
              "      <td>A03</td>\n",
              "      <td>a007716</td>\n",
              "      <td>28;</td>\n",
              "      <td>2022-10-22</td>\n",
              "      <td>2022-10-23</td>\n",
              "      <td>자가용</td>\n",
              "      <td>NaN</td>\n",
              "      <td>28;</td>\n",
              "      <td>28;3;1</td>\n",
              "    </tr>\n",
              "  </tbody>\n",
              "</table>\n",
              "<p>3200 rows × 10 columns</p>\n",
              "</div>\n",
              "    <div class=\"colab-df-buttons\">\n",
              "\n",
              "  <div class=\"colab-df-container\">\n",
              "    <button class=\"colab-df-convert\" onclick=\"convertToInteractive('df-0c6aed8d-2504-412c-b8c0-22655000847f')\"\n",
              "            title=\"Convert this dataframe to an interactive table.\"\n",
              "            style=\"display:none;\">\n",
              "\n",
              "  <svg xmlns=\"http://www.w3.org/2000/svg\" height=\"24px\" viewBox=\"0 -960 960 960\">\n",
              "    <path d=\"M120-120v-720h720v720H120Zm60-500h600v-160H180v160Zm220 220h160v-160H400v160Zm0 220h160v-160H400v160ZM180-400h160v-160H180v160Zm440 0h160v-160H620v160ZM180-180h160v-160H180v160Zm440 0h160v-160H620v160Z\"/>\n",
              "  </svg>\n",
              "    </button>\n",
              "\n",
              "  <style>\n",
              "    .colab-df-container {\n",
              "      display:flex;\n",
              "      gap: 12px;\n",
              "    }\n",
              "\n",
              "    .colab-df-convert {\n",
              "      background-color: #E8F0FE;\n",
              "      border: none;\n",
              "      border-radius: 50%;\n",
              "      cursor: pointer;\n",
              "      display: none;\n",
              "      fill: #1967D2;\n",
              "      height: 32px;\n",
              "      padding: 0 0 0 0;\n",
              "      width: 32px;\n",
              "    }\n",
              "\n",
              "    .colab-df-convert:hover {\n",
              "      background-color: #E2EBFA;\n",
              "      box-shadow: 0px 1px 2px rgba(60, 64, 67, 0.3), 0px 1px 3px 1px rgba(60, 64, 67, 0.15);\n",
              "      fill: #174EA6;\n",
              "    }\n",
              "\n",
              "    .colab-df-buttons div {\n",
              "      margin-bottom: 4px;\n",
              "    }\n",
              "\n",
              "    [theme=dark] .colab-df-convert {\n",
              "      background-color: #3B4455;\n",
              "      fill: #D2E3FC;\n",
              "    }\n",
              "\n",
              "    [theme=dark] .colab-df-convert:hover {\n",
              "      background-color: #434B5C;\n",
              "      box-shadow: 0px 1px 3px 1px rgba(0, 0, 0, 0.15);\n",
              "      filter: drop-shadow(0px 1px 2px rgba(0, 0, 0, 0.3));\n",
              "      fill: #FFFFFF;\n",
              "    }\n",
              "  </style>\n",
              "\n",
              "    <script>\n",
              "      const buttonEl =\n",
              "        document.querySelector('#df-0c6aed8d-2504-412c-b8c0-22655000847f button.colab-df-convert');\n",
              "      buttonEl.style.display =\n",
              "        google.colab.kernel.accessAllowed ? 'block' : 'none';\n",
              "\n",
              "      async function convertToInteractive(key) {\n",
              "        const element = document.querySelector('#df-0c6aed8d-2504-412c-b8c0-22655000847f');\n",
              "        const dataTable =\n",
              "          await google.colab.kernel.invokeFunction('convertToInteractive',\n",
              "                                                    [key], {});\n",
              "        if (!dataTable) return;\n",
              "\n",
              "        const docLinkHtml = 'Like what you see? Visit the ' +\n",
              "          '<a target=\"_blank\" href=https://colab.research.google.com/notebooks/data_table.ipynb>data table notebook</a>'\n",
              "          + ' to learn more about interactive tables.';\n",
              "        element.innerHTML = '';\n",
              "        dataTable['output_type'] = 'display_data';\n",
              "        await google.colab.output.renderOutput(dataTable, element);\n",
              "        const docLink = document.createElement('div');\n",
              "        docLink.innerHTML = docLinkHtml;\n",
              "        element.appendChild(docLink);\n",
              "      }\n",
              "    </script>\n",
              "  </div>\n",
              "\n",
              "\n",
              "<div id=\"df-56868279-a81a-4b47-ae80-4f5fc55d9c1c\">\n",
              "  <button class=\"colab-df-quickchart\" onclick=\"quickchart('df-56868279-a81a-4b47-ae80-4f5fc55d9c1c')\"\n",
              "            title=\"Suggest charts\"\n",
              "            style=\"display:none;\">\n",
              "\n",
              "<svg xmlns=\"http://www.w3.org/2000/svg\" height=\"24px\"viewBox=\"0 0 24 24\"\n",
              "     width=\"24px\">\n",
              "    <g>\n",
              "        <path d=\"M19 3H5c-1.1 0-2 .9-2 2v14c0 1.1.9 2 2 2h14c1.1 0 2-.9 2-2V5c0-1.1-.9-2-2-2zM9 17H7v-7h2v7zm4 0h-2V7h2v10zm4 0h-2v-4h2v4z\"/>\n",
              "    </g>\n",
              "</svg>\n",
              "  </button>\n",
              "\n",
              "<style>\n",
              "  .colab-df-quickchart {\n",
              "      --bg-color: #E8F0FE;\n",
              "      --fill-color: #1967D2;\n",
              "      --hover-bg-color: #E2EBFA;\n",
              "      --hover-fill-color: #174EA6;\n",
              "      --disabled-fill-color: #AAA;\n",
              "      --disabled-bg-color: #DDD;\n",
              "  }\n",
              "\n",
              "  [theme=dark] .colab-df-quickchart {\n",
              "      --bg-color: #3B4455;\n",
              "      --fill-color: #D2E3FC;\n",
              "      --hover-bg-color: #434B5C;\n",
              "      --hover-fill-color: #FFFFFF;\n",
              "      --disabled-bg-color: #3B4455;\n",
              "      --disabled-fill-color: #666;\n",
              "  }\n",
              "\n",
              "  .colab-df-quickchart {\n",
              "    background-color: var(--bg-color);\n",
              "    border: none;\n",
              "    border-radius: 50%;\n",
              "    cursor: pointer;\n",
              "    display: none;\n",
              "    fill: var(--fill-color);\n",
              "    height: 32px;\n",
              "    padding: 0;\n",
              "    width: 32px;\n",
              "  }\n",
              "\n",
              "  .colab-df-quickchart:hover {\n",
              "    background-color: var(--hover-bg-color);\n",
              "    box-shadow: 0 1px 2px rgba(60, 64, 67, 0.3), 0 1px 3px 1px rgba(60, 64, 67, 0.15);\n",
              "    fill: var(--button-hover-fill-color);\n",
              "  }\n",
              "\n",
              "  .colab-df-quickchart-complete:disabled,\n",
              "  .colab-df-quickchart-complete:disabled:hover {\n",
              "    background-color: var(--disabled-bg-color);\n",
              "    fill: var(--disabled-fill-color);\n",
              "    box-shadow: none;\n",
              "  }\n",
              "\n",
              "  .colab-df-spinner {\n",
              "    border: 2px solid var(--fill-color);\n",
              "    border-color: transparent;\n",
              "    border-bottom-color: var(--fill-color);\n",
              "    animation:\n",
              "      spin 1s steps(1) infinite;\n",
              "  }\n",
              "\n",
              "  @keyframes spin {\n",
              "    0% {\n",
              "      border-color: transparent;\n",
              "      border-bottom-color: var(--fill-color);\n",
              "      border-left-color: var(--fill-color);\n",
              "    }\n",
              "    20% {\n",
              "      border-color: transparent;\n",
              "      border-left-color: var(--fill-color);\n",
              "      border-top-color: var(--fill-color);\n",
              "    }\n",
              "    30% {\n",
              "      border-color: transparent;\n",
              "      border-left-color: var(--fill-color);\n",
              "      border-top-color: var(--fill-color);\n",
              "      border-right-color: var(--fill-color);\n",
              "    }\n",
              "    40% {\n",
              "      border-color: transparent;\n",
              "      border-right-color: var(--fill-color);\n",
              "      border-top-color: var(--fill-color);\n",
              "    }\n",
              "    60% {\n",
              "      border-color: transparent;\n",
              "      border-right-color: var(--fill-color);\n",
              "    }\n",
              "    80% {\n",
              "      border-color: transparent;\n",
              "      border-right-color: var(--fill-color);\n",
              "      border-bottom-color: var(--fill-color);\n",
              "    }\n",
              "    90% {\n",
              "      border-color: transparent;\n",
              "      border-bottom-color: var(--fill-color);\n",
              "    }\n",
              "  }\n",
              "</style>\n",
              "\n",
              "  <script>\n",
              "    async function quickchart(key) {\n",
              "      const quickchartButtonEl =\n",
              "        document.querySelector('#' + key + ' button');\n",
              "      quickchartButtonEl.disabled = true;  // To prevent multiple clicks.\n",
              "      quickchartButtonEl.classList.add('colab-df-spinner');\n",
              "      try {\n",
              "        const charts = await google.colab.kernel.invokeFunction(\n",
              "            'suggestCharts', [key], {});\n",
              "      } catch (error) {\n",
              "        console.error('Error during call to suggestCharts:', error);\n",
              "      }\n",
              "      quickchartButtonEl.classList.remove('colab-df-spinner');\n",
              "      quickchartButtonEl.classList.add('colab-df-quickchart-complete');\n",
              "    }\n",
              "    (() => {\n",
              "      let quickchartButtonEl =\n",
              "        document.querySelector('#df-56868279-a81a-4b47-ae80-4f5fc55d9c1c button');\n",
              "      quickchartButtonEl.style.display =\n",
              "        google.colab.kernel.accessAllowed ? 'block' : 'none';\n",
              "    })();\n",
              "  </script>\n",
              "</div>\n",
              "\n",
              "  <div id=\"id_d5a8e571-4b4e-414a-a964-50ec32ef3f23\">\n",
              "    <style>\n",
              "      .colab-df-generate {\n",
              "        background-color: #E8F0FE;\n",
              "        border: none;\n",
              "        border-radius: 50%;\n",
              "        cursor: pointer;\n",
              "        display: none;\n",
              "        fill: #1967D2;\n",
              "        height: 32px;\n",
              "        padding: 0 0 0 0;\n",
              "        width: 32px;\n",
              "      }\n",
              "\n",
              "      .colab-df-generate:hover {\n",
              "        background-color: #E2EBFA;\n",
              "        box-shadow: 0px 1px 2px rgba(60, 64, 67, 0.3), 0px 1px 3px 1px rgba(60, 64, 67, 0.15);\n",
              "        fill: #174EA6;\n",
              "      }\n",
              "\n",
              "      [theme=dark] .colab-df-generate {\n",
              "        background-color: #3B4455;\n",
              "        fill: #D2E3FC;\n",
              "      }\n",
              "\n",
              "      [theme=dark] .colab-df-generate:hover {\n",
              "        background-color: #434B5C;\n",
              "        box-shadow: 0px 1px 3px 1px rgba(0, 0, 0, 0.15);\n",
              "        filter: drop-shadow(0px 1px 2px rgba(0, 0, 0, 0.3));\n",
              "        fill: #FFFFFF;\n",
              "      }\n",
              "    </style>\n",
              "    <button class=\"colab-df-generate\" onclick=\"generateWithVariable('df_travel')\"\n",
              "            title=\"Generate code using this dataframe.\"\n",
              "            style=\"display:none;\">\n",
              "\n",
              "  <svg xmlns=\"http://www.w3.org/2000/svg\" height=\"24px\"viewBox=\"0 0 24 24\"\n",
              "       width=\"24px\">\n",
              "    <path d=\"M7,19H8.4L18.45,9,17,7.55,7,17.6ZM5,21V16.75L18.45,3.32a2,2,0,0,1,2.83,0l1.4,1.43a1.91,1.91,0,0,1,.58,1.4,1.91,1.91,0,0,1-.58,1.4L9.25,21ZM18.45,9,17,7.55Zm-12,3A5.31,5.31,0,0,0,4.9,8.1,5.31,5.31,0,0,0,1,6.5,5.31,5.31,0,0,0,4.9,4.9,5.31,5.31,0,0,0,6.5,1,5.31,5.31,0,0,0,8.1,4.9,5.31,5.31,0,0,0,12,6.5,5.46,5.46,0,0,0,6.5,12Z\"/>\n",
              "  </svg>\n",
              "    </button>\n",
              "    <script>\n",
              "      (() => {\n",
              "      const buttonEl =\n",
              "        document.querySelector('#id_d5a8e571-4b4e-414a-a964-50ec32ef3f23 button.colab-df-generate');\n",
              "      buttonEl.style.display =\n",
              "        google.colab.kernel.accessAllowed ? 'block' : 'none';\n",
              "\n",
              "      buttonEl.onclick = () => {\n",
              "        google.colab.notebook.generateWithVariable('df_travel');\n",
              "      }\n",
              "      })();\n",
              "    </script>\n",
              "  </div>\n",
              "\n",
              "    </div>\n",
              "  </div>\n"
            ]
          },
          "metadata": {},
          "execution_count": 4
        }
      ],
      "source": [
        "df_travel = pd.read_csv('/content/tn_travel_여행_A.csv')\n",
        "\n",
        "df_travel"
      ]
    },
    {
      "cell_type": "markdown",
      "source": [
        "### 여행객 정보"
      ],
      "metadata": {
        "id": "Z6-T0w_oCRg3"
      }
    },
    {
      "cell_type": "code",
      "execution_count": null,
      "metadata": {
        "colab": {
          "base_uri": "https://localhost:8080/",
          "height": 565
        },
        "id": "j0dledx4uWEV",
        "outputId": "cd2c9804-6e20-495d-fade-765878ef6417"
      },
      "outputs": [
        {
          "output_type": "execute_result",
          "data": {
            "text/plain": [
              "     TRAVELER_ID  RESIDENCE_SGG_CD GENDER  AGE_GRP  EDU_NM  EDU_FNSH_SE  \\\n",
              "0        b015583                41      여       20       6          1.0   \n",
              "1        a001105                30      남       30       6          1.0   \n",
              "2        a001673                41      여       30       4          1.0   \n",
              "3        a017690                41      여       30       6          1.0   \n",
              "4        c006666                28      여       30       6          1.0   \n",
              "...          ...               ...    ...      ...     ...          ...   \n",
              "3195     b006351                43      여       30       6          1.0   \n",
              "3196     a000318                29      남       20       6          1.0   \n",
              "3197     a000787                48      남       30       6          1.0   \n",
              "3198     b011659                41      여       40       7          1.0   \n",
              "3199     a008435                11      남       20       6          1.0   \n",
              "\n",
              "      MARR_STTS  FAMILY_MEMB  JOB_NM  JOB_ETC  ...  TRAVEL_STYL_7  \\\n",
              "0           1.0            5     3.0      NaN  ...              1   \n",
              "1           1.0            2     3.0      NaN  ...              6   \n",
              "2           2.0            3     NaN      1.0  ...              2   \n",
              "3           1.0            3     3.0      NaN  ...              4   \n",
              "4           1.0            3    13.0      NaN  ...              5   \n",
              "...         ...          ...     ...      ...  ...            ...   \n",
              "3195        1.0            4     4.0      NaN  ...              2   \n",
              "3196        1.0            4     3.0      NaN  ...              1   \n",
              "3197        1.0            4     3.0      NaN  ...              2   \n",
              "3198        2.0            3     1.0      NaN  ...              6   \n",
              "3199        1.0            1     7.0      NaN  ...              2   \n",
              "\n",
              "      TRAVEL_STYL_8  TRAVEL_STATUS_RESIDENCE  TRAVEL_STATUS_DESTINATION  \\\n",
              "0                 7                      경기도                         충남   \n",
              "1                 5                    대전광역시                         경기   \n",
              "2                 7                      경기도                         서울   \n",
              "3                 5                      경기도                         서울   \n",
              "4                 5                    인천광역시                         경기   \n",
              "...             ...                      ...                        ...   \n",
              "3195              6                     충청북도                         강원   \n",
              "3196              1                    광주광역시                         경기   \n",
              "3197              6                     경상남도                         서울   \n",
              "3198              2                      경기도                         강원   \n",
              "3199              7                    서울특별시                         경기   \n",
              "\n",
              "      TRAVEL_STATUS_ACCOMPANY      TRAVEL_STATUS_YMD  TRAVEL_MOTIVE_1  \\\n",
              "0                 2인 여행(가족 외)  2022-10-29~2022-10-30                1   \n",
              "1              3인 이상 여행(가족 외)  2022-09-03~2022-09-04                3   \n",
              "2                    자녀 동반 여행  2022-09-18~2022-09-19               10   \n",
              "3              3인 이상 여행(가족 외)  2022-11-12~2022-11-12                3   \n",
              "4                      나홀로 여행  2022-10-18~2022-10-18                1   \n",
              "...                       ...                    ...              ...   \n",
              "3195                   나홀로 여행  2022-10-07~2022-10-07                1   \n",
              "3196           3인 이상 여행(가족 외)  2022-08-18~2022-08-19                3   \n",
              "3197                   나홀로 여행  2022-08-25~2022-08-27                1   \n",
              "3198                 자녀 동반 여행  2022-11-05~2022-11-05                6   \n",
              "3199                   나홀로 여행  2022-10-15~2022-10-15                6   \n",
              "\n",
              "      TRAVEL_MOTIVE_2  TRAVEL_MOTIVE_3  TRAVEL_COMPANIONS_NUM  \n",
              "0                 NaN              NaN                      1  \n",
              "1                 NaN              NaN                      7  \n",
              "2                 7.0              1.0                      2  \n",
              "3                 1.0              2.0                      3  \n",
              "4                 7.0              2.0                      0  \n",
              "...               ...              ...                    ...  \n",
              "3195              2.0              5.0                      0  \n",
              "3196              2.0              6.0                     19  \n",
              "3197              4.0              5.0                      1  \n",
              "3198              3.0              2.0                      2  \n",
              "3199              5.0              1.0                      0  \n",
              "\n",
              "[3200 rows x 36 columns]"
            ],
            "text/html": [
              "\n",
              "  <div id=\"df-11f30eb9-c4c1-4936-9123-4a661b522e5a\" class=\"colab-df-container\">\n",
              "    <div>\n",
              "<style scoped>\n",
              "    .dataframe tbody tr th:only-of-type {\n",
              "        vertical-align: middle;\n",
              "    }\n",
              "\n",
              "    .dataframe tbody tr th {\n",
              "        vertical-align: top;\n",
              "    }\n",
              "\n",
              "    .dataframe thead th {\n",
              "        text-align: right;\n",
              "    }\n",
              "</style>\n",
              "<table border=\"1\" class=\"dataframe\">\n",
              "  <thead>\n",
              "    <tr style=\"text-align: right;\">\n",
              "      <th></th>\n",
              "      <th>TRAVELER_ID</th>\n",
              "      <th>RESIDENCE_SGG_CD</th>\n",
              "      <th>GENDER</th>\n",
              "      <th>AGE_GRP</th>\n",
              "      <th>EDU_NM</th>\n",
              "      <th>EDU_FNSH_SE</th>\n",
              "      <th>MARR_STTS</th>\n",
              "      <th>FAMILY_MEMB</th>\n",
              "      <th>JOB_NM</th>\n",
              "      <th>JOB_ETC</th>\n",
              "      <th>...</th>\n",
              "      <th>TRAVEL_STYL_7</th>\n",
              "      <th>TRAVEL_STYL_8</th>\n",
              "      <th>TRAVEL_STATUS_RESIDENCE</th>\n",
              "      <th>TRAVEL_STATUS_DESTINATION</th>\n",
              "      <th>TRAVEL_STATUS_ACCOMPANY</th>\n",
              "      <th>TRAVEL_STATUS_YMD</th>\n",
              "      <th>TRAVEL_MOTIVE_1</th>\n",
              "      <th>TRAVEL_MOTIVE_2</th>\n",
              "      <th>TRAVEL_MOTIVE_3</th>\n",
              "      <th>TRAVEL_COMPANIONS_NUM</th>\n",
              "    </tr>\n",
              "  </thead>\n",
              "  <tbody>\n",
              "    <tr>\n",
              "      <th>0</th>\n",
              "      <td>b015583</td>\n",
              "      <td>41</td>\n",
              "      <td>여</td>\n",
              "      <td>20</td>\n",
              "      <td>6</td>\n",
              "      <td>1.0</td>\n",
              "      <td>1.0</td>\n",
              "      <td>5</td>\n",
              "      <td>3.0</td>\n",
              "      <td>NaN</td>\n",
              "      <td>...</td>\n",
              "      <td>1</td>\n",
              "      <td>7</td>\n",
              "      <td>경기도</td>\n",
              "      <td>충남</td>\n",
              "      <td>2인 여행(가족 외)</td>\n",
              "      <td>2022-10-29~2022-10-30</td>\n",
              "      <td>1</td>\n",
              "      <td>NaN</td>\n",
              "      <td>NaN</td>\n",
              "      <td>1</td>\n",
              "    </tr>\n",
              "    <tr>\n",
              "      <th>1</th>\n",
              "      <td>a001105</td>\n",
              "      <td>30</td>\n",
              "      <td>남</td>\n",
              "      <td>30</td>\n",
              "      <td>6</td>\n",
              "      <td>1.0</td>\n",
              "      <td>1.0</td>\n",
              "      <td>2</td>\n",
              "      <td>3.0</td>\n",
              "      <td>NaN</td>\n",
              "      <td>...</td>\n",
              "      <td>6</td>\n",
              "      <td>5</td>\n",
              "      <td>대전광역시</td>\n",
              "      <td>경기</td>\n",
              "      <td>3인 이상 여행(가족 외)</td>\n",
              "      <td>2022-09-03~2022-09-04</td>\n",
              "      <td>3</td>\n",
              "      <td>NaN</td>\n",
              "      <td>NaN</td>\n",
              "      <td>7</td>\n",
              "    </tr>\n",
              "    <tr>\n",
              "      <th>2</th>\n",
              "      <td>a001673</td>\n",
              "      <td>41</td>\n",
              "      <td>여</td>\n",
              "      <td>30</td>\n",
              "      <td>4</td>\n",
              "      <td>1.0</td>\n",
              "      <td>2.0</td>\n",
              "      <td>3</td>\n",
              "      <td>NaN</td>\n",
              "      <td>1.0</td>\n",
              "      <td>...</td>\n",
              "      <td>2</td>\n",
              "      <td>7</td>\n",
              "      <td>경기도</td>\n",
              "      <td>서울</td>\n",
              "      <td>자녀 동반 여행</td>\n",
              "      <td>2022-09-18~2022-09-19</td>\n",
              "      <td>10</td>\n",
              "      <td>7.0</td>\n",
              "      <td>1.0</td>\n",
              "      <td>2</td>\n",
              "    </tr>\n",
              "    <tr>\n",
              "      <th>3</th>\n",
              "      <td>a017690</td>\n",
              "      <td>41</td>\n",
              "      <td>여</td>\n",
              "      <td>30</td>\n",
              "      <td>6</td>\n",
              "      <td>1.0</td>\n",
              "      <td>1.0</td>\n",
              "      <td>3</td>\n",
              "      <td>3.0</td>\n",
              "      <td>NaN</td>\n",
              "      <td>...</td>\n",
              "      <td>4</td>\n",
              "      <td>5</td>\n",
              "      <td>경기도</td>\n",
              "      <td>서울</td>\n",
              "      <td>3인 이상 여행(가족 외)</td>\n",
              "      <td>2022-11-12~2022-11-12</td>\n",
              "      <td>3</td>\n",
              "      <td>1.0</td>\n",
              "      <td>2.0</td>\n",
              "      <td>3</td>\n",
              "    </tr>\n",
              "    <tr>\n",
              "      <th>4</th>\n",
              "      <td>c006666</td>\n",
              "      <td>28</td>\n",
              "      <td>여</td>\n",
              "      <td>30</td>\n",
              "      <td>6</td>\n",
              "      <td>1.0</td>\n",
              "      <td>1.0</td>\n",
              "      <td>3</td>\n",
              "      <td>13.0</td>\n",
              "      <td>NaN</td>\n",
              "      <td>...</td>\n",
              "      <td>5</td>\n",
              "      <td>5</td>\n",
              "      <td>인천광역시</td>\n",
              "      <td>경기</td>\n",
              "      <td>나홀로 여행</td>\n",
              "      <td>2022-10-18~2022-10-18</td>\n",
              "      <td>1</td>\n",
              "      <td>7.0</td>\n",
              "      <td>2.0</td>\n",
              "      <td>0</td>\n",
              "    </tr>\n",
              "    <tr>\n",
              "      <th>...</th>\n",
              "      <td>...</td>\n",
              "      <td>...</td>\n",
              "      <td>...</td>\n",
              "      <td>...</td>\n",
              "      <td>...</td>\n",
              "      <td>...</td>\n",
              "      <td>...</td>\n",
              "      <td>...</td>\n",
              "      <td>...</td>\n",
              "      <td>...</td>\n",
              "      <td>...</td>\n",
              "      <td>...</td>\n",
              "      <td>...</td>\n",
              "      <td>...</td>\n",
              "      <td>...</td>\n",
              "      <td>...</td>\n",
              "      <td>...</td>\n",
              "      <td>...</td>\n",
              "      <td>...</td>\n",
              "      <td>...</td>\n",
              "      <td>...</td>\n",
              "    </tr>\n",
              "    <tr>\n",
              "      <th>3195</th>\n",
              "      <td>b006351</td>\n",
              "      <td>43</td>\n",
              "      <td>여</td>\n",
              "      <td>30</td>\n",
              "      <td>6</td>\n",
              "      <td>1.0</td>\n",
              "      <td>1.0</td>\n",
              "      <td>4</td>\n",
              "      <td>4.0</td>\n",
              "      <td>NaN</td>\n",
              "      <td>...</td>\n",
              "      <td>2</td>\n",
              "      <td>6</td>\n",
              "      <td>충청북도</td>\n",
              "      <td>강원</td>\n",
              "      <td>나홀로 여행</td>\n",
              "      <td>2022-10-07~2022-10-07</td>\n",
              "      <td>1</td>\n",
              "      <td>2.0</td>\n",
              "      <td>5.0</td>\n",
              "      <td>0</td>\n",
              "    </tr>\n",
              "    <tr>\n",
              "      <th>3196</th>\n",
              "      <td>a000318</td>\n",
              "      <td>29</td>\n",
              "      <td>남</td>\n",
              "      <td>20</td>\n",
              "      <td>6</td>\n",
              "      <td>1.0</td>\n",
              "      <td>1.0</td>\n",
              "      <td>4</td>\n",
              "      <td>3.0</td>\n",
              "      <td>NaN</td>\n",
              "      <td>...</td>\n",
              "      <td>1</td>\n",
              "      <td>1</td>\n",
              "      <td>광주광역시</td>\n",
              "      <td>경기</td>\n",
              "      <td>3인 이상 여행(가족 외)</td>\n",
              "      <td>2022-08-18~2022-08-19</td>\n",
              "      <td>3</td>\n",
              "      <td>2.0</td>\n",
              "      <td>6.0</td>\n",
              "      <td>19</td>\n",
              "    </tr>\n",
              "    <tr>\n",
              "      <th>3197</th>\n",
              "      <td>a000787</td>\n",
              "      <td>48</td>\n",
              "      <td>남</td>\n",
              "      <td>30</td>\n",
              "      <td>6</td>\n",
              "      <td>1.0</td>\n",
              "      <td>1.0</td>\n",
              "      <td>4</td>\n",
              "      <td>3.0</td>\n",
              "      <td>NaN</td>\n",
              "      <td>...</td>\n",
              "      <td>2</td>\n",
              "      <td>6</td>\n",
              "      <td>경상남도</td>\n",
              "      <td>서울</td>\n",
              "      <td>나홀로 여행</td>\n",
              "      <td>2022-08-25~2022-08-27</td>\n",
              "      <td>1</td>\n",
              "      <td>4.0</td>\n",
              "      <td>5.0</td>\n",
              "      <td>1</td>\n",
              "    </tr>\n",
              "    <tr>\n",
              "      <th>3198</th>\n",
              "      <td>b011659</td>\n",
              "      <td>41</td>\n",
              "      <td>여</td>\n",
              "      <td>40</td>\n",
              "      <td>7</td>\n",
              "      <td>1.0</td>\n",
              "      <td>2.0</td>\n",
              "      <td>3</td>\n",
              "      <td>1.0</td>\n",
              "      <td>NaN</td>\n",
              "      <td>...</td>\n",
              "      <td>6</td>\n",
              "      <td>2</td>\n",
              "      <td>경기도</td>\n",
              "      <td>강원</td>\n",
              "      <td>자녀 동반 여행</td>\n",
              "      <td>2022-11-05~2022-11-05</td>\n",
              "      <td>6</td>\n",
              "      <td>3.0</td>\n",
              "      <td>2.0</td>\n",
              "      <td>2</td>\n",
              "    </tr>\n",
              "    <tr>\n",
              "      <th>3199</th>\n",
              "      <td>a008435</td>\n",
              "      <td>11</td>\n",
              "      <td>남</td>\n",
              "      <td>20</td>\n",
              "      <td>6</td>\n",
              "      <td>1.0</td>\n",
              "      <td>1.0</td>\n",
              "      <td>1</td>\n",
              "      <td>7.0</td>\n",
              "      <td>NaN</td>\n",
              "      <td>...</td>\n",
              "      <td>2</td>\n",
              "      <td>7</td>\n",
              "      <td>서울특별시</td>\n",
              "      <td>경기</td>\n",
              "      <td>나홀로 여행</td>\n",
              "      <td>2022-10-15~2022-10-15</td>\n",
              "      <td>6</td>\n",
              "      <td>5.0</td>\n",
              "      <td>1.0</td>\n",
              "      <td>0</td>\n",
              "    </tr>\n",
              "  </tbody>\n",
              "</table>\n",
              "<p>3200 rows × 36 columns</p>\n",
              "</div>\n",
              "    <div class=\"colab-df-buttons\">\n",
              "\n",
              "  <div class=\"colab-df-container\">\n",
              "    <button class=\"colab-df-convert\" onclick=\"convertToInteractive('df-11f30eb9-c4c1-4936-9123-4a661b522e5a')\"\n",
              "            title=\"Convert this dataframe to an interactive table.\"\n",
              "            style=\"display:none;\">\n",
              "\n",
              "  <svg xmlns=\"http://www.w3.org/2000/svg\" height=\"24px\" viewBox=\"0 -960 960 960\">\n",
              "    <path d=\"M120-120v-720h720v720H120Zm60-500h600v-160H180v160Zm220 220h160v-160H400v160Zm0 220h160v-160H400v160ZM180-400h160v-160H180v160Zm440 0h160v-160H620v160ZM180-180h160v-160H180v160Zm440 0h160v-160H620v160Z\"/>\n",
              "  </svg>\n",
              "    </button>\n",
              "\n",
              "  <style>\n",
              "    .colab-df-container {\n",
              "      display:flex;\n",
              "      gap: 12px;\n",
              "    }\n",
              "\n",
              "    .colab-df-convert {\n",
              "      background-color: #E8F0FE;\n",
              "      border: none;\n",
              "      border-radius: 50%;\n",
              "      cursor: pointer;\n",
              "      display: none;\n",
              "      fill: #1967D2;\n",
              "      height: 32px;\n",
              "      padding: 0 0 0 0;\n",
              "      width: 32px;\n",
              "    }\n",
              "\n",
              "    .colab-df-convert:hover {\n",
              "      background-color: #E2EBFA;\n",
              "      box-shadow: 0px 1px 2px rgba(60, 64, 67, 0.3), 0px 1px 3px 1px rgba(60, 64, 67, 0.15);\n",
              "      fill: #174EA6;\n",
              "    }\n",
              "\n",
              "    .colab-df-buttons div {\n",
              "      margin-bottom: 4px;\n",
              "    }\n",
              "\n",
              "    [theme=dark] .colab-df-convert {\n",
              "      background-color: #3B4455;\n",
              "      fill: #D2E3FC;\n",
              "    }\n",
              "\n",
              "    [theme=dark] .colab-df-convert:hover {\n",
              "      background-color: #434B5C;\n",
              "      box-shadow: 0px 1px 3px 1px rgba(0, 0, 0, 0.15);\n",
              "      filter: drop-shadow(0px 1px 2px rgba(0, 0, 0, 0.3));\n",
              "      fill: #FFFFFF;\n",
              "    }\n",
              "  </style>\n",
              "\n",
              "    <script>\n",
              "      const buttonEl =\n",
              "        document.querySelector('#df-11f30eb9-c4c1-4936-9123-4a661b522e5a button.colab-df-convert');\n",
              "      buttonEl.style.display =\n",
              "        google.colab.kernel.accessAllowed ? 'block' : 'none';\n",
              "\n",
              "      async function convertToInteractive(key) {\n",
              "        const element = document.querySelector('#df-11f30eb9-c4c1-4936-9123-4a661b522e5a');\n",
              "        const dataTable =\n",
              "          await google.colab.kernel.invokeFunction('convertToInteractive',\n",
              "                                                    [key], {});\n",
              "        if (!dataTable) return;\n",
              "\n",
              "        const docLinkHtml = 'Like what you see? Visit the ' +\n",
              "          '<a target=\"_blank\" href=https://colab.research.google.com/notebooks/data_table.ipynb>data table notebook</a>'\n",
              "          + ' to learn more about interactive tables.';\n",
              "        element.innerHTML = '';\n",
              "        dataTable['output_type'] = 'display_data';\n",
              "        await google.colab.output.renderOutput(dataTable, element);\n",
              "        const docLink = document.createElement('div');\n",
              "        docLink.innerHTML = docLinkHtml;\n",
              "        element.appendChild(docLink);\n",
              "      }\n",
              "    </script>\n",
              "  </div>\n",
              "\n",
              "\n",
              "<div id=\"df-2a84c3d3-6546-41d8-aec0-d8b48f6c701c\">\n",
              "  <button class=\"colab-df-quickchart\" onclick=\"quickchart('df-2a84c3d3-6546-41d8-aec0-d8b48f6c701c')\"\n",
              "            title=\"Suggest charts\"\n",
              "            style=\"display:none;\">\n",
              "\n",
              "<svg xmlns=\"http://www.w3.org/2000/svg\" height=\"24px\"viewBox=\"0 0 24 24\"\n",
              "     width=\"24px\">\n",
              "    <g>\n",
              "        <path d=\"M19 3H5c-1.1 0-2 .9-2 2v14c0 1.1.9 2 2 2h14c1.1 0 2-.9 2-2V5c0-1.1-.9-2-2-2zM9 17H7v-7h2v7zm4 0h-2V7h2v10zm4 0h-2v-4h2v4z\"/>\n",
              "    </g>\n",
              "</svg>\n",
              "  </button>\n",
              "\n",
              "<style>\n",
              "  .colab-df-quickchart {\n",
              "      --bg-color: #E8F0FE;\n",
              "      --fill-color: #1967D2;\n",
              "      --hover-bg-color: #E2EBFA;\n",
              "      --hover-fill-color: #174EA6;\n",
              "      --disabled-fill-color: #AAA;\n",
              "      --disabled-bg-color: #DDD;\n",
              "  }\n",
              "\n",
              "  [theme=dark] .colab-df-quickchart {\n",
              "      --bg-color: #3B4455;\n",
              "      --fill-color: #D2E3FC;\n",
              "      --hover-bg-color: #434B5C;\n",
              "      --hover-fill-color: #FFFFFF;\n",
              "      --disabled-bg-color: #3B4455;\n",
              "      --disabled-fill-color: #666;\n",
              "  }\n",
              "\n",
              "  .colab-df-quickchart {\n",
              "    background-color: var(--bg-color);\n",
              "    border: none;\n",
              "    border-radius: 50%;\n",
              "    cursor: pointer;\n",
              "    display: none;\n",
              "    fill: var(--fill-color);\n",
              "    height: 32px;\n",
              "    padding: 0;\n",
              "    width: 32px;\n",
              "  }\n",
              "\n",
              "  .colab-df-quickchart:hover {\n",
              "    background-color: var(--hover-bg-color);\n",
              "    box-shadow: 0 1px 2px rgba(60, 64, 67, 0.3), 0 1px 3px 1px rgba(60, 64, 67, 0.15);\n",
              "    fill: var(--button-hover-fill-color);\n",
              "  }\n",
              "\n",
              "  .colab-df-quickchart-complete:disabled,\n",
              "  .colab-df-quickchart-complete:disabled:hover {\n",
              "    background-color: var(--disabled-bg-color);\n",
              "    fill: var(--disabled-fill-color);\n",
              "    box-shadow: none;\n",
              "  }\n",
              "\n",
              "  .colab-df-spinner {\n",
              "    border: 2px solid var(--fill-color);\n",
              "    border-color: transparent;\n",
              "    border-bottom-color: var(--fill-color);\n",
              "    animation:\n",
              "      spin 1s steps(1) infinite;\n",
              "  }\n",
              "\n",
              "  @keyframes spin {\n",
              "    0% {\n",
              "      border-color: transparent;\n",
              "      border-bottom-color: var(--fill-color);\n",
              "      border-left-color: var(--fill-color);\n",
              "    }\n",
              "    20% {\n",
              "      border-color: transparent;\n",
              "      border-left-color: var(--fill-color);\n",
              "      border-top-color: var(--fill-color);\n",
              "    }\n",
              "    30% {\n",
              "      border-color: transparent;\n",
              "      border-left-color: var(--fill-color);\n",
              "      border-top-color: var(--fill-color);\n",
              "      border-right-color: var(--fill-color);\n",
              "    }\n",
              "    40% {\n",
              "      border-color: transparent;\n",
              "      border-right-color: var(--fill-color);\n",
              "      border-top-color: var(--fill-color);\n",
              "    }\n",
              "    60% {\n",
              "      border-color: transparent;\n",
              "      border-right-color: var(--fill-color);\n",
              "    }\n",
              "    80% {\n",
              "      border-color: transparent;\n",
              "      border-right-color: var(--fill-color);\n",
              "      border-bottom-color: var(--fill-color);\n",
              "    }\n",
              "    90% {\n",
              "      border-color: transparent;\n",
              "      border-bottom-color: var(--fill-color);\n",
              "    }\n",
              "  }\n",
              "</style>\n",
              "\n",
              "  <script>\n",
              "    async function quickchart(key) {\n",
              "      const quickchartButtonEl =\n",
              "        document.querySelector('#' + key + ' button');\n",
              "      quickchartButtonEl.disabled = true;  // To prevent multiple clicks.\n",
              "      quickchartButtonEl.classList.add('colab-df-spinner');\n",
              "      try {\n",
              "        const charts = await google.colab.kernel.invokeFunction(\n",
              "            'suggestCharts', [key], {});\n",
              "      } catch (error) {\n",
              "        console.error('Error during call to suggestCharts:', error);\n",
              "      }\n",
              "      quickchartButtonEl.classList.remove('colab-df-spinner');\n",
              "      quickchartButtonEl.classList.add('colab-df-quickchart-complete');\n",
              "    }\n",
              "    (() => {\n",
              "      let quickchartButtonEl =\n",
              "        document.querySelector('#df-2a84c3d3-6546-41d8-aec0-d8b48f6c701c button');\n",
              "      quickchartButtonEl.style.display =\n",
              "        google.colab.kernel.accessAllowed ? 'block' : 'none';\n",
              "    })();\n",
              "  </script>\n",
              "</div>\n",
              "\n",
              "  <div id=\"id_d3bac009-7cb6-4ced-a9bb-38221f846489\">\n",
              "    <style>\n",
              "      .colab-df-generate {\n",
              "        background-color: #E8F0FE;\n",
              "        border: none;\n",
              "        border-radius: 50%;\n",
              "        cursor: pointer;\n",
              "        display: none;\n",
              "        fill: #1967D2;\n",
              "        height: 32px;\n",
              "        padding: 0 0 0 0;\n",
              "        width: 32px;\n",
              "      }\n",
              "\n",
              "      .colab-df-generate:hover {\n",
              "        background-color: #E2EBFA;\n",
              "        box-shadow: 0px 1px 2px rgba(60, 64, 67, 0.3), 0px 1px 3px 1px rgba(60, 64, 67, 0.15);\n",
              "        fill: #174EA6;\n",
              "      }\n",
              "\n",
              "      [theme=dark] .colab-df-generate {\n",
              "        background-color: #3B4455;\n",
              "        fill: #D2E3FC;\n",
              "      }\n",
              "\n",
              "      [theme=dark] .colab-df-generate:hover {\n",
              "        background-color: #434B5C;\n",
              "        box-shadow: 0px 1px 3px 1px rgba(0, 0, 0, 0.15);\n",
              "        filter: drop-shadow(0px 1px 2px rgba(0, 0, 0, 0.3));\n",
              "        fill: #FFFFFF;\n",
              "      }\n",
              "    </style>\n",
              "    <button class=\"colab-df-generate\" onclick=\"generateWithVariable('df_traveler')\"\n",
              "            title=\"Generate code using this dataframe.\"\n",
              "            style=\"display:none;\">\n",
              "\n",
              "  <svg xmlns=\"http://www.w3.org/2000/svg\" height=\"24px\"viewBox=\"0 0 24 24\"\n",
              "       width=\"24px\">\n",
              "    <path d=\"M7,19H8.4L18.45,9,17,7.55,7,17.6ZM5,21V16.75L18.45,3.32a2,2,0,0,1,2.83,0l1.4,1.43a1.91,1.91,0,0,1,.58,1.4,1.91,1.91,0,0,1-.58,1.4L9.25,21ZM18.45,9,17,7.55Zm-12,3A5.31,5.31,0,0,0,4.9,8.1,5.31,5.31,0,0,0,1,6.5,5.31,5.31,0,0,0,4.9,4.9,5.31,5.31,0,0,0,6.5,1,5.31,5.31,0,0,0,8.1,4.9,5.31,5.31,0,0,0,12,6.5,5.46,5.46,0,0,0,6.5,12Z\"/>\n",
              "  </svg>\n",
              "    </button>\n",
              "    <script>\n",
              "      (() => {\n",
              "      const buttonEl =\n",
              "        document.querySelector('#id_d3bac009-7cb6-4ced-a9bb-38221f846489 button.colab-df-generate');\n",
              "      buttonEl.style.display =\n",
              "        google.colab.kernel.accessAllowed ? 'block' : 'none';\n",
              "\n",
              "      buttonEl.onclick = () => {\n",
              "        google.colab.notebook.generateWithVariable('df_traveler');\n",
              "      }\n",
              "      })();\n",
              "    </script>\n",
              "  </div>\n",
              "\n",
              "    </div>\n",
              "  </div>\n"
            ]
          },
          "metadata": {},
          "execution_count": 5
        }
      ],
      "source": [
        "df_traveler = pd.read_csv('/content/tn_traveller_master_여행객 Master_A.csv')\n",
        "\n",
        "df_traveler"
      ]
    },
    {
      "cell_type": "markdown",
      "source": [
        "## 전부 합치기"
      ],
      "metadata": {
        "id": "YkB-wQKcCTNt"
      }
    },
    {
      "cell_type": "code",
      "execution_count": null,
      "metadata": {
        "colab": {
          "base_uri": "https://localhost:8080/",
          "height": 652
        },
        "id": "VosrURMcyW4x",
        "outputId": "8ceee1a1-f244-4119-e78e-58bf311ebf8b"
      },
      "outputs": [
        {
          "output_type": "execute_result",
          "data": {
            "text/plain": [
              "       VISIT_AREA_ID  TRAVEL_ID  VISIT_ORDER  VISIT_AREA_NM VISIT_START_YMD  \\\n",
              "0         2210300006  a_a015688            5         프로방스마을      2022-10-30   \n",
              "1         2208050001  a_a000164            1         친구/친지집      2022-08-05   \n",
              "2         2210030002  a_a004293            2        병점역 1호선      2022-10-03   \n",
              "3         2208200003  a_a000491           12          더현대서울      2022-08-20   \n",
              "4         2208110007  a_a000172           13         강릉중앙시장      2022-08-11   \n",
              "...              ...        ...          ...            ...             ...   \n",
              "30149     2210220005  a_a008553            5              집      2022-10-22   \n",
              "30150     2208280003  a_a001505            6         카페아쁠뤼스      2022-08-28   \n",
              "30151     2210290005  a_a013660            4        국립중앙박물관      2022-10-29   \n",
              "30152     2208060008  a_a000019            7       송도달빛축제공원      2022-08-06   \n",
              "30153     2209060002  a_a000567            2  콩카페 롯데백화점 잠실점      2022-09-06   \n",
              "\n",
              "      VISIT_END_YMD         ROAD_NM_ADDR           LOTNO_ADDR     X_COORD  \\\n",
              "0        2022-10-30   경기 파주시 탄현면 새오리로 77  경기 파주시 탄현면 성동리 82-1  126.685239   \n",
              "1        2022-08-05                  NaN       경기도 안산시 단원구 와동         NaN   \n",
              "2        2022-10-03       경기 화성시 떡전골로 97     경기 화성시 진안동 824-1  127.033200   \n",
              "3        2022-08-20     서울 영등포구 여의대로 108      서울 영등포구 여의도동 22  126.928446   \n",
              "4        2022-08-11        강원 강릉시 금성로 21        강원 강릉시 성남동 50  128.898624   \n",
              "...             ...                  ...                  ...         ...   \n",
              "30149    2022-10-23                  NaN                  NaN         NaN   \n",
              "30150    2022-08-28  경기 가평군 청평면 신청평로 107   경기 가평군 청평면 대성리 3-5  127.406939   \n",
              "30151    2022-10-29      서울 용산구 서빙고로 137   서울 용산구 용산동6가 168-6  126.980203   \n",
              "30152    2022-08-06      인천 연수구 센트럴로 350      인천 연수구 송도동 26-1  126.634896   \n",
              "30153    2022-09-06      서울 송파구 올림픽로 240      서울 송파구 잠실동 40-1  127.098572   \n",
              "\n",
              "         Y_COORD  ...  TRAVEL_STYL_7 TRAVEL_STYL_8 TRAVEL_STATUS_RESIDENCE  \\\n",
              "0      37.790405  ...            6.0           6.0                     경기도   \n",
              "1            NaN  ...            3.0           5.0                     경기도   \n",
              "2      37.206753  ...            7.0           2.0                     경기도   \n",
              "3      37.525872  ...            5.0           7.0                   울산광역시   \n",
              "4      37.754025  ...            2.0           4.0                   광주광역시   \n",
              "...          ...  ...            ...           ...                     ...   \n",
              "30149        NaN  ...            6.0           3.0                   서울특별시   \n",
              "30150  37.728238  ...            5.0           4.0                   서울특별시   \n",
              "30151  37.523847  ...            5.0           6.0                     경기도   \n",
              "30152  37.407218  ...            5.0           3.0                   서울특별시   \n",
              "30153  37.511906  ...            2.0           7.0                     경기도   \n",
              "\n",
              "      TRAVEL_STATUS_DESTINATION  TRAVEL_STATUS_ACCOMPANY  \\\n",
              "0                            경기                   나홀로 여행   \n",
              "1                            경기              2인 여행(가족 외)   \n",
              "2                            경기                   나홀로 여행   \n",
              "3                            서울                 2인 가족 여행   \n",
              "4                            서울                   나홀로 여행   \n",
              "...                         ...                      ...   \n",
              "30149                        경기                   나홀로 여행   \n",
              "30150                        경기           3인 이상 여행(가족 외)   \n",
              "30151                        서울                   나홀로 여행   \n",
              "30152                        인천           3인 이상 여행(가족 외)   \n",
              "30153                        경기              2인 여행(가족 외)   \n",
              "\n",
              "           TRAVEL_STATUS_YMD TRAVEL_MOTIVE_1  TRAVEL_MOTIVE_2  \\\n",
              "0      2022-10-30~2022-10-31             1.0              7.0   \n",
              "1      2022-08-05~2022-08-06             3.0              2.0   \n",
              "2      2022-10-03~2022-10-03             6.0              2.0   \n",
              "3      2022-08-19~2022-08-20             1.0              3.0   \n",
              "4      2022-08-10~2022-08-13             1.0              7.0   \n",
              "...                      ...             ...              ...   \n",
              "30149  2022-10-22~2022-10-22             2.0              1.0   \n",
              "30150  2022-08-27~2022-08-28             1.0              3.0   \n",
              "30151  2022-10-29~2022-10-30             1.0              7.0   \n",
              "30152  2022-08-06~2022-08-07             7.0              5.0   \n",
              "30153  2022-09-06~2022-09-07             5.0              2.0   \n",
              "\n",
              "       TRAVEL_MOTIVE_3  TRAVEL_COMPANIONS_NUM  \n",
              "0                 10.0                    0.0  \n",
              "1                  1.0                    1.0  \n",
              "2                  1.0                    0.0  \n",
              "3                  7.0                    1.0  \n",
              "4                  2.0                    0.0  \n",
              "...                ...                    ...  \n",
              "30149              NaN                    0.0  \n",
              "30150              7.0                    7.0  \n",
              "30151              8.0                    0.0  \n",
              "30152              1.0                    6.0  \n",
              "30153              3.0                    1.0  \n",
              "\n",
              "[30154 rows x 67 columns]"
            ],
            "text/html": [
              "\n",
              "  <div id=\"df-94ed75a0-8d95-418e-a064-9e921e37380b\" class=\"colab-df-container\">\n",
              "    <div>\n",
              "<style scoped>\n",
              "    .dataframe tbody tr th:only-of-type {\n",
              "        vertical-align: middle;\n",
              "    }\n",
              "\n",
              "    .dataframe tbody tr th {\n",
              "        vertical-align: top;\n",
              "    }\n",
              "\n",
              "    .dataframe thead th {\n",
              "        text-align: right;\n",
              "    }\n",
              "</style>\n",
              "<table border=\"1\" class=\"dataframe\">\n",
              "  <thead>\n",
              "    <tr style=\"text-align: right;\">\n",
              "      <th></th>\n",
              "      <th>VISIT_AREA_ID</th>\n",
              "      <th>TRAVEL_ID</th>\n",
              "      <th>VISIT_ORDER</th>\n",
              "      <th>VISIT_AREA_NM</th>\n",
              "      <th>VISIT_START_YMD</th>\n",
              "      <th>VISIT_END_YMD</th>\n",
              "      <th>ROAD_NM_ADDR</th>\n",
              "      <th>LOTNO_ADDR</th>\n",
              "      <th>X_COORD</th>\n",
              "      <th>Y_COORD</th>\n",
              "      <th>...</th>\n",
              "      <th>TRAVEL_STYL_7</th>\n",
              "      <th>TRAVEL_STYL_8</th>\n",
              "      <th>TRAVEL_STATUS_RESIDENCE</th>\n",
              "      <th>TRAVEL_STATUS_DESTINATION</th>\n",
              "      <th>TRAVEL_STATUS_ACCOMPANY</th>\n",
              "      <th>TRAVEL_STATUS_YMD</th>\n",
              "      <th>TRAVEL_MOTIVE_1</th>\n",
              "      <th>TRAVEL_MOTIVE_2</th>\n",
              "      <th>TRAVEL_MOTIVE_3</th>\n",
              "      <th>TRAVEL_COMPANIONS_NUM</th>\n",
              "    </tr>\n",
              "  </thead>\n",
              "  <tbody>\n",
              "    <tr>\n",
              "      <th>0</th>\n",
              "      <td>2210300006</td>\n",
              "      <td>a_a015688</td>\n",
              "      <td>5</td>\n",
              "      <td>프로방스마을</td>\n",
              "      <td>2022-10-30</td>\n",
              "      <td>2022-10-30</td>\n",
              "      <td>경기 파주시 탄현면 새오리로 77</td>\n",
              "      <td>경기 파주시 탄현면 성동리 82-1</td>\n",
              "      <td>126.685239</td>\n",
              "      <td>37.790405</td>\n",
              "      <td>...</td>\n",
              "      <td>6.0</td>\n",
              "      <td>6.0</td>\n",
              "      <td>경기도</td>\n",
              "      <td>경기</td>\n",
              "      <td>나홀로 여행</td>\n",
              "      <td>2022-10-30~2022-10-31</td>\n",
              "      <td>1.0</td>\n",
              "      <td>7.0</td>\n",
              "      <td>10.0</td>\n",
              "      <td>0.0</td>\n",
              "    </tr>\n",
              "    <tr>\n",
              "      <th>1</th>\n",
              "      <td>2208050001</td>\n",
              "      <td>a_a000164</td>\n",
              "      <td>1</td>\n",
              "      <td>친구/친지집</td>\n",
              "      <td>2022-08-05</td>\n",
              "      <td>2022-08-05</td>\n",
              "      <td>NaN</td>\n",
              "      <td>경기도 안산시 단원구 와동</td>\n",
              "      <td>NaN</td>\n",
              "      <td>NaN</td>\n",
              "      <td>...</td>\n",
              "      <td>3.0</td>\n",
              "      <td>5.0</td>\n",
              "      <td>경기도</td>\n",
              "      <td>경기</td>\n",
              "      <td>2인 여행(가족 외)</td>\n",
              "      <td>2022-08-05~2022-08-06</td>\n",
              "      <td>3.0</td>\n",
              "      <td>2.0</td>\n",
              "      <td>1.0</td>\n",
              "      <td>1.0</td>\n",
              "    </tr>\n",
              "    <tr>\n",
              "      <th>2</th>\n",
              "      <td>2210030002</td>\n",
              "      <td>a_a004293</td>\n",
              "      <td>2</td>\n",
              "      <td>병점역 1호선</td>\n",
              "      <td>2022-10-03</td>\n",
              "      <td>2022-10-03</td>\n",
              "      <td>경기 화성시 떡전골로 97</td>\n",
              "      <td>경기 화성시 진안동 824-1</td>\n",
              "      <td>127.033200</td>\n",
              "      <td>37.206753</td>\n",
              "      <td>...</td>\n",
              "      <td>7.0</td>\n",
              "      <td>2.0</td>\n",
              "      <td>경기도</td>\n",
              "      <td>경기</td>\n",
              "      <td>나홀로 여행</td>\n",
              "      <td>2022-10-03~2022-10-03</td>\n",
              "      <td>6.0</td>\n",
              "      <td>2.0</td>\n",
              "      <td>1.0</td>\n",
              "      <td>0.0</td>\n",
              "    </tr>\n",
              "    <tr>\n",
              "      <th>3</th>\n",
              "      <td>2208200003</td>\n",
              "      <td>a_a000491</td>\n",
              "      <td>12</td>\n",
              "      <td>더현대서울</td>\n",
              "      <td>2022-08-20</td>\n",
              "      <td>2022-08-20</td>\n",
              "      <td>서울 영등포구 여의대로 108</td>\n",
              "      <td>서울 영등포구 여의도동 22</td>\n",
              "      <td>126.928446</td>\n",
              "      <td>37.525872</td>\n",
              "      <td>...</td>\n",
              "      <td>5.0</td>\n",
              "      <td>7.0</td>\n",
              "      <td>울산광역시</td>\n",
              "      <td>서울</td>\n",
              "      <td>2인 가족 여행</td>\n",
              "      <td>2022-08-19~2022-08-20</td>\n",
              "      <td>1.0</td>\n",
              "      <td>3.0</td>\n",
              "      <td>7.0</td>\n",
              "      <td>1.0</td>\n",
              "    </tr>\n",
              "    <tr>\n",
              "      <th>4</th>\n",
              "      <td>2208110007</td>\n",
              "      <td>a_a000172</td>\n",
              "      <td>13</td>\n",
              "      <td>강릉중앙시장</td>\n",
              "      <td>2022-08-11</td>\n",
              "      <td>2022-08-11</td>\n",
              "      <td>강원 강릉시 금성로 21</td>\n",
              "      <td>강원 강릉시 성남동 50</td>\n",
              "      <td>128.898624</td>\n",
              "      <td>37.754025</td>\n",
              "      <td>...</td>\n",
              "      <td>2.0</td>\n",
              "      <td>4.0</td>\n",
              "      <td>광주광역시</td>\n",
              "      <td>서울</td>\n",
              "      <td>나홀로 여행</td>\n",
              "      <td>2022-08-10~2022-08-13</td>\n",
              "      <td>1.0</td>\n",
              "      <td>7.0</td>\n",
              "      <td>2.0</td>\n",
              "      <td>0.0</td>\n",
              "    </tr>\n",
              "    <tr>\n",
              "      <th>...</th>\n",
              "      <td>...</td>\n",
              "      <td>...</td>\n",
              "      <td>...</td>\n",
              "      <td>...</td>\n",
              "      <td>...</td>\n",
              "      <td>...</td>\n",
              "      <td>...</td>\n",
              "      <td>...</td>\n",
              "      <td>...</td>\n",
              "      <td>...</td>\n",
              "      <td>...</td>\n",
              "      <td>...</td>\n",
              "      <td>...</td>\n",
              "      <td>...</td>\n",
              "      <td>...</td>\n",
              "      <td>...</td>\n",
              "      <td>...</td>\n",
              "      <td>...</td>\n",
              "      <td>...</td>\n",
              "      <td>...</td>\n",
              "      <td>...</td>\n",
              "    </tr>\n",
              "    <tr>\n",
              "      <th>30149</th>\n",
              "      <td>2210220005</td>\n",
              "      <td>a_a008553</td>\n",
              "      <td>5</td>\n",
              "      <td>집</td>\n",
              "      <td>2022-10-22</td>\n",
              "      <td>2022-10-23</td>\n",
              "      <td>NaN</td>\n",
              "      <td>NaN</td>\n",
              "      <td>NaN</td>\n",
              "      <td>NaN</td>\n",
              "      <td>...</td>\n",
              "      <td>6.0</td>\n",
              "      <td>3.0</td>\n",
              "      <td>서울특별시</td>\n",
              "      <td>경기</td>\n",
              "      <td>나홀로 여행</td>\n",
              "      <td>2022-10-22~2022-10-22</td>\n",
              "      <td>2.0</td>\n",
              "      <td>1.0</td>\n",
              "      <td>NaN</td>\n",
              "      <td>0.0</td>\n",
              "    </tr>\n",
              "    <tr>\n",
              "      <th>30150</th>\n",
              "      <td>2208280003</td>\n",
              "      <td>a_a001505</td>\n",
              "      <td>6</td>\n",
              "      <td>카페아쁠뤼스</td>\n",
              "      <td>2022-08-28</td>\n",
              "      <td>2022-08-28</td>\n",
              "      <td>경기 가평군 청평면 신청평로 107</td>\n",
              "      <td>경기 가평군 청평면 대성리 3-5</td>\n",
              "      <td>127.406939</td>\n",
              "      <td>37.728238</td>\n",
              "      <td>...</td>\n",
              "      <td>5.0</td>\n",
              "      <td>4.0</td>\n",
              "      <td>서울특별시</td>\n",
              "      <td>경기</td>\n",
              "      <td>3인 이상 여행(가족 외)</td>\n",
              "      <td>2022-08-27~2022-08-28</td>\n",
              "      <td>1.0</td>\n",
              "      <td>3.0</td>\n",
              "      <td>7.0</td>\n",
              "      <td>7.0</td>\n",
              "    </tr>\n",
              "    <tr>\n",
              "      <th>30151</th>\n",
              "      <td>2210290005</td>\n",
              "      <td>a_a013660</td>\n",
              "      <td>4</td>\n",
              "      <td>국립중앙박물관</td>\n",
              "      <td>2022-10-29</td>\n",
              "      <td>2022-10-29</td>\n",
              "      <td>서울 용산구 서빙고로 137</td>\n",
              "      <td>서울 용산구 용산동6가 168-6</td>\n",
              "      <td>126.980203</td>\n",
              "      <td>37.523847</td>\n",
              "      <td>...</td>\n",
              "      <td>5.0</td>\n",
              "      <td>6.0</td>\n",
              "      <td>경기도</td>\n",
              "      <td>서울</td>\n",
              "      <td>나홀로 여행</td>\n",
              "      <td>2022-10-29~2022-10-30</td>\n",
              "      <td>1.0</td>\n",
              "      <td>7.0</td>\n",
              "      <td>8.0</td>\n",
              "      <td>0.0</td>\n",
              "    </tr>\n",
              "    <tr>\n",
              "      <th>30152</th>\n",
              "      <td>2208060008</td>\n",
              "      <td>a_a000019</td>\n",
              "      <td>7</td>\n",
              "      <td>송도달빛축제공원</td>\n",
              "      <td>2022-08-06</td>\n",
              "      <td>2022-08-06</td>\n",
              "      <td>인천 연수구 센트럴로 350</td>\n",
              "      <td>인천 연수구 송도동 26-1</td>\n",
              "      <td>126.634896</td>\n",
              "      <td>37.407218</td>\n",
              "      <td>...</td>\n",
              "      <td>5.0</td>\n",
              "      <td>3.0</td>\n",
              "      <td>서울특별시</td>\n",
              "      <td>인천</td>\n",
              "      <td>3인 이상 여행(가족 외)</td>\n",
              "      <td>2022-08-06~2022-08-07</td>\n",
              "      <td>7.0</td>\n",
              "      <td>5.0</td>\n",
              "      <td>1.0</td>\n",
              "      <td>6.0</td>\n",
              "    </tr>\n",
              "    <tr>\n",
              "      <th>30153</th>\n",
              "      <td>2209060002</td>\n",
              "      <td>a_a000567</td>\n",
              "      <td>2</td>\n",
              "      <td>콩카페 롯데백화점 잠실점</td>\n",
              "      <td>2022-09-06</td>\n",
              "      <td>2022-09-06</td>\n",
              "      <td>서울 송파구 올림픽로 240</td>\n",
              "      <td>서울 송파구 잠실동 40-1</td>\n",
              "      <td>127.098572</td>\n",
              "      <td>37.511906</td>\n",
              "      <td>...</td>\n",
              "      <td>2.0</td>\n",
              "      <td>7.0</td>\n",
              "      <td>경기도</td>\n",
              "      <td>경기</td>\n",
              "      <td>2인 여행(가족 외)</td>\n",
              "      <td>2022-09-06~2022-09-07</td>\n",
              "      <td>5.0</td>\n",
              "      <td>2.0</td>\n",
              "      <td>3.0</td>\n",
              "      <td>1.0</td>\n",
              "    </tr>\n",
              "  </tbody>\n",
              "</table>\n",
              "<p>30154 rows × 67 columns</p>\n",
              "</div>\n",
              "    <div class=\"colab-df-buttons\">\n",
              "\n",
              "  <div class=\"colab-df-container\">\n",
              "    <button class=\"colab-df-convert\" onclick=\"convertToInteractive('df-94ed75a0-8d95-418e-a064-9e921e37380b')\"\n",
              "            title=\"Convert this dataframe to an interactive table.\"\n",
              "            style=\"display:none;\">\n",
              "\n",
              "  <svg xmlns=\"http://www.w3.org/2000/svg\" height=\"24px\" viewBox=\"0 -960 960 960\">\n",
              "    <path d=\"M120-120v-720h720v720H120Zm60-500h600v-160H180v160Zm220 220h160v-160H400v160Zm0 220h160v-160H400v160ZM180-400h160v-160H180v160Zm440 0h160v-160H620v160ZM180-180h160v-160H180v160Zm440 0h160v-160H620v160Z\"/>\n",
              "  </svg>\n",
              "    </button>\n",
              "\n",
              "  <style>\n",
              "    .colab-df-container {\n",
              "      display:flex;\n",
              "      gap: 12px;\n",
              "    }\n",
              "\n",
              "    .colab-df-convert {\n",
              "      background-color: #E8F0FE;\n",
              "      border: none;\n",
              "      border-radius: 50%;\n",
              "      cursor: pointer;\n",
              "      display: none;\n",
              "      fill: #1967D2;\n",
              "      height: 32px;\n",
              "      padding: 0 0 0 0;\n",
              "      width: 32px;\n",
              "    }\n",
              "\n",
              "    .colab-df-convert:hover {\n",
              "      background-color: #E2EBFA;\n",
              "      box-shadow: 0px 1px 2px rgba(60, 64, 67, 0.3), 0px 1px 3px 1px rgba(60, 64, 67, 0.15);\n",
              "      fill: #174EA6;\n",
              "    }\n",
              "\n",
              "    .colab-df-buttons div {\n",
              "      margin-bottom: 4px;\n",
              "    }\n",
              "\n",
              "    [theme=dark] .colab-df-convert {\n",
              "      background-color: #3B4455;\n",
              "      fill: #D2E3FC;\n",
              "    }\n",
              "\n",
              "    [theme=dark] .colab-df-convert:hover {\n",
              "      background-color: #434B5C;\n",
              "      box-shadow: 0px 1px 3px 1px rgba(0, 0, 0, 0.15);\n",
              "      filter: drop-shadow(0px 1px 2px rgba(0, 0, 0, 0.3));\n",
              "      fill: #FFFFFF;\n",
              "    }\n",
              "  </style>\n",
              "\n",
              "    <script>\n",
              "      const buttonEl =\n",
              "        document.querySelector('#df-94ed75a0-8d95-418e-a064-9e921e37380b button.colab-df-convert');\n",
              "      buttonEl.style.display =\n",
              "        google.colab.kernel.accessAllowed ? 'block' : 'none';\n",
              "\n",
              "      async function convertToInteractive(key) {\n",
              "        const element = document.querySelector('#df-94ed75a0-8d95-418e-a064-9e921e37380b');\n",
              "        const dataTable =\n",
              "          await google.colab.kernel.invokeFunction('convertToInteractive',\n",
              "                                                    [key], {});\n",
              "        if (!dataTable) return;\n",
              "\n",
              "        const docLinkHtml = 'Like what you see? Visit the ' +\n",
              "          '<a target=\"_blank\" href=https://colab.research.google.com/notebooks/data_table.ipynb>data table notebook</a>'\n",
              "          + ' to learn more about interactive tables.';\n",
              "        element.innerHTML = '';\n",
              "        dataTable['output_type'] = 'display_data';\n",
              "        await google.colab.output.renderOutput(dataTable, element);\n",
              "        const docLink = document.createElement('div');\n",
              "        docLink.innerHTML = docLinkHtml;\n",
              "        element.appendChild(docLink);\n",
              "      }\n",
              "    </script>\n",
              "  </div>\n",
              "\n",
              "\n",
              "<div id=\"df-a04ec4c4-b377-474c-964c-fbadb302e7ee\">\n",
              "  <button class=\"colab-df-quickchart\" onclick=\"quickchart('df-a04ec4c4-b377-474c-964c-fbadb302e7ee')\"\n",
              "            title=\"Suggest charts\"\n",
              "            style=\"display:none;\">\n",
              "\n",
              "<svg xmlns=\"http://www.w3.org/2000/svg\" height=\"24px\"viewBox=\"0 0 24 24\"\n",
              "     width=\"24px\">\n",
              "    <g>\n",
              "        <path d=\"M19 3H5c-1.1 0-2 .9-2 2v14c0 1.1.9 2 2 2h14c1.1 0 2-.9 2-2V5c0-1.1-.9-2-2-2zM9 17H7v-7h2v7zm4 0h-2V7h2v10zm4 0h-2v-4h2v4z\"/>\n",
              "    </g>\n",
              "</svg>\n",
              "  </button>\n",
              "\n",
              "<style>\n",
              "  .colab-df-quickchart {\n",
              "      --bg-color: #E8F0FE;\n",
              "      --fill-color: #1967D2;\n",
              "      --hover-bg-color: #E2EBFA;\n",
              "      --hover-fill-color: #174EA6;\n",
              "      --disabled-fill-color: #AAA;\n",
              "      --disabled-bg-color: #DDD;\n",
              "  }\n",
              "\n",
              "  [theme=dark] .colab-df-quickchart {\n",
              "      --bg-color: #3B4455;\n",
              "      --fill-color: #D2E3FC;\n",
              "      --hover-bg-color: #434B5C;\n",
              "      --hover-fill-color: #FFFFFF;\n",
              "      --disabled-bg-color: #3B4455;\n",
              "      --disabled-fill-color: #666;\n",
              "  }\n",
              "\n",
              "  .colab-df-quickchart {\n",
              "    background-color: var(--bg-color);\n",
              "    border: none;\n",
              "    border-radius: 50%;\n",
              "    cursor: pointer;\n",
              "    display: none;\n",
              "    fill: var(--fill-color);\n",
              "    height: 32px;\n",
              "    padding: 0;\n",
              "    width: 32px;\n",
              "  }\n",
              "\n",
              "  .colab-df-quickchart:hover {\n",
              "    background-color: var(--hover-bg-color);\n",
              "    box-shadow: 0 1px 2px rgba(60, 64, 67, 0.3), 0 1px 3px 1px rgba(60, 64, 67, 0.15);\n",
              "    fill: var(--button-hover-fill-color);\n",
              "  }\n",
              "\n",
              "  .colab-df-quickchart-complete:disabled,\n",
              "  .colab-df-quickchart-complete:disabled:hover {\n",
              "    background-color: var(--disabled-bg-color);\n",
              "    fill: var(--disabled-fill-color);\n",
              "    box-shadow: none;\n",
              "  }\n",
              "\n",
              "  .colab-df-spinner {\n",
              "    border: 2px solid var(--fill-color);\n",
              "    border-color: transparent;\n",
              "    border-bottom-color: var(--fill-color);\n",
              "    animation:\n",
              "      spin 1s steps(1) infinite;\n",
              "  }\n",
              "\n",
              "  @keyframes spin {\n",
              "    0% {\n",
              "      border-color: transparent;\n",
              "      border-bottom-color: var(--fill-color);\n",
              "      border-left-color: var(--fill-color);\n",
              "    }\n",
              "    20% {\n",
              "      border-color: transparent;\n",
              "      border-left-color: var(--fill-color);\n",
              "      border-top-color: var(--fill-color);\n",
              "    }\n",
              "    30% {\n",
              "      border-color: transparent;\n",
              "      border-left-color: var(--fill-color);\n",
              "      border-top-color: var(--fill-color);\n",
              "      border-right-color: var(--fill-color);\n",
              "    }\n",
              "    40% {\n",
              "      border-color: transparent;\n",
              "      border-right-color: var(--fill-color);\n",
              "      border-top-color: var(--fill-color);\n",
              "    }\n",
              "    60% {\n",
              "      border-color: transparent;\n",
              "      border-right-color: var(--fill-color);\n",
              "    }\n",
              "    80% {\n",
              "      border-color: transparent;\n",
              "      border-right-color: var(--fill-color);\n",
              "      border-bottom-color: var(--fill-color);\n",
              "    }\n",
              "    90% {\n",
              "      border-color: transparent;\n",
              "      border-bottom-color: var(--fill-color);\n",
              "    }\n",
              "  }\n",
              "</style>\n",
              "\n",
              "  <script>\n",
              "    async function quickchart(key) {\n",
              "      const quickchartButtonEl =\n",
              "        document.querySelector('#' + key + ' button');\n",
              "      quickchartButtonEl.disabled = true;  // To prevent multiple clicks.\n",
              "      quickchartButtonEl.classList.add('colab-df-spinner');\n",
              "      try {\n",
              "        const charts = await google.colab.kernel.invokeFunction(\n",
              "            'suggestCharts', [key], {});\n",
              "      } catch (error) {\n",
              "        console.error('Error during call to suggestCharts:', error);\n",
              "      }\n",
              "      quickchartButtonEl.classList.remove('colab-df-spinner');\n",
              "      quickchartButtonEl.classList.add('colab-df-quickchart-complete');\n",
              "    }\n",
              "    (() => {\n",
              "      let quickchartButtonEl =\n",
              "        document.querySelector('#df-a04ec4c4-b377-474c-964c-fbadb302e7ee button');\n",
              "      quickchartButtonEl.style.display =\n",
              "        google.colab.kernel.accessAllowed ? 'block' : 'none';\n",
              "    })();\n",
              "  </script>\n",
              "</div>\n",
              "\n",
              "  <div id=\"id_32ec7f5d-dc2f-45a5-bd6c-5a20f5c867b1\">\n",
              "    <style>\n",
              "      .colab-df-generate {\n",
              "        background-color: #E8F0FE;\n",
              "        border: none;\n",
              "        border-radius: 50%;\n",
              "        cursor: pointer;\n",
              "        display: none;\n",
              "        fill: #1967D2;\n",
              "        height: 32px;\n",
              "        padding: 0 0 0 0;\n",
              "        width: 32px;\n",
              "      }\n",
              "\n",
              "      .colab-df-generate:hover {\n",
              "        background-color: #E2EBFA;\n",
              "        box-shadow: 0px 1px 2px rgba(60, 64, 67, 0.3), 0px 1px 3px 1px rgba(60, 64, 67, 0.15);\n",
              "        fill: #174EA6;\n",
              "      }\n",
              "\n",
              "      [theme=dark] .colab-df-generate {\n",
              "        background-color: #3B4455;\n",
              "        fill: #D2E3FC;\n",
              "      }\n",
              "\n",
              "      [theme=dark] .colab-df-generate:hover {\n",
              "        background-color: #434B5C;\n",
              "        box-shadow: 0px 1px 3px 1px rgba(0, 0, 0, 0.15);\n",
              "        filter: drop-shadow(0px 1px 2px rgba(0, 0, 0, 0.3));\n",
              "        fill: #FFFFFF;\n",
              "      }\n",
              "    </style>\n",
              "    <button class=\"colab-df-generate\" onclick=\"generateWithVariable('df')\"\n",
              "            title=\"Generate code using this dataframe.\"\n",
              "            style=\"display:none;\">\n",
              "\n",
              "  <svg xmlns=\"http://www.w3.org/2000/svg\" height=\"24px\"viewBox=\"0 0 24 24\"\n",
              "       width=\"24px\">\n",
              "    <path d=\"M7,19H8.4L18.45,9,17,7.55,7,17.6ZM5,21V16.75L18.45,3.32a2,2,0,0,1,2.83,0l1.4,1.43a1.91,1.91,0,0,1,.58,1.4,1.91,1.91,0,0,1-.58,1.4L9.25,21ZM18.45,9,17,7.55Zm-12,3A5.31,5.31,0,0,0,4.9,8.1,5.31,5.31,0,0,0,1,6.5,5.31,5.31,0,0,0,4.9,4.9,5.31,5.31,0,0,0,6.5,1,5.31,5.31,0,0,0,8.1,4.9,5.31,5.31,0,0,0,12,6.5,5.46,5.46,0,0,0,6.5,12Z\"/>\n",
              "  </svg>\n",
              "    </button>\n",
              "    <script>\n",
              "      (() => {\n",
              "      const buttonEl =\n",
              "        document.querySelector('#id_32ec7f5d-dc2f-45a5-bd6c-5a20f5c867b1 button.colab-df-generate');\n",
              "      buttonEl.style.display =\n",
              "        google.colab.kernel.accessAllowed ? 'block' : 'none';\n",
              "\n",
              "      buttonEl.onclick = () => {\n",
              "        google.colab.notebook.generateWithVariable('df');\n",
              "      }\n",
              "      })();\n",
              "    </script>\n",
              "  </div>\n",
              "\n",
              "    </div>\n",
              "  </div>\n"
            ]
          },
          "metadata": {},
          "execution_count": 6
        }
      ],
      "source": [
        "df = pd.merge(df_place, df_travel, on='TRAVEL_ID', how='left')\n",
        "df = pd.merge(df, df_traveler, on='TRAVELER_ID', how='left')\n",
        "\n",
        "df"
      ]
    },
    {
      "cell_type": "markdown",
      "source": [
        "### 특정 여행 데이터 살펴보기"
      ],
      "metadata": {
        "id": "7rL_1YEvCUoC"
      }
    },
    {
      "cell_type": "code",
      "execution_count": null,
      "metadata": {
        "colab": {
          "base_uri": "https://localhost:8080/",
          "height": 492
        },
        "id": "FjcMsSw-2S47",
        "outputId": "b73b0641-e277-4d3c-f637-9841da559537"
      },
      "outputs": [
        {
          "output_type": "execute_result",
          "data": {
            "text/plain": [
              "       VISIT_AREA_ID  TRAVEL_ID  VISIT_ORDER  VISIT_AREA_NM VISIT_START_YMD  \\\n",
              "0         2210300006  a_a015688            5         프로방스마을      2022-10-30   \n",
              "7060      2210300002  a_a015688            7          다온무인텔      2022-10-30   \n",
              "8788      2210300005  a_a015688            4        헤이리예술마을      2022-10-30   \n",
              "10467     2210310002  a_a015688            9              집      2022-10-31   \n",
              "13659     2210310001  a_a015688            8     아이노스 출판단지점      2022-10-31   \n",
              "18718     2210300004  a_a015688            3  롯데프리미엄아울렛 파주점      2022-10-30   \n",
              "28239     2210300003  a_a015688            2           지혜의숲      2022-10-30   \n",
              "\n",
              "      VISIT_END_YMD         ROAD_NM_ADDR               LOTNO_ADDR     X_COORD  \\\n",
              "0        2022-10-30   경기 파주시 탄현면 새오리로 77      경기 파주시 탄현면 성동리 82-1  126.685239   \n",
              "7060     2022-10-31  경기 파주시 탄현면 성동로 7-25     경기 파주시 탄현면 성동리 666-3  126.686597   \n",
              "8788     2022-10-30                  NaN  경기 파주시 탄현면 법흥리 1652-239  126.698953   \n",
              "10467    2022-11-01                  NaN                      NaN         NaN   \n",
              "13659    2022-10-31       경기 파주시 문발로 142         경기 파주시 문발동 531-1  126.686457   \n",
              "18718    2022-10-30       경기 파주시 문발로 284           경기 파주시 문발동 644  126.692643   \n",
              "28239    2022-10-30       경기 파주시 회동길 145         경기 파주시 문발동 524-3  126.687060   \n",
              "\n",
              "         Y_COORD  ...  TRAVEL_STYL_7 TRAVEL_STYL_8 TRAVEL_STATUS_RESIDENCE  \\\n",
              "0      37.790405  ...            6.0           6.0                     경기도   \n",
              "7060   37.780606  ...            6.0           6.0                     경기도   \n",
              "8788   37.788174  ...            6.0           6.0                     경기도   \n",
              "10467        NaN  ...            6.0           6.0                     경기도   \n",
              "13659  37.707170  ...            6.0           6.0                     경기도   \n",
              "18718  37.718115  ...            6.0           6.0                     경기도   \n",
              "28239  37.708354  ...            6.0           6.0                     경기도   \n",
              "\n",
              "      TRAVEL_STATUS_DESTINATION  TRAVEL_STATUS_ACCOMPANY  \\\n",
              "0                            경기                   나홀로 여행   \n",
              "7060                         경기                   나홀로 여행   \n",
              "8788                         경기                   나홀로 여행   \n",
              "10467                        경기                   나홀로 여행   \n",
              "13659                        경기                   나홀로 여행   \n",
              "18718                        경기                   나홀로 여행   \n",
              "28239                        경기                   나홀로 여행   \n",
              "\n",
              "           TRAVEL_STATUS_YMD TRAVEL_MOTIVE_1  TRAVEL_MOTIVE_2  \\\n",
              "0      2022-10-30~2022-10-31             1.0              7.0   \n",
              "7060   2022-10-30~2022-10-31             1.0              7.0   \n",
              "8788   2022-10-30~2022-10-31             1.0              7.0   \n",
              "10467  2022-10-30~2022-10-31             1.0              7.0   \n",
              "13659  2022-10-30~2022-10-31             1.0              7.0   \n",
              "18718  2022-10-30~2022-10-31             1.0              7.0   \n",
              "28239  2022-10-30~2022-10-31             1.0              7.0   \n",
              "\n",
              "       TRAVEL_MOTIVE_3  TRAVEL_COMPANIONS_NUM  \n",
              "0                 10.0                    0.0  \n",
              "7060              10.0                    0.0  \n",
              "8788              10.0                    0.0  \n",
              "10467             10.0                    0.0  \n",
              "13659             10.0                    0.0  \n",
              "18718             10.0                    0.0  \n",
              "28239             10.0                    0.0  \n",
              "\n",
              "[7 rows x 67 columns]"
            ],
            "text/html": [
              "\n",
              "  <div id=\"df-3cb5a6ab-5341-4c6b-a3cc-4d40eae7b422\" class=\"colab-df-container\">\n",
              "    <div>\n",
              "<style scoped>\n",
              "    .dataframe tbody tr th:only-of-type {\n",
              "        vertical-align: middle;\n",
              "    }\n",
              "\n",
              "    .dataframe tbody tr th {\n",
              "        vertical-align: top;\n",
              "    }\n",
              "\n",
              "    .dataframe thead th {\n",
              "        text-align: right;\n",
              "    }\n",
              "</style>\n",
              "<table border=\"1\" class=\"dataframe\">\n",
              "  <thead>\n",
              "    <tr style=\"text-align: right;\">\n",
              "      <th></th>\n",
              "      <th>VISIT_AREA_ID</th>\n",
              "      <th>TRAVEL_ID</th>\n",
              "      <th>VISIT_ORDER</th>\n",
              "      <th>VISIT_AREA_NM</th>\n",
              "      <th>VISIT_START_YMD</th>\n",
              "      <th>VISIT_END_YMD</th>\n",
              "      <th>ROAD_NM_ADDR</th>\n",
              "      <th>LOTNO_ADDR</th>\n",
              "      <th>X_COORD</th>\n",
              "      <th>Y_COORD</th>\n",
              "      <th>...</th>\n",
              "      <th>TRAVEL_STYL_7</th>\n",
              "      <th>TRAVEL_STYL_8</th>\n",
              "      <th>TRAVEL_STATUS_RESIDENCE</th>\n",
              "      <th>TRAVEL_STATUS_DESTINATION</th>\n",
              "      <th>TRAVEL_STATUS_ACCOMPANY</th>\n",
              "      <th>TRAVEL_STATUS_YMD</th>\n",
              "      <th>TRAVEL_MOTIVE_1</th>\n",
              "      <th>TRAVEL_MOTIVE_2</th>\n",
              "      <th>TRAVEL_MOTIVE_3</th>\n",
              "      <th>TRAVEL_COMPANIONS_NUM</th>\n",
              "    </tr>\n",
              "  </thead>\n",
              "  <tbody>\n",
              "    <tr>\n",
              "      <th>0</th>\n",
              "      <td>2210300006</td>\n",
              "      <td>a_a015688</td>\n",
              "      <td>5</td>\n",
              "      <td>프로방스마을</td>\n",
              "      <td>2022-10-30</td>\n",
              "      <td>2022-10-30</td>\n",
              "      <td>경기 파주시 탄현면 새오리로 77</td>\n",
              "      <td>경기 파주시 탄현면 성동리 82-1</td>\n",
              "      <td>126.685239</td>\n",
              "      <td>37.790405</td>\n",
              "      <td>...</td>\n",
              "      <td>6.0</td>\n",
              "      <td>6.0</td>\n",
              "      <td>경기도</td>\n",
              "      <td>경기</td>\n",
              "      <td>나홀로 여행</td>\n",
              "      <td>2022-10-30~2022-10-31</td>\n",
              "      <td>1.0</td>\n",
              "      <td>7.0</td>\n",
              "      <td>10.0</td>\n",
              "      <td>0.0</td>\n",
              "    </tr>\n",
              "    <tr>\n",
              "      <th>7060</th>\n",
              "      <td>2210300002</td>\n",
              "      <td>a_a015688</td>\n",
              "      <td>7</td>\n",
              "      <td>다온무인텔</td>\n",
              "      <td>2022-10-30</td>\n",
              "      <td>2022-10-31</td>\n",
              "      <td>경기 파주시 탄현면 성동로 7-25</td>\n",
              "      <td>경기 파주시 탄현면 성동리 666-3</td>\n",
              "      <td>126.686597</td>\n",
              "      <td>37.780606</td>\n",
              "      <td>...</td>\n",
              "      <td>6.0</td>\n",
              "      <td>6.0</td>\n",
              "      <td>경기도</td>\n",
              "      <td>경기</td>\n",
              "      <td>나홀로 여행</td>\n",
              "      <td>2022-10-30~2022-10-31</td>\n",
              "      <td>1.0</td>\n",
              "      <td>7.0</td>\n",
              "      <td>10.0</td>\n",
              "      <td>0.0</td>\n",
              "    </tr>\n",
              "    <tr>\n",
              "      <th>8788</th>\n",
              "      <td>2210300005</td>\n",
              "      <td>a_a015688</td>\n",
              "      <td>4</td>\n",
              "      <td>헤이리예술마을</td>\n",
              "      <td>2022-10-30</td>\n",
              "      <td>2022-10-30</td>\n",
              "      <td>NaN</td>\n",
              "      <td>경기 파주시 탄현면 법흥리 1652-239</td>\n",
              "      <td>126.698953</td>\n",
              "      <td>37.788174</td>\n",
              "      <td>...</td>\n",
              "      <td>6.0</td>\n",
              "      <td>6.0</td>\n",
              "      <td>경기도</td>\n",
              "      <td>경기</td>\n",
              "      <td>나홀로 여행</td>\n",
              "      <td>2022-10-30~2022-10-31</td>\n",
              "      <td>1.0</td>\n",
              "      <td>7.0</td>\n",
              "      <td>10.0</td>\n",
              "      <td>0.0</td>\n",
              "    </tr>\n",
              "    <tr>\n",
              "      <th>10467</th>\n",
              "      <td>2210310002</td>\n",
              "      <td>a_a015688</td>\n",
              "      <td>9</td>\n",
              "      <td>집</td>\n",
              "      <td>2022-10-31</td>\n",
              "      <td>2022-11-01</td>\n",
              "      <td>NaN</td>\n",
              "      <td>NaN</td>\n",
              "      <td>NaN</td>\n",
              "      <td>NaN</td>\n",
              "      <td>...</td>\n",
              "      <td>6.0</td>\n",
              "      <td>6.0</td>\n",
              "      <td>경기도</td>\n",
              "      <td>경기</td>\n",
              "      <td>나홀로 여행</td>\n",
              "      <td>2022-10-30~2022-10-31</td>\n",
              "      <td>1.0</td>\n",
              "      <td>7.0</td>\n",
              "      <td>10.0</td>\n",
              "      <td>0.0</td>\n",
              "    </tr>\n",
              "    <tr>\n",
              "      <th>13659</th>\n",
              "      <td>2210310001</td>\n",
              "      <td>a_a015688</td>\n",
              "      <td>8</td>\n",
              "      <td>아이노스 출판단지점</td>\n",
              "      <td>2022-10-31</td>\n",
              "      <td>2022-10-31</td>\n",
              "      <td>경기 파주시 문발로 142</td>\n",
              "      <td>경기 파주시 문발동 531-1</td>\n",
              "      <td>126.686457</td>\n",
              "      <td>37.707170</td>\n",
              "      <td>...</td>\n",
              "      <td>6.0</td>\n",
              "      <td>6.0</td>\n",
              "      <td>경기도</td>\n",
              "      <td>경기</td>\n",
              "      <td>나홀로 여행</td>\n",
              "      <td>2022-10-30~2022-10-31</td>\n",
              "      <td>1.0</td>\n",
              "      <td>7.0</td>\n",
              "      <td>10.0</td>\n",
              "      <td>0.0</td>\n",
              "    </tr>\n",
              "    <tr>\n",
              "      <th>18718</th>\n",
              "      <td>2210300004</td>\n",
              "      <td>a_a015688</td>\n",
              "      <td>3</td>\n",
              "      <td>롯데프리미엄아울렛 파주점</td>\n",
              "      <td>2022-10-30</td>\n",
              "      <td>2022-10-30</td>\n",
              "      <td>경기 파주시 문발로 284</td>\n",
              "      <td>경기 파주시 문발동 644</td>\n",
              "      <td>126.692643</td>\n",
              "      <td>37.718115</td>\n",
              "      <td>...</td>\n",
              "      <td>6.0</td>\n",
              "      <td>6.0</td>\n",
              "      <td>경기도</td>\n",
              "      <td>경기</td>\n",
              "      <td>나홀로 여행</td>\n",
              "      <td>2022-10-30~2022-10-31</td>\n",
              "      <td>1.0</td>\n",
              "      <td>7.0</td>\n",
              "      <td>10.0</td>\n",
              "      <td>0.0</td>\n",
              "    </tr>\n",
              "    <tr>\n",
              "      <th>28239</th>\n",
              "      <td>2210300003</td>\n",
              "      <td>a_a015688</td>\n",
              "      <td>2</td>\n",
              "      <td>지혜의숲</td>\n",
              "      <td>2022-10-30</td>\n",
              "      <td>2022-10-30</td>\n",
              "      <td>경기 파주시 회동길 145</td>\n",
              "      <td>경기 파주시 문발동 524-3</td>\n",
              "      <td>126.687060</td>\n",
              "      <td>37.708354</td>\n",
              "      <td>...</td>\n",
              "      <td>6.0</td>\n",
              "      <td>6.0</td>\n",
              "      <td>경기도</td>\n",
              "      <td>경기</td>\n",
              "      <td>나홀로 여행</td>\n",
              "      <td>2022-10-30~2022-10-31</td>\n",
              "      <td>1.0</td>\n",
              "      <td>7.0</td>\n",
              "      <td>10.0</td>\n",
              "      <td>0.0</td>\n",
              "    </tr>\n",
              "  </tbody>\n",
              "</table>\n",
              "<p>7 rows × 67 columns</p>\n",
              "</div>\n",
              "    <div class=\"colab-df-buttons\">\n",
              "\n",
              "  <div class=\"colab-df-container\">\n",
              "    <button class=\"colab-df-convert\" onclick=\"convertToInteractive('df-3cb5a6ab-5341-4c6b-a3cc-4d40eae7b422')\"\n",
              "            title=\"Convert this dataframe to an interactive table.\"\n",
              "            style=\"display:none;\">\n",
              "\n",
              "  <svg xmlns=\"http://www.w3.org/2000/svg\" height=\"24px\" viewBox=\"0 -960 960 960\">\n",
              "    <path d=\"M120-120v-720h720v720H120Zm60-500h600v-160H180v160Zm220 220h160v-160H400v160Zm0 220h160v-160H400v160ZM180-400h160v-160H180v160Zm440 0h160v-160H620v160ZM180-180h160v-160H180v160Zm440 0h160v-160H620v160Z\"/>\n",
              "  </svg>\n",
              "    </button>\n",
              "\n",
              "  <style>\n",
              "    .colab-df-container {\n",
              "      display:flex;\n",
              "      gap: 12px;\n",
              "    }\n",
              "\n",
              "    .colab-df-convert {\n",
              "      background-color: #E8F0FE;\n",
              "      border: none;\n",
              "      border-radius: 50%;\n",
              "      cursor: pointer;\n",
              "      display: none;\n",
              "      fill: #1967D2;\n",
              "      height: 32px;\n",
              "      padding: 0 0 0 0;\n",
              "      width: 32px;\n",
              "    }\n",
              "\n",
              "    .colab-df-convert:hover {\n",
              "      background-color: #E2EBFA;\n",
              "      box-shadow: 0px 1px 2px rgba(60, 64, 67, 0.3), 0px 1px 3px 1px rgba(60, 64, 67, 0.15);\n",
              "      fill: #174EA6;\n",
              "    }\n",
              "\n",
              "    .colab-df-buttons div {\n",
              "      margin-bottom: 4px;\n",
              "    }\n",
              "\n",
              "    [theme=dark] .colab-df-convert {\n",
              "      background-color: #3B4455;\n",
              "      fill: #D2E3FC;\n",
              "    }\n",
              "\n",
              "    [theme=dark] .colab-df-convert:hover {\n",
              "      background-color: #434B5C;\n",
              "      box-shadow: 0px 1px 3px 1px rgba(0, 0, 0, 0.15);\n",
              "      filter: drop-shadow(0px 1px 2px rgba(0, 0, 0, 0.3));\n",
              "      fill: #FFFFFF;\n",
              "    }\n",
              "  </style>\n",
              "\n",
              "    <script>\n",
              "      const buttonEl =\n",
              "        document.querySelector('#df-3cb5a6ab-5341-4c6b-a3cc-4d40eae7b422 button.colab-df-convert');\n",
              "      buttonEl.style.display =\n",
              "        google.colab.kernel.accessAllowed ? 'block' : 'none';\n",
              "\n",
              "      async function convertToInteractive(key) {\n",
              "        const element = document.querySelector('#df-3cb5a6ab-5341-4c6b-a3cc-4d40eae7b422');\n",
              "        const dataTable =\n",
              "          await google.colab.kernel.invokeFunction('convertToInteractive',\n",
              "                                                    [key], {});\n",
              "        if (!dataTable) return;\n",
              "\n",
              "        const docLinkHtml = 'Like what you see? Visit the ' +\n",
              "          '<a target=\"_blank\" href=https://colab.research.google.com/notebooks/data_table.ipynb>data table notebook</a>'\n",
              "          + ' to learn more about interactive tables.';\n",
              "        element.innerHTML = '';\n",
              "        dataTable['output_type'] = 'display_data';\n",
              "        await google.colab.output.renderOutput(dataTable, element);\n",
              "        const docLink = document.createElement('div');\n",
              "        docLink.innerHTML = docLinkHtml;\n",
              "        element.appendChild(docLink);\n",
              "      }\n",
              "    </script>\n",
              "  </div>\n",
              "\n",
              "\n",
              "<div id=\"df-5237544d-cf9f-40d5-9132-d816475802ef\">\n",
              "  <button class=\"colab-df-quickchart\" onclick=\"quickchart('df-5237544d-cf9f-40d5-9132-d816475802ef')\"\n",
              "            title=\"Suggest charts\"\n",
              "            style=\"display:none;\">\n",
              "\n",
              "<svg xmlns=\"http://www.w3.org/2000/svg\" height=\"24px\"viewBox=\"0 0 24 24\"\n",
              "     width=\"24px\">\n",
              "    <g>\n",
              "        <path d=\"M19 3H5c-1.1 0-2 .9-2 2v14c0 1.1.9 2 2 2h14c1.1 0 2-.9 2-2V5c0-1.1-.9-2-2-2zM9 17H7v-7h2v7zm4 0h-2V7h2v10zm4 0h-2v-4h2v4z\"/>\n",
              "    </g>\n",
              "</svg>\n",
              "  </button>\n",
              "\n",
              "<style>\n",
              "  .colab-df-quickchart {\n",
              "      --bg-color: #E8F0FE;\n",
              "      --fill-color: #1967D2;\n",
              "      --hover-bg-color: #E2EBFA;\n",
              "      --hover-fill-color: #174EA6;\n",
              "      --disabled-fill-color: #AAA;\n",
              "      --disabled-bg-color: #DDD;\n",
              "  }\n",
              "\n",
              "  [theme=dark] .colab-df-quickchart {\n",
              "      --bg-color: #3B4455;\n",
              "      --fill-color: #D2E3FC;\n",
              "      --hover-bg-color: #434B5C;\n",
              "      --hover-fill-color: #FFFFFF;\n",
              "      --disabled-bg-color: #3B4455;\n",
              "      --disabled-fill-color: #666;\n",
              "  }\n",
              "\n",
              "  .colab-df-quickchart {\n",
              "    background-color: var(--bg-color);\n",
              "    border: none;\n",
              "    border-radius: 50%;\n",
              "    cursor: pointer;\n",
              "    display: none;\n",
              "    fill: var(--fill-color);\n",
              "    height: 32px;\n",
              "    padding: 0;\n",
              "    width: 32px;\n",
              "  }\n",
              "\n",
              "  .colab-df-quickchart:hover {\n",
              "    background-color: var(--hover-bg-color);\n",
              "    box-shadow: 0 1px 2px rgba(60, 64, 67, 0.3), 0 1px 3px 1px rgba(60, 64, 67, 0.15);\n",
              "    fill: var(--button-hover-fill-color);\n",
              "  }\n",
              "\n",
              "  .colab-df-quickchart-complete:disabled,\n",
              "  .colab-df-quickchart-complete:disabled:hover {\n",
              "    background-color: var(--disabled-bg-color);\n",
              "    fill: var(--disabled-fill-color);\n",
              "    box-shadow: none;\n",
              "  }\n",
              "\n",
              "  .colab-df-spinner {\n",
              "    border: 2px solid var(--fill-color);\n",
              "    border-color: transparent;\n",
              "    border-bottom-color: var(--fill-color);\n",
              "    animation:\n",
              "      spin 1s steps(1) infinite;\n",
              "  }\n",
              "\n",
              "  @keyframes spin {\n",
              "    0% {\n",
              "      border-color: transparent;\n",
              "      border-bottom-color: var(--fill-color);\n",
              "      border-left-color: var(--fill-color);\n",
              "    }\n",
              "    20% {\n",
              "      border-color: transparent;\n",
              "      border-left-color: var(--fill-color);\n",
              "      border-top-color: var(--fill-color);\n",
              "    }\n",
              "    30% {\n",
              "      border-color: transparent;\n",
              "      border-left-color: var(--fill-color);\n",
              "      border-top-color: var(--fill-color);\n",
              "      border-right-color: var(--fill-color);\n",
              "    }\n",
              "    40% {\n",
              "      border-color: transparent;\n",
              "      border-right-color: var(--fill-color);\n",
              "      border-top-color: var(--fill-color);\n",
              "    }\n",
              "    60% {\n",
              "      border-color: transparent;\n",
              "      border-right-color: var(--fill-color);\n",
              "    }\n",
              "    80% {\n",
              "      border-color: transparent;\n",
              "      border-right-color: var(--fill-color);\n",
              "      border-bottom-color: var(--fill-color);\n",
              "    }\n",
              "    90% {\n",
              "      border-color: transparent;\n",
              "      border-bottom-color: var(--fill-color);\n",
              "    }\n",
              "  }\n",
              "</style>\n",
              "\n",
              "  <script>\n",
              "    async function quickchart(key) {\n",
              "      const quickchartButtonEl =\n",
              "        document.querySelector('#' + key + ' button');\n",
              "      quickchartButtonEl.disabled = true;  // To prevent multiple clicks.\n",
              "      quickchartButtonEl.classList.add('colab-df-spinner');\n",
              "      try {\n",
              "        const charts = await google.colab.kernel.invokeFunction(\n",
              "            'suggestCharts', [key], {});\n",
              "      } catch (error) {\n",
              "        console.error('Error during call to suggestCharts:', error);\n",
              "      }\n",
              "      quickchartButtonEl.classList.remove('colab-df-spinner');\n",
              "      quickchartButtonEl.classList.add('colab-df-quickchart-complete');\n",
              "    }\n",
              "    (() => {\n",
              "      let quickchartButtonEl =\n",
              "        document.querySelector('#df-5237544d-cf9f-40d5-9132-d816475802ef button');\n",
              "      quickchartButtonEl.style.display =\n",
              "        google.colab.kernel.accessAllowed ? 'block' : 'none';\n",
              "    })();\n",
              "  </script>\n",
              "</div>\n",
              "\n",
              "    </div>\n",
              "  </div>\n"
            ]
          },
          "metadata": {},
          "execution_count": 7
        }
      ],
      "source": [
        "df[df['TRAVEL_ID'] == 'a_a015688']"
      ]
    },
    {
      "cell_type": "markdown",
      "source": [
        "## 데이터셋 전처리"
      ],
      "metadata": {
        "id": "DBPv_nC2CYn7"
      }
    },
    {
      "cell_type": "code",
      "execution_count": null,
      "metadata": {
        "colab": {
          "base_uri": "https://localhost:8080/",
          "height": 652
        },
        "id": "OZhKL4Iq5aG5",
        "outputId": "3b24f365-cc07-4206-86e1-8615702a0160"
      },
      "outputs": [
        {
          "output_type": "execute_result",
          "data": {
            "text/plain": [
              "       VISIT_AREA_ID  TRAVEL_ID  VISIT_ORDER  VISIT_AREA_NM VISIT_START_YMD  \\\n",
              "0         2210300006  a_a015688            5         프로방스마을      2022-10-30   \n",
              "1         2208050001  a_a000164            1         친구/친지집      2022-08-05   \n",
              "2         2210030002  a_a004293            2        병점역 1호선      2022-10-03   \n",
              "3         2208200003  a_a000491           12          더현대서울      2022-08-20   \n",
              "4         2208110007  a_a000172           13         강릉중앙시장      2022-08-11   \n",
              "...              ...        ...          ...            ...             ...   \n",
              "30149     2210220005  a_a008553            5              집      2022-10-22   \n",
              "30150     2208280003  a_a001505            6         카페아쁠뤼스      2022-08-28   \n",
              "30151     2210290005  a_a013660            4        국립중앙박물관      2022-10-29   \n",
              "30152     2208060008  a_a000019            7       송도달빛축제공원      2022-08-06   \n",
              "30153     2209060002  a_a000567            2  콩카페 롯데백화점 잠실점      2022-09-06   \n",
              "\n",
              "      VISIT_END_YMD         ROAD_NM_ADDR           LOTNO_ADDR     X_COORD  \\\n",
              "0        2022-10-30   경기 파주시 탄현면 새오리로 77  경기 파주시 탄현면 성동리 82-1  126.685239   \n",
              "1        2022-08-05                  NaN       경기도 안산시 단원구 와동         NaN   \n",
              "2        2022-10-03       경기 화성시 떡전골로 97     경기 화성시 진안동 824-1  127.033200   \n",
              "3        2022-08-20     서울 영등포구 여의대로 108      서울 영등포구 여의도동 22  126.928446   \n",
              "4        2022-08-11        강원 강릉시 금성로 21        강원 강릉시 성남동 50  128.898624   \n",
              "...             ...                  ...                  ...         ...   \n",
              "30149    2022-10-23                  NaN                  NaN         NaN   \n",
              "30150    2022-08-28  경기 가평군 청평면 신청평로 107   경기 가평군 청평면 대성리 3-5  127.406939   \n",
              "30151    2022-10-29      서울 용산구 서빙고로 137   서울 용산구 용산동6가 168-6  126.980203   \n",
              "30152    2022-08-06      인천 연수구 센트럴로 350      인천 연수구 송도동 26-1  126.634896   \n",
              "30153    2022-09-06      서울 송파구 올림픽로 240      서울 송파구 잠실동 40-1  127.098572   \n",
              "\n",
              "         Y_COORD  ...  TRAVEL_STYL_8 TRAVEL_STATUS_RESIDENCE  \\\n",
              "0      37.790405  ...            6.0                     경기도   \n",
              "1            NaN  ...            5.0                     경기도   \n",
              "2      37.206753  ...            2.0                     경기도   \n",
              "3      37.525872  ...            7.0                   울산광역시   \n",
              "4      37.754025  ...            4.0                   광주광역시   \n",
              "...          ...  ...            ...                     ...   \n",
              "30149        NaN  ...            3.0                   서울특별시   \n",
              "30150  37.728238  ...            4.0                   서울특별시   \n",
              "30151  37.523847  ...            6.0                     경기도   \n",
              "30152  37.407218  ...            3.0                   서울특별시   \n",
              "30153  37.511906  ...            7.0                     경기도   \n",
              "\n",
              "      TRAVEL_STATUS_DESTINATION TRAVEL_STATUS_ACCOMPANY  \\\n",
              "0                            경기                  나홀로 여행   \n",
              "1                            경기             2인 여행(가족 외)   \n",
              "2                            경기                  나홀로 여행   \n",
              "3                            서울                2인 가족 여행   \n",
              "4                            서울                  나홀로 여행   \n",
              "...                         ...                     ...   \n",
              "30149                        경기                  나홀로 여행   \n",
              "30150                        경기          3인 이상 여행(가족 외)   \n",
              "30151                        서울                  나홀로 여행   \n",
              "30152                        인천          3인 이상 여행(가족 외)   \n",
              "30153                        경기             2인 여행(가족 외)   \n",
              "\n",
              "           TRAVEL_STATUS_YMD  TRAVEL_MOTIVE_1 TRAVEL_MOTIVE_2  \\\n",
              "0      2022-10-30~2022-10-31              1.0             7.0   \n",
              "1      2022-08-05~2022-08-06              3.0             2.0   \n",
              "2      2022-10-03~2022-10-03              6.0             2.0   \n",
              "3      2022-08-19~2022-08-20              1.0             3.0   \n",
              "4      2022-08-10~2022-08-13              1.0             7.0   \n",
              "...                      ...              ...             ...   \n",
              "30149  2022-10-22~2022-10-22              2.0             1.0   \n",
              "30150  2022-08-27~2022-08-28              1.0             3.0   \n",
              "30151  2022-10-29~2022-10-30              1.0             7.0   \n",
              "30152  2022-08-06~2022-08-07              7.0             5.0   \n",
              "30153  2022-09-06~2022-09-07              5.0             2.0   \n",
              "\n",
              "       TRAVEL_MOTIVE_3  TRAVEL_COMPANIONS_NUM  TRAVEL_MISSION_INT  \n",
              "0                 10.0                    0.0                   5  \n",
              "1                  1.0                    1.0                  22  \n",
              "2                  1.0                    0.0                  28  \n",
              "3                  7.0                    1.0                   6  \n",
              "4                  2.0                    0.0                   2  \n",
              "...                ...                    ...                 ...  \n",
              "30149              NaN                    0.0                   6  \n",
              "30150              7.0                    7.0                   5  \n",
              "30151              8.0                    0.0                   3  \n",
              "30152              1.0                    6.0                   9  \n",
              "30153              3.0                    1.0                  10  \n",
              "\n",
              "[23898 rows x 68 columns]"
            ],
            "text/html": [
              "\n",
              "  <div id=\"df-7e526cf2-a8de-4fd8-b901-6a78e121b8a3\" class=\"colab-df-container\">\n",
              "    <div>\n",
              "<style scoped>\n",
              "    .dataframe tbody tr th:only-of-type {\n",
              "        vertical-align: middle;\n",
              "    }\n",
              "\n",
              "    .dataframe tbody tr th {\n",
              "        vertical-align: top;\n",
              "    }\n",
              "\n",
              "    .dataframe thead th {\n",
              "        text-align: right;\n",
              "    }\n",
              "</style>\n",
              "<table border=\"1\" class=\"dataframe\">\n",
              "  <thead>\n",
              "    <tr style=\"text-align: right;\">\n",
              "      <th></th>\n",
              "      <th>VISIT_AREA_ID</th>\n",
              "      <th>TRAVEL_ID</th>\n",
              "      <th>VISIT_ORDER</th>\n",
              "      <th>VISIT_AREA_NM</th>\n",
              "      <th>VISIT_START_YMD</th>\n",
              "      <th>VISIT_END_YMD</th>\n",
              "      <th>ROAD_NM_ADDR</th>\n",
              "      <th>LOTNO_ADDR</th>\n",
              "      <th>X_COORD</th>\n",
              "      <th>Y_COORD</th>\n",
              "      <th>...</th>\n",
              "      <th>TRAVEL_STYL_8</th>\n",
              "      <th>TRAVEL_STATUS_RESIDENCE</th>\n",
              "      <th>TRAVEL_STATUS_DESTINATION</th>\n",
              "      <th>TRAVEL_STATUS_ACCOMPANY</th>\n",
              "      <th>TRAVEL_STATUS_YMD</th>\n",
              "      <th>TRAVEL_MOTIVE_1</th>\n",
              "      <th>TRAVEL_MOTIVE_2</th>\n",
              "      <th>TRAVEL_MOTIVE_3</th>\n",
              "      <th>TRAVEL_COMPANIONS_NUM</th>\n",
              "      <th>TRAVEL_MISSION_INT</th>\n",
              "    </tr>\n",
              "  </thead>\n",
              "  <tbody>\n",
              "    <tr>\n",
              "      <th>0</th>\n",
              "      <td>2210300006</td>\n",
              "      <td>a_a015688</td>\n",
              "      <td>5</td>\n",
              "      <td>프로방스마을</td>\n",
              "      <td>2022-10-30</td>\n",
              "      <td>2022-10-30</td>\n",
              "      <td>경기 파주시 탄현면 새오리로 77</td>\n",
              "      <td>경기 파주시 탄현면 성동리 82-1</td>\n",
              "      <td>126.685239</td>\n",
              "      <td>37.790405</td>\n",
              "      <td>...</td>\n",
              "      <td>6.0</td>\n",
              "      <td>경기도</td>\n",
              "      <td>경기</td>\n",
              "      <td>나홀로 여행</td>\n",
              "      <td>2022-10-30~2022-10-31</td>\n",
              "      <td>1.0</td>\n",
              "      <td>7.0</td>\n",
              "      <td>10.0</td>\n",
              "      <td>0.0</td>\n",
              "      <td>5</td>\n",
              "    </tr>\n",
              "    <tr>\n",
              "      <th>1</th>\n",
              "      <td>2208050001</td>\n",
              "      <td>a_a000164</td>\n",
              "      <td>1</td>\n",
              "      <td>친구/친지집</td>\n",
              "      <td>2022-08-05</td>\n",
              "      <td>2022-08-05</td>\n",
              "      <td>NaN</td>\n",
              "      <td>경기도 안산시 단원구 와동</td>\n",
              "      <td>NaN</td>\n",
              "      <td>NaN</td>\n",
              "      <td>...</td>\n",
              "      <td>5.0</td>\n",
              "      <td>경기도</td>\n",
              "      <td>경기</td>\n",
              "      <td>2인 여행(가족 외)</td>\n",
              "      <td>2022-08-05~2022-08-06</td>\n",
              "      <td>3.0</td>\n",
              "      <td>2.0</td>\n",
              "      <td>1.0</td>\n",
              "      <td>1.0</td>\n",
              "      <td>22</td>\n",
              "    </tr>\n",
              "    <tr>\n",
              "      <th>2</th>\n",
              "      <td>2210030002</td>\n",
              "      <td>a_a004293</td>\n",
              "      <td>2</td>\n",
              "      <td>병점역 1호선</td>\n",
              "      <td>2022-10-03</td>\n",
              "      <td>2022-10-03</td>\n",
              "      <td>경기 화성시 떡전골로 97</td>\n",
              "      <td>경기 화성시 진안동 824-1</td>\n",
              "      <td>127.033200</td>\n",
              "      <td>37.206753</td>\n",
              "      <td>...</td>\n",
              "      <td>2.0</td>\n",
              "      <td>경기도</td>\n",
              "      <td>경기</td>\n",
              "      <td>나홀로 여행</td>\n",
              "      <td>2022-10-03~2022-10-03</td>\n",
              "      <td>6.0</td>\n",
              "      <td>2.0</td>\n",
              "      <td>1.0</td>\n",
              "      <td>0.0</td>\n",
              "      <td>28</td>\n",
              "    </tr>\n",
              "    <tr>\n",
              "      <th>3</th>\n",
              "      <td>2208200003</td>\n",
              "      <td>a_a000491</td>\n",
              "      <td>12</td>\n",
              "      <td>더현대서울</td>\n",
              "      <td>2022-08-20</td>\n",
              "      <td>2022-08-20</td>\n",
              "      <td>서울 영등포구 여의대로 108</td>\n",
              "      <td>서울 영등포구 여의도동 22</td>\n",
              "      <td>126.928446</td>\n",
              "      <td>37.525872</td>\n",
              "      <td>...</td>\n",
              "      <td>7.0</td>\n",
              "      <td>울산광역시</td>\n",
              "      <td>서울</td>\n",
              "      <td>2인 가족 여행</td>\n",
              "      <td>2022-08-19~2022-08-20</td>\n",
              "      <td>1.0</td>\n",
              "      <td>3.0</td>\n",
              "      <td>7.0</td>\n",
              "      <td>1.0</td>\n",
              "      <td>6</td>\n",
              "    </tr>\n",
              "    <tr>\n",
              "      <th>4</th>\n",
              "      <td>2208110007</td>\n",
              "      <td>a_a000172</td>\n",
              "      <td>13</td>\n",
              "      <td>강릉중앙시장</td>\n",
              "      <td>2022-08-11</td>\n",
              "      <td>2022-08-11</td>\n",
              "      <td>강원 강릉시 금성로 21</td>\n",
              "      <td>강원 강릉시 성남동 50</td>\n",
              "      <td>128.898624</td>\n",
              "      <td>37.754025</td>\n",
              "      <td>...</td>\n",
              "      <td>4.0</td>\n",
              "      <td>광주광역시</td>\n",
              "      <td>서울</td>\n",
              "      <td>나홀로 여행</td>\n",
              "      <td>2022-08-10~2022-08-13</td>\n",
              "      <td>1.0</td>\n",
              "      <td>7.0</td>\n",
              "      <td>2.0</td>\n",
              "      <td>0.0</td>\n",
              "      <td>2</td>\n",
              "    </tr>\n",
              "    <tr>\n",
              "      <th>...</th>\n",
              "      <td>...</td>\n",
              "      <td>...</td>\n",
              "      <td>...</td>\n",
              "      <td>...</td>\n",
              "      <td>...</td>\n",
              "      <td>...</td>\n",
              "      <td>...</td>\n",
              "      <td>...</td>\n",
              "      <td>...</td>\n",
              "      <td>...</td>\n",
              "      <td>...</td>\n",
              "      <td>...</td>\n",
              "      <td>...</td>\n",
              "      <td>...</td>\n",
              "      <td>...</td>\n",
              "      <td>...</td>\n",
              "      <td>...</td>\n",
              "      <td>...</td>\n",
              "      <td>...</td>\n",
              "      <td>...</td>\n",
              "      <td>...</td>\n",
              "    </tr>\n",
              "    <tr>\n",
              "      <th>30149</th>\n",
              "      <td>2210220005</td>\n",
              "      <td>a_a008553</td>\n",
              "      <td>5</td>\n",
              "      <td>집</td>\n",
              "      <td>2022-10-22</td>\n",
              "      <td>2022-10-23</td>\n",
              "      <td>NaN</td>\n",
              "      <td>NaN</td>\n",
              "      <td>NaN</td>\n",
              "      <td>NaN</td>\n",
              "      <td>...</td>\n",
              "      <td>3.0</td>\n",
              "      <td>서울특별시</td>\n",
              "      <td>경기</td>\n",
              "      <td>나홀로 여행</td>\n",
              "      <td>2022-10-22~2022-10-22</td>\n",
              "      <td>2.0</td>\n",
              "      <td>1.0</td>\n",
              "      <td>NaN</td>\n",
              "      <td>0.0</td>\n",
              "      <td>6</td>\n",
              "    </tr>\n",
              "    <tr>\n",
              "      <th>30150</th>\n",
              "      <td>2208280003</td>\n",
              "      <td>a_a001505</td>\n",
              "      <td>6</td>\n",
              "      <td>카페아쁠뤼스</td>\n",
              "      <td>2022-08-28</td>\n",
              "      <td>2022-08-28</td>\n",
              "      <td>경기 가평군 청평면 신청평로 107</td>\n",
              "      <td>경기 가평군 청평면 대성리 3-5</td>\n",
              "      <td>127.406939</td>\n",
              "      <td>37.728238</td>\n",
              "      <td>...</td>\n",
              "      <td>4.0</td>\n",
              "      <td>서울특별시</td>\n",
              "      <td>경기</td>\n",
              "      <td>3인 이상 여행(가족 외)</td>\n",
              "      <td>2022-08-27~2022-08-28</td>\n",
              "      <td>1.0</td>\n",
              "      <td>3.0</td>\n",
              "      <td>7.0</td>\n",
              "      <td>7.0</td>\n",
              "      <td>5</td>\n",
              "    </tr>\n",
              "    <tr>\n",
              "      <th>30151</th>\n",
              "      <td>2210290005</td>\n",
              "      <td>a_a013660</td>\n",
              "      <td>4</td>\n",
              "      <td>국립중앙박물관</td>\n",
              "      <td>2022-10-29</td>\n",
              "      <td>2022-10-29</td>\n",
              "      <td>서울 용산구 서빙고로 137</td>\n",
              "      <td>서울 용산구 용산동6가 168-6</td>\n",
              "      <td>126.980203</td>\n",
              "      <td>37.523847</td>\n",
              "      <td>...</td>\n",
              "      <td>6.0</td>\n",
              "      <td>경기도</td>\n",
              "      <td>서울</td>\n",
              "      <td>나홀로 여행</td>\n",
              "      <td>2022-10-29~2022-10-30</td>\n",
              "      <td>1.0</td>\n",
              "      <td>7.0</td>\n",
              "      <td>8.0</td>\n",
              "      <td>0.0</td>\n",
              "      <td>3</td>\n",
              "    </tr>\n",
              "    <tr>\n",
              "      <th>30152</th>\n",
              "      <td>2208060008</td>\n",
              "      <td>a_a000019</td>\n",
              "      <td>7</td>\n",
              "      <td>송도달빛축제공원</td>\n",
              "      <td>2022-08-06</td>\n",
              "      <td>2022-08-06</td>\n",
              "      <td>인천 연수구 센트럴로 350</td>\n",
              "      <td>인천 연수구 송도동 26-1</td>\n",
              "      <td>126.634896</td>\n",
              "      <td>37.407218</td>\n",
              "      <td>...</td>\n",
              "      <td>3.0</td>\n",
              "      <td>서울특별시</td>\n",
              "      <td>인천</td>\n",
              "      <td>3인 이상 여행(가족 외)</td>\n",
              "      <td>2022-08-06~2022-08-07</td>\n",
              "      <td>7.0</td>\n",
              "      <td>5.0</td>\n",
              "      <td>1.0</td>\n",
              "      <td>6.0</td>\n",
              "      <td>9</td>\n",
              "    </tr>\n",
              "    <tr>\n",
              "      <th>30153</th>\n",
              "      <td>2209060002</td>\n",
              "      <td>a_a000567</td>\n",
              "      <td>2</td>\n",
              "      <td>콩카페 롯데백화점 잠실점</td>\n",
              "      <td>2022-09-06</td>\n",
              "      <td>2022-09-06</td>\n",
              "      <td>서울 송파구 올림픽로 240</td>\n",
              "      <td>서울 송파구 잠실동 40-1</td>\n",
              "      <td>127.098572</td>\n",
              "      <td>37.511906</td>\n",
              "      <td>...</td>\n",
              "      <td>7.0</td>\n",
              "      <td>경기도</td>\n",
              "      <td>경기</td>\n",
              "      <td>2인 여행(가족 외)</td>\n",
              "      <td>2022-09-06~2022-09-07</td>\n",
              "      <td>5.0</td>\n",
              "      <td>2.0</td>\n",
              "      <td>3.0</td>\n",
              "      <td>1.0</td>\n",
              "      <td>10</td>\n",
              "    </tr>\n",
              "  </tbody>\n",
              "</table>\n",
              "<p>23898 rows × 68 columns</p>\n",
              "</div>\n",
              "    <div class=\"colab-df-buttons\">\n",
              "\n",
              "  <div class=\"colab-df-container\">\n",
              "    <button class=\"colab-df-convert\" onclick=\"convertToInteractive('df-7e526cf2-a8de-4fd8-b901-6a78e121b8a3')\"\n",
              "            title=\"Convert this dataframe to an interactive table.\"\n",
              "            style=\"display:none;\">\n",
              "\n",
              "  <svg xmlns=\"http://www.w3.org/2000/svg\" height=\"24px\" viewBox=\"0 -960 960 960\">\n",
              "    <path d=\"M120-120v-720h720v720H120Zm60-500h600v-160H180v160Zm220 220h160v-160H400v160Zm0 220h160v-160H400v160ZM180-400h160v-160H180v160Zm440 0h160v-160H620v160ZM180-180h160v-160H180v160Zm440 0h160v-160H620v160Z\"/>\n",
              "  </svg>\n",
              "    </button>\n",
              "\n",
              "  <style>\n",
              "    .colab-df-container {\n",
              "      display:flex;\n",
              "      gap: 12px;\n",
              "    }\n",
              "\n",
              "    .colab-df-convert {\n",
              "      background-color: #E8F0FE;\n",
              "      border: none;\n",
              "      border-radius: 50%;\n",
              "      cursor: pointer;\n",
              "      display: none;\n",
              "      fill: #1967D2;\n",
              "      height: 32px;\n",
              "      padding: 0 0 0 0;\n",
              "      width: 32px;\n",
              "    }\n",
              "\n",
              "    .colab-df-convert:hover {\n",
              "      background-color: #E2EBFA;\n",
              "      box-shadow: 0px 1px 2px rgba(60, 64, 67, 0.3), 0px 1px 3px 1px rgba(60, 64, 67, 0.15);\n",
              "      fill: #174EA6;\n",
              "    }\n",
              "\n",
              "    .colab-df-buttons div {\n",
              "      margin-bottom: 4px;\n",
              "    }\n",
              "\n",
              "    [theme=dark] .colab-df-convert {\n",
              "      background-color: #3B4455;\n",
              "      fill: #D2E3FC;\n",
              "    }\n",
              "\n",
              "    [theme=dark] .colab-df-convert:hover {\n",
              "      background-color: #434B5C;\n",
              "      box-shadow: 0px 1px 3px 1px rgba(0, 0, 0, 0.15);\n",
              "      filter: drop-shadow(0px 1px 2px rgba(0, 0, 0, 0.3));\n",
              "      fill: #FFFFFF;\n",
              "    }\n",
              "  </style>\n",
              "\n",
              "    <script>\n",
              "      const buttonEl =\n",
              "        document.querySelector('#df-7e526cf2-a8de-4fd8-b901-6a78e121b8a3 button.colab-df-convert');\n",
              "      buttonEl.style.display =\n",
              "        google.colab.kernel.accessAllowed ? 'block' : 'none';\n",
              "\n",
              "      async function convertToInteractive(key) {\n",
              "        const element = document.querySelector('#df-7e526cf2-a8de-4fd8-b901-6a78e121b8a3');\n",
              "        const dataTable =\n",
              "          await google.colab.kernel.invokeFunction('convertToInteractive',\n",
              "                                                    [key], {});\n",
              "        if (!dataTable) return;\n",
              "\n",
              "        const docLinkHtml = 'Like what you see? Visit the ' +\n",
              "          '<a target=\"_blank\" href=https://colab.research.google.com/notebooks/data_table.ipynb>data table notebook</a>'\n",
              "          + ' to learn more about interactive tables.';\n",
              "        element.innerHTML = '';\n",
              "        dataTable['output_type'] = 'display_data';\n",
              "        await google.colab.output.renderOutput(dataTable, element);\n",
              "        const docLink = document.createElement('div');\n",
              "        docLink.innerHTML = docLinkHtml;\n",
              "        element.appendChild(docLink);\n",
              "      }\n",
              "    </script>\n",
              "  </div>\n",
              "\n",
              "\n",
              "<div id=\"df-f3db4a94-a03c-4d94-b48b-fb63e01cd48a\">\n",
              "  <button class=\"colab-df-quickchart\" onclick=\"quickchart('df-f3db4a94-a03c-4d94-b48b-fb63e01cd48a')\"\n",
              "            title=\"Suggest charts\"\n",
              "            style=\"display:none;\">\n",
              "\n",
              "<svg xmlns=\"http://www.w3.org/2000/svg\" height=\"24px\"viewBox=\"0 0 24 24\"\n",
              "     width=\"24px\">\n",
              "    <g>\n",
              "        <path d=\"M19 3H5c-1.1 0-2 .9-2 2v14c0 1.1.9 2 2 2h14c1.1 0 2-.9 2-2V5c0-1.1-.9-2-2-2zM9 17H7v-7h2v7zm4 0h-2V7h2v10zm4 0h-2v-4h2v4z\"/>\n",
              "    </g>\n",
              "</svg>\n",
              "  </button>\n",
              "\n",
              "<style>\n",
              "  .colab-df-quickchart {\n",
              "      --bg-color: #E8F0FE;\n",
              "      --fill-color: #1967D2;\n",
              "      --hover-bg-color: #E2EBFA;\n",
              "      --hover-fill-color: #174EA6;\n",
              "      --disabled-fill-color: #AAA;\n",
              "      --disabled-bg-color: #DDD;\n",
              "  }\n",
              "\n",
              "  [theme=dark] .colab-df-quickchart {\n",
              "      --bg-color: #3B4455;\n",
              "      --fill-color: #D2E3FC;\n",
              "      --hover-bg-color: #434B5C;\n",
              "      --hover-fill-color: #FFFFFF;\n",
              "      --disabled-bg-color: #3B4455;\n",
              "      --disabled-fill-color: #666;\n",
              "  }\n",
              "\n",
              "  .colab-df-quickchart {\n",
              "    background-color: var(--bg-color);\n",
              "    border: none;\n",
              "    border-radius: 50%;\n",
              "    cursor: pointer;\n",
              "    display: none;\n",
              "    fill: var(--fill-color);\n",
              "    height: 32px;\n",
              "    padding: 0;\n",
              "    width: 32px;\n",
              "  }\n",
              "\n",
              "  .colab-df-quickchart:hover {\n",
              "    background-color: var(--hover-bg-color);\n",
              "    box-shadow: 0 1px 2px rgba(60, 64, 67, 0.3), 0 1px 3px 1px rgba(60, 64, 67, 0.15);\n",
              "    fill: var(--button-hover-fill-color);\n",
              "  }\n",
              "\n",
              "  .colab-df-quickchart-complete:disabled,\n",
              "  .colab-df-quickchart-complete:disabled:hover {\n",
              "    background-color: var(--disabled-bg-color);\n",
              "    fill: var(--disabled-fill-color);\n",
              "    box-shadow: none;\n",
              "  }\n",
              "\n",
              "  .colab-df-spinner {\n",
              "    border: 2px solid var(--fill-color);\n",
              "    border-color: transparent;\n",
              "    border-bottom-color: var(--fill-color);\n",
              "    animation:\n",
              "      spin 1s steps(1) infinite;\n",
              "  }\n",
              "\n",
              "  @keyframes spin {\n",
              "    0% {\n",
              "      border-color: transparent;\n",
              "      border-bottom-color: var(--fill-color);\n",
              "      border-left-color: var(--fill-color);\n",
              "    }\n",
              "    20% {\n",
              "      border-color: transparent;\n",
              "      border-left-color: var(--fill-color);\n",
              "      border-top-color: var(--fill-color);\n",
              "    }\n",
              "    30% {\n",
              "      border-color: transparent;\n",
              "      border-left-color: var(--fill-color);\n",
              "      border-top-color: var(--fill-color);\n",
              "      border-right-color: var(--fill-color);\n",
              "    }\n",
              "    40% {\n",
              "      border-color: transparent;\n",
              "      border-right-color: var(--fill-color);\n",
              "      border-top-color: var(--fill-color);\n",
              "    }\n",
              "    60% {\n",
              "      border-color: transparent;\n",
              "      border-right-color: var(--fill-color);\n",
              "    }\n",
              "    80% {\n",
              "      border-color: transparent;\n",
              "      border-right-color: var(--fill-color);\n",
              "      border-bottom-color: var(--fill-color);\n",
              "    }\n",
              "    90% {\n",
              "      border-color: transparent;\n",
              "      border-bottom-color: var(--fill-color);\n",
              "    }\n",
              "  }\n",
              "</style>\n",
              "\n",
              "  <script>\n",
              "    async function quickchart(key) {\n",
              "      const quickchartButtonEl =\n",
              "        document.querySelector('#' + key + ' button');\n",
              "      quickchartButtonEl.disabled = true;  // To prevent multiple clicks.\n",
              "      quickchartButtonEl.classList.add('colab-df-spinner');\n",
              "      try {\n",
              "        const charts = await google.colab.kernel.invokeFunction(\n",
              "            'suggestCharts', [key], {});\n",
              "      } catch (error) {\n",
              "        console.error('Error during call to suggestCharts:', error);\n",
              "      }\n",
              "      quickchartButtonEl.classList.remove('colab-df-spinner');\n",
              "      quickchartButtonEl.classList.add('colab-df-quickchart-complete');\n",
              "    }\n",
              "    (() => {\n",
              "      let quickchartButtonEl =\n",
              "        document.querySelector('#df-f3db4a94-a03c-4d94-b48b-fb63e01cd48a button');\n",
              "      quickchartButtonEl.style.display =\n",
              "        google.colab.kernel.accessAllowed ? 'block' : 'none';\n",
              "    })();\n",
              "  </script>\n",
              "</div>\n",
              "\n",
              "  <div id=\"id_d10a180f-87c8-4556-ba7d-e384b0200ff0\">\n",
              "    <style>\n",
              "      .colab-df-generate {\n",
              "        background-color: #E8F0FE;\n",
              "        border: none;\n",
              "        border-radius: 50%;\n",
              "        cursor: pointer;\n",
              "        display: none;\n",
              "        fill: #1967D2;\n",
              "        height: 32px;\n",
              "        padding: 0 0 0 0;\n",
              "        width: 32px;\n",
              "      }\n",
              "\n",
              "      .colab-df-generate:hover {\n",
              "        background-color: #E2EBFA;\n",
              "        box-shadow: 0px 1px 2px rgba(60, 64, 67, 0.3), 0px 1px 3px 1px rgba(60, 64, 67, 0.15);\n",
              "        fill: #174EA6;\n",
              "      }\n",
              "\n",
              "      [theme=dark] .colab-df-generate {\n",
              "        background-color: #3B4455;\n",
              "        fill: #D2E3FC;\n",
              "      }\n",
              "\n",
              "      [theme=dark] .colab-df-generate:hover {\n",
              "        background-color: #434B5C;\n",
              "        box-shadow: 0px 1px 3px 1px rgba(0, 0, 0, 0.15);\n",
              "        filter: drop-shadow(0px 1px 2px rgba(0, 0, 0, 0.3));\n",
              "        fill: #FFFFFF;\n",
              "      }\n",
              "    </style>\n",
              "    <button class=\"colab-df-generate\" onclick=\"generateWithVariable('df_filter')\"\n",
              "            title=\"Generate code using this dataframe.\"\n",
              "            style=\"display:none;\">\n",
              "\n",
              "  <svg xmlns=\"http://www.w3.org/2000/svg\" height=\"24px\"viewBox=\"0 0 24 24\"\n",
              "       width=\"24px\">\n",
              "    <path d=\"M7,19H8.4L18.45,9,17,7.55,7,17.6ZM5,21V16.75L18.45,3.32a2,2,0,0,1,2.83,0l1.4,1.43a1.91,1.91,0,0,1,.58,1.4,1.91,1.91,0,0,1-.58,1.4L9.25,21ZM18.45,9,17,7.55Zm-12,3A5.31,5.31,0,0,0,4.9,8.1,5.31,5.31,0,0,0,1,6.5,5.31,5.31,0,0,0,4.9,4.9,5.31,5.31,0,0,0,6.5,1,5.31,5.31,0,0,0,8.1,4.9,5.31,5.31,0,0,0,12,6.5,5.46,5.46,0,0,0,6.5,12Z\"/>\n",
              "  </svg>\n",
              "    </button>\n",
              "    <script>\n",
              "      (() => {\n",
              "      const buttonEl =\n",
              "        document.querySelector('#id_d10a180f-87c8-4556-ba7d-e384b0200ff0 button.colab-df-generate');\n",
              "      buttonEl.style.display =\n",
              "        google.colab.kernel.accessAllowed ? 'block' : 'none';\n",
              "\n",
              "      buttonEl.onclick = () => {\n",
              "        google.colab.notebook.generateWithVariable('df_filter');\n",
              "      }\n",
              "      })();\n",
              "    </script>\n",
              "  </div>\n",
              "\n",
              "    </div>\n",
              "  </div>\n"
            ]
          },
          "metadata": {},
          "execution_count": 8
        }
      ],
      "source": [
        "df_filter = df[~df['TRAVEL_MISSION_CHECK'].isnull()].copy()\n",
        "\n",
        "df_filter.loc[:, 'TRAVEL_MISSION_INT'] = df_filter['TRAVEL_MISSION_CHECK'].str.split(';').str[0].astype(int)\n",
        "\n",
        "df_filter"
      ]
    },
    {
      "cell_type": "markdown",
      "source": [
        "## 데이터셋 전처리 2\n",
        "\n",
        "- 필요한 열만 추출\n",
        "- 비어있는 행 삭제"
      ],
      "metadata": {
        "id": "c8M4VhcTCbPc"
      }
    },
    {
      "cell_type": "code",
      "execution_count": null,
      "metadata": {
        "colab": {
          "base_uri": "https://localhost:8080/",
          "height": 461
        },
        "id": "YB94K7Cnuh6f",
        "outputId": "de428470-fbd6-4c44-c876-f4d314122d87"
      },
      "outputs": [
        {
          "output_type": "execute_result",
          "data": {
            "text/plain": [
              "      GENDER  AGE_GRP  TRAVEL_STYL_1  TRAVEL_STYL_2  TRAVEL_STYL_3  \\\n",
              "0          남     30.0            4.0            4.0            2.0   \n",
              "2          여     40.0            4.0            3.0            6.0   \n",
              "3          여     30.0            4.0            4.0            4.0   \n",
              "4          남     30.0            7.0            1.0            1.0   \n",
              "5          남     20.0            6.0            1.0            1.0   \n",
              "...      ...      ...            ...            ...            ...   \n",
              "30145      여     30.0            3.0            1.0            3.0   \n",
              "30150      여     30.0            1.0            3.0            1.0   \n",
              "30151      남     20.0            3.0            6.0            2.0   \n",
              "30152      남     20.0            5.0            2.0            2.0   \n",
              "30153      여     20.0            4.0            1.0            2.0   \n",
              "\n",
              "       TRAVEL_STYL_4  TRAVEL_STYL_5  TRAVEL_STYL_6  TRAVEL_STYL_7  \\\n",
              "0                4.0            6.0            5.0            6.0   \n",
              "2                3.0            2.0            2.0            7.0   \n",
              "3                3.0            4.0            4.0            5.0   \n",
              "4                1.0            7.0            7.0            2.0   \n",
              "5                3.0            4.0            6.0            3.0   \n",
              "...              ...            ...            ...            ...   \n",
              "30145            3.0            4.0            4.0            7.0   \n",
              "30150            3.0            4.0            4.0            5.0   \n",
              "30151            5.0            4.0            4.0            5.0   \n",
              "30152            4.0            4.0            5.0            5.0   \n",
              "30153            2.0            2.0            4.0            2.0   \n",
              "\n",
              "       TRAVEL_STYL_8  TRAVEL_MOTIVE_1  TRAVEL_COMPANIONS_NUM  \\\n",
              "0                6.0              1.0                    0.0   \n",
              "2                2.0              6.0                    0.0   \n",
              "3                7.0              1.0                    1.0   \n",
              "4                4.0              1.0                    0.0   \n",
              "5                2.0              3.0                    1.0   \n",
              "...              ...              ...                    ...   \n",
              "30145            6.0              1.0                    0.0   \n",
              "30150            4.0              1.0                    7.0   \n",
              "30151            6.0              1.0                    0.0   \n",
              "30152            3.0              7.0                    6.0   \n",
              "30153            7.0              5.0                    1.0   \n",
              "\n",
              "       TRAVEL_MISSION_INT  VISIT_AREA_NM  DGSTFN  \n",
              "0                       5         프로방스마을     4.0  \n",
              "2                      28        병점역 1호선     4.0  \n",
              "3                       6          더현대서울     5.0  \n",
              "4                       2         강릉중앙시장     4.0  \n",
              "5                      11            청계천     4.0  \n",
              "...                   ...            ...     ...  \n",
              "30145                   3        행궁동벽화마을     2.0  \n",
              "30150                   5         카페아쁠뤼스     5.0  \n",
              "30151                   3        국립중앙박물관     5.0  \n",
              "30152                   9       송도달빛축제공원     4.0  \n",
              "30153                  10  콩카페 롯데백화점 잠실점     3.0  \n",
              "\n",
              "[14930 rows x 15 columns]"
            ],
            "text/html": [
              "\n",
              "  <div id=\"df-856c4d5d-35a8-4dfb-ac84-ccfbd377bc38\" class=\"colab-df-container\">\n",
              "    <div>\n",
              "<style scoped>\n",
              "    .dataframe tbody tr th:only-of-type {\n",
              "        vertical-align: middle;\n",
              "    }\n",
              "\n",
              "    .dataframe tbody tr th {\n",
              "        vertical-align: top;\n",
              "    }\n",
              "\n",
              "    .dataframe thead th {\n",
              "        text-align: right;\n",
              "    }\n",
              "</style>\n",
              "<table border=\"1\" class=\"dataframe\">\n",
              "  <thead>\n",
              "    <tr style=\"text-align: right;\">\n",
              "      <th></th>\n",
              "      <th>GENDER</th>\n",
              "      <th>AGE_GRP</th>\n",
              "      <th>TRAVEL_STYL_1</th>\n",
              "      <th>TRAVEL_STYL_2</th>\n",
              "      <th>TRAVEL_STYL_3</th>\n",
              "      <th>TRAVEL_STYL_4</th>\n",
              "      <th>TRAVEL_STYL_5</th>\n",
              "      <th>TRAVEL_STYL_6</th>\n",
              "      <th>TRAVEL_STYL_7</th>\n",
              "      <th>TRAVEL_STYL_8</th>\n",
              "      <th>TRAVEL_MOTIVE_1</th>\n",
              "      <th>TRAVEL_COMPANIONS_NUM</th>\n",
              "      <th>TRAVEL_MISSION_INT</th>\n",
              "      <th>VISIT_AREA_NM</th>\n",
              "      <th>DGSTFN</th>\n",
              "    </tr>\n",
              "  </thead>\n",
              "  <tbody>\n",
              "    <tr>\n",
              "      <th>0</th>\n",
              "      <td>남</td>\n",
              "      <td>30.0</td>\n",
              "      <td>4.0</td>\n",
              "      <td>4.0</td>\n",
              "      <td>2.0</td>\n",
              "      <td>4.0</td>\n",
              "      <td>6.0</td>\n",
              "      <td>5.0</td>\n",
              "      <td>6.0</td>\n",
              "      <td>6.0</td>\n",
              "      <td>1.0</td>\n",
              "      <td>0.0</td>\n",
              "      <td>5</td>\n",
              "      <td>프로방스마을</td>\n",
              "      <td>4.0</td>\n",
              "    </tr>\n",
              "    <tr>\n",
              "      <th>2</th>\n",
              "      <td>여</td>\n",
              "      <td>40.0</td>\n",
              "      <td>4.0</td>\n",
              "      <td>3.0</td>\n",
              "      <td>6.0</td>\n",
              "      <td>3.0</td>\n",
              "      <td>2.0</td>\n",
              "      <td>2.0</td>\n",
              "      <td>7.0</td>\n",
              "      <td>2.0</td>\n",
              "      <td>6.0</td>\n",
              "      <td>0.0</td>\n",
              "      <td>28</td>\n",
              "      <td>병점역 1호선</td>\n",
              "      <td>4.0</td>\n",
              "    </tr>\n",
              "    <tr>\n",
              "      <th>3</th>\n",
              "      <td>여</td>\n",
              "      <td>30.0</td>\n",
              "      <td>4.0</td>\n",
              "      <td>4.0</td>\n",
              "      <td>4.0</td>\n",
              "      <td>3.0</td>\n",
              "      <td>4.0</td>\n",
              "      <td>4.0</td>\n",
              "      <td>5.0</td>\n",
              "      <td>7.0</td>\n",
              "      <td>1.0</td>\n",
              "      <td>1.0</td>\n",
              "      <td>6</td>\n",
              "      <td>더현대서울</td>\n",
              "      <td>5.0</td>\n",
              "    </tr>\n",
              "    <tr>\n",
              "      <th>4</th>\n",
              "      <td>남</td>\n",
              "      <td>30.0</td>\n",
              "      <td>7.0</td>\n",
              "      <td>1.0</td>\n",
              "      <td>1.0</td>\n",
              "      <td>1.0</td>\n",
              "      <td>7.0</td>\n",
              "      <td>7.0</td>\n",
              "      <td>2.0</td>\n",
              "      <td>4.0</td>\n",
              "      <td>1.0</td>\n",
              "      <td>0.0</td>\n",
              "      <td>2</td>\n",
              "      <td>강릉중앙시장</td>\n",
              "      <td>4.0</td>\n",
              "    </tr>\n",
              "    <tr>\n",
              "      <th>5</th>\n",
              "      <td>남</td>\n",
              "      <td>20.0</td>\n",
              "      <td>6.0</td>\n",
              "      <td>1.0</td>\n",
              "      <td>1.0</td>\n",
              "      <td>3.0</td>\n",
              "      <td>4.0</td>\n",
              "      <td>6.0</td>\n",
              "      <td>3.0</td>\n",
              "      <td>2.0</td>\n",
              "      <td>3.0</td>\n",
              "      <td>1.0</td>\n",
              "      <td>11</td>\n",
              "      <td>청계천</td>\n",
              "      <td>4.0</td>\n",
              "    </tr>\n",
              "    <tr>\n",
              "      <th>...</th>\n",
              "      <td>...</td>\n",
              "      <td>...</td>\n",
              "      <td>...</td>\n",
              "      <td>...</td>\n",
              "      <td>...</td>\n",
              "      <td>...</td>\n",
              "      <td>...</td>\n",
              "      <td>...</td>\n",
              "      <td>...</td>\n",
              "      <td>...</td>\n",
              "      <td>...</td>\n",
              "      <td>...</td>\n",
              "      <td>...</td>\n",
              "      <td>...</td>\n",
              "      <td>...</td>\n",
              "    </tr>\n",
              "    <tr>\n",
              "      <th>30145</th>\n",
              "      <td>여</td>\n",
              "      <td>30.0</td>\n",
              "      <td>3.0</td>\n",
              "      <td>1.0</td>\n",
              "      <td>3.0</td>\n",
              "      <td>3.0</td>\n",
              "      <td>4.0</td>\n",
              "      <td>4.0</td>\n",
              "      <td>7.0</td>\n",
              "      <td>6.0</td>\n",
              "      <td>1.0</td>\n",
              "      <td>0.0</td>\n",
              "      <td>3</td>\n",
              "      <td>행궁동벽화마을</td>\n",
              "      <td>2.0</td>\n",
              "    </tr>\n",
              "    <tr>\n",
              "      <th>30150</th>\n",
              "      <td>여</td>\n",
              "      <td>30.0</td>\n",
              "      <td>1.0</td>\n",
              "      <td>3.0</td>\n",
              "      <td>1.0</td>\n",
              "      <td>3.0</td>\n",
              "      <td>4.0</td>\n",
              "      <td>4.0</td>\n",
              "      <td>5.0</td>\n",
              "      <td>4.0</td>\n",
              "      <td>1.0</td>\n",
              "      <td>7.0</td>\n",
              "      <td>5</td>\n",
              "      <td>카페아쁠뤼스</td>\n",
              "      <td>5.0</td>\n",
              "    </tr>\n",
              "    <tr>\n",
              "      <th>30151</th>\n",
              "      <td>남</td>\n",
              "      <td>20.0</td>\n",
              "      <td>3.0</td>\n",
              "      <td>6.0</td>\n",
              "      <td>2.0</td>\n",
              "      <td>5.0</td>\n",
              "      <td>4.0</td>\n",
              "      <td>4.0</td>\n",
              "      <td>5.0</td>\n",
              "      <td>6.0</td>\n",
              "      <td>1.0</td>\n",
              "      <td>0.0</td>\n",
              "      <td>3</td>\n",
              "      <td>국립중앙박물관</td>\n",
              "      <td>5.0</td>\n",
              "    </tr>\n",
              "    <tr>\n",
              "      <th>30152</th>\n",
              "      <td>남</td>\n",
              "      <td>20.0</td>\n",
              "      <td>5.0</td>\n",
              "      <td>2.0</td>\n",
              "      <td>2.0</td>\n",
              "      <td>4.0</td>\n",
              "      <td>4.0</td>\n",
              "      <td>5.0</td>\n",
              "      <td>5.0</td>\n",
              "      <td>3.0</td>\n",
              "      <td>7.0</td>\n",
              "      <td>6.0</td>\n",
              "      <td>9</td>\n",
              "      <td>송도달빛축제공원</td>\n",
              "      <td>4.0</td>\n",
              "    </tr>\n",
              "    <tr>\n",
              "      <th>30153</th>\n",
              "      <td>여</td>\n",
              "      <td>20.0</td>\n",
              "      <td>4.0</td>\n",
              "      <td>1.0</td>\n",
              "      <td>2.0</td>\n",
              "      <td>2.0</td>\n",
              "      <td>2.0</td>\n",
              "      <td>4.0</td>\n",
              "      <td>2.0</td>\n",
              "      <td>7.0</td>\n",
              "      <td>5.0</td>\n",
              "      <td>1.0</td>\n",
              "      <td>10</td>\n",
              "      <td>콩카페 롯데백화점 잠실점</td>\n",
              "      <td>3.0</td>\n",
              "    </tr>\n",
              "  </tbody>\n",
              "</table>\n",
              "<p>14930 rows × 15 columns</p>\n",
              "</div>\n",
              "    <div class=\"colab-df-buttons\">\n",
              "\n",
              "  <div class=\"colab-df-container\">\n",
              "    <button class=\"colab-df-convert\" onclick=\"convertToInteractive('df-856c4d5d-35a8-4dfb-ac84-ccfbd377bc38')\"\n",
              "            title=\"Convert this dataframe to an interactive table.\"\n",
              "            style=\"display:none;\">\n",
              "\n",
              "  <svg xmlns=\"http://www.w3.org/2000/svg\" height=\"24px\" viewBox=\"0 -960 960 960\">\n",
              "    <path d=\"M120-120v-720h720v720H120Zm60-500h600v-160H180v160Zm220 220h160v-160H400v160Zm0 220h160v-160H400v160ZM180-400h160v-160H180v160Zm440 0h160v-160H620v160ZM180-180h160v-160H180v160Zm440 0h160v-160H620v160Z\"/>\n",
              "  </svg>\n",
              "    </button>\n",
              "\n",
              "  <style>\n",
              "    .colab-df-container {\n",
              "      display:flex;\n",
              "      gap: 12px;\n",
              "    }\n",
              "\n",
              "    .colab-df-convert {\n",
              "      background-color: #E8F0FE;\n",
              "      border: none;\n",
              "      border-radius: 50%;\n",
              "      cursor: pointer;\n",
              "      display: none;\n",
              "      fill: #1967D2;\n",
              "      height: 32px;\n",
              "      padding: 0 0 0 0;\n",
              "      width: 32px;\n",
              "    }\n",
              "\n",
              "    .colab-df-convert:hover {\n",
              "      background-color: #E2EBFA;\n",
              "      box-shadow: 0px 1px 2px rgba(60, 64, 67, 0.3), 0px 1px 3px 1px rgba(60, 64, 67, 0.15);\n",
              "      fill: #174EA6;\n",
              "    }\n",
              "\n",
              "    .colab-df-buttons div {\n",
              "      margin-bottom: 4px;\n",
              "    }\n",
              "\n",
              "    [theme=dark] .colab-df-convert {\n",
              "      background-color: #3B4455;\n",
              "      fill: #D2E3FC;\n",
              "    }\n",
              "\n",
              "    [theme=dark] .colab-df-convert:hover {\n",
              "      background-color: #434B5C;\n",
              "      box-shadow: 0px 1px 3px 1px rgba(0, 0, 0, 0.15);\n",
              "      filter: drop-shadow(0px 1px 2px rgba(0, 0, 0, 0.3));\n",
              "      fill: #FFFFFF;\n",
              "    }\n",
              "  </style>\n",
              "\n",
              "    <script>\n",
              "      const buttonEl =\n",
              "        document.querySelector('#df-856c4d5d-35a8-4dfb-ac84-ccfbd377bc38 button.colab-df-convert');\n",
              "      buttonEl.style.display =\n",
              "        google.colab.kernel.accessAllowed ? 'block' : 'none';\n",
              "\n",
              "      async function convertToInteractive(key) {\n",
              "        const element = document.querySelector('#df-856c4d5d-35a8-4dfb-ac84-ccfbd377bc38');\n",
              "        const dataTable =\n",
              "          await google.colab.kernel.invokeFunction('convertToInteractive',\n",
              "                                                    [key], {});\n",
              "        if (!dataTable) return;\n",
              "\n",
              "        const docLinkHtml = 'Like what you see? Visit the ' +\n",
              "          '<a target=\"_blank\" href=https://colab.research.google.com/notebooks/data_table.ipynb>data table notebook</a>'\n",
              "          + ' to learn more about interactive tables.';\n",
              "        element.innerHTML = '';\n",
              "        dataTable['output_type'] = 'display_data';\n",
              "        await google.colab.output.renderOutput(dataTable, element);\n",
              "        const docLink = document.createElement('div');\n",
              "        docLink.innerHTML = docLinkHtml;\n",
              "        element.appendChild(docLink);\n",
              "      }\n",
              "    </script>\n",
              "  </div>\n",
              "\n",
              "\n",
              "<div id=\"df-9f5633c7-5f5c-47f8-8007-dfd5680299dc\">\n",
              "  <button class=\"colab-df-quickchart\" onclick=\"quickchart('df-9f5633c7-5f5c-47f8-8007-dfd5680299dc')\"\n",
              "            title=\"Suggest charts\"\n",
              "            style=\"display:none;\">\n",
              "\n",
              "<svg xmlns=\"http://www.w3.org/2000/svg\" height=\"24px\"viewBox=\"0 0 24 24\"\n",
              "     width=\"24px\">\n",
              "    <g>\n",
              "        <path d=\"M19 3H5c-1.1 0-2 .9-2 2v14c0 1.1.9 2 2 2h14c1.1 0 2-.9 2-2V5c0-1.1-.9-2-2-2zM9 17H7v-7h2v7zm4 0h-2V7h2v10zm4 0h-2v-4h2v4z\"/>\n",
              "    </g>\n",
              "</svg>\n",
              "  </button>\n",
              "\n",
              "<style>\n",
              "  .colab-df-quickchart {\n",
              "      --bg-color: #E8F0FE;\n",
              "      --fill-color: #1967D2;\n",
              "      --hover-bg-color: #E2EBFA;\n",
              "      --hover-fill-color: #174EA6;\n",
              "      --disabled-fill-color: #AAA;\n",
              "      --disabled-bg-color: #DDD;\n",
              "  }\n",
              "\n",
              "  [theme=dark] .colab-df-quickchart {\n",
              "      --bg-color: #3B4455;\n",
              "      --fill-color: #D2E3FC;\n",
              "      --hover-bg-color: #434B5C;\n",
              "      --hover-fill-color: #FFFFFF;\n",
              "      --disabled-bg-color: #3B4455;\n",
              "      --disabled-fill-color: #666;\n",
              "  }\n",
              "\n",
              "  .colab-df-quickchart {\n",
              "    background-color: var(--bg-color);\n",
              "    border: none;\n",
              "    border-radius: 50%;\n",
              "    cursor: pointer;\n",
              "    display: none;\n",
              "    fill: var(--fill-color);\n",
              "    height: 32px;\n",
              "    padding: 0;\n",
              "    width: 32px;\n",
              "  }\n",
              "\n",
              "  .colab-df-quickchart:hover {\n",
              "    background-color: var(--hover-bg-color);\n",
              "    box-shadow: 0 1px 2px rgba(60, 64, 67, 0.3), 0 1px 3px 1px rgba(60, 64, 67, 0.15);\n",
              "    fill: var(--button-hover-fill-color);\n",
              "  }\n",
              "\n",
              "  .colab-df-quickchart-complete:disabled,\n",
              "  .colab-df-quickchart-complete:disabled:hover {\n",
              "    background-color: var(--disabled-bg-color);\n",
              "    fill: var(--disabled-fill-color);\n",
              "    box-shadow: none;\n",
              "  }\n",
              "\n",
              "  .colab-df-spinner {\n",
              "    border: 2px solid var(--fill-color);\n",
              "    border-color: transparent;\n",
              "    border-bottom-color: var(--fill-color);\n",
              "    animation:\n",
              "      spin 1s steps(1) infinite;\n",
              "  }\n",
              "\n",
              "  @keyframes spin {\n",
              "    0% {\n",
              "      border-color: transparent;\n",
              "      border-bottom-color: var(--fill-color);\n",
              "      border-left-color: var(--fill-color);\n",
              "    }\n",
              "    20% {\n",
              "      border-color: transparent;\n",
              "      border-left-color: var(--fill-color);\n",
              "      border-top-color: var(--fill-color);\n",
              "    }\n",
              "    30% {\n",
              "      border-color: transparent;\n",
              "      border-left-color: var(--fill-color);\n",
              "      border-top-color: var(--fill-color);\n",
              "      border-right-color: var(--fill-color);\n",
              "    }\n",
              "    40% {\n",
              "      border-color: transparent;\n",
              "      border-right-color: var(--fill-color);\n",
              "      border-top-color: var(--fill-color);\n",
              "    }\n",
              "    60% {\n",
              "      border-color: transparent;\n",
              "      border-right-color: var(--fill-color);\n",
              "    }\n",
              "    80% {\n",
              "      border-color: transparent;\n",
              "      border-right-color: var(--fill-color);\n",
              "      border-bottom-color: var(--fill-color);\n",
              "    }\n",
              "    90% {\n",
              "      border-color: transparent;\n",
              "      border-bottom-color: var(--fill-color);\n",
              "    }\n",
              "  }\n",
              "</style>\n",
              "\n",
              "  <script>\n",
              "    async function quickchart(key) {\n",
              "      const quickchartButtonEl =\n",
              "        document.querySelector('#' + key + ' button');\n",
              "      quickchartButtonEl.disabled = true;  // To prevent multiple clicks.\n",
              "      quickchartButtonEl.classList.add('colab-df-spinner');\n",
              "      try {\n",
              "        const charts = await google.colab.kernel.invokeFunction(\n",
              "            'suggestCharts', [key], {});\n",
              "      } catch (error) {\n",
              "        console.error('Error during call to suggestCharts:', error);\n",
              "      }\n",
              "      quickchartButtonEl.classList.remove('colab-df-spinner');\n",
              "      quickchartButtonEl.classList.add('colab-df-quickchart-complete');\n",
              "    }\n",
              "    (() => {\n",
              "      let quickchartButtonEl =\n",
              "        document.querySelector('#df-9f5633c7-5f5c-47f8-8007-dfd5680299dc button');\n",
              "      quickchartButtonEl.style.display =\n",
              "        google.colab.kernel.accessAllowed ? 'block' : 'none';\n",
              "    })();\n",
              "  </script>\n",
              "</div>\n",
              "\n",
              "  <div id=\"id_adf924e1-bc5c-4321-826a-f1aa1f89d6e1\">\n",
              "    <style>\n",
              "      .colab-df-generate {\n",
              "        background-color: #E8F0FE;\n",
              "        border: none;\n",
              "        border-radius: 50%;\n",
              "        cursor: pointer;\n",
              "        display: none;\n",
              "        fill: #1967D2;\n",
              "        height: 32px;\n",
              "        padding: 0 0 0 0;\n",
              "        width: 32px;\n",
              "      }\n",
              "\n",
              "      .colab-df-generate:hover {\n",
              "        background-color: #E2EBFA;\n",
              "        box-shadow: 0px 1px 2px rgba(60, 64, 67, 0.3), 0px 1px 3px 1px rgba(60, 64, 67, 0.15);\n",
              "        fill: #174EA6;\n",
              "      }\n",
              "\n",
              "      [theme=dark] .colab-df-generate {\n",
              "        background-color: #3B4455;\n",
              "        fill: #D2E3FC;\n",
              "      }\n",
              "\n",
              "      [theme=dark] .colab-df-generate:hover {\n",
              "        background-color: #434B5C;\n",
              "        box-shadow: 0px 1px 3px 1px rgba(0, 0, 0, 0.15);\n",
              "        filter: drop-shadow(0px 1px 2px rgba(0, 0, 0, 0.3));\n",
              "        fill: #FFFFFF;\n",
              "      }\n",
              "    </style>\n",
              "    <button class=\"colab-df-generate\" onclick=\"generateWithVariable('df_filter')\"\n",
              "            title=\"Generate code using this dataframe.\"\n",
              "            style=\"display:none;\">\n",
              "\n",
              "  <svg xmlns=\"http://www.w3.org/2000/svg\" height=\"24px\"viewBox=\"0 0 24 24\"\n",
              "       width=\"24px\">\n",
              "    <path d=\"M7,19H8.4L18.45,9,17,7.55,7,17.6ZM5,21V16.75L18.45,3.32a2,2,0,0,1,2.83,0l1.4,1.43a1.91,1.91,0,0,1,.58,1.4,1.91,1.91,0,0,1-.58,1.4L9.25,21ZM18.45,9,17,7.55Zm-12,3A5.31,5.31,0,0,0,4.9,8.1,5.31,5.31,0,0,0,1,6.5,5.31,5.31,0,0,0,4.9,4.9,5.31,5.31,0,0,0,6.5,1,5.31,5.31,0,0,0,8.1,4.9,5.31,5.31,0,0,0,12,6.5,5.46,5.46,0,0,0,6.5,12Z\"/>\n",
              "  </svg>\n",
              "    </button>\n",
              "    <script>\n",
              "      (() => {\n",
              "      const buttonEl =\n",
              "        document.querySelector('#id_adf924e1-bc5c-4321-826a-f1aa1f89d6e1 button.colab-df-generate');\n",
              "      buttonEl.style.display =\n",
              "        google.colab.kernel.accessAllowed ? 'block' : 'none';\n",
              "\n",
              "      buttonEl.onclick = () => {\n",
              "        google.colab.notebook.generateWithVariable('df_filter');\n",
              "      }\n",
              "      })();\n",
              "    </script>\n",
              "  </div>\n",
              "\n",
              "    </div>\n",
              "  </div>\n"
            ]
          },
          "metadata": {},
          "execution_count": 9
        }
      ],
      "source": [
        "df_filter = df_filter[[\n",
        "    'GENDER',\n",
        "    'AGE_GRP',\n",
        "    'TRAVEL_STYL_1', 'TRAVEL_STYL_2', 'TRAVEL_STYL_3', 'TRAVEL_STYL_4', 'TRAVEL_STYL_5', 'TRAVEL_STYL_6', 'TRAVEL_STYL_7', 'TRAVEL_STYL_8',\n",
        "    'TRAVEL_MOTIVE_1',\n",
        "    'TRAVEL_COMPANIONS_NUM',\n",
        "    'TRAVEL_MISSION_INT',\n",
        "    'VISIT_AREA_NM',\n",
        "    'DGSTFN',\n",
        "]]\n",
        "\n",
        "# df_filter.loc[:, 'GENDER'] = df_filter['GENDER'].map({'남': 0, '여': 1})\n",
        "\n",
        "df_filter = df_filter.dropna()\n",
        "\n",
        "df_filter\n"
      ]
    },
    {
      "cell_type": "markdown",
      "source": [
        "## 데이터셋 전처리 3\n",
        "\n",
        "- 범주형(categorical) 데이터 정의\n",
        "- 범주형 데이터는 string or integer 형태여야 함"
      ],
      "metadata": {
        "id": "CC1x6KEhCffS"
      }
    },
    {
      "cell_type": "code",
      "source": [
        "categorical_features_names = [\n",
        "    'GENDER',\n",
        "    # 'AGE_GRP',\n",
        "    'TRAVEL_STYL_1', 'TRAVEL_STYL_2', 'TRAVEL_STYL_3', 'TRAVEL_STYL_4', 'TRAVEL_STYL_5', 'TRAVEL_STYL_6', 'TRAVEL_STYL_7', 'TRAVEL_STYL_8',\n",
        "    'TRAVEL_MOTIVE_1',\n",
        "    # 'TRAVEL_COMPANIONS_NUM',\n",
        "    'TRAVEL_MISSION_INT',\n",
        "    'VISIT_AREA_NM',\n",
        "    # 'DGSTFN',\n",
        "]\n",
        "\n",
        "df_filter[categorical_features_names[1:-1]] = df_filter[categorical_features_names[1:-1]].astype(int)\n",
        "\n",
        "df_filter"
      ],
      "metadata": {
        "colab": {
          "base_uri": "https://localhost:8080/",
          "height": 461
        },
        "id": "SnxxGMg31mLi",
        "outputId": "8f4dd1bf-232b-41cc-eb43-c440cc4062cf"
      },
      "execution_count": null,
      "outputs": [
        {
          "output_type": "execute_result",
          "data": {
            "text/plain": [
              "      GENDER  AGE_GRP  TRAVEL_STYL_1  TRAVEL_STYL_2  TRAVEL_STYL_3  \\\n",
              "0          남     30.0              4              4              2   \n",
              "2          여     40.0              4              3              6   \n",
              "3          여     30.0              4              4              4   \n",
              "4          남     30.0              7              1              1   \n",
              "5          남     20.0              6              1              1   \n",
              "...      ...      ...            ...            ...            ...   \n",
              "30145      여     30.0              3              1              3   \n",
              "30150      여     30.0              1              3              1   \n",
              "30151      남     20.0              3              6              2   \n",
              "30152      남     20.0              5              2              2   \n",
              "30153      여     20.0              4              1              2   \n",
              "\n",
              "       TRAVEL_STYL_4  TRAVEL_STYL_5  TRAVEL_STYL_6  TRAVEL_STYL_7  \\\n",
              "0                  4              6              5              6   \n",
              "2                  3              2              2              7   \n",
              "3                  3              4              4              5   \n",
              "4                  1              7              7              2   \n",
              "5                  3              4              6              3   \n",
              "...              ...            ...            ...            ...   \n",
              "30145              3              4              4              7   \n",
              "30150              3              4              4              5   \n",
              "30151              5              4              4              5   \n",
              "30152              4              4              5              5   \n",
              "30153              2              2              4              2   \n",
              "\n",
              "       TRAVEL_STYL_8  TRAVEL_MOTIVE_1  TRAVEL_COMPANIONS_NUM  \\\n",
              "0                  6                1                    0.0   \n",
              "2                  2                6                    0.0   \n",
              "3                  7                1                    1.0   \n",
              "4                  4                1                    0.0   \n",
              "5                  2                3                    1.0   \n",
              "...              ...              ...                    ...   \n",
              "30145              6                1                    0.0   \n",
              "30150              4                1                    7.0   \n",
              "30151              6                1                    0.0   \n",
              "30152              3                7                    6.0   \n",
              "30153              7                5                    1.0   \n",
              "\n",
              "       TRAVEL_MISSION_INT  VISIT_AREA_NM  DGSTFN  \n",
              "0                       5         프로방스마을     4.0  \n",
              "2                      28        병점역 1호선     4.0  \n",
              "3                       6          더현대서울     5.0  \n",
              "4                       2         강릉중앙시장     4.0  \n",
              "5                      11            청계천     4.0  \n",
              "...                   ...            ...     ...  \n",
              "30145                   3        행궁동벽화마을     2.0  \n",
              "30150                   5         카페아쁠뤼스     5.0  \n",
              "30151                   3        국립중앙박물관     5.0  \n",
              "30152                   9       송도달빛축제공원     4.0  \n",
              "30153                  10  콩카페 롯데백화점 잠실점     3.0  \n",
              "\n",
              "[14930 rows x 15 columns]"
            ],
            "text/html": [
              "\n",
              "  <div id=\"df-8171d4fe-3fe2-4d06-a40e-8daeef928a3d\" class=\"colab-df-container\">\n",
              "    <div>\n",
              "<style scoped>\n",
              "    .dataframe tbody tr th:only-of-type {\n",
              "        vertical-align: middle;\n",
              "    }\n",
              "\n",
              "    .dataframe tbody tr th {\n",
              "        vertical-align: top;\n",
              "    }\n",
              "\n",
              "    .dataframe thead th {\n",
              "        text-align: right;\n",
              "    }\n",
              "</style>\n",
              "<table border=\"1\" class=\"dataframe\">\n",
              "  <thead>\n",
              "    <tr style=\"text-align: right;\">\n",
              "      <th></th>\n",
              "      <th>GENDER</th>\n",
              "      <th>AGE_GRP</th>\n",
              "      <th>TRAVEL_STYL_1</th>\n",
              "      <th>TRAVEL_STYL_2</th>\n",
              "      <th>TRAVEL_STYL_3</th>\n",
              "      <th>TRAVEL_STYL_4</th>\n",
              "      <th>TRAVEL_STYL_5</th>\n",
              "      <th>TRAVEL_STYL_6</th>\n",
              "      <th>TRAVEL_STYL_7</th>\n",
              "      <th>TRAVEL_STYL_8</th>\n",
              "      <th>TRAVEL_MOTIVE_1</th>\n",
              "      <th>TRAVEL_COMPANIONS_NUM</th>\n",
              "      <th>TRAVEL_MISSION_INT</th>\n",
              "      <th>VISIT_AREA_NM</th>\n",
              "      <th>DGSTFN</th>\n",
              "    </tr>\n",
              "  </thead>\n",
              "  <tbody>\n",
              "    <tr>\n",
              "      <th>0</th>\n",
              "      <td>남</td>\n",
              "      <td>30.0</td>\n",
              "      <td>4</td>\n",
              "      <td>4</td>\n",
              "      <td>2</td>\n",
              "      <td>4</td>\n",
              "      <td>6</td>\n",
              "      <td>5</td>\n",
              "      <td>6</td>\n",
              "      <td>6</td>\n",
              "      <td>1</td>\n",
              "      <td>0.0</td>\n",
              "      <td>5</td>\n",
              "      <td>프로방스마을</td>\n",
              "      <td>4.0</td>\n",
              "    </tr>\n",
              "    <tr>\n",
              "      <th>2</th>\n",
              "      <td>여</td>\n",
              "      <td>40.0</td>\n",
              "      <td>4</td>\n",
              "      <td>3</td>\n",
              "      <td>6</td>\n",
              "      <td>3</td>\n",
              "      <td>2</td>\n",
              "      <td>2</td>\n",
              "      <td>7</td>\n",
              "      <td>2</td>\n",
              "      <td>6</td>\n",
              "      <td>0.0</td>\n",
              "      <td>28</td>\n",
              "      <td>병점역 1호선</td>\n",
              "      <td>4.0</td>\n",
              "    </tr>\n",
              "    <tr>\n",
              "      <th>3</th>\n",
              "      <td>여</td>\n",
              "      <td>30.0</td>\n",
              "      <td>4</td>\n",
              "      <td>4</td>\n",
              "      <td>4</td>\n",
              "      <td>3</td>\n",
              "      <td>4</td>\n",
              "      <td>4</td>\n",
              "      <td>5</td>\n",
              "      <td>7</td>\n",
              "      <td>1</td>\n",
              "      <td>1.0</td>\n",
              "      <td>6</td>\n",
              "      <td>더현대서울</td>\n",
              "      <td>5.0</td>\n",
              "    </tr>\n",
              "    <tr>\n",
              "      <th>4</th>\n",
              "      <td>남</td>\n",
              "      <td>30.0</td>\n",
              "      <td>7</td>\n",
              "      <td>1</td>\n",
              "      <td>1</td>\n",
              "      <td>1</td>\n",
              "      <td>7</td>\n",
              "      <td>7</td>\n",
              "      <td>2</td>\n",
              "      <td>4</td>\n",
              "      <td>1</td>\n",
              "      <td>0.0</td>\n",
              "      <td>2</td>\n",
              "      <td>강릉중앙시장</td>\n",
              "      <td>4.0</td>\n",
              "    </tr>\n",
              "    <tr>\n",
              "      <th>5</th>\n",
              "      <td>남</td>\n",
              "      <td>20.0</td>\n",
              "      <td>6</td>\n",
              "      <td>1</td>\n",
              "      <td>1</td>\n",
              "      <td>3</td>\n",
              "      <td>4</td>\n",
              "      <td>6</td>\n",
              "      <td>3</td>\n",
              "      <td>2</td>\n",
              "      <td>3</td>\n",
              "      <td>1.0</td>\n",
              "      <td>11</td>\n",
              "      <td>청계천</td>\n",
              "      <td>4.0</td>\n",
              "    </tr>\n",
              "    <tr>\n",
              "      <th>...</th>\n",
              "      <td>...</td>\n",
              "      <td>...</td>\n",
              "      <td>...</td>\n",
              "      <td>...</td>\n",
              "      <td>...</td>\n",
              "      <td>...</td>\n",
              "      <td>...</td>\n",
              "      <td>...</td>\n",
              "      <td>...</td>\n",
              "      <td>...</td>\n",
              "      <td>...</td>\n",
              "      <td>...</td>\n",
              "      <td>...</td>\n",
              "      <td>...</td>\n",
              "      <td>...</td>\n",
              "    </tr>\n",
              "    <tr>\n",
              "      <th>30145</th>\n",
              "      <td>여</td>\n",
              "      <td>30.0</td>\n",
              "      <td>3</td>\n",
              "      <td>1</td>\n",
              "      <td>3</td>\n",
              "      <td>3</td>\n",
              "      <td>4</td>\n",
              "      <td>4</td>\n",
              "      <td>7</td>\n",
              "      <td>6</td>\n",
              "      <td>1</td>\n",
              "      <td>0.0</td>\n",
              "      <td>3</td>\n",
              "      <td>행궁동벽화마을</td>\n",
              "      <td>2.0</td>\n",
              "    </tr>\n",
              "    <tr>\n",
              "      <th>30150</th>\n",
              "      <td>여</td>\n",
              "      <td>30.0</td>\n",
              "      <td>1</td>\n",
              "      <td>3</td>\n",
              "      <td>1</td>\n",
              "      <td>3</td>\n",
              "      <td>4</td>\n",
              "      <td>4</td>\n",
              "      <td>5</td>\n",
              "      <td>4</td>\n",
              "      <td>1</td>\n",
              "      <td>7.0</td>\n",
              "      <td>5</td>\n",
              "      <td>카페아쁠뤼스</td>\n",
              "      <td>5.0</td>\n",
              "    </tr>\n",
              "    <tr>\n",
              "      <th>30151</th>\n",
              "      <td>남</td>\n",
              "      <td>20.0</td>\n",
              "      <td>3</td>\n",
              "      <td>6</td>\n",
              "      <td>2</td>\n",
              "      <td>5</td>\n",
              "      <td>4</td>\n",
              "      <td>4</td>\n",
              "      <td>5</td>\n",
              "      <td>6</td>\n",
              "      <td>1</td>\n",
              "      <td>0.0</td>\n",
              "      <td>3</td>\n",
              "      <td>국립중앙박물관</td>\n",
              "      <td>5.0</td>\n",
              "    </tr>\n",
              "    <tr>\n",
              "      <th>30152</th>\n",
              "      <td>남</td>\n",
              "      <td>20.0</td>\n",
              "      <td>5</td>\n",
              "      <td>2</td>\n",
              "      <td>2</td>\n",
              "      <td>4</td>\n",
              "      <td>4</td>\n",
              "      <td>5</td>\n",
              "      <td>5</td>\n",
              "      <td>3</td>\n",
              "      <td>7</td>\n",
              "      <td>6.0</td>\n",
              "      <td>9</td>\n",
              "      <td>송도달빛축제공원</td>\n",
              "      <td>4.0</td>\n",
              "    </tr>\n",
              "    <tr>\n",
              "      <th>30153</th>\n",
              "      <td>여</td>\n",
              "      <td>20.0</td>\n",
              "      <td>4</td>\n",
              "      <td>1</td>\n",
              "      <td>2</td>\n",
              "      <td>2</td>\n",
              "      <td>2</td>\n",
              "      <td>4</td>\n",
              "      <td>2</td>\n",
              "      <td>7</td>\n",
              "      <td>5</td>\n",
              "      <td>1.0</td>\n",
              "      <td>10</td>\n",
              "      <td>콩카페 롯데백화점 잠실점</td>\n",
              "      <td>3.0</td>\n",
              "    </tr>\n",
              "  </tbody>\n",
              "</table>\n",
              "<p>14930 rows × 15 columns</p>\n",
              "</div>\n",
              "    <div class=\"colab-df-buttons\">\n",
              "\n",
              "  <div class=\"colab-df-container\">\n",
              "    <button class=\"colab-df-convert\" onclick=\"convertToInteractive('df-8171d4fe-3fe2-4d06-a40e-8daeef928a3d')\"\n",
              "            title=\"Convert this dataframe to an interactive table.\"\n",
              "            style=\"display:none;\">\n",
              "\n",
              "  <svg xmlns=\"http://www.w3.org/2000/svg\" height=\"24px\" viewBox=\"0 -960 960 960\">\n",
              "    <path d=\"M120-120v-720h720v720H120Zm60-500h600v-160H180v160Zm220 220h160v-160H400v160Zm0 220h160v-160H400v160ZM180-400h160v-160H180v160Zm440 0h160v-160H620v160ZM180-180h160v-160H180v160Zm440 0h160v-160H620v160Z\"/>\n",
              "  </svg>\n",
              "    </button>\n",
              "\n",
              "  <style>\n",
              "    .colab-df-container {\n",
              "      display:flex;\n",
              "      gap: 12px;\n",
              "    }\n",
              "\n",
              "    .colab-df-convert {\n",
              "      background-color: #E8F0FE;\n",
              "      border: none;\n",
              "      border-radius: 50%;\n",
              "      cursor: pointer;\n",
              "      display: none;\n",
              "      fill: #1967D2;\n",
              "      height: 32px;\n",
              "      padding: 0 0 0 0;\n",
              "      width: 32px;\n",
              "    }\n",
              "\n",
              "    .colab-df-convert:hover {\n",
              "      background-color: #E2EBFA;\n",
              "      box-shadow: 0px 1px 2px rgba(60, 64, 67, 0.3), 0px 1px 3px 1px rgba(60, 64, 67, 0.15);\n",
              "      fill: #174EA6;\n",
              "    }\n",
              "\n",
              "    .colab-df-buttons div {\n",
              "      margin-bottom: 4px;\n",
              "    }\n",
              "\n",
              "    [theme=dark] .colab-df-convert {\n",
              "      background-color: #3B4455;\n",
              "      fill: #D2E3FC;\n",
              "    }\n",
              "\n",
              "    [theme=dark] .colab-df-convert:hover {\n",
              "      background-color: #434B5C;\n",
              "      box-shadow: 0px 1px 3px 1px rgba(0, 0, 0, 0.15);\n",
              "      filter: drop-shadow(0px 1px 2px rgba(0, 0, 0, 0.3));\n",
              "      fill: #FFFFFF;\n",
              "    }\n",
              "  </style>\n",
              "\n",
              "    <script>\n",
              "      const buttonEl =\n",
              "        document.querySelector('#df-8171d4fe-3fe2-4d06-a40e-8daeef928a3d button.colab-df-convert');\n",
              "      buttonEl.style.display =\n",
              "        google.colab.kernel.accessAllowed ? 'block' : 'none';\n",
              "\n",
              "      async function convertToInteractive(key) {\n",
              "        const element = document.querySelector('#df-8171d4fe-3fe2-4d06-a40e-8daeef928a3d');\n",
              "        const dataTable =\n",
              "          await google.colab.kernel.invokeFunction('convertToInteractive',\n",
              "                                                    [key], {});\n",
              "        if (!dataTable) return;\n",
              "\n",
              "        const docLinkHtml = 'Like what you see? Visit the ' +\n",
              "          '<a target=\"_blank\" href=https://colab.research.google.com/notebooks/data_table.ipynb>data table notebook</a>'\n",
              "          + ' to learn more about interactive tables.';\n",
              "        element.innerHTML = '';\n",
              "        dataTable['output_type'] = 'display_data';\n",
              "        await google.colab.output.renderOutput(dataTable, element);\n",
              "        const docLink = document.createElement('div');\n",
              "        docLink.innerHTML = docLinkHtml;\n",
              "        element.appendChild(docLink);\n",
              "      }\n",
              "    </script>\n",
              "  </div>\n",
              "\n",
              "\n",
              "<div id=\"df-225312e4-bd13-4d8a-b4c2-cc29398813e2\">\n",
              "  <button class=\"colab-df-quickchart\" onclick=\"quickchart('df-225312e4-bd13-4d8a-b4c2-cc29398813e2')\"\n",
              "            title=\"Suggest charts\"\n",
              "            style=\"display:none;\">\n",
              "\n",
              "<svg xmlns=\"http://www.w3.org/2000/svg\" height=\"24px\"viewBox=\"0 0 24 24\"\n",
              "     width=\"24px\">\n",
              "    <g>\n",
              "        <path d=\"M19 3H5c-1.1 0-2 .9-2 2v14c0 1.1.9 2 2 2h14c1.1 0 2-.9 2-2V5c0-1.1-.9-2-2-2zM9 17H7v-7h2v7zm4 0h-2V7h2v10zm4 0h-2v-4h2v4z\"/>\n",
              "    </g>\n",
              "</svg>\n",
              "  </button>\n",
              "\n",
              "<style>\n",
              "  .colab-df-quickchart {\n",
              "      --bg-color: #E8F0FE;\n",
              "      --fill-color: #1967D2;\n",
              "      --hover-bg-color: #E2EBFA;\n",
              "      --hover-fill-color: #174EA6;\n",
              "      --disabled-fill-color: #AAA;\n",
              "      --disabled-bg-color: #DDD;\n",
              "  }\n",
              "\n",
              "  [theme=dark] .colab-df-quickchart {\n",
              "      --bg-color: #3B4455;\n",
              "      --fill-color: #D2E3FC;\n",
              "      --hover-bg-color: #434B5C;\n",
              "      --hover-fill-color: #FFFFFF;\n",
              "      --disabled-bg-color: #3B4455;\n",
              "      --disabled-fill-color: #666;\n",
              "  }\n",
              "\n",
              "  .colab-df-quickchart {\n",
              "    background-color: var(--bg-color);\n",
              "    border: none;\n",
              "    border-radius: 50%;\n",
              "    cursor: pointer;\n",
              "    display: none;\n",
              "    fill: var(--fill-color);\n",
              "    height: 32px;\n",
              "    padding: 0;\n",
              "    width: 32px;\n",
              "  }\n",
              "\n",
              "  .colab-df-quickchart:hover {\n",
              "    background-color: var(--hover-bg-color);\n",
              "    box-shadow: 0 1px 2px rgba(60, 64, 67, 0.3), 0 1px 3px 1px rgba(60, 64, 67, 0.15);\n",
              "    fill: var(--button-hover-fill-color);\n",
              "  }\n",
              "\n",
              "  .colab-df-quickchart-complete:disabled,\n",
              "  .colab-df-quickchart-complete:disabled:hover {\n",
              "    background-color: var(--disabled-bg-color);\n",
              "    fill: var(--disabled-fill-color);\n",
              "    box-shadow: none;\n",
              "  }\n",
              "\n",
              "  .colab-df-spinner {\n",
              "    border: 2px solid var(--fill-color);\n",
              "    border-color: transparent;\n",
              "    border-bottom-color: var(--fill-color);\n",
              "    animation:\n",
              "      spin 1s steps(1) infinite;\n",
              "  }\n",
              "\n",
              "  @keyframes spin {\n",
              "    0% {\n",
              "      border-color: transparent;\n",
              "      border-bottom-color: var(--fill-color);\n",
              "      border-left-color: var(--fill-color);\n",
              "    }\n",
              "    20% {\n",
              "      border-color: transparent;\n",
              "      border-left-color: var(--fill-color);\n",
              "      border-top-color: var(--fill-color);\n",
              "    }\n",
              "    30% {\n",
              "      border-color: transparent;\n",
              "      border-left-color: var(--fill-color);\n",
              "      border-top-color: var(--fill-color);\n",
              "      border-right-color: var(--fill-color);\n",
              "    }\n",
              "    40% {\n",
              "      border-color: transparent;\n",
              "      border-right-color: var(--fill-color);\n",
              "      border-top-color: var(--fill-color);\n",
              "    }\n",
              "    60% {\n",
              "      border-color: transparent;\n",
              "      border-right-color: var(--fill-color);\n",
              "    }\n",
              "    80% {\n",
              "      border-color: transparent;\n",
              "      border-right-color: var(--fill-color);\n",
              "      border-bottom-color: var(--fill-color);\n",
              "    }\n",
              "    90% {\n",
              "      border-color: transparent;\n",
              "      border-bottom-color: var(--fill-color);\n",
              "    }\n",
              "  }\n",
              "</style>\n",
              "\n",
              "  <script>\n",
              "    async function quickchart(key) {\n",
              "      const quickchartButtonEl =\n",
              "        document.querySelector('#' + key + ' button');\n",
              "      quickchartButtonEl.disabled = true;  // To prevent multiple clicks.\n",
              "      quickchartButtonEl.classList.add('colab-df-spinner');\n",
              "      try {\n",
              "        const charts = await google.colab.kernel.invokeFunction(\n",
              "            'suggestCharts', [key], {});\n",
              "      } catch (error) {\n",
              "        console.error('Error during call to suggestCharts:', error);\n",
              "      }\n",
              "      quickchartButtonEl.classList.remove('colab-df-spinner');\n",
              "      quickchartButtonEl.classList.add('colab-df-quickchart-complete');\n",
              "    }\n",
              "    (() => {\n",
              "      let quickchartButtonEl =\n",
              "        document.querySelector('#df-225312e4-bd13-4d8a-b4c2-cc29398813e2 button');\n",
              "      quickchartButtonEl.style.display =\n",
              "        google.colab.kernel.accessAllowed ? 'block' : 'none';\n",
              "    })();\n",
              "  </script>\n",
              "</div>\n",
              "\n",
              "  <div id=\"id_9820dabb-5d8c-47b3-8644-f9b04417c753\">\n",
              "    <style>\n",
              "      .colab-df-generate {\n",
              "        background-color: #E8F0FE;\n",
              "        border: none;\n",
              "        border-radius: 50%;\n",
              "        cursor: pointer;\n",
              "        display: none;\n",
              "        fill: #1967D2;\n",
              "        height: 32px;\n",
              "        padding: 0 0 0 0;\n",
              "        width: 32px;\n",
              "      }\n",
              "\n",
              "      .colab-df-generate:hover {\n",
              "        background-color: #E2EBFA;\n",
              "        box-shadow: 0px 1px 2px rgba(60, 64, 67, 0.3), 0px 1px 3px 1px rgba(60, 64, 67, 0.15);\n",
              "        fill: #174EA6;\n",
              "      }\n",
              "\n",
              "      [theme=dark] .colab-df-generate {\n",
              "        background-color: #3B4455;\n",
              "        fill: #D2E3FC;\n",
              "      }\n",
              "\n",
              "      [theme=dark] .colab-df-generate:hover {\n",
              "        background-color: #434B5C;\n",
              "        box-shadow: 0px 1px 3px 1px rgba(0, 0, 0, 0.15);\n",
              "        filter: drop-shadow(0px 1px 2px rgba(0, 0, 0, 0.3));\n",
              "        fill: #FFFFFF;\n",
              "      }\n",
              "    </style>\n",
              "    <button class=\"colab-df-generate\" onclick=\"generateWithVariable('df_filter')\"\n",
              "            title=\"Generate code using this dataframe.\"\n",
              "            style=\"display:none;\">\n",
              "\n",
              "  <svg xmlns=\"http://www.w3.org/2000/svg\" height=\"24px\"viewBox=\"0 0 24 24\"\n",
              "       width=\"24px\">\n",
              "    <path d=\"M7,19H8.4L18.45,9,17,7.55,7,17.6ZM5,21V16.75L18.45,3.32a2,2,0,0,1,2.83,0l1.4,1.43a1.91,1.91,0,0,1,.58,1.4,1.91,1.91,0,0,1-.58,1.4L9.25,21ZM18.45,9,17,7.55Zm-12,3A5.31,5.31,0,0,0,4.9,8.1,5.31,5.31,0,0,0,1,6.5,5.31,5.31,0,0,0,4.9,4.9,5.31,5.31,0,0,0,6.5,1,5.31,5.31,0,0,0,8.1,4.9,5.31,5.31,0,0,0,12,6.5,5.46,5.46,0,0,0,6.5,12Z\"/>\n",
              "  </svg>\n",
              "    </button>\n",
              "    <script>\n",
              "      (() => {\n",
              "      const buttonEl =\n",
              "        document.querySelector('#id_9820dabb-5d8c-47b3-8644-f9b04417c753 button.colab-df-generate');\n",
              "      buttonEl.style.display =\n",
              "        google.colab.kernel.accessAllowed ? 'block' : 'none';\n",
              "\n",
              "      buttonEl.onclick = () => {\n",
              "        google.colab.notebook.generateWithVariable('df_filter');\n",
              "      }\n",
              "      })();\n",
              "    </script>\n",
              "  </div>\n",
              "\n",
              "    </div>\n",
              "  </div>\n"
            ]
          },
          "metadata": {},
          "execution_count": 18
        }
      ]
    },
    {
      "cell_type": "markdown",
      "source": [
        "## 데이터셋 전처리 4\n",
        "\n",
        "- 학습/테스트 데이터 나누기"
      ],
      "metadata": {
        "id": "4F6XIN5GCzOE"
      }
    },
    {
      "cell_type": "code",
      "execution_count": null,
      "metadata": {
        "colab": {
          "base_uri": "https://localhost:8080/"
        },
        "id": "HVUDhL8vw_Ht",
        "outputId": "e26db655-b68c-4f0a-ae16-5e343bff347f"
      },
      "outputs": [
        {
          "output_type": "stream",
          "name": "stdout",
          "text": [
            "(11944, 15)\n",
            "(2986, 15)\n"
          ]
        }
      ],
      "source": [
        "from sklearn.model_selection import train_test_split\n",
        "\n",
        "train_data, test_data = train_test_split(df_filter, test_size=0.2, random_state=42)\n",
        "\n",
        "print(train_data.shape)\n",
        "print(test_data.shape)"
      ]
    },
    {
      "cell_type": "markdown",
      "source": [
        "## CatBoost\n",
        "\n",
        "한글 설명\n",
        "\n",
        "https://dailyheumsi.tistory.com/136\n",
        "\n",
        "튜토리얼 노트북\n",
        "\n",
        "https://github.com/catboost/catboost/blob/master/catboost/tutorials/categorical_features/categorical_features_parameters.ipynb"
      ],
      "metadata": {
        "id": "pgW1wITnC9OR"
      }
    },
    {
      "cell_type": "code",
      "execution_count": null,
      "metadata": {
        "colab": {
          "base_uri": "https://localhost:8080/"
        },
        "id": "xkAcW-d78O5B",
        "outputId": "215049c3-f81c-4c63-aa50-c4f05dc6f992"
      },
      "outputs": [
        {
          "output_type": "stream",
          "name": "stdout",
          "text": [
            "\u001b[2K     \u001b[90m━━━━━━━━━━━━━━━━━━━━━━━━━━━━━━━━━━━━━━━━\u001b[0m \u001b[32m98.7/98.7 MB\u001b[0m \u001b[31m10.4 MB/s\u001b[0m eta \u001b[36m0:00:00\u001b[0m\n",
            "\u001b[?25h"
          ]
        }
      ],
      "source": [
        "!pip install -q catboost"
      ]
    },
    {
      "cell_type": "markdown",
      "source": [
        "### 데이터 형태 정의"
      ],
      "metadata": {
        "id": "lrHizboUDTGu"
      }
    },
    {
      "cell_type": "code",
      "source": [
        "from catboost import CatBoostRegressor, Pool\n",
        "\n",
        "train_pool = Pool(train_data.drop(['DGSTFN'], axis=1),\n",
        "                  label=train_data['DGSTFN'],\n",
        "                  cat_features=categorical_features_names)\n",
        "\n",
        "test_pool = Pool(test_data.drop(['DGSTFN'], 1),\n",
        "                 label=test_data['DGSTFN'],\n",
        "                 cat_features=categorical_features_names)"
      ],
      "metadata": {
        "colab": {
          "base_uri": "https://localhost:8080/"
        },
        "id": "tHl1pDGa1_60",
        "outputId": "c0804ff7-0efc-4167-b14e-95c60806758b"
      },
      "execution_count": null,
      "outputs": [
        {
          "output_type": "stream",
          "name": "stderr",
          "text": [
            "<ipython-input-21-252d8c49d730>:7: FutureWarning: In a future version of pandas all arguments of DataFrame.drop except for the argument 'labels' will be keyword-only.\n",
            "  test_pool = Pool(test_data.drop(['DGSTFN'], 1),\n"
          ]
        }
      ]
    },
    {
      "cell_type": "markdown",
      "source": [
        "### 모델 정의 및 학습"
      ],
      "metadata": {
        "id": "qVR-qhMiDVgn"
      }
    },
    {
      "cell_type": "code",
      "source": [
        "model = CatBoostRegressor(\n",
        "    loss_function='RMSE',\n",
        "    eval_metric='MAE',\n",
        "    task_type='GPU',\n",
        "    depth=6,\n",
        "    learning_rate=0.01,\n",
        "    n_estimators=2000)\n",
        "\n",
        "model.fit(\n",
        "    train_pool,\n",
        "    eval_set=test_pool,\n",
        "    verbose=500,\n",
        "    plot=True)"
      ],
      "metadata": {
        "colab": {
          "base_uri": "https://localhost:8080/",
          "height": 178,
          "referenced_widgets": [
            "75c22224de9348e696fd7a9346ac4379"
          ]
        },
        "id": "AAsdtBla3N_t",
        "outputId": "894304f3-f63d-43ae-bad0-85541b738e97"
      },
      "execution_count": null,
      "outputs": [
        {
          "output_type": "display_data",
          "data": {
            "text/plain": [
              "MetricVisualizer(layout=Layout(align_self='stretch', height='500px'))"
            ],
            "application/vnd.jupyter.widget-view+json": {
              "version_major": 2,
              "version_minor": 0,
              "model_id": "75c22224de9348e696fd7a9346ac4379"
            }
          },
          "metadata": {}
        },
        {
          "output_type": "stream",
          "name": "stderr",
          "text": [
            "Default metric period is 5 because MAE is/are not implemented for GPU\n"
          ]
        },
        {
          "output_type": "stream",
          "name": "stdout",
          "text": [
            "0:\tlearn: 0.6865618\ttest: 0.6959581\tbest: 0.6959581 (0)\ttotal: 38ms\tremaining: 1m 16s\n",
            "500:\tlearn: 0.6183949\ttest: 0.6084185\tbest: 0.6084185 (500)\ttotal: 15.7s\tremaining: 46.9s\n",
            "1000:\tlearn: 0.6056404\ttest: 0.5970822\tbest: 0.5970687 (995)\ttotal: 31.1s\tremaining: 31s\n",
            "1500:\tlearn: 0.5998936\ttest: 0.5949946\tbest: 0.5949921 (1490)\ttotal: 47s\tremaining: 15.6s\n",
            "1999:\tlearn: 0.5955788\ttest: 0.5940354\tbest: 0.5940354 (1999)\ttotal: 1m 5s\tremaining: 0us\n",
            "bestTest = 0.5940354303\n",
            "bestIteration = 1999\n"
          ]
        },
        {
          "output_type": "execute_result",
          "data": {
            "text/plain": [
              "<catboost.core.CatBoostRegressor at 0x7b3d9df3ba00>"
            ]
          },
          "metadata": {},
          "execution_count": 29
        }
      ]
    },
    {
      "cell_type": "markdown",
      "source": [
        "## 테스트"
      ],
      "metadata": {
        "id": "5955JpCQDYji"
      }
    },
    {
      "cell_type": "code",
      "source": [
        "test_data.iloc[0]"
      ],
      "metadata": {
        "id": "DS6uZeS1L3fn",
        "colab": {
          "base_uri": "https://localhost:8080/"
        },
        "outputId": "14bb9197-28ba-4aa2-df38-77b0381ecd9b"
      },
      "execution_count": null,
      "outputs": [
        {
          "output_type": "execute_result",
          "data": {
            "text/plain": [
              "GENDER                        여\n",
              "AGE_GRP                    30.0\n",
              "TRAVEL_STYL_1                 3\n",
              "TRAVEL_STYL_2                 2\n",
              "TRAVEL_STYL_3                 1\n",
              "TRAVEL_STYL_4                 2\n",
              "TRAVEL_STYL_5                 6\n",
              "TRAVEL_STYL_6                 4\n",
              "TRAVEL_STYL_7                 2\n",
              "TRAVEL_STYL_8                 7\n",
              "TRAVEL_MOTIVE_1               1\n",
              "TRAVEL_COMPANIONS_NUM       1.0\n",
              "TRAVEL_MISSION_INT           22\n",
              "VISIT_AREA_NM            양주나리농원\n",
              "DGSTFN                      4.0\n",
              "Name: 3885, dtype: object"
            ]
          },
          "metadata": {},
          "execution_count": 31
        }
      ]
    },
    {
      "cell_type": "code",
      "source": [
        "model.predict(test_data.iloc[0].drop(['DGSTFN']))"
      ],
      "metadata": {
        "colab": {
          "base_uri": "https://localhost:8080/"
        },
        "id": "kpuDoID08tRN",
        "outputId": "e1953118-a9cb-4e3b-af3a-2e9090167b97"
      },
      "execution_count": null,
      "outputs": [
        {
          "output_type": "execute_result",
          "data": {
            "text/plain": [
              "4.225543720119088"
            ]
          },
          "metadata": {},
          "execution_count": 34
        }
      ]
    },
    {
      "cell_type": "code",
      "source": [
        "i = 22385\n",
        "\n",
        "print(test_data.loc[i])\n",
        "\n",
        "print(model.predict(test_data.loc[i].drop(['DGSTFN'])))"
      ],
      "metadata": {
        "colab": {
          "base_uri": "https://localhost:8080/"
        },
        "id": "fLvXvyKu8zVr",
        "outputId": "169c8016-c3a8-4051-967c-c3bb73c3ac55"
      },
      "execution_count": null,
      "outputs": [
        {
          "output_type": "stream",
          "name": "stdout",
          "text": [
            "GENDER                      남\n",
            "AGE_GRP                  20.0\n",
            "TRAVEL_STYL_1               1\n",
            "TRAVEL_STYL_2               1\n",
            "TRAVEL_STYL_3               2\n",
            "TRAVEL_STYL_4               3\n",
            "TRAVEL_STYL_5               2\n",
            "TRAVEL_STYL_6               2\n",
            "TRAVEL_STYL_7               2\n",
            "TRAVEL_STYL_8               3\n",
            "TRAVEL_MOTIVE_1             8\n",
            "TRAVEL_COMPANIONS_NUM     0.0\n",
            "TRAVEL_MISSION_INT          3\n",
            "VISIT_AREA_NM            노랑행궁\n",
            "DGSTFN                    2.0\n",
            "Name: 22385, dtype: object\n",
            "3.761334903951095\n"
          ]
        }
      ]
    },
    {
      "cell_type": "markdown",
      "source": [
        "### 높은 점수만 나오는 이유\n",
        "\n",
        "데이터 불균형 문제"
      ],
      "metadata": {
        "id": "toaqRKuFDaqv"
      }
    },
    {
      "cell_type": "code",
      "source": [
        "test_data[test_data['DGSTFN'] == 1].index"
      ],
      "metadata": {
        "colab": {
          "base_uri": "https://localhost:8080/"
        },
        "id": "tZLjjTvY9P8L",
        "outputId": "a1af8489-3857-4eea-ba2b-92face0d34f6"
      },
      "execution_count": null,
      "outputs": [
        {
          "output_type": "execute_result",
          "data": {
            "text/plain": [
              "Int64Index([ 6442, 23895, 13080, 27266,  4461, 15597,  7378, 17794,  9504,\n",
              "            26068, 15360,  4771,  1500, 10867, 22749, 27196,  7971, 18414,\n",
              "            21735, 26614, 16112, 14854,  3306,  8205, 19347, 17311, 15682,\n",
              "            11408,  7356, 17700,  9142, 12982, 16155, 16053, 23965, 16775,\n",
              "            24720, 27345],\n",
              "           dtype='int64')"
            ]
          },
          "metadata": {},
          "execution_count": 112
        }
      ]
    },
    {
      "cell_type": "code",
      "source": [
        "test_data[test_data['DGSTFN'] == 2].index"
      ],
      "metadata": {
        "colab": {
          "base_uri": "https://localhost:8080/"
        },
        "id": "ceY6tSVM-gV-",
        "outputId": "1c952c00-b491-4e8a-d921-ebdbab77531d"
      },
      "execution_count": null,
      "outputs": [
        {
          "output_type": "execute_result",
          "data": {
            "text/plain": [
              "Int64Index([ 4653,  2952, 19415, 20658,  6004, 24654,  5998, 17628, 18036,\n",
              "            20952, 20218, 20032, 19574, 16402, 28029, 17341,   773, 23002,\n",
              "            23404, 22614,  2278, 25633, 15615, 18321, 24963,  6914, 15803,\n",
              "             2817, 19604, 27822,  4489, 20621, 27080, 18723, 22385,  7946,\n",
              "            16645, 24456, 24314, 18507, 28044,   271,  2177,  7733, 22731,\n",
              "            15939,  1307,  6721,  6480, 22011,  6258,  4722,  6443, 13269,\n",
              "            28958,   820,  7836, 10787,  7611, 23063,  8045, 28588, 15621,\n",
              "             8797],\n",
              "           dtype='int64')"
            ]
          },
          "metadata": {},
          "execution_count": 113
        }
      ]
    },
    {
      "cell_type": "markdown",
      "source": [
        "## 주요 특징"
      ],
      "metadata": {
        "id": "RceuEZhQDgKG"
      }
    },
    {
      "cell_type": "code",
      "source": [
        "model.get_feature_importance(prettified=True)"
      ],
      "metadata": {
        "colab": {
          "base_uri": "https://localhost:8080/",
          "height": 488
        },
        "id": "Kc7J6mAM-5Ji",
        "outputId": "6f1314c4-5707-4b91-91fd-3117c5365ba6"
      },
      "execution_count": null,
      "outputs": [
        {
          "output_type": "execute_result",
          "data": {
            "text/plain": [
              "               Feature Id  Importances\n",
              "0      TRAVEL_MISSION_INT    10.670726\n",
              "1           TRAVEL_STYL_8    10.176381\n",
              "2           TRAVEL_STYL_7     9.805303\n",
              "3           TRAVEL_STYL_4     9.527605\n",
              "4           TRAVEL_STYL_6     9.401933\n",
              "5           TRAVEL_STYL_3     8.627473\n",
              "6           TRAVEL_STYL_1     8.297036\n",
              "7           VISIT_AREA_NM     7.970049\n",
              "8         TRAVEL_MOTIVE_1     7.523622\n",
              "9           TRAVEL_STYL_2     7.480791\n",
              "10          TRAVEL_STYL_5     7.322461\n",
              "11                AGE_GRP     1.510321\n",
              "12  TRAVEL_COMPANIONS_NUM     1.010909\n",
              "13                 GENDER     0.675389"
            ],
            "text/html": [
              "\n",
              "  <div id=\"df-e72231ee-3eb5-4ac3-9e13-1d6c039d4718\" class=\"colab-df-container\">\n",
              "    <div>\n",
              "<style scoped>\n",
              "    .dataframe tbody tr th:only-of-type {\n",
              "        vertical-align: middle;\n",
              "    }\n",
              "\n",
              "    .dataframe tbody tr th {\n",
              "        vertical-align: top;\n",
              "    }\n",
              "\n",
              "    .dataframe thead th {\n",
              "        text-align: right;\n",
              "    }\n",
              "</style>\n",
              "<table border=\"1\" class=\"dataframe\">\n",
              "  <thead>\n",
              "    <tr style=\"text-align: right;\">\n",
              "      <th></th>\n",
              "      <th>Feature Id</th>\n",
              "      <th>Importances</th>\n",
              "    </tr>\n",
              "  </thead>\n",
              "  <tbody>\n",
              "    <tr>\n",
              "      <th>0</th>\n",
              "      <td>TRAVEL_MISSION_INT</td>\n",
              "      <td>10.670726</td>\n",
              "    </tr>\n",
              "    <tr>\n",
              "      <th>1</th>\n",
              "      <td>TRAVEL_STYL_8</td>\n",
              "      <td>10.176381</td>\n",
              "    </tr>\n",
              "    <tr>\n",
              "      <th>2</th>\n",
              "      <td>TRAVEL_STYL_7</td>\n",
              "      <td>9.805303</td>\n",
              "    </tr>\n",
              "    <tr>\n",
              "      <th>3</th>\n",
              "      <td>TRAVEL_STYL_4</td>\n",
              "      <td>9.527605</td>\n",
              "    </tr>\n",
              "    <tr>\n",
              "      <th>4</th>\n",
              "      <td>TRAVEL_STYL_6</td>\n",
              "      <td>9.401933</td>\n",
              "    </tr>\n",
              "    <tr>\n",
              "      <th>5</th>\n",
              "      <td>TRAVEL_STYL_3</td>\n",
              "      <td>8.627473</td>\n",
              "    </tr>\n",
              "    <tr>\n",
              "      <th>6</th>\n",
              "      <td>TRAVEL_STYL_1</td>\n",
              "      <td>8.297036</td>\n",
              "    </tr>\n",
              "    <tr>\n",
              "      <th>7</th>\n",
              "      <td>VISIT_AREA_NM</td>\n",
              "      <td>7.970049</td>\n",
              "    </tr>\n",
              "    <tr>\n",
              "      <th>8</th>\n",
              "      <td>TRAVEL_MOTIVE_1</td>\n",
              "      <td>7.523622</td>\n",
              "    </tr>\n",
              "    <tr>\n",
              "      <th>9</th>\n",
              "      <td>TRAVEL_STYL_2</td>\n",
              "      <td>7.480791</td>\n",
              "    </tr>\n",
              "    <tr>\n",
              "      <th>10</th>\n",
              "      <td>TRAVEL_STYL_5</td>\n",
              "      <td>7.322461</td>\n",
              "    </tr>\n",
              "    <tr>\n",
              "      <th>11</th>\n",
              "      <td>AGE_GRP</td>\n",
              "      <td>1.510321</td>\n",
              "    </tr>\n",
              "    <tr>\n",
              "      <th>12</th>\n",
              "      <td>TRAVEL_COMPANIONS_NUM</td>\n",
              "      <td>1.010909</td>\n",
              "    </tr>\n",
              "    <tr>\n",
              "      <th>13</th>\n",
              "      <td>GENDER</td>\n",
              "      <td>0.675389</td>\n",
              "    </tr>\n",
              "  </tbody>\n",
              "</table>\n",
              "</div>\n",
              "    <div class=\"colab-df-buttons\">\n",
              "\n",
              "  <div class=\"colab-df-container\">\n",
              "    <button class=\"colab-df-convert\" onclick=\"convertToInteractive('df-e72231ee-3eb5-4ac3-9e13-1d6c039d4718')\"\n",
              "            title=\"Convert this dataframe to an interactive table.\"\n",
              "            style=\"display:none;\">\n",
              "\n",
              "  <svg xmlns=\"http://www.w3.org/2000/svg\" height=\"24px\" viewBox=\"0 -960 960 960\">\n",
              "    <path d=\"M120-120v-720h720v720H120Zm60-500h600v-160H180v160Zm220 220h160v-160H400v160Zm0 220h160v-160H400v160ZM180-400h160v-160H180v160Zm440 0h160v-160H620v160ZM180-180h160v-160H180v160Zm440 0h160v-160H620v160Z\"/>\n",
              "  </svg>\n",
              "    </button>\n",
              "\n",
              "  <style>\n",
              "    .colab-df-container {\n",
              "      display:flex;\n",
              "      gap: 12px;\n",
              "    }\n",
              "\n",
              "    .colab-df-convert {\n",
              "      background-color: #E8F0FE;\n",
              "      border: none;\n",
              "      border-radius: 50%;\n",
              "      cursor: pointer;\n",
              "      display: none;\n",
              "      fill: #1967D2;\n",
              "      height: 32px;\n",
              "      padding: 0 0 0 0;\n",
              "      width: 32px;\n",
              "    }\n",
              "\n",
              "    .colab-df-convert:hover {\n",
              "      background-color: #E2EBFA;\n",
              "      box-shadow: 0px 1px 2px rgba(60, 64, 67, 0.3), 0px 1px 3px 1px rgba(60, 64, 67, 0.15);\n",
              "      fill: #174EA6;\n",
              "    }\n",
              "\n",
              "    .colab-df-buttons div {\n",
              "      margin-bottom: 4px;\n",
              "    }\n",
              "\n",
              "    [theme=dark] .colab-df-convert {\n",
              "      background-color: #3B4455;\n",
              "      fill: #D2E3FC;\n",
              "    }\n",
              "\n",
              "    [theme=dark] .colab-df-convert:hover {\n",
              "      background-color: #434B5C;\n",
              "      box-shadow: 0px 1px 3px 1px rgba(0, 0, 0, 0.15);\n",
              "      filter: drop-shadow(0px 1px 2px rgba(0, 0, 0, 0.3));\n",
              "      fill: #FFFFFF;\n",
              "    }\n",
              "  </style>\n",
              "\n",
              "    <script>\n",
              "      const buttonEl =\n",
              "        document.querySelector('#df-e72231ee-3eb5-4ac3-9e13-1d6c039d4718 button.colab-df-convert');\n",
              "      buttonEl.style.display =\n",
              "        google.colab.kernel.accessAllowed ? 'block' : 'none';\n",
              "\n",
              "      async function convertToInteractive(key) {\n",
              "        const element = document.querySelector('#df-e72231ee-3eb5-4ac3-9e13-1d6c039d4718');\n",
              "        const dataTable =\n",
              "          await google.colab.kernel.invokeFunction('convertToInteractive',\n",
              "                                                    [key], {});\n",
              "        if (!dataTable) return;\n",
              "\n",
              "        const docLinkHtml = 'Like what you see? Visit the ' +\n",
              "          '<a target=\"_blank\" href=https://colab.research.google.com/notebooks/data_table.ipynb>data table notebook</a>'\n",
              "          + ' to learn more about interactive tables.';\n",
              "        element.innerHTML = '';\n",
              "        dataTable['output_type'] = 'display_data';\n",
              "        await google.colab.output.renderOutput(dataTable, element);\n",
              "        const docLink = document.createElement('div');\n",
              "        docLink.innerHTML = docLinkHtml;\n",
              "        element.appendChild(docLink);\n",
              "      }\n",
              "    </script>\n",
              "  </div>\n",
              "\n",
              "\n",
              "<div id=\"df-52f4d9f0-46ea-453f-a3f3-53dd9ad24018\">\n",
              "  <button class=\"colab-df-quickchart\" onclick=\"quickchart('df-52f4d9f0-46ea-453f-a3f3-53dd9ad24018')\"\n",
              "            title=\"Suggest charts\"\n",
              "            style=\"display:none;\">\n",
              "\n",
              "<svg xmlns=\"http://www.w3.org/2000/svg\" height=\"24px\"viewBox=\"0 0 24 24\"\n",
              "     width=\"24px\">\n",
              "    <g>\n",
              "        <path d=\"M19 3H5c-1.1 0-2 .9-2 2v14c0 1.1.9 2 2 2h14c1.1 0 2-.9 2-2V5c0-1.1-.9-2-2-2zM9 17H7v-7h2v7zm4 0h-2V7h2v10zm4 0h-2v-4h2v4z\"/>\n",
              "    </g>\n",
              "</svg>\n",
              "  </button>\n",
              "\n",
              "<style>\n",
              "  .colab-df-quickchart {\n",
              "      --bg-color: #E8F0FE;\n",
              "      --fill-color: #1967D2;\n",
              "      --hover-bg-color: #E2EBFA;\n",
              "      --hover-fill-color: #174EA6;\n",
              "      --disabled-fill-color: #AAA;\n",
              "      --disabled-bg-color: #DDD;\n",
              "  }\n",
              "\n",
              "  [theme=dark] .colab-df-quickchart {\n",
              "      --bg-color: #3B4455;\n",
              "      --fill-color: #D2E3FC;\n",
              "      --hover-bg-color: #434B5C;\n",
              "      --hover-fill-color: #FFFFFF;\n",
              "      --disabled-bg-color: #3B4455;\n",
              "      --disabled-fill-color: #666;\n",
              "  }\n",
              "\n",
              "  .colab-df-quickchart {\n",
              "    background-color: var(--bg-color);\n",
              "    border: none;\n",
              "    border-radius: 50%;\n",
              "    cursor: pointer;\n",
              "    display: none;\n",
              "    fill: var(--fill-color);\n",
              "    height: 32px;\n",
              "    padding: 0;\n",
              "    width: 32px;\n",
              "  }\n",
              "\n",
              "  .colab-df-quickchart:hover {\n",
              "    background-color: var(--hover-bg-color);\n",
              "    box-shadow: 0 1px 2px rgba(60, 64, 67, 0.3), 0 1px 3px 1px rgba(60, 64, 67, 0.15);\n",
              "    fill: var(--button-hover-fill-color);\n",
              "  }\n",
              "\n",
              "  .colab-df-quickchart-complete:disabled,\n",
              "  .colab-df-quickchart-complete:disabled:hover {\n",
              "    background-color: var(--disabled-bg-color);\n",
              "    fill: var(--disabled-fill-color);\n",
              "    box-shadow: none;\n",
              "  }\n",
              "\n",
              "  .colab-df-spinner {\n",
              "    border: 2px solid var(--fill-color);\n",
              "    border-color: transparent;\n",
              "    border-bottom-color: var(--fill-color);\n",
              "    animation:\n",
              "      spin 1s steps(1) infinite;\n",
              "  }\n",
              "\n",
              "  @keyframes spin {\n",
              "    0% {\n",
              "      border-color: transparent;\n",
              "      border-bottom-color: var(--fill-color);\n",
              "      border-left-color: var(--fill-color);\n",
              "    }\n",
              "    20% {\n",
              "      border-color: transparent;\n",
              "      border-left-color: var(--fill-color);\n",
              "      border-top-color: var(--fill-color);\n",
              "    }\n",
              "    30% {\n",
              "      border-color: transparent;\n",
              "      border-left-color: var(--fill-color);\n",
              "      border-top-color: var(--fill-color);\n",
              "      border-right-color: var(--fill-color);\n",
              "    }\n",
              "    40% {\n",
              "      border-color: transparent;\n",
              "      border-right-color: var(--fill-color);\n",
              "      border-top-color: var(--fill-color);\n",
              "    }\n",
              "    60% {\n",
              "      border-color: transparent;\n",
              "      border-right-color: var(--fill-color);\n",
              "    }\n",
              "    80% {\n",
              "      border-color: transparent;\n",
              "      border-right-color: var(--fill-color);\n",
              "      border-bottom-color: var(--fill-color);\n",
              "    }\n",
              "    90% {\n",
              "      border-color: transparent;\n",
              "      border-bottom-color: var(--fill-color);\n",
              "    }\n",
              "  }\n",
              "</style>\n",
              "\n",
              "  <script>\n",
              "    async function quickchart(key) {\n",
              "      const quickchartButtonEl =\n",
              "        document.querySelector('#' + key + ' button');\n",
              "      quickchartButtonEl.disabled = true;  // To prevent multiple clicks.\n",
              "      quickchartButtonEl.classList.add('colab-df-spinner');\n",
              "      try {\n",
              "        const charts = await google.colab.kernel.invokeFunction(\n",
              "            'suggestCharts', [key], {});\n",
              "      } catch (error) {\n",
              "        console.error('Error during call to suggestCharts:', error);\n",
              "      }\n",
              "      quickchartButtonEl.classList.remove('colab-df-spinner');\n",
              "      quickchartButtonEl.classList.add('colab-df-quickchart-complete');\n",
              "    }\n",
              "    (() => {\n",
              "      let quickchartButtonEl =\n",
              "        document.querySelector('#df-52f4d9f0-46ea-453f-a3f3-53dd9ad24018 button');\n",
              "      quickchartButtonEl.style.display =\n",
              "        google.colab.kernel.accessAllowed ? 'block' : 'none';\n",
              "    })();\n",
              "  </script>\n",
              "</div>\n",
              "\n",
              "    </div>\n",
              "  </div>\n"
            ]
          },
          "metadata": {},
          "execution_count": 120
        }
      ]
    },
    {
      "cell_type": "markdown",
      "source": [
        "## 서비스 구현시 참고"
      ],
      "metadata": {
        "id": "gsUtc2hqDlAM"
      }
    },
    {
      "cell_type": "code",
      "source": [
        "area_names = df_filter[['VISIT_AREA_NM']].drop_duplicates()\n",
        "\n",
        "area_names"
      ],
      "metadata": {
        "colab": {
          "base_uri": "https://localhost:8080/",
          "height": 424
        },
        "id": "77ZXqMHX_bYv",
        "outputId": "2dfe5054-156f-4621-c7a8-f0da37a37974"
      },
      "execution_count": null,
      "outputs": [
        {
          "output_type": "execute_result",
          "data": {
            "text/plain": [
              "      VISIT_AREA_NM\n",
              "0            프로방스마을\n",
              "2           병점역 1호선\n",
              "3             더현대서울\n",
              "4            강릉중앙시장\n",
              "5               청계천\n",
              "...             ...\n",
              "30128       설악버스터미널\n",
              "30136      탄도어촌체험마을\n",
              "30138      하남ICEBOX\n",
              "30141       부평역사박물관\n",
              "30150        카페아쁠뤼스\n",
              "\n",
              "[8710 rows x 1 columns]"
            ],
            "text/html": [
              "\n",
              "  <div id=\"df-be58bd8f-b5e6-4b31-8eb6-a391e5025d27\" class=\"colab-df-container\">\n",
              "    <div>\n",
              "<style scoped>\n",
              "    .dataframe tbody tr th:only-of-type {\n",
              "        vertical-align: middle;\n",
              "    }\n",
              "\n",
              "    .dataframe tbody tr th {\n",
              "        vertical-align: top;\n",
              "    }\n",
              "\n",
              "    .dataframe thead th {\n",
              "        text-align: right;\n",
              "    }\n",
              "</style>\n",
              "<table border=\"1\" class=\"dataframe\">\n",
              "  <thead>\n",
              "    <tr style=\"text-align: right;\">\n",
              "      <th></th>\n",
              "      <th>VISIT_AREA_NM</th>\n",
              "    </tr>\n",
              "  </thead>\n",
              "  <tbody>\n",
              "    <tr>\n",
              "      <th>0</th>\n",
              "      <td>프로방스마을</td>\n",
              "    </tr>\n",
              "    <tr>\n",
              "      <th>2</th>\n",
              "      <td>병점역 1호선</td>\n",
              "    </tr>\n",
              "    <tr>\n",
              "      <th>3</th>\n",
              "      <td>더현대서울</td>\n",
              "    </tr>\n",
              "    <tr>\n",
              "      <th>4</th>\n",
              "      <td>강릉중앙시장</td>\n",
              "    </tr>\n",
              "    <tr>\n",
              "      <th>5</th>\n",
              "      <td>청계천</td>\n",
              "    </tr>\n",
              "    <tr>\n",
              "      <th>...</th>\n",
              "      <td>...</td>\n",
              "    </tr>\n",
              "    <tr>\n",
              "      <th>30128</th>\n",
              "      <td>설악버스터미널</td>\n",
              "    </tr>\n",
              "    <tr>\n",
              "      <th>30136</th>\n",
              "      <td>탄도어촌체험마을</td>\n",
              "    </tr>\n",
              "    <tr>\n",
              "      <th>30138</th>\n",
              "      <td>하남ICEBOX</td>\n",
              "    </tr>\n",
              "    <tr>\n",
              "      <th>30141</th>\n",
              "      <td>부평역사박물관</td>\n",
              "    </tr>\n",
              "    <tr>\n",
              "      <th>30150</th>\n",
              "      <td>카페아쁠뤼스</td>\n",
              "    </tr>\n",
              "  </tbody>\n",
              "</table>\n",
              "<p>8710 rows × 1 columns</p>\n",
              "</div>\n",
              "    <div class=\"colab-df-buttons\">\n",
              "\n",
              "  <div class=\"colab-df-container\">\n",
              "    <button class=\"colab-df-convert\" onclick=\"convertToInteractive('df-be58bd8f-b5e6-4b31-8eb6-a391e5025d27')\"\n",
              "            title=\"Convert this dataframe to an interactive table.\"\n",
              "            style=\"display:none;\">\n",
              "\n",
              "  <svg xmlns=\"http://www.w3.org/2000/svg\" height=\"24px\" viewBox=\"0 -960 960 960\">\n",
              "    <path d=\"M120-120v-720h720v720H120Zm60-500h600v-160H180v160Zm220 220h160v-160H400v160Zm0 220h160v-160H400v160ZM180-400h160v-160H180v160Zm440 0h160v-160H620v160ZM180-180h160v-160H180v160Zm440 0h160v-160H620v160Z\"/>\n",
              "  </svg>\n",
              "    </button>\n",
              "\n",
              "  <style>\n",
              "    .colab-df-container {\n",
              "      display:flex;\n",
              "      gap: 12px;\n",
              "    }\n",
              "\n",
              "    .colab-df-convert {\n",
              "      background-color: #E8F0FE;\n",
              "      border: none;\n",
              "      border-radius: 50%;\n",
              "      cursor: pointer;\n",
              "      display: none;\n",
              "      fill: #1967D2;\n",
              "      height: 32px;\n",
              "      padding: 0 0 0 0;\n",
              "      width: 32px;\n",
              "    }\n",
              "\n",
              "    .colab-df-convert:hover {\n",
              "      background-color: #E2EBFA;\n",
              "      box-shadow: 0px 1px 2px rgba(60, 64, 67, 0.3), 0px 1px 3px 1px rgba(60, 64, 67, 0.15);\n",
              "      fill: #174EA6;\n",
              "    }\n",
              "\n",
              "    .colab-df-buttons div {\n",
              "      margin-bottom: 4px;\n",
              "    }\n",
              "\n",
              "    [theme=dark] .colab-df-convert {\n",
              "      background-color: #3B4455;\n",
              "      fill: #D2E3FC;\n",
              "    }\n",
              "\n",
              "    [theme=dark] .colab-df-convert:hover {\n",
              "      background-color: #434B5C;\n",
              "      box-shadow: 0px 1px 3px 1px rgba(0, 0, 0, 0.15);\n",
              "      filter: drop-shadow(0px 1px 2px rgba(0, 0, 0, 0.3));\n",
              "      fill: #FFFFFF;\n",
              "    }\n",
              "  </style>\n",
              "\n",
              "    <script>\n",
              "      const buttonEl =\n",
              "        document.querySelector('#df-be58bd8f-b5e6-4b31-8eb6-a391e5025d27 button.colab-df-convert');\n",
              "      buttonEl.style.display =\n",
              "        google.colab.kernel.accessAllowed ? 'block' : 'none';\n",
              "\n",
              "      async function convertToInteractive(key) {\n",
              "        const element = document.querySelector('#df-be58bd8f-b5e6-4b31-8eb6-a391e5025d27');\n",
              "        const dataTable =\n",
              "          await google.colab.kernel.invokeFunction('convertToInteractive',\n",
              "                                                    [key], {});\n",
              "        if (!dataTable) return;\n",
              "\n",
              "        const docLinkHtml = 'Like what you see? Visit the ' +\n",
              "          '<a target=\"_blank\" href=https://colab.research.google.com/notebooks/data_table.ipynb>data table notebook</a>'\n",
              "          + ' to learn more about interactive tables.';\n",
              "        element.innerHTML = '';\n",
              "        dataTable['output_type'] = 'display_data';\n",
              "        await google.colab.output.renderOutput(dataTable, element);\n",
              "        const docLink = document.createElement('div');\n",
              "        docLink.innerHTML = docLinkHtml;\n",
              "        element.appendChild(docLink);\n",
              "      }\n",
              "    </script>\n",
              "  </div>\n",
              "\n",
              "\n",
              "<div id=\"df-0913e207-75d3-48dc-930a-94729ad8c108\">\n",
              "  <button class=\"colab-df-quickchart\" onclick=\"quickchart('df-0913e207-75d3-48dc-930a-94729ad8c108')\"\n",
              "            title=\"Suggest charts\"\n",
              "            style=\"display:none;\">\n",
              "\n",
              "<svg xmlns=\"http://www.w3.org/2000/svg\" height=\"24px\"viewBox=\"0 0 24 24\"\n",
              "     width=\"24px\">\n",
              "    <g>\n",
              "        <path d=\"M19 3H5c-1.1 0-2 .9-2 2v14c0 1.1.9 2 2 2h14c1.1 0 2-.9 2-2V5c0-1.1-.9-2-2-2zM9 17H7v-7h2v7zm4 0h-2V7h2v10zm4 0h-2v-4h2v4z\"/>\n",
              "    </g>\n",
              "</svg>\n",
              "  </button>\n",
              "\n",
              "<style>\n",
              "  .colab-df-quickchart {\n",
              "      --bg-color: #E8F0FE;\n",
              "      --fill-color: #1967D2;\n",
              "      --hover-bg-color: #E2EBFA;\n",
              "      --hover-fill-color: #174EA6;\n",
              "      --disabled-fill-color: #AAA;\n",
              "      --disabled-bg-color: #DDD;\n",
              "  }\n",
              "\n",
              "  [theme=dark] .colab-df-quickchart {\n",
              "      --bg-color: #3B4455;\n",
              "      --fill-color: #D2E3FC;\n",
              "      --hover-bg-color: #434B5C;\n",
              "      --hover-fill-color: #FFFFFF;\n",
              "      --disabled-bg-color: #3B4455;\n",
              "      --disabled-fill-color: #666;\n",
              "  }\n",
              "\n",
              "  .colab-df-quickchart {\n",
              "    background-color: var(--bg-color);\n",
              "    border: none;\n",
              "    border-radius: 50%;\n",
              "    cursor: pointer;\n",
              "    display: none;\n",
              "    fill: var(--fill-color);\n",
              "    height: 32px;\n",
              "    padding: 0;\n",
              "    width: 32px;\n",
              "  }\n",
              "\n",
              "  .colab-df-quickchart:hover {\n",
              "    background-color: var(--hover-bg-color);\n",
              "    box-shadow: 0 1px 2px rgba(60, 64, 67, 0.3), 0 1px 3px 1px rgba(60, 64, 67, 0.15);\n",
              "    fill: var(--button-hover-fill-color);\n",
              "  }\n",
              "\n",
              "  .colab-df-quickchart-complete:disabled,\n",
              "  .colab-df-quickchart-complete:disabled:hover {\n",
              "    background-color: var(--disabled-bg-color);\n",
              "    fill: var(--disabled-fill-color);\n",
              "    box-shadow: none;\n",
              "  }\n",
              "\n",
              "  .colab-df-spinner {\n",
              "    border: 2px solid var(--fill-color);\n",
              "    border-color: transparent;\n",
              "    border-bottom-color: var(--fill-color);\n",
              "    animation:\n",
              "      spin 1s steps(1) infinite;\n",
              "  }\n",
              "\n",
              "  @keyframes spin {\n",
              "    0% {\n",
              "      border-color: transparent;\n",
              "      border-bottom-color: var(--fill-color);\n",
              "      border-left-color: var(--fill-color);\n",
              "    }\n",
              "    20% {\n",
              "      border-color: transparent;\n",
              "      border-left-color: var(--fill-color);\n",
              "      border-top-color: var(--fill-color);\n",
              "    }\n",
              "    30% {\n",
              "      border-color: transparent;\n",
              "      border-left-color: var(--fill-color);\n",
              "      border-top-color: var(--fill-color);\n",
              "      border-right-color: var(--fill-color);\n",
              "    }\n",
              "    40% {\n",
              "      border-color: transparent;\n",
              "      border-right-color: var(--fill-color);\n",
              "      border-top-color: var(--fill-color);\n",
              "    }\n",
              "    60% {\n",
              "      border-color: transparent;\n",
              "      border-right-color: var(--fill-color);\n",
              "    }\n",
              "    80% {\n",
              "      border-color: transparent;\n",
              "      border-right-color: var(--fill-color);\n",
              "      border-bottom-color: var(--fill-color);\n",
              "    }\n",
              "    90% {\n",
              "      border-color: transparent;\n",
              "      border-bottom-color: var(--fill-color);\n",
              "    }\n",
              "  }\n",
              "</style>\n",
              "\n",
              "  <script>\n",
              "    async function quickchart(key) {\n",
              "      const quickchartButtonEl =\n",
              "        document.querySelector('#' + key + ' button');\n",
              "      quickchartButtonEl.disabled = true;  // To prevent multiple clicks.\n",
              "      quickchartButtonEl.classList.add('colab-df-spinner');\n",
              "      try {\n",
              "        const charts = await google.colab.kernel.invokeFunction(\n",
              "            'suggestCharts', [key], {});\n",
              "      } catch (error) {\n",
              "        console.error('Error during call to suggestCharts:', error);\n",
              "      }\n",
              "      quickchartButtonEl.classList.remove('colab-df-spinner');\n",
              "      quickchartButtonEl.classList.add('colab-df-quickchart-complete');\n",
              "    }\n",
              "    (() => {\n",
              "      let quickchartButtonEl =\n",
              "        document.querySelector('#df-0913e207-75d3-48dc-930a-94729ad8c108 button');\n",
              "      quickchartButtonEl.style.display =\n",
              "        google.colab.kernel.accessAllowed ? 'block' : 'none';\n",
              "    })();\n",
              "  </script>\n",
              "</div>\n",
              "\n",
              "  <div id=\"id_c33dafba-ca8c-432b-bc6a-19e5d19d06ea\">\n",
              "    <style>\n",
              "      .colab-df-generate {\n",
              "        background-color: #E8F0FE;\n",
              "        border: none;\n",
              "        border-radius: 50%;\n",
              "        cursor: pointer;\n",
              "        display: none;\n",
              "        fill: #1967D2;\n",
              "        height: 32px;\n",
              "        padding: 0 0 0 0;\n",
              "        width: 32px;\n",
              "      }\n",
              "\n",
              "      .colab-df-generate:hover {\n",
              "        background-color: #E2EBFA;\n",
              "        box-shadow: 0px 1px 2px rgba(60, 64, 67, 0.3), 0px 1px 3px 1px rgba(60, 64, 67, 0.15);\n",
              "        fill: #174EA6;\n",
              "      }\n",
              "\n",
              "      [theme=dark] .colab-df-generate {\n",
              "        background-color: #3B4455;\n",
              "        fill: #D2E3FC;\n",
              "      }\n",
              "\n",
              "      [theme=dark] .colab-df-generate:hover {\n",
              "        background-color: #434B5C;\n",
              "        box-shadow: 0px 1px 3px 1px rgba(0, 0, 0, 0.15);\n",
              "        filter: drop-shadow(0px 1px 2px rgba(0, 0, 0, 0.3));\n",
              "        fill: #FFFFFF;\n",
              "      }\n",
              "    </style>\n",
              "    <button class=\"colab-df-generate\" onclick=\"generateWithVariable('area_names')\"\n",
              "            title=\"Generate code using this dataframe.\"\n",
              "            style=\"display:none;\">\n",
              "\n",
              "  <svg xmlns=\"http://www.w3.org/2000/svg\" height=\"24px\"viewBox=\"0 0 24 24\"\n",
              "       width=\"24px\">\n",
              "    <path d=\"M7,19H8.4L18.45,9,17,7.55,7,17.6ZM5,21V16.75L18.45,3.32a2,2,0,0,1,2.83,0l1.4,1.43a1.91,1.91,0,0,1,.58,1.4,1.91,1.91,0,0,1-.58,1.4L9.25,21ZM18.45,9,17,7.55Zm-12,3A5.31,5.31,0,0,0,4.9,8.1,5.31,5.31,0,0,0,1,6.5,5.31,5.31,0,0,0,4.9,4.9,5.31,5.31,0,0,0,6.5,1,5.31,5.31,0,0,0,8.1,4.9,5.31,5.31,0,0,0,12,6.5,5.46,5.46,0,0,0,6.5,12Z\"/>\n",
              "  </svg>\n",
              "    </button>\n",
              "    <script>\n",
              "      (() => {\n",
              "      const buttonEl =\n",
              "        document.querySelector('#id_c33dafba-ca8c-432b-bc6a-19e5d19d06ea button.colab-df-generate');\n",
              "      buttonEl.style.display =\n",
              "        google.colab.kernel.accessAllowed ? 'block' : 'none';\n",
              "\n",
              "      buttonEl.onclick = () => {\n",
              "        google.colab.notebook.generateWithVariable('area_names');\n",
              "      }\n",
              "      })();\n",
              "    </script>\n",
              "  </div>\n",
              "\n",
              "    </div>\n",
              "  </div>\n"
            ]
          },
          "metadata": {},
          "execution_count": 122
        }
      ]
    },
    {
      "cell_type": "code",
      "source": [
        "test_data.loc[i].to_dict()"
      ],
      "metadata": {
        "colab": {
          "base_uri": "https://localhost:8080/"
        },
        "id": "_JU2zhl1AOVp",
        "outputId": "6f9e8574-6232-4072-982c-ede7e34d595c"
      },
      "execution_count": null,
      "outputs": [
        {
          "output_type": "execute_result",
          "data": {
            "text/plain": [
              "{'GENDER': '남',\n",
              " 'AGE_GRP': 20.0,\n",
              " 'TRAVEL_STYL_1': 1,\n",
              " 'TRAVEL_STYL_2': 1,\n",
              " 'TRAVEL_STYL_3': 2,\n",
              " 'TRAVEL_STYL_4': 3,\n",
              " 'TRAVEL_STYL_5': 2,\n",
              " 'TRAVEL_STYL_6': 2,\n",
              " 'TRAVEL_STYL_7': 2,\n",
              " 'TRAVEL_STYL_8': 3,\n",
              " 'TRAVEL_MOTIVE_1': 8,\n",
              " 'TRAVEL_COMPANIONS_NUM': 0.0,\n",
              " 'TRAVEL_MISSION_INT': 3,\n",
              " 'VISIT_AREA_NM': '노랑행궁',\n",
              " 'DGSTFN': 2.0}"
            ]
          },
          "metadata": {},
          "execution_count": 125
        }
      ]
    },
    {
      "cell_type": "code",
      "source": [
        "traveler = {\n",
        "    'GENDER': '남',\n",
        "    'AGE_GRP': 20.0,\n",
        "    'TRAVEL_STYL_1': 1,\n",
        "    'TRAVEL_STYL_2': 1,\n",
        "    'TRAVEL_STYL_3': 2,\n",
        "    'TRAVEL_STYL_4': 3,\n",
        "    'TRAVEL_STYL_5': 2,\n",
        "    'TRAVEL_STYL_6': 2,\n",
        "    'TRAVEL_STYL_7': 2,\n",
        "    'TRAVEL_STYL_8': 3,\n",
        "    'TRAVEL_MOTIVE_1': 8,\n",
        "    'TRAVEL_COMPANIONS_NUM': 0.0,\n",
        "    'TRAVEL_MISSION_INT': 3,\n",
        "}\n",
        "\n",
        "results = pd.DataFrame([], columns=['AREA', 'SCORE'])\n",
        "\n",
        "for area in area_names['VISIT_AREA_NM']:\n",
        "    input = list(traveler.values())\n",
        "    input.append(area)\n",
        "\n",
        "    score = model.predict(input)\n",
        "\n",
        "    results = pd.concat([results, pd.DataFrame([[area, score]], columns=['AREA', 'SCORE'])])\n",
        "\n",
        "results.sort_values('SCORE', ascending=False)[:10]"
      ],
      "metadata": {
        "colab": {
          "base_uri": "https://localhost:8080/",
          "height": 363
        },
        "id": "wuY2q3dq_1jD",
        "outputId": "d7aaf26a-2a43-4d90-d374-948ccc2bc7f8"
      },
      "execution_count": null,
      "outputs": [
        {
          "output_type": "execute_result",
          "data": {
            "text/plain": [
              "          AREA     SCORE\n",
              "0          창덕궁  4.136791\n",
              "0        광화문광장  4.130374\n",
              "0  소피텔 앰배서더 서울  4.121438\n",
              "0          남이섬  4.119708\n",
              "0          수서역  4.118709\n",
              "0          창경궁  4.118007\n",
              "0       남산서울타워  4.116466\n",
              "0          서울역  4.110552\n",
              "0          덕수궁  4.109320\n",
              "0      송도센트럴파크  4.107232"
            ],
            "text/html": [
              "\n",
              "  <div id=\"df-3b3366aa-a969-4de5-82a4-08ba696c49db\" class=\"colab-df-container\">\n",
              "    <div>\n",
              "<style scoped>\n",
              "    .dataframe tbody tr th:only-of-type {\n",
              "        vertical-align: middle;\n",
              "    }\n",
              "\n",
              "    .dataframe tbody tr th {\n",
              "        vertical-align: top;\n",
              "    }\n",
              "\n",
              "    .dataframe thead th {\n",
              "        text-align: right;\n",
              "    }\n",
              "</style>\n",
              "<table border=\"1\" class=\"dataframe\">\n",
              "  <thead>\n",
              "    <tr style=\"text-align: right;\">\n",
              "      <th></th>\n",
              "      <th>AREA</th>\n",
              "      <th>SCORE</th>\n",
              "    </tr>\n",
              "  </thead>\n",
              "  <tbody>\n",
              "    <tr>\n",
              "      <th>0</th>\n",
              "      <td>창덕궁</td>\n",
              "      <td>4.136791</td>\n",
              "    </tr>\n",
              "    <tr>\n",
              "      <th>0</th>\n",
              "      <td>광화문광장</td>\n",
              "      <td>4.130374</td>\n",
              "    </tr>\n",
              "    <tr>\n",
              "      <th>0</th>\n",
              "      <td>소피텔 앰배서더 서울</td>\n",
              "      <td>4.121438</td>\n",
              "    </tr>\n",
              "    <tr>\n",
              "      <th>0</th>\n",
              "      <td>남이섬</td>\n",
              "      <td>4.119708</td>\n",
              "    </tr>\n",
              "    <tr>\n",
              "      <th>0</th>\n",
              "      <td>수서역</td>\n",
              "      <td>4.118709</td>\n",
              "    </tr>\n",
              "    <tr>\n",
              "      <th>0</th>\n",
              "      <td>창경궁</td>\n",
              "      <td>4.118007</td>\n",
              "    </tr>\n",
              "    <tr>\n",
              "      <th>0</th>\n",
              "      <td>남산서울타워</td>\n",
              "      <td>4.116466</td>\n",
              "    </tr>\n",
              "    <tr>\n",
              "      <th>0</th>\n",
              "      <td>서울역</td>\n",
              "      <td>4.110552</td>\n",
              "    </tr>\n",
              "    <tr>\n",
              "      <th>0</th>\n",
              "      <td>덕수궁</td>\n",
              "      <td>4.109320</td>\n",
              "    </tr>\n",
              "    <tr>\n",
              "      <th>0</th>\n",
              "      <td>송도센트럴파크</td>\n",
              "      <td>4.107232</td>\n",
              "    </tr>\n",
              "  </tbody>\n",
              "</table>\n",
              "</div>\n",
              "    <div class=\"colab-df-buttons\">\n",
              "\n",
              "  <div class=\"colab-df-container\">\n",
              "    <button class=\"colab-df-convert\" onclick=\"convertToInteractive('df-3b3366aa-a969-4de5-82a4-08ba696c49db')\"\n",
              "            title=\"Convert this dataframe to an interactive table.\"\n",
              "            style=\"display:none;\">\n",
              "\n",
              "  <svg xmlns=\"http://www.w3.org/2000/svg\" height=\"24px\" viewBox=\"0 -960 960 960\">\n",
              "    <path d=\"M120-120v-720h720v720H120Zm60-500h600v-160H180v160Zm220 220h160v-160H400v160Zm0 220h160v-160H400v160ZM180-400h160v-160H180v160Zm440 0h160v-160H620v160ZM180-180h160v-160H180v160Zm440 0h160v-160H620v160Z\"/>\n",
              "  </svg>\n",
              "    </button>\n",
              "\n",
              "  <style>\n",
              "    .colab-df-container {\n",
              "      display:flex;\n",
              "      gap: 12px;\n",
              "    }\n",
              "\n",
              "    .colab-df-convert {\n",
              "      background-color: #E8F0FE;\n",
              "      border: none;\n",
              "      border-radius: 50%;\n",
              "      cursor: pointer;\n",
              "      display: none;\n",
              "      fill: #1967D2;\n",
              "      height: 32px;\n",
              "      padding: 0 0 0 0;\n",
              "      width: 32px;\n",
              "    }\n",
              "\n",
              "    .colab-df-convert:hover {\n",
              "      background-color: #E2EBFA;\n",
              "      box-shadow: 0px 1px 2px rgba(60, 64, 67, 0.3), 0px 1px 3px 1px rgba(60, 64, 67, 0.15);\n",
              "      fill: #174EA6;\n",
              "    }\n",
              "\n",
              "    .colab-df-buttons div {\n",
              "      margin-bottom: 4px;\n",
              "    }\n",
              "\n",
              "    [theme=dark] .colab-df-convert {\n",
              "      background-color: #3B4455;\n",
              "      fill: #D2E3FC;\n",
              "    }\n",
              "\n",
              "    [theme=dark] .colab-df-convert:hover {\n",
              "      background-color: #434B5C;\n",
              "      box-shadow: 0px 1px 3px 1px rgba(0, 0, 0, 0.15);\n",
              "      filter: drop-shadow(0px 1px 2px rgba(0, 0, 0, 0.3));\n",
              "      fill: #FFFFFF;\n",
              "    }\n",
              "  </style>\n",
              "\n",
              "    <script>\n",
              "      const buttonEl =\n",
              "        document.querySelector('#df-3b3366aa-a969-4de5-82a4-08ba696c49db button.colab-df-convert');\n",
              "      buttonEl.style.display =\n",
              "        google.colab.kernel.accessAllowed ? 'block' : 'none';\n",
              "\n",
              "      async function convertToInteractive(key) {\n",
              "        const element = document.querySelector('#df-3b3366aa-a969-4de5-82a4-08ba696c49db');\n",
              "        const dataTable =\n",
              "          await google.colab.kernel.invokeFunction('convertToInteractive',\n",
              "                                                    [key], {});\n",
              "        if (!dataTable) return;\n",
              "\n",
              "        const docLinkHtml = 'Like what you see? Visit the ' +\n",
              "          '<a target=\"_blank\" href=https://colab.research.google.com/notebooks/data_table.ipynb>data table notebook</a>'\n",
              "          + ' to learn more about interactive tables.';\n",
              "        element.innerHTML = '';\n",
              "        dataTable['output_type'] = 'display_data';\n",
              "        await google.colab.output.renderOutput(dataTable, element);\n",
              "        const docLink = document.createElement('div');\n",
              "        docLink.innerHTML = docLinkHtml;\n",
              "        element.appendChild(docLink);\n",
              "      }\n",
              "    </script>\n",
              "  </div>\n",
              "\n",
              "\n",
              "<div id=\"df-a115b822-c11a-43b9-847f-67fd84274e03\">\n",
              "  <button class=\"colab-df-quickchart\" onclick=\"quickchart('df-a115b822-c11a-43b9-847f-67fd84274e03')\"\n",
              "            title=\"Suggest charts\"\n",
              "            style=\"display:none;\">\n",
              "\n",
              "<svg xmlns=\"http://www.w3.org/2000/svg\" height=\"24px\"viewBox=\"0 0 24 24\"\n",
              "     width=\"24px\">\n",
              "    <g>\n",
              "        <path d=\"M19 3H5c-1.1 0-2 .9-2 2v14c0 1.1.9 2 2 2h14c1.1 0 2-.9 2-2V5c0-1.1-.9-2-2-2zM9 17H7v-7h2v7zm4 0h-2V7h2v10zm4 0h-2v-4h2v4z\"/>\n",
              "    </g>\n",
              "</svg>\n",
              "  </button>\n",
              "\n",
              "<style>\n",
              "  .colab-df-quickchart {\n",
              "      --bg-color: #E8F0FE;\n",
              "      --fill-color: #1967D2;\n",
              "      --hover-bg-color: #E2EBFA;\n",
              "      --hover-fill-color: #174EA6;\n",
              "      --disabled-fill-color: #AAA;\n",
              "      --disabled-bg-color: #DDD;\n",
              "  }\n",
              "\n",
              "  [theme=dark] .colab-df-quickchart {\n",
              "      --bg-color: #3B4455;\n",
              "      --fill-color: #D2E3FC;\n",
              "      --hover-bg-color: #434B5C;\n",
              "      --hover-fill-color: #FFFFFF;\n",
              "      --disabled-bg-color: #3B4455;\n",
              "      --disabled-fill-color: #666;\n",
              "  }\n",
              "\n",
              "  .colab-df-quickchart {\n",
              "    background-color: var(--bg-color);\n",
              "    border: none;\n",
              "    border-radius: 50%;\n",
              "    cursor: pointer;\n",
              "    display: none;\n",
              "    fill: var(--fill-color);\n",
              "    height: 32px;\n",
              "    padding: 0;\n",
              "    width: 32px;\n",
              "  }\n",
              "\n",
              "  .colab-df-quickchart:hover {\n",
              "    background-color: var(--hover-bg-color);\n",
              "    box-shadow: 0 1px 2px rgba(60, 64, 67, 0.3), 0 1px 3px 1px rgba(60, 64, 67, 0.15);\n",
              "    fill: var(--button-hover-fill-color);\n",
              "  }\n",
              "\n",
              "  .colab-df-quickchart-complete:disabled,\n",
              "  .colab-df-quickchart-complete:disabled:hover {\n",
              "    background-color: var(--disabled-bg-color);\n",
              "    fill: var(--disabled-fill-color);\n",
              "    box-shadow: none;\n",
              "  }\n",
              "\n",
              "  .colab-df-spinner {\n",
              "    border: 2px solid var(--fill-color);\n",
              "    border-color: transparent;\n",
              "    border-bottom-color: var(--fill-color);\n",
              "    animation:\n",
              "      spin 1s steps(1) infinite;\n",
              "  }\n",
              "\n",
              "  @keyframes spin {\n",
              "    0% {\n",
              "      border-color: transparent;\n",
              "      border-bottom-color: var(--fill-color);\n",
              "      border-left-color: var(--fill-color);\n",
              "    }\n",
              "    20% {\n",
              "      border-color: transparent;\n",
              "      border-left-color: var(--fill-color);\n",
              "      border-top-color: var(--fill-color);\n",
              "    }\n",
              "    30% {\n",
              "      border-color: transparent;\n",
              "      border-left-color: var(--fill-color);\n",
              "      border-top-color: var(--fill-color);\n",
              "      border-right-color: var(--fill-color);\n",
              "    }\n",
              "    40% {\n",
              "      border-color: transparent;\n",
              "      border-right-color: var(--fill-color);\n",
              "      border-top-color: var(--fill-color);\n",
              "    }\n",
              "    60% {\n",
              "      border-color: transparent;\n",
              "      border-right-color: var(--fill-color);\n",
              "    }\n",
              "    80% {\n",
              "      border-color: transparent;\n",
              "      border-right-color: var(--fill-color);\n",
              "      border-bottom-color: var(--fill-color);\n",
              "    }\n",
              "    90% {\n",
              "      border-color: transparent;\n",
              "      border-bottom-color: var(--fill-color);\n",
              "    }\n",
              "  }\n",
              "</style>\n",
              "\n",
              "  <script>\n",
              "    async function quickchart(key) {\n",
              "      const quickchartButtonEl =\n",
              "        document.querySelector('#' + key + ' button');\n",
              "      quickchartButtonEl.disabled = true;  // To prevent multiple clicks.\n",
              "      quickchartButtonEl.classList.add('colab-df-spinner');\n",
              "      try {\n",
              "        const charts = await google.colab.kernel.invokeFunction(\n",
              "            'suggestCharts', [key], {});\n",
              "      } catch (error) {\n",
              "        console.error('Error during call to suggestCharts:', error);\n",
              "      }\n",
              "      quickchartButtonEl.classList.remove('colab-df-spinner');\n",
              "      quickchartButtonEl.classList.add('colab-df-quickchart-complete');\n",
              "    }\n",
              "    (() => {\n",
              "      let quickchartButtonEl =\n",
              "        document.querySelector('#df-a115b822-c11a-43b9-847f-67fd84274e03 button');\n",
              "      quickchartButtonEl.style.display =\n",
              "        google.colab.kernel.accessAllowed ? 'block' : 'none';\n",
              "    })();\n",
              "  </script>\n",
              "</div>\n",
              "\n",
              "    </div>\n",
              "  </div>\n"
            ]
          },
          "metadata": {},
          "execution_count": 138
        }
      ]
    },
    {
      "cell_type": "code",
      "source": [
        "results.sort_values('SCORE', ascending=True)[:10]"
      ],
      "metadata": {
        "colab": {
          "base_uri": "https://localhost:8080/",
          "height": 363
        },
        "id": "RR9_ARM5ABrJ",
        "outputId": "fdc0b298-ac1b-455c-ea89-b6efc2ea1fa5"
      },
      "execution_count": null,
      "outputs": [
        {
          "output_type": "execute_result",
          "data": {
            "text/plain": [
              "                  AREA     SCORE\n",
              "0               요미우돈교자  3.755823\n",
              "0          캘리소프트서브 수원점  3.759349\n",
              "0             역대짬뽕 송탄점  3.761335\n",
              "0              송탄역 1호선  3.761335\n",
              "0                 노랑행궁  3.761335\n",
              "0               행궁81.2  3.803692\n",
              "0               양수리빵공장  3.826343\n",
              "0       서울대학교 관악캠퍼스 정문  3.831081\n",
              "0  롯데리아 김포국제공항국내선청사4층점  3.831081\n",
              "0           해밀한옥게스트하우스  3.831081"
            ],
            "text/html": [
              "\n",
              "  <div id=\"df-a6ffeeed-faef-4216-9d00-e62e37447497\" class=\"colab-df-container\">\n",
              "    <div>\n",
              "<style scoped>\n",
              "    .dataframe tbody tr th:only-of-type {\n",
              "        vertical-align: middle;\n",
              "    }\n",
              "\n",
              "    .dataframe tbody tr th {\n",
              "        vertical-align: top;\n",
              "    }\n",
              "\n",
              "    .dataframe thead th {\n",
              "        text-align: right;\n",
              "    }\n",
              "</style>\n",
              "<table border=\"1\" class=\"dataframe\">\n",
              "  <thead>\n",
              "    <tr style=\"text-align: right;\">\n",
              "      <th></th>\n",
              "      <th>AREA</th>\n",
              "      <th>SCORE</th>\n",
              "    </tr>\n",
              "  </thead>\n",
              "  <tbody>\n",
              "    <tr>\n",
              "      <th>0</th>\n",
              "      <td>요미우돈교자</td>\n",
              "      <td>3.755823</td>\n",
              "    </tr>\n",
              "    <tr>\n",
              "      <th>0</th>\n",
              "      <td>캘리소프트서브 수원점</td>\n",
              "      <td>3.759349</td>\n",
              "    </tr>\n",
              "    <tr>\n",
              "      <th>0</th>\n",
              "      <td>역대짬뽕 송탄점</td>\n",
              "      <td>3.761335</td>\n",
              "    </tr>\n",
              "    <tr>\n",
              "      <th>0</th>\n",
              "      <td>송탄역 1호선</td>\n",
              "      <td>3.761335</td>\n",
              "    </tr>\n",
              "    <tr>\n",
              "      <th>0</th>\n",
              "      <td>노랑행궁</td>\n",
              "      <td>3.761335</td>\n",
              "    </tr>\n",
              "    <tr>\n",
              "      <th>0</th>\n",
              "      <td>행궁81.2</td>\n",
              "      <td>3.803692</td>\n",
              "    </tr>\n",
              "    <tr>\n",
              "      <th>0</th>\n",
              "      <td>양수리빵공장</td>\n",
              "      <td>3.826343</td>\n",
              "    </tr>\n",
              "    <tr>\n",
              "      <th>0</th>\n",
              "      <td>서울대학교 관악캠퍼스 정문</td>\n",
              "      <td>3.831081</td>\n",
              "    </tr>\n",
              "    <tr>\n",
              "      <th>0</th>\n",
              "      <td>롯데리아 김포국제공항국내선청사4층점</td>\n",
              "      <td>3.831081</td>\n",
              "    </tr>\n",
              "    <tr>\n",
              "      <th>0</th>\n",
              "      <td>해밀한옥게스트하우스</td>\n",
              "      <td>3.831081</td>\n",
              "    </tr>\n",
              "  </tbody>\n",
              "</table>\n",
              "</div>\n",
              "    <div class=\"colab-df-buttons\">\n",
              "\n",
              "  <div class=\"colab-df-container\">\n",
              "    <button class=\"colab-df-convert\" onclick=\"convertToInteractive('df-a6ffeeed-faef-4216-9d00-e62e37447497')\"\n",
              "            title=\"Convert this dataframe to an interactive table.\"\n",
              "            style=\"display:none;\">\n",
              "\n",
              "  <svg xmlns=\"http://www.w3.org/2000/svg\" height=\"24px\" viewBox=\"0 -960 960 960\">\n",
              "    <path d=\"M120-120v-720h720v720H120Zm60-500h600v-160H180v160Zm220 220h160v-160H400v160Zm0 220h160v-160H400v160ZM180-400h160v-160H180v160Zm440 0h160v-160H620v160ZM180-180h160v-160H180v160Zm440 0h160v-160H620v160Z\"/>\n",
              "  </svg>\n",
              "    </button>\n",
              "\n",
              "  <style>\n",
              "    .colab-df-container {\n",
              "      display:flex;\n",
              "      gap: 12px;\n",
              "    }\n",
              "\n",
              "    .colab-df-convert {\n",
              "      background-color: #E8F0FE;\n",
              "      border: none;\n",
              "      border-radius: 50%;\n",
              "      cursor: pointer;\n",
              "      display: none;\n",
              "      fill: #1967D2;\n",
              "      height: 32px;\n",
              "      padding: 0 0 0 0;\n",
              "      width: 32px;\n",
              "    }\n",
              "\n",
              "    .colab-df-convert:hover {\n",
              "      background-color: #E2EBFA;\n",
              "      box-shadow: 0px 1px 2px rgba(60, 64, 67, 0.3), 0px 1px 3px 1px rgba(60, 64, 67, 0.15);\n",
              "      fill: #174EA6;\n",
              "    }\n",
              "\n",
              "    .colab-df-buttons div {\n",
              "      margin-bottom: 4px;\n",
              "    }\n",
              "\n",
              "    [theme=dark] .colab-df-convert {\n",
              "      background-color: #3B4455;\n",
              "      fill: #D2E3FC;\n",
              "    }\n",
              "\n",
              "    [theme=dark] .colab-df-convert:hover {\n",
              "      background-color: #434B5C;\n",
              "      box-shadow: 0px 1px 3px 1px rgba(0, 0, 0, 0.15);\n",
              "      filter: drop-shadow(0px 1px 2px rgba(0, 0, 0, 0.3));\n",
              "      fill: #FFFFFF;\n",
              "    }\n",
              "  </style>\n",
              "\n",
              "    <script>\n",
              "      const buttonEl =\n",
              "        document.querySelector('#df-a6ffeeed-faef-4216-9d00-e62e37447497 button.colab-df-convert');\n",
              "      buttonEl.style.display =\n",
              "        google.colab.kernel.accessAllowed ? 'block' : 'none';\n",
              "\n",
              "      async function convertToInteractive(key) {\n",
              "        const element = document.querySelector('#df-a6ffeeed-faef-4216-9d00-e62e37447497');\n",
              "        const dataTable =\n",
              "          await google.colab.kernel.invokeFunction('convertToInteractive',\n",
              "                                                    [key], {});\n",
              "        if (!dataTable) return;\n",
              "\n",
              "        const docLinkHtml = 'Like what you see? Visit the ' +\n",
              "          '<a target=\"_blank\" href=https://colab.research.google.com/notebooks/data_table.ipynb>data table notebook</a>'\n",
              "          + ' to learn more about interactive tables.';\n",
              "        element.innerHTML = '';\n",
              "        dataTable['output_type'] = 'display_data';\n",
              "        await google.colab.output.renderOutput(dataTable, element);\n",
              "        const docLink = document.createElement('div');\n",
              "        docLink.innerHTML = docLinkHtml;\n",
              "        element.appendChild(docLink);\n",
              "      }\n",
              "    </script>\n",
              "  </div>\n",
              "\n",
              "\n",
              "<div id=\"df-c33df535-dab5-4c55-9a4c-dfd0146b16ec\">\n",
              "  <button class=\"colab-df-quickchart\" onclick=\"quickchart('df-c33df535-dab5-4c55-9a4c-dfd0146b16ec')\"\n",
              "            title=\"Suggest charts\"\n",
              "            style=\"display:none;\">\n",
              "\n",
              "<svg xmlns=\"http://www.w3.org/2000/svg\" height=\"24px\"viewBox=\"0 0 24 24\"\n",
              "     width=\"24px\">\n",
              "    <g>\n",
              "        <path d=\"M19 3H5c-1.1 0-2 .9-2 2v14c0 1.1.9 2 2 2h14c1.1 0 2-.9 2-2V5c0-1.1-.9-2-2-2zM9 17H7v-7h2v7zm4 0h-2V7h2v10zm4 0h-2v-4h2v4z\"/>\n",
              "    </g>\n",
              "</svg>\n",
              "  </button>\n",
              "\n",
              "<style>\n",
              "  .colab-df-quickchart {\n",
              "      --bg-color: #E8F0FE;\n",
              "      --fill-color: #1967D2;\n",
              "      --hover-bg-color: #E2EBFA;\n",
              "      --hover-fill-color: #174EA6;\n",
              "      --disabled-fill-color: #AAA;\n",
              "      --disabled-bg-color: #DDD;\n",
              "  }\n",
              "\n",
              "  [theme=dark] .colab-df-quickchart {\n",
              "      --bg-color: #3B4455;\n",
              "      --fill-color: #D2E3FC;\n",
              "      --hover-bg-color: #434B5C;\n",
              "      --hover-fill-color: #FFFFFF;\n",
              "      --disabled-bg-color: #3B4455;\n",
              "      --disabled-fill-color: #666;\n",
              "  }\n",
              "\n",
              "  .colab-df-quickchart {\n",
              "    background-color: var(--bg-color);\n",
              "    border: none;\n",
              "    border-radius: 50%;\n",
              "    cursor: pointer;\n",
              "    display: none;\n",
              "    fill: var(--fill-color);\n",
              "    height: 32px;\n",
              "    padding: 0;\n",
              "    width: 32px;\n",
              "  }\n",
              "\n",
              "  .colab-df-quickchart:hover {\n",
              "    background-color: var(--hover-bg-color);\n",
              "    box-shadow: 0 1px 2px rgba(60, 64, 67, 0.3), 0 1px 3px 1px rgba(60, 64, 67, 0.15);\n",
              "    fill: var(--button-hover-fill-color);\n",
              "  }\n",
              "\n",
              "  .colab-df-quickchart-complete:disabled,\n",
              "  .colab-df-quickchart-complete:disabled:hover {\n",
              "    background-color: var(--disabled-bg-color);\n",
              "    fill: var(--disabled-fill-color);\n",
              "    box-shadow: none;\n",
              "  }\n",
              "\n",
              "  .colab-df-spinner {\n",
              "    border: 2px solid var(--fill-color);\n",
              "    border-color: transparent;\n",
              "    border-bottom-color: var(--fill-color);\n",
              "    animation:\n",
              "      spin 1s steps(1) infinite;\n",
              "  }\n",
              "\n",
              "  @keyframes spin {\n",
              "    0% {\n",
              "      border-color: transparent;\n",
              "      border-bottom-color: var(--fill-color);\n",
              "      border-left-color: var(--fill-color);\n",
              "    }\n",
              "    20% {\n",
              "      border-color: transparent;\n",
              "      border-left-color: var(--fill-color);\n",
              "      border-top-color: var(--fill-color);\n",
              "    }\n",
              "    30% {\n",
              "      border-color: transparent;\n",
              "      border-left-color: var(--fill-color);\n",
              "      border-top-color: var(--fill-color);\n",
              "      border-right-color: var(--fill-color);\n",
              "    }\n",
              "    40% {\n",
              "      border-color: transparent;\n",
              "      border-right-color: var(--fill-color);\n",
              "      border-top-color: var(--fill-color);\n",
              "    }\n",
              "    60% {\n",
              "      border-color: transparent;\n",
              "      border-right-color: var(--fill-color);\n",
              "    }\n",
              "    80% {\n",
              "      border-color: transparent;\n",
              "      border-right-color: var(--fill-color);\n",
              "      border-bottom-color: var(--fill-color);\n",
              "    }\n",
              "    90% {\n",
              "      border-color: transparent;\n",
              "      border-bottom-color: var(--fill-color);\n",
              "    }\n",
              "  }\n",
              "</style>\n",
              "\n",
              "  <script>\n",
              "    async function quickchart(key) {\n",
              "      const quickchartButtonEl =\n",
              "        document.querySelector('#' + key + ' button');\n",
              "      quickchartButtonEl.disabled = true;  // To prevent multiple clicks.\n",
              "      quickchartButtonEl.classList.add('colab-df-spinner');\n",
              "      try {\n",
              "        const charts = await google.colab.kernel.invokeFunction(\n",
              "            'suggestCharts', [key], {});\n",
              "      } catch (error) {\n",
              "        console.error('Error during call to suggestCharts:', error);\n",
              "      }\n",
              "      quickchartButtonEl.classList.remove('colab-df-spinner');\n",
              "      quickchartButtonEl.classList.add('colab-df-quickchart-complete');\n",
              "    }\n",
              "    (() => {\n",
              "      let quickchartButtonEl =\n",
              "        document.querySelector('#df-c33df535-dab5-4c55-9a4c-dfd0146b16ec button');\n",
              "      quickchartButtonEl.style.display =\n",
              "        google.colab.kernel.accessAllowed ? 'block' : 'none';\n",
              "    })();\n",
              "  </script>\n",
              "</div>\n",
              "\n",
              "    </div>\n",
              "  </div>\n"
            ]
          },
          "metadata": {},
          "execution_count": 139
        }
      ]
    },
    {
      "cell_type": "code",
      "source": [],
      "metadata": {
        "id": "J45AKiz6Bixw"
      },
      "execution_count": null,
      "outputs": []
    }
  ],
  "metadata": {
    "accelerator": "GPU",
    "colab": {
      "provenance": [],
      "toc_visible": true,
      "include_colab_link": true
    },
    "kernelspec": {
      "display_name": "Python 3",
      "name": "python3"
    },
    "language_info": {
      "name": "python"
    },
    "widgets": {
      "application/vnd.jupyter.widget-state+json": {
        "75c22224de9348e696fd7a9346ac4379": {
          "model_module": "catboost-widget",
          "model_name": "CatboostWidgetModel",
          "model_module_version": "^1.0.0",
          "state": {
            "_dom_classes": [],
            "_model_module": "catboost-widget",
            "_model_module_version": "^1.0.0",
            "_model_name": "CatboostWidgetModel",
            "_view_count": null,
            "_view_module": "catboost-widget",
            "_view_module_version": "^1.0.0",
            "_view_name": "CatboostWidgetView",
            "data": {
              "catboost_info": {
                "path": "catboost_info",
                "name": "catboost_info",
                "content": {
                  "passed_iterations": 1999,
                  "total_iterations": 2000,
                  "data": {
                    "iterations": [
                      {
                        "learn": [
                          0.6865617838,
                          0.8444910297
                        ],
                        "iteration": 0,
                        "passed_time": 0.03802937371,
                        "remaining_time": 76.02071805,
                        "test": [
                          0.6959580909,
                          0.8600254704
                        ]
                      },
                      {
                        "learn": [
                          0.6858206951,
                          0.8438291175
                        ],
                        "iteration": 5,
                        "passed_time": 0.2312999618,
                        "remaining_time": 76.86868731,
                        "test": [
                          0.69508324,
                          0.8592880368
                        ]
                      },
                      {
                        "learn": [
                          0.684822057,
                          0.8429575926
                        ],
                        "iteration": 10,
                        "passed_time": 0.3814176636,
                        "remaining_time": 68.96724844,
                        "test": [
                          0.6939467515,
                          0.8583273351
                        ]
                      },
                      {
                        "learn": [
                          0.6840690311,
                          0.8422427353
                        ],
                        "iteration": 15,
                        "passed_time": 0.5107840137,
                        "remaining_time": 63.3372177,
                        "test": [
                          0.6932339525,
                          0.8576763394
                        ]
                      },
                      {
                        "learn": [
                          0.6827570819,
                          0.8411539524
                        ],
                        "iteration": 20,
                        "passed_time": 0.6557034629,
                        "remaining_time": 61.79224539,
                        "test": [
                          0.6915234964,
                          0.856379117
                        ]
                      },
                      {
                        "learn": [
                          0.6816003982,
                          0.8402184958
                        ],
                        "iteration": 25,
                        "passed_time": 0.7836322682,
                        "remaining_time": 59.49577298,
                        "test": [
                          0.6899840859,
                          0.8551991072
                        ]
                      },
                      {
                        "learn": [
                          0.6809822793,
                          0.8396495255
                        ],
                        "iteration": 30,
                        "passed_time": 0.8985142371,
                        "remaining_time": 57.07014622,
                        "test": [
                          0.6893846904,
                          0.8547329989
                        ]
                      },
                      {
                        "learn": [
                          0.6801093089,
                          0.8389215673
                        ],
                        "iteration": 35,
                        "passed_time": 1.047599941,
                        "remaining_time": 57.1523968,
                        "test": [
                          0.6883835994,
                          0.8539427882
                        ]
                      },
                      {
                        "learn": [
                          0.6789809966,
                          0.8380378168
                        ],
                        "iteration": 40,
                        "passed_time": 1.174848619,
                        "remaining_time": 56.13484012,
                        "test": [
                          0.6868939,
                          0.8528601701
                        ]
                      },
                      {
                        "learn": [
                          0.6777967183,
                          0.8370736779
                        ],
                        "iteration": 45,
                        "passed_time": 1.305646113,
                        "remaining_time": 55.4615762,
                        "test": [
                          0.6854678114,
                          0.8518521004
                        ]
                      },
                      {
                        "learn": [
                          0.6764855458,
                          0.8360691643
                        ],
                        "iteration": 50,
                        "passed_time": 1.43781955,
                        "remaining_time": 54.94726086,
                        "test": [
                          0.683633895,
                          0.8505170119
                        ]
                      },
                      {
                        "learn": [
                          0.6754348254,
                          0.835281706
                        ],
                        "iteration": 55,
                        "passed_time": 1.568002071,
                        "remaining_time": 54.43207188,
                        "test": [
                          0.6822800429,
                          0.8495423976
                        ]
                      },
                      {
                        "learn": [
                          0.6741408637,
                          0.834283316
                        ],
                        "iteration": 60,
                        "passed_time": 1.696944665,
                        "remaining_time": 53.94058533,
                        "test": [
                          0.6806682732,
                          0.848429832
                        ]
                      },
                      {
                        "learn": [
                          0.6732624562,
                          0.833587699
                        ],
                        "iteration": 65,
                        "passed_time": 1.815815704,
                        "remaining_time": 53.2089026,
                        "test": [
                          0.6795280646,
                          0.8476107877
                        ]
                      },
                      {
                        "learn": [
                          0.6721178324,
                          0.8327226381
                        ],
                        "iteration": 70,
                        "passed_time": 1.957982771,
                        "remaining_time": 53.19646148,
                        "test": [
                          0.6780361577,
                          0.8465724677
                        ]
                      },
                      {
                        "learn": [
                          0.6712276104,
                          0.8320352974
                        ],
                        "iteration": 75,
                        "passed_time": 2.082515022,
                        "remaining_time": 52.72051189,
                        "test": [
                          0.6770567744,
                          0.8459079314
                        ]
                      },
                      {
                        "learn": [
                          0.6703160893,
                          0.831361993
                        ],
                        "iteration": 80,
                        "passed_time": 2.208420547,
                        "remaining_time": 52.32048186,
                        "test": [
                          0.675793269,
                          0.8450212795
                        ]
                      },
                      {
                        "learn": [
                          0.6693854361,
                          0.8306872571
                        ],
                        "iteration": 85,
                        "passed_time": 2.343298686,
                        "remaining_time": 52.1520196,
                        "test": [
                          0.6745486914,
                          0.844177427
                        ]
                      },
                      {
                        "learn": [
                          0.6683938294,
                          0.8299841441
                        ],
                        "iteration": 90,
                        "passed_time": 2.465492004,
                        "remaining_time": 51.72114545,
                        "test": [
                          0.6732748431,
                          0.8433495025
                        ]
                      },
                      {
                        "learn": [
                          0.6677130401,
                          0.8294571944
                        ],
                        "iteration": 95,
                        "passed_time": 2.600652647,
                        "remaining_time": 51.57961082,
                        "test": [
                          0.6723710895,
                          0.8426636013
                        ]
                      },
                      {
                        "learn": [
                          0.666341323,
                          0.828522199
                        ],
                        "iteration": 100,
                        "passed_time": 2.738156935,
                        "remaining_time": 51.48277247,
                        "test": [
                          0.6704265086,
                          0.8414485198
                        ]
                      },
                      {
                        "learn": [
                          0.6648943033,
                          0.8275393664
                        ],
                        "iteration": 105,
                        "passed_time": 2.871827008,
                        "remaining_time": 51.31358823,
                        "test": [
                          0.6683250269,
                          0.8401458506
                        ]
                      },
                      {
                        "learn": [
                          0.6638261267,
                          0.8268100414
                        ],
                        "iteration": 110,
                        "passed_time": 3.001861196,
                        "remaining_time": 51.08572792,
                        "test": [
                          0.6669118566,
                          0.8392532575
                        ]
                      },
                      {
                        "learn": [
                          0.6627897555,
                          0.826111274
                        ],
                        "iteration": 115,
                        "passed_time": 3.120650467,
                        "remaining_time": 50.68366793,
                        "test": [
                          0.6655887468,
                          0.8384198365
                        ]
                      },
                      {
                        "learn": [
                          0.6618555047,
                          0.8254847673
                        ],
                        "iteration": 120,
                        "passed_time": 3.242266952,
                        "remaining_time": 50.34892233,
                        "test": [
                          0.6643666946,
                          0.8376526946
                        ]
                      },
                      {
                        "learn": [
                          0.6610104969,
                          0.824899861
                        ],
                        "iteration": 125,
                        "passed_time": 3.380261159,
                        "remaining_time": 50.27467788,
                        "test": [
                          0.6633506821,
                          0.8370193196
                        ]
                      },
                      {
                        "learn": [
                          0.6601363819,
                          0.8243166723
                        ],
                        "iteration": 130,
                        "passed_time": 3.503687992,
                        "remaining_time": 49.98773173,
                        "test": [
                          0.662140935,
                          0.8362928849
                        ]
                      },
                      {
                        "learn": [
                          0.6594964735,
                          0.8238692905
                        ],
                        "iteration": 135,
                        "passed_time": 3.64403212,
                        "remaining_time": 49.94467553,
                        "test": [
                          0.6613336603,
                          0.8357829239
                        ]
                      },
                      {
                        "learn": [
                          0.6584849169,
                          0.8231983205
                        ],
                        "iteration": 140,
                        "passed_time": 3.768915747,
                        "remaining_time": 49.69088208,
                        "test": [
                          0.6600270664,
                          0.8350310821
                        ]
                      },
                      {
                        "learn": [
                          0.6580404191,
                          0.8229020143
                        ],
                        "iteration": 145,
                        "passed_time": 3.890673394,
                        "remaining_time": 49.40622241,
                        "test": [
                          0.6594008531,
                          0.834607102
                        ]
                      },
                      {
                        "learn": [
                          0.6572555062,
                          0.8223920015
                        ],
                        "iteration": 150,
                        "passed_time": 4.009958223,
                        "remaining_time": 49.10207123,
                        "test": [
                          0.6582811666,
                          0.8339694042
                        ]
                      },
                      {
                        "learn": [
                          0.6563737464,
                          0.8218225534
                        ],
                        "iteration": 155,
                        "passed_time": 4.134065169,
                        "remaining_time": 48.86677034,
                        "test": [
                          0.6571135677,
                          0.8332804427
                        ]
                      },
                      {
                        "learn": [
                          0.6556429189,
                          0.8213740122
                        ],
                        "iteration": 160,
                        "passed_time": 4.251087544,
                        "remaining_time": 48.55745338,
                        "test": [
                          0.6561414204,
                          0.8327275965
                        ]
                      },
                      {
                        "learn": [
                          0.6544895057,
                          0.8206420225
                        ],
                        "iteration": 165,
                        "passed_time": 4.379024952,
                        "remaining_time": 48.38031182,
                        "test": [
                          0.6546347555,
                          0.831884247
                        ]
                      },
                      {
                        "learn": [
                          0.6534387444,
                          0.8200019147
                        ],
                        "iteration": 170,
                        "passed_time": 4.502972798,
                        "remaining_time": 48.16337571,
                        "test": [
                          0.6532553119,
                          0.8311473727
                        ]
                      },
                      {
                        "learn": [
                          0.6523148063,
                          0.8193255323
                        ],
                        "iteration": 175,
                        "passed_time": 4.642089256,
                        "remaining_time": 48.10892501,
                        "test": [
                          0.6517025334,
                          0.8303148256
                        ]
                      },
                      {
                        "learn": [
                          0.6513430678,
                          0.8187359014
                        ],
                        "iteration": 180,
                        "passed_time": 4.794845918,
                        "remaining_time": 48.18687693,
                        "test": [
                          0.6503589423,
                          0.8296166695
                        ]
                      },
                      {
                        "learn": [
                          0.6503774205,
                          0.8181506424
                        ],
                        "iteration": 185,
                        "passed_time": 4.927513337,
                        "remaining_time": 48.05650104,
                        "test": [
                          0.6490364049,
                          0.8289231532
                        ]
                      },
                      {
                        "learn": [
                          0.6494739121,
                          0.8175942658
                        ],
                        "iteration": 190,
                        "passed_time": 5.053181376,
                        "remaining_time": 47.85971262,
                        "test": [
                          0.6478515134,
                          0.8283042271
                        ]
                      },
                      {
                        "learn": [
                          0.6485801743,
                          0.817052696
                        ],
                        "iteration": 195,
                        "passed_time": 5.181542157,
                        "remaining_time": 47.691337,
                        "test": [
                          0.646764409,
                          0.8277488969
                        ]
                      },
                      {
                        "learn": [
                          0.6478513499,
                          0.816632823
                        ],
                        "iteration": 200,
                        "passed_time": 5.338537614,
                        "remaining_time": 47.78123964,
                        "test": [
                          0.6458503125,
                          0.8272785152
                        ]
                      },
                      {
                        "learn": [
                          0.6471451736,
                          0.8162121581
                        ],
                        "iteration": 205,
                        "passed_time": 5.667452375,
                        "remaining_time": 49.35635709,
                        "test": [
                          0.6448870363,
                          0.8267678398
                        ]
                      },
                      {
                        "learn": [
                          0.6466248008,
                          0.8158956528
                        ],
                        "iteration": 210,
                        "passed_time": 6.106018504,
                        "remaining_time": 51.77093414,
                        "test": [
                          0.6441616051,
                          0.8263800378
                        ]
                      },
                      {
                        "learn": [
                          0.6456655718,
                          0.8153576678
                        ],
                        "iteration": 215,
                        "passed_time": 6.603906413,
                        "remaining_time": 54.54337519,
                        "test": [
                          0.64289765,
                          0.8257546014
                        ]
                      },
                      {
                        "learn": [
                          0.644738189,
                          0.8148300893
                        ],
                        "iteration": 220,
                        "passed_time": 6.801425147,
                        "remaining_time": 54.74993365,
                        "test": [
                          0.6416511101,
                          0.8251481866
                        ]
                      },
                      {
                        "learn": [
                          0.6439817292,
                          0.8143708446
                        ],
                        "iteration": 225,
                        "passed_time": 7.055479884,
                        "remaining_time": 55.38239519,
                        "test": [
                          0.6406767961,
                          0.824667101
                        ]
                      },
                      {
                        "learn": [
                          0.6432735906,
                          0.8139691257
                        ],
                        "iteration": 230,
                        "passed_time": 7.568359072,
                        "remaining_time": 57.9585593,
                        "test": [
                          0.6397195702,
                          0.8242039382
                        ]
                      },
                      {
                        "learn": [
                          0.6422666127,
                          0.8134280823
                        ],
                        "iteration": 235,
                        "passed_time": 8.054264537,
                        "remaining_time": 60.20221459,
                        "test": [
                          0.6383591363,
                          0.8235207561
                        ]
                      },
                      {
                        "learn": [
                          0.6413664157,
                          0.8129423742
                        ],
                        "iteration": 240,
                        "passed_time": 8.466981241,
                        "remaining_time": 61.79842325,
                        "test": [
                          0.6372143898,
                          0.8230179567
                        ]
                      },
                      {
                        "learn": [
                          0.6409282135,
                          0.8126800823
                        ],
                        "iteration": 245,
                        "passed_time": 8.67316289,
                        "remaining_time": 61.84035654,
                        "test": [
                          0.6366252963,
                          0.8227037218
                        ]
                      },
                      {
                        "learn": [
                          0.640285566,
                          0.8123292132
                        ],
                        "iteration": 250,
                        "passed_time": 8.828516782,
                        "remaining_time": 61.51823049,
                        "test": [
                          0.6357181087,
                          0.8222361219
                        ]
                      },
                      {
                        "learn": [
                          0.6395933301,
                          0.8119308394
                        ],
                        "iteration": 255,
                        "passed_time": 9.113031703,
                        "remaining_time": 62.08252848,
                        "test": [
                          0.6348329967,
                          0.821802158
                        ]
                      },
                      {
                        "learn": [
                          0.6388631158,
                          0.8115269051
                        ],
                        "iteration": 260,
                        "passed_time": 9.358684145,
                        "remaining_time": 62.35537061,
                        "test": [
                          0.6339153844,
                          0.8213722453
                        ]
                      },
                      {
                        "learn": [
                          0.638006089,
                          0.811048703
                        ],
                        "iteration": 265,
                        "passed_time": 9.481617381,
                        "remaining_time": 61.80873887,
                        "test": [
                          0.6327865815,
                          0.8208589662
                        ]
                      },
                      {
                        "learn": [
                          0.6373855989,
                          0.810723904
                        ],
                        "iteration": 270,
                        "passed_time": 9.602058881,
                        "remaining_time": 61.2618443,
                        "test": [
                          0.6319360139,
                          0.8204596517
                        ]
                      },
                      {
                        "learn": [
                          0.6368691916,
                          0.8104212965
                        ],
                        "iteration": 275,
                        "passed_time": 9.734080691,
                        "remaining_time": 60.80273591,
                        "test": [
                          0.6312775047,
                          0.8201417699
                        ]
                      },
                      {
                        "learn": [
                          0.6364072786,
                          0.8101801132
                        ],
                        "iteration": 280,
                        "passed_time": 9.882752944,
                        "remaining_time": 60.45712566,
                        "test": [
                          0.6306978546,
                          0.8198561518
                        ]
                      },
                      {
                        "learn": [
                          0.635616765,
                          0.8097687426
                        ],
                        "iteration": 285,
                        "passed_time": 10.00781255,
                        "remaining_time": 59.97689062,
                        "test": [
                          0.629691817,
                          0.8194202291
                        ]
                      },
                      {
                        "learn": [
                          0.6349365888,
                          0.8093842866
                        ],
                        "iteration": 290,
                        "passed_time": 10.13131153,
                        "remaining_time": 59.49969555,
                        "test": [
                          0.6287702393,
                          0.8189553967
                        ]
                      },
                      {
                        "learn": [
                          0.6343207592,
                          0.8090411846
                        ],
                        "iteration": 295,
                        "passed_time": 10.25995609,
                        "remaining_time": 59.06407155,
                        "test": [
                          0.6280038045,
                          0.8186019237
                        ]
                      },
                      {
                        "learn": [
                          0.633882598,
                          0.8087746958
                        ],
                        "iteration": 300,
                        "passed_time": 10.38277455,
                        "remaining_time": 58.60576068,
                        "test": [
                          0.6274897275,
                          0.8183567571
                        ]
                      },
                      {
                        "learn": [
                          0.6333503289,
                          0.8084127764
                        ],
                        "iteration": 305,
                        "passed_time": 10.50695134,
                        "remaining_time": 58.16593323,
                        "test": [
                          0.6267878436,
                          0.8179613439
                        ]
                      },
                      {
                        "learn": [
                          0.6326656559,
                          0.8080292435
                        ],
                        "iteration": 310,
                        "passed_time": 10.62726523,
                        "remaining_time": 57.71527644,
                        "test": [
                          0.6259186752,
                          0.817535262
                        ]
                      },
                      {
                        "learn": [
                          0.6321660506,
                          0.8077106958
                        ],
                        "iteration": 315,
                        "passed_time": 10.76100043,
                        "remaining_time": 57.34659722,
                        "test": [
                          0.6253306446,
                          0.8172586373
                        ]
                      },
                      {
                        "learn": [
                          0.6315731143,
                          0.8073744524
                        ],
                        "iteration": 320,
                        "passed_time": 10.92419538,
                        "remaining_time": 57.13932725,
                        "test": [
                          0.6245467128,
                          0.8168818601
                        ]
                      },
                      {
                        "learn": [
                          0.6309551589,
                          0.8070613195
                        ],
                        "iteration": 325,
                        "passed_time": 11.05655503,
                        "remaining_time": 56.77507091,
                        "test": [
                          0.6237456519,
                          0.8165047588
                        ]
                      },
                      {
                        "learn": [
                          0.6304266509,
                          0.8067529044
                        ],
                        "iteration": 330,
                        "passed_time": 11.18434388,
                        "remaining_time": 56.39477322,
                        "test": [
                          0.6231669421,
                          0.816232593
                        ]
                      },
                      {
                        "learn": [
                          0.6298169943,
                          0.8063991521
                        ],
                        "iteration": 335,
                        "passed_time": 11.31483805,
                        "remaining_time": 56.03538842,
                        "test": [
                          0.6223397175,
                          0.8158393573
                        ]
                      },
                      {
                        "learn": [
                          0.6293036122,
                          0.8061012351
                        ],
                        "iteration": 340,
                        "passed_time": 11.43740347,
                        "remaining_time": 55.64414182,
                        "test": [
                          0.621719391,
                          0.8155519066
                        ]
                      },
                      {
                        "learn": [
                          0.6287389654,
                          0.8058207361
                        ],
                        "iteration": 345,
                        "passed_time": 11.55327461,
                        "remaining_time": 55.22865954,
                        "test": [
                          0.6209247484,
                          0.8151770235
                        ]
                      },
                      {
                        "learn": [
                          0.6283649054,
                          0.8055897964
                        ],
                        "iteration": 350,
                        "passed_time": 11.68327707,
                        "remaining_time": 54.88810226,
                        "test": [
                          0.6204991785,
                          0.8149870092
                        ]
                      },
                      {
                        "learn": [
                          0.6278517277,
                          0.8052920115
                        ],
                        "iteration": 355,
                        "passed_time": 11.81337142,
                        "remaining_time": 54.55388375,
                        "test": [
                          0.6199079591,
                          0.8147265547
                        ]
                      },
                      {
                        "learn": [
                          0.6274461076,
                          0.8050418775
                        ],
                        "iteration": 360,
                        "passed_time": 11.97448227,
                        "remaining_time": 54.36613975,
                        "test": [
                          0.6193559037,
                          0.8144477965
                        ]
                      },
                      {
                        "learn": [
                          0.6272072406,
                          0.8048658765
                        ],
                        "iteration": 365,
                        "passed_time": 12.09799225,
                        "remaining_time": 54.01125502,
                        "test": [
                          0.6191374772,
                          0.8143004119
                        ]
                      },
                      {
                        "learn": [
                          0.626968578,
                          0.8047200135
                        ],
                        "iteration": 370,
                        "passed_time": 12.22857143,
                        "remaining_time": 53.69364651,
                        "test": [
                          0.6188470594,
                          0.814133116
                        ]
                      },
                      {
                        "learn": [
                          0.6265729328,
                          0.8044949828
                        ],
                        "iteration": 375,
                        "passed_time": 12.35210309,
                        "remaining_time": 53.35057293,
                        "test": [
                          0.6183301206,
                          0.8138715846
                        ]
                      },
                      {
                        "learn": [
                          0.6261688253,
                          0.8042286142
                        ],
                        "iteration": 380,
                        "passed_time": 12.48279897,
                        "remaining_time": 53.04370481,
                        "test": [
                          0.6178164932,
                          0.8136444122
                        ]
                      },
                      {
                        "learn": [
                          0.6255837381,
                          0.8038672671
                        ],
                        "iteration": 385,
                        "passed_time": 12.60991684,
                        "remaining_time": 52.72643985,
                        "test": [
                          0.6170585617,
                          0.8132962461
                        ]
                      },
                      {
                        "learn": [
                          0.6251311459,
                          0.8036213188
                        ],
                        "iteration": 390,
                        "passed_time": 12.74324628,
                        "remaining_time": 52.43959914,
                        "test": [
                          0.6164291596,
                          0.8130094802
                        ]
                      },
                      {
                        "learn": [
                          0.6247951459,
                          0.8034457953
                        ],
                        "iteration": 395,
                        "passed_time": 12.86661866,
                        "remaining_time": 52.11630385,
                        "test": [
                          0.6159560861,
                          0.8127858392
                        ]
                      },
                      {
                        "learn": [
                          0.6244327369,
                          0.8032327244
                        ],
                        "iteration": 400,
                        "passed_time": 13.01701444,
                        "remaining_time": 51.90575085,
                        "test": [
                          0.6155917965,
                          0.8126289721
                        ]
                      },
                      {
                        "learn": [
                          0.6241367593,
                          0.8030267241
                        ],
                        "iteration": 405,
                        "passed_time": 13.14273764,
                        "remaining_time": 51.59981232,
                        "test": [
                          0.6152892371,
                          0.812470691
                        ]
                      },
                      {
                        "learn": [
                          0.6238082814,
                          0.8028056235
                        ],
                        "iteration": 410,
                        "passed_time": 13.26518826,
                        "remaining_time": 51.28560619,
                        "test": [
                          0.6148985386,
                          0.8122743062
                        ]
                      },
                      {
                        "learn": [
                          0.6235421469,
                          0.8026307111
                        ],
                        "iteration": 415,
                        "passed_time": 13.39973852,
                        "remaining_time": 51.02208131,
                        "test": [
                          0.6146097151,
                          0.8121464355
                        ]
                      },
                      {
                        "learn": [
                          0.6232426127,
                          0.8024347201
                        ],
                        "iteration": 420,
                        "passed_time": 13.52780994,
                        "remaining_time": 50.73732041,
                        "test": [
                          0.6142309946,
                          0.8119040527
                        ]
                      },
                      {
                        "learn": [
                          0.6228404265,
                          0.8021858865
                        ],
                        "iteration": 425,
                        "passed_time": 13.66166732,
                        "remaining_time": 50.47761586,
                        "test": [
                          0.6137218233,
                          0.8116669615
                        ]
                      },
                      {
                        "learn": [
                          0.622494002,
                          0.8019999051
                        ],
                        "iteration": 430,
                        "passed_time": 13.79024417,
                        "remaining_time": 50.20160811,
                        "test": [
                          0.6132079506,
                          0.8114581148
                        ]
                      },
                      {
                        "learn": [
                          0.6223116732,
                          0.8018603525
                        ],
                        "iteration": 435,
                        "passed_time": 13.94341202,
                        "remaining_time": 50.01719358,
                        "test": [
                          0.6130731663,
                          0.8114100009
                        ]
                      },
                      {
                        "learn": [
                          0.6220369946,
                          0.801699155
                        ],
                        "iteration": 440,
                        "passed_time": 14.06836709,
                        "remaining_time": 49.73375124,
                        "test": [
                          0.6127172574,
                          0.8112332146
                        ]
                      },
                      {
                        "learn": [
                          0.621727649,
                          0.801505461
                        ],
                        "iteration": 445,
                        "passed_time": 14.19713028,
                        "remaining_time": 49.46713105,
                        "test": [
                          0.6123996129,
                          0.8111153608
                        ]
                      },
                      {
                        "learn": [
                          0.6213262396,
                          0.8012740939
                        ],
                        "iteration": 450,
                        "passed_time": 14.32389118,
                        "remaining_time": 49.19669056,
                        "test": [
                          0.612000452,
                          0.81097284
                        ]
                      },
                      {
                        "learn": [
                          0.6210417086,
                          0.8011246938
                        ],
                        "iteration": 455,
                        "passed_time": 14.44590155,
                        "remaining_time": 48.91331576,
                        "test": [
                          0.6116062376,
                          0.8107892019
                        ]
                      },
                      {
                        "learn": [
                          0.6207192811,
                          0.8009472706
                        ],
                        "iteration": 460,
                        "passed_time": 14.57735741,
                        "remaining_time": 48.66497408,
                        "test": [
                          0.611167177,
                          0.8105806839
                        ]
                      },
                      {
                        "learn": [
                          0.62042314,
                          0.8007758066
                        ],
                        "iteration": 465,
                        "passed_time": 14.70629316,
                        "remaining_time": 48.41084486,
                        "test": [
                          0.6108007616,
                          0.8104407929
                        ]
                      },
                      {
                        "learn": [
                          0.6201809208,
                          0.800630373
                        ],
                        "iteration": 470,
                        "passed_time": 14.84194661,
                        "remaining_time": 48.18118124,
                        "test": [
                          0.610523671,
                          0.810290409
                        ]
                      },
                      {
                        "learn": [
                          0.6199706295,
                          0.8004624928
                        ],
                        "iteration": 475,
                        "passed_time": 15.02307765,
                        "remaining_time": 48.09909736,
                        "test": [
                          0.6102895053,
                          0.8101464815
                        ]
                      },
                      {
                        "learn": [
                          0.6196777998,
                          0.8003065816
                        ],
                        "iteration": 480,
                        "passed_time": 15.1704872,
                        "remaining_time": 47.90846167,
                        "test": [
                          0.6098861337,
                          0.8099717159
                        ]
                      },
                      {
                        "learn": [
                          0.6193377526,
                          0.8001216962
                        ],
                        "iteration": 485,
                        "passed_time": 15.3065082,
                        "remaining_time": 47.68323747,
                        "test": [
                          0.6094568844,
                          0.809787245
                        ]
                      },
                      {
                        "learn": [
                          0.6189108744,
                          0.7998672365
                        ],
                        "iteration": 490,
                        "passed_time": 15.43036366,
                        "remaining_time": 47.42244147,
                        "test": [
                          0.6089230619,
                          0.8095549119
                        ]
                      },
                      {
                        "learn": [
                          0.6186696772,
                          0.7997276952
                        ],
                        "iteration": 495,
                        "passed_time": 15.55256452,
                        "remaining_time": 47.15938919,
                        "test": [
                          0.6086317038,
                          0.8094468643
                        ]
                      },
                      {
                        "learn": [
                          0.618394876,
                          0.799549783
                        ],
                        "iteration": 500,
                        "passed_time": 15.67735535,
                        "remaining_time": 46.90689754,
                        "test": [
                          0.60841851,
                          0.8093714573
                        ]
                      },
                      {
                        "learn": [
                          0.6181523706,
                          0.7993918272
                        ],
                        "iteration": 505,
                        "passed_time": 15.80507219,
                        "remaining_time": 46.66556887,
                        "test": [
                          0.6081389257,
                          0.8092273411
                        ]
                      },
                      {
                        "learn": [
                          0.6179712274,
                          0.7992390319
                        ],
                        "iteration": 510,
                        "passed_time": 15.94423834,
                        "remaining_time": 46.4598256,
                        "test": [
                          0.6079648549,
                          0.8091004541
                        ]
                      },
                      {
                        "learn": [
                          0.617732851,
                          0.7990872562
                        ],
                        "iteration": 515,
                        "passed_time": 16.07498282,
                        "remaining_time": 46.23115215,
                        "test": [
                          0.6077146639,
                          0.8089803946
                        ]
                      },
                      {
                        "learn": [
                          0.6174718674,
                          0.7989014234
                        ],
                        "iteration": 520,
                        "passed_time": 16.2042257,
                        "remaining_time": 46.0000956,
                        "test": [
                          0.6074466488,
                          0.8088354254
                        ]
                      },
                      {
                        "learn": [
                          0.6171983334,
                          0.7987008064
                        ],
                        "iteration": 525,
                        "passed_time": 16.33594046,
                        "remaining_time": 45.7779016,
                        "test": [
                          0.6071632217,
                          0.8086851221
                        ]
                      },
                      {
                        "learn": [
                          0.6171080684,
                          0.7986288381
                        ],
                        "iteration": 530,
                        "passed_time": 16.46022926,
                        "remaining_time": 45.53686776,
                        "test": [
                          0.6070953185,
                          0.808621727
                        ]
                      },
                      {
                        "learn": [
                          0.6169398027,
                          0.7985133734
                        ],
                        "iteration": 535,
                        "passed_time": 16.58665953,
                        "remaining_time": 45.30386111,
                        "test": [
                          0.6069668299,
                          0.8085678829
                        ]
                      },
                      {
                        "learn": [
                          0.6167639332,
                          0.7983767957
                        ],
                        "iteration": 540,
                        "passed_time": 16.71715517,
                        "remaining_time": 45.08378815,
                        "test": [
                          0.6068083347,
                          0.8084738618
                        ]
                      },
                      {
                        "learn": [
                          0.6164939967,
                          0.7982051125
                        ],
                        "iteration": 545,
                        "passed_time": 16.8388571,
                        "remaining_time": 44.84193814,
                        "test": [
                          0.6065141968,
                          0.8083708533
                        ]
                      },
                      {
                        "learn": [
                          0.6162687431,
                          0.7981071559
                        ],
                        "iteration": 550,
                        "passed_time": 16.97761197,
                        "remaining_time": 44.64711389,
                        "test": [
                          0.6062088166,
                          0.8082443377
                        ]
                      },
                      {
                        "learn": [
                          0.6161072636,
                          0.7979730959
                        ],
                        "iteration": 555,
                        "passed_time": 17.11937923,
                        "remaining_time": 44.46112161,
                        "test": [
                          0.6060269376,
                          0.8081377083
                        ]
                      },
                      {
                        "learn": [
                          0.6159476646,
                          0.7978596113
                        ],
                        "iteration": 560,
                        "passed_time": 17.23926131,
                        "remaining_time": 44.21978079,
                        "test": [
                          0.6057856586,
                          0.8080052872
                        ]
                      },
                      {
                        "learn": [
                          0.6157743706,
                          0.7977244848
                        ],
                        "iteration": 565,
                        "passed_time": 17.36342182,
                        "remaining_time": 43.9914256,
                        "test": [
                          0.6055829303,
                          0.8078630274
                        ]
                      },
                      {
                        "learn": [
                          0.615461223,
                          0.7974832037
                        ],
                        "iteration": 570,
                        "passed_time": 17.48871604,
                        "remaining_time": 43.76773243,
                        "test": [
                          0.6052073985,
                          0.8076607136
                        ]
                      },
                      {
                        "learn": [
                          0.6152657715,
                          0.7973282481
                        ],
                        "iteration": 575,
                        "passed_time": 17.6144433,
                        "remaining_time": 43.54681815,
                        "test": [
                          0.6050748627,
                          0.8076030595
                        ]
                      },
                      {
                        "learn": [
                          0.6150627162,
                          0.7972203125
                        ],
                        "iteration": 580,
                        "passed_time": 17.74667206,
                        "remaining_time": 43.34342108,
                        "test": [
                          0.6048080332,
                          0.8075017878
                        ]
                      },
                      {
                        "learn": [
                          0.6149489447,
                          0.7971194911
                        ],
                        "iteration": 585,
                        "passed_time": 17.87300046,
                        "remaining_time": 43.1270011,
                        "test": [
                          0.6047121675,
                          0.8074382998
                        ]
                      },
                      {
                        "learn": [
                          0.614762487,
                          0.797002115
                        ],
                        "iteration": 590,
                        "passed_time": 18.04117753,
                        "remaining_time": 43.01187672,
                        "test": [
                          0.6044915334,
                          0.8073533376
                        ]
                      },
                      {
                        "learn": [
                          0.6146518633,
                          0.7969208366
                        ],
                        "iteration": 595,
                        "passed_time": 18.16417603,
                        "remaining_time": 42.7894348,
                        "test": [
                          0.6043970986,
                          0.8073083719
                        ]
                      },
                      {
                        "learn": [
                          0.6144401004,
                          0.7968008915
                        ],
                        "iteration": 600,
                        "passed_time": 18.29502383,
                        "remaining_time": 42.58691904,
                        "test": [
                          0.6041469076,
                          0.8072294986
                        ]
                      },
                      {
                        "learn": [
                          0.6142781712,
                          0.7966762845
                        ],
                        "iteration": 605,
                        "passed_time": 18.42104616,
                        "remaining_time": 42.37448573,
                        "test": [
                          0.6039675223,
                          0.8071597849
                        ]
                      },
                      {
                        "learn": [
                          0.6140739712,
                          0.7965293838
                        ],
                        "iteration": 610,
                        "passed_time": 18.543535,
                        "remaining_time": 42.1554339,
                        "test": [
                          0.603773011,
                          0.8070427546
                        ]
                      },
                      {
                        "learn": [
                          0.6138725511,
                          0.7963993958
                        ],
                        "iteration": 615,
                        "passed_time": 18.66851215,
                        "remaining_time": 41.94354027,
                        "test": [
                          0.6035405215,
                          0.8069379676
                        ]
                      },
                      {
                        "learn": [
                          0.6136396118,
                          0.7962713888
                        ],
                        "iteration": 620,
                        "passed_time": 18.79351108,
                        "remaining_time": 41.73309466,
                        "test": [
                          0.6032549685,
                          0.8068240973
                        ]
                      },
                      {
                        "learn": [
                          0.6135138622,
                          0.7961899845
                        ],
                        "iteration": 625,
                        "passed_time": 18.91969722,
                        "remaining_time": 41.52661978,
                        "test": [
                          0.6031420964,
                          0.8067683596
                        ]
                      },
                      {
                        "learn": [
                          0.6134203268,
                          0.7961024353
                        ],
                        "iteration": 630,
                        "passed_time": 19.07293184,
                        "remaining_time": 41.38010093,
                        "test": [
                          0.6030673253,
                          0.8067128968
                        ]
                      },
                      {
                        "learn": [
                          0.6132981747,
                          0.7959918684
                        ],
                        "iteration": 635,
                        "passed_time": 19.19497024,
                        "remaining_time": 41.16657139,
                        "test": [
                          0.6029902648,
                          0.8066565432
                        ]
                      },
                      {
                        "learn": [
                          0.6130984307,
                          0.795831614
                        ],
                        "iteration": 640,
                        "passed_time": 19.31918,
                        "remaining_time": 40.95907274,
                        "test": [
                          0.602832996,
                          0.8065825479
                        ]
                      },
                      {
                        "learn": [
                          0.6129930807,
                          0.7957075744
                        ],
                        "iteration": 645,
                        "passed_time": 19.66150642,
                        "remaining_time": 41.21003048,
                        "test": [
                          0.6027670961,
                          0.8064863185
                        ]
                      },
                      {
                        "learn": [
                          0.6128182331,
                          0.7955628072
                        ],
                        "iteration": 650,
                        "passed_time": 20.06834033,
                        "remaining_time": 41.585547,
                        "test": [
                          0.6026172267,
                          0.8063985184
                        ]
                      },
                      {
                        "learn": [
                          0.6126559769,
                          0.7954513172
                        ],
                        "iteration": 655,
                        "passed_time": 20.61253494,
                        "remaining_time": 42.23055938,
                        "test": [
                          0.6024391496,
                          0.8063033064
                        ]
                      },
                      {
                        "learn": [
                          0.6124846451,
                          0.7952891291
                        ],
                        "iteration": 660,
                        "passed_time": 20.77041522,
                        "remaining_time": 42.07501661,
                        "test": [
                          0.6023306926,
                          0.8062578258
                        ]
                      },
                      {
                        "learn": [
                          0.6123540716,
                          0.7952046168
                        ],
                        "iteration": 665,
                        "passed_time": 21.06009778,
                        "remaining_time": 42.1834391,
                        "test": [
                          0.602226569,
                          0.8062254757
                        ]
                      },
                      {
                        "learn": [
                          0.6121930827,
                          0.7950864181
                        ],
                        "iteration": 670,
                        "passed_time": 21.41278881,
                        "remaining_time": 42.41072478,
                        "test": [
                          0.6020466114,
                          0.8061185792
                        ]
                      },
                      {
                        "learn": [
                          0.6120626318,
                          0.7949851718
                        ],
                        "iteration": 675,
                        "passed_time": 21.80752758,
                        "remaining_time": 42.71178479,
                        "test": [
                          0.6019598622,
                          0.806066774
                        ]
                      },
                      {
                        "learn": [
                          0.6119272343,
                          0.7948747322
                        ],
                        "iteration": 680,
                        "passed_time": 22.15779689,
                        "remaining_time": 42.91649648,
                        "test": [
                          0.6018608487,
                          0.8060297755
                        ]
                      },
                      {
                        "learn": [
                          0.6118016483,
                          0.7947765194
                        ],
                        "iteration": 685,
                        "passed_time": 22.66457036,
                        "remaining_time": 43.41289425,
                        "test": [
                          0.6017402501,
                          0.8059849895
                        ]
                      },
                      {
                        "learn": [
                          0.611640782,
                          0.7946868598
                        ],
                        "iteration": 690,
                        "passed_time": 22.8824417,
                        "remaining_time": 43.34749087,
                        "test": [
                          0.6015540785,
                          0.8059040591
                        ]
                      },
                      {
                        "learn": [
                          0.6114337612,
                          0.7945540492
                        ],
                        "iteration": 695,
                        "passed_time": 23.10741483,
                        "remaining_time": 43.29320249,
                        "test": [
                          0.6012984913,
                          0.8058110716
                        ]
                      },
                      {
                        "learn": [
                          0.6113363012,
                          0.7944653936
                        ],
                        "iteration": 700,
                        "passed_time": 23.28709812,
                        "remaining_time": 43.15255416,
                        "test": [
                          0.6012421574,
                          0.8057707128
                        ]
                      },
                      {
                        "learn": [
                          0.6111590008,
                          0.7943504816
                        ],
                        "iteration": 705,
                        "passed_time": 23.45360442,
                        "remaining_time": 42.98720131,
                        "test": [
                          0.6010951498,
                          0.8057135577
                        ]
                      },
                      {
                        "learn": [
                          0.6110076189,
                          0.7942502995
                        ],
                        "iteration": 710,
                        "passed_time": 23.57626054,
                        "remaining_time": 42.74233451,
                        "test": [
                          0.6009156009,
                          0.8056235421
                        ]
                      },
                      {
                        "learn": [
                          0.610907706,
                          0.7941745048
                        ],
                        "iteration": 715,
                        "passed_time": 23.70668562,
                        "remaining_time": 42.51310661,
                        "test": [
                          0.6008021565,
                          0.8055583329
                        ]
                      },
                      {
                        "learn": [
                          0.6107964283,
                          0.7940938894
                        ],
                        "iteration": 720,
                        "passed_time": 23.82702541,
                        "remaining_time": 42.26735852,
                        "test": [
                          0.6006987687,
                          0.8055000462
                        ]
                      },
                      {
                        "learn": [
                          0.6106459048,
                          0.794014347
                        ],
                        "iteration": 725,
                        "passed_time": 23.94982773,
                        "remaining_time": 42.02765914,
                        "test": [
                          0.6005389245,
                          0.8054387352
                        ]
                      },
                      {
                        "learn": [
                          0.6105437026,
                          0.7939103636
                        ],
                        "iteration": 730,
                        "passed_time": 24.09050229,
                        "remaining_time": 41.82058468,
                        "test": [
                          0.600447474,
                          0.8053564808
                        ]
                      },
                      {
                        "learn": [
                          0.6104366765,
                          0.7938385275
                        ],
                        "iteration": 735,
                        "passed_time": 24.21510256,
                        "remaining_time": 41.58680658,
                        "test": [
                          0.6003192306,
                          0.805287138
                        ]
                      },
                      {
                        "learn": [
                          0.6102632598,
                          0.7937094122
                        ],
                        "iteration": 740,
                        "passed_time": 24.34821253,
                        "remaining_time": 41.36896029,
                        "test": [
                          0.6002352613,
                          0.8052525405
                        ]
                      },
                      {
                        "learn": [
                          0.6101052143,
                          0.7936039206
                        ],
                        "iteration": 745,
                        "passed_time": 24.47350717,
                        "remaining_time": 41.1391126,
                        "test": [
                          0.6000531779,
                          0.8051452357
                        ]
                      },
                      {
                        "learn": [
                          0.6100138455,
                          0.7935363328
                        ],
                        "iteration": 750,
                        "passed_time": 24.59735858,
                        "remaining_time": 40.90825681,
                        "test": [
                          0.599971089,
                          0.805115532
                        ]
                      },
                      {
                        "learn": [
                          0.6098735015,
                          0.7934691513
                        ],
                        "iteration": 755,
                        "passed_time": 24.72454008,
                        "remaining_time": 40.6842961,
                        "test": [
                          0.5998362639,
                          0.8050707968
                        ]
                      },
                      {
                        "learn": [
                          0.6097973404,
                          0.7934057256
                        ],
                        "iteration": 760,
                        "passed_time": 24.84769855,
                        "remaining_time": 40.45505717,
                        "test": [
                          0.5997901094,
                          0.8050663028
                        ]
                      },
                      {
                        "learn": [
                          0.6097136572,
                          0.7933395894
                        ],
                        "iteration": 765,
                        "passed_time": 24.97065745,
                        "remaining_time": 40.22688159,
                        "test": [
                          0.5997280931,
                          0.8050309595
                        ]
                      },
                      {
                        "learn": [
                          0.6096149299,
                          0.7932712833
                        ],
                        "iteration": 770,
                        "passed_time": 25.11460243,
                        "remaining_time": 40.0335232,
                        "test": [
                          0.5996244192,
                          0.8049814711
                        ]
                      },
                      {
                        "learn": [
                          0.6095429795,
                          0.7932165775
                        ],
                        "iteration": 775,
                        "passed_time": 25.23841535,
                        "remaining_time": 39.80904689,
                        "test": [
                          0.5995361165,
                          0.8049418833
                        ]
                      },
                      {
                        "learn": [
                          0.6094122834,
                          0.7930940877
                        ],
                        "iteration": 780,
                        "passed_time": 25.37289543,
                        "remaining_time": 39.602509,
                        "test": [
                          0.5994368986,
                          0.8048916785
                        ]
                      },
                      {
                        "learn": [
                          0.6093283549,
                          0.7930014283
                        ],
                        "iteration": 785,
                        "passed_time": 25.48137336,
                        "remaining_time": 39.35672679,
                        "test": [
                          0.599421977,
                          0.8048835519
                        ]
                      },
                      {
                        "learn": [
                          0.6091977405,
                          0.7928854791
                        ],
                        "iteration": 790,
                        "passed_time": 25.63087511,
                        "remaining_time": 39.17538307,
                        "test": [
                          0.5993506808,
                          0.8048640987
                        ]
                      },
                      {
                        "learn": [
                          0.6091096013,
                          0.7928157159
                        ],
                        "iteration": 795,
                        "passed_time": 25.75992354,
                        "remaining_time": 38.96350244,
                        "test": [
                          0.5992866613,
                          0.8048325053
                        ]
                      },
                      {
                        "learn": [
                          0.609001267,
                          0.7927441674
                        ],
                        "iteration": 800,
                        "passed_time": 25.87919432,
                        "remaining_time": 38.73801996,
                        "test": [
                          0.5991513047,
                          0.8047899132
                        ]
                      },
                      {
                        "learn": [
                          0.6088971434,
                          0.7926375159
                        ],
                        "iteration": 805,
                        "passed_time": 26.01246458,
                        "remaining_time": 38.53459393,
                        "test": [
                          0.5991159019,
                          0.8047878559
                        ]
                      },
                      {
                        "learn": [
                          0.6088069601,
                          0.7925668539
                        ],
                        "iteration": 810,
                        "passed_time": 26.15318294,
                        "remaining_time": 38.34295254,
                        "test": [
                          0.5990416213,
                          0.8047678162
                        ]
                      },
                      {
                        "learn": [
                          0.6086717262,
                          0.792483212
                        ],
                        "iteration": 815,
                        "passed_time": 26.27626694,
                        "remaining_time": 38.12634811,
                        "test": [
                          0.5989054062,
                          0.8047143492
                        ]
                      },
                      {
                        "learn": [
                          0.60858187,
                          0.7923608152
                        ],
                        "iteration": 820,
                        "passed_time": 26.41257531,
                        "remaining_time": 37.92987368,
                        "test": [
                          0.598877689,
                          0.8046153813
                        ]
                      },
                      {
                        "learn": [
                          0.6085134763,
                          0.7923024347
                        ],
                        "iteration": 825,
                        "passed_time": 26.53296468,
                        "remaining_time": 37.71150186,
                        "test": [
                          0.5988288363,
                          0.8046017901
                        ]
                      },
                      {
                        "learn": [
                          0.6084036703,
                          0.7921896344
                        ],
                        "iteration": 830,
                        "passed_time": 26.65674196,
                        "remaining_time": 37.49907503,
                        "test": [
                          0.5987432318,
                          0.8045549684
                        ]
                      },
                      {
                        "learn": [
                          0.6083372388,
                          0.7920967659
                        ],
                        "iteration": 835,
                        "passed_time": 26.79013835,
                        "remaining_time": 37.30110172,
                        "test": [
                          0.5987216058,
                          0.8045312389
                        ]
                      },
                      {
                        "learn": [
                          0.6082399014,
                          0.7920419015
                        ],
                        "iteration": 840,
                        "passed_time": 26.91153457,
                        "remaining_time": 37.08735857,
                        "test": [
                          0.5986472843,
                          0.8045146228
                        ]
                      },
                      {
                        "learn": [
                          0.6081641083,
                          0.7919677021
                        ],
                        "iteration": 845,
                        "passed_time": 27.03359538,
                        "remaining_time": 36.87561355,
                        "test": [
                          0.5986000669,
                          0.8044777561
                        ]
                      },
                      {
                        "learn": [
                          0.6080991894,
                          0.791909525
                        ],
                        "iteration": 850,
                        "passed_time": 27.17155826,
                        "remaining_time": 36.686393,
                        "test": [
                          0.5985587363,
                          0.804461393
                        ]
                      },
                      {
                        "learn": [
                          0.6080196353,
                          0.7918071754
                        ],
                        "iteration": 855,
                        "passed_time": 27.2988366,
                        "remaining_time": 36.48349191,
                        "test": [
                          0.5985298744,
                          0.8044251337
                        ]
                      },
                      {
                        "learn": [
                          0.6078987914,
                          0.7917046319
                        ],
                        "iteration": 860,
                        "passed_time": 27.43240738,
                        "remaining_time": 36.28979327,
                        "test": [
                          0.5984603769,
                          0.8044070162
                        ]
                      },
                      {
                        "learn": [
                          0.6077920923,
                          0.7915644779
                        ],
                        "iteration": 865,
                        "passed_time": 27.55940263,
                        "remaining_time": 36.08817851,
                        "test": [
                          0.5984528549,
                          0.8043761926
                        ]
                      },
                      {
                        "learn": [
                          0.6077071827,
                          0.7915060645
                        ],
                        "iteration": 870,
                        "passed_time": 27.68339047,
                        "remaining_time": 35.88352221,
                        "test": [
                          0.5983943134,
                          0.8043577436
                        ]
                      },
                      {
                        "learn": [
                          0.6076270153,
                          0.7914113337
                        ],
                        "iteration": 875,
                        "passed_time": 27.82018953,
                        "remaining_time": 35.69622493,
                        "test": [
                          0.5983599735,
                          0.8043074768
                        ]
                      },
                      {
                        "learn": [
                          0.6075896501,
                          0.7913579974
                        ],
                        "iteration": 880,
                        "passed_time": 27.94714177,
                        "remaining_time": 35.49699391,
                        "test": [
                          0.5983546999,
                          0.8042876031
                        ]
                      },
                      {
                        "learn": [
                          0.6074959103,
                          0.7913044767
                        ],
                        "iteration": 885,
                        "passed_time": 28.07609383,
                        "remaining_time": 35.30109314,
                        "test": [
                          0.5982254754,
                          0.8042204556
                        ]
                      },
                      {
                        "learn": [
                          0.6073661544,
                          0.7912093084
                        ],
                        "iteration": 890,
                        "passed_time": 28.22775548,
                        "remaining_time": 35.13420968,
                        "test": [
                          0.5981314902,
                          0.8042016726
                        ]
                      },
                      {
                        "learn": [
                          0.6072715151,
                          0.7911246962
                        ],
                        "iteration": 895,
                        "passed_time": 28.38334343,
                        "remaining_time": 34.97233386,
                        "test": [
                          0.5980682475,
                          0.8041759501
                        ]
                      },
                      {
                        "learn": [
                          0.6072191876,
                          0.7910631496
                        ],
                        "iteration": 900,
                        "passed_time": 28.51847868,
                        "remaining_time": 34.78558054,
                        "test": [
                          0.5980566782,
                          0.8041746538
                        ]
                      },
                      {
                        "learn": [
                          0.6071258974,
                          0.7909746712
                        ],
                        "iteration": 905,
                        "passed_time": 28.64520729,
                        "remaining_time": 34.58924589,
                        "test": [
                          0.5980009167,
                          0.8041436688
                        ]
                      },
                      {
                        "learn": [
                          0.607026516,
                          0.7909136298
                        ],
                        "iteration": 910,
                        "passed_time": 28.7771979,
                        "remaining_time": 34.39996544,
                        "test": [
                          0.5978923371,
                          0.8041247569
                        ]
                      },
                      {
                        "learn": [
                          0.6069157697,
                          0.7908211543
                        ],
                        "iteration": 915,
                        "passed_time": 28.90583144,
                        "remaining_time": 34.20733764,
                        "test": [
                          0.5977913204,
                          0.8040994133
                        ]
                      },
                      {
                        "learn": [
                          0.6068525678,
                          0.7907756362
                        ],
                        "iteration": 920,
                        "passed_time": 29.02754357,
                        "remaining_time": 34.00729588,
                        "test": [
                          0.5977336784,
                          0.8040724165
                        ]
                      },
                      {
                        "learn": [
                          0.6067754256,
                          0.7906972852
                        ],
                        "iteration": 925,
                        "passed_time": 29.17314665,
                        "remaining_time": 33.83580939,
                        "test": [
                          0.5977125021,
                          0.8040546469
                        ]
                      },
                      {
                        "learn": [
                          0.6066654152,
                          0.7906072922
                        ],
                        "iteration": 930,
                        "passed_time": 29.29507085,
                        "remaining_time": 33.63741218,
                        "test": [
                          0.5976049854,
                          0.8040090899
                        ]
                      },
                      {
                        "learn": [
                          0.6066130876,
                          0.7905594348
                        ],
                        "iteration": 935,
                        "passed_time": 29.43370988,
                        "remaining_time": 33.4588326,
                        "test": [
                          0.5975550289,
                          0.8039622845
                        ]
                      },
                      {
                        "learn": [
                          0.6065533198,
                          0.7904865961
                        ],
                        "iteration": 940,
                        "passed_time": 29.55440575,
                        "remaining_time": 33.26048426,
                        "test": [
                          0.5975494283,
                          0.8039491653
                        ]
                      },
                      {
                        "learn": [
                          0.6064376269,
                          0.7903851743
                        ],
                        "iteration": 945,
                        "passed_time": 29.67884705,
                        "remaining_time": 33.0671298,
                        "test": [
                          0.5974966102,
                          0.803930554
                        ]
                      },
                      {
                        "learn": [
                          0.6063653495,
                          0.7903304497
                        ],
                        "iteration": 950,
                        "passed_time": 29.80375234,
                        "remaining_time": 32.87501178,
                        "test": [
                          0.5974282573,
                          0.8038989239
                        ]
                      },
                      {
                        "learn": [
                          0.6062782732,
                          0.7902384233
                        ],
                        "iteration": 955,
                        "passed_time": 29.93060204,
                        "remaining_time": 32.68572022,
                        "test": [
                          0.5973945306,
                          0.8038787349
                        ]
                      },
                      {
                        "learn": [
                          0.6061550582,
                          0.7901539916
                        ],
                        "iteration": 960,
                        "passed_time": 30.05847845,
                        "remaining_time": 32.49818846,
                        "test": [
                          0.5972717653,
                          0.8038354056
                        ]
                      },
                      {
                        "learn": [
                          0.6060951269,
                          0.7900889285
                        ],
                        "iteration": 965,
                        "passed_time": 30.21307241,
                        "remaining_time": 32.33987254,
                        "test": [
                          0.5972283907,
                          0.8038199957
                        ]
                      },
                      {
                        "learn": [
                          0.6060542869,
                          0.790016124
                        ],
                        "iteration": 970,
                        "passed_time": 30.33834881,
                        "remaining_time": 32.15052618,
                        "test": [
                          0.597240982,
                          0.8038218012
                        ]
                      },
                      {
                        "learn": [
                          0.6059849529,
                          0.78994722
                        ],
                        "iteration": 975,
                        "passed_time": 30.46810165,
                        "remaining_time": 31.96653288,
                        "test": [
                          0.5971947866,
                          0.803802602
                        ]
                      },
                      {
                        "learn": [
                          0.6058961596,
                          0.7898538032
                        ],
                        "iteration": 980,
                        "passed_time": 30.58630802,
                        "remaining_time": 31.77109874,
                        "test": [
                          0.5971338332,
                          0.8037622187
                        ]
                      },
                      {
                        "learn": [
                          0.6058105959,
                          0.7897846521
                        ],
                        "iteration": 985,
                        "passed_time": 30.71546224,
                        "remaining_time": 31.58770661,
                        "test": [
                          0.5970785214,
                          0.8037484858
                        ]
                      },
                      {
                        "learn": [
                          0.6057721679,
                          0.789740679
                        ],
                        "iteration": 990,
                        "passed_time": 30.8387551,
                        "remaining_time": 31.39889394,
                        "test": [
                          0.5970849806,
                          0.8037588109
                        ]
                      },
                      {
                        "learn": [
                          0.6056965383,
                          0.7896523631
                        ],
                        "iteration": 995,
                        "passed_time": 30.95602244,
                        "remaining_time": 31.20466519,
                        "test": [
                          0.59706871,
                          0.8037262585
                        ]
                      },
                      {
                        "learn": [
                          0.6056404088,
                          0.7895868704
                        ],
                        "iteration": 1000,
                        "passed_time": 31.11158728,
                        "remaining_time": 31.04942627,
                        "test": [
                          0.5970822415,
                          0.8037283694
                        ]
                      },
                      {
                        "learn": [
                          0.6055837888,
                          0.7895462259
                        ],
                        "iteration": 1005,
                        "passed_time": 31.24017673,
                        "remaining_time": 30.86753049,
                        "test": [
                          0.5970530117,
                          0.8037239187
                        ]
                      },
                      {
                        "learn": [
                          0.6055510841,
                          0.7894954045
                        ],
                        "iteration": 1010,
                        "passed_time": 31.36149649,
                        "remaining_time": 30.67905047,
                        "test": [
                          0.5970358417,
                          0.8037035982
                        ]
                      },
                      {
                        "learn": [
                          0.6054808916,
                          0.7894160461
                        ],
                        "iteration": 1015,
                        "passed_time": 31.49230473,
                        "remaining_time": 30.50042112,
                        "test": [
                          0.5970360461,
                          0.8037002665
                        ]
                      },
                      {
                        "learn": [
                          0.6054179759,
                          0.7893603739
                        ],
                        "iteration": 1020,
                        "passed_time": 31.61198785,
                        "remaining_time": 30.31159266,
                        "test": [
                          0.597011027,
                          0.8036835314
                        ]
                      },
                      {
                        "learn": [
                          0.6053005661,
                          0.7892902732
                        ],
                        "iteration": 1025,
                        "passed_time": 31.74019153,
                        "remaining_time": 30.13152685,
                        "test": [
                          0.5969064538,
                          0.8036541807
                        ]
                      },
                      {
                        "learn": [
                          0.6052437416,
                          0.7892256051
                        ],
                        "iteration": 1030,
                        "passed_time": 31.87443638,
                        "remaining_time": 29.95764195,
                        "test": [
                          0.5968716641,
                          0.8036239387
                        ]
                      },
                      {
                        "learn": [
                          0.6051888795,
                          0.7891488357
                        ],
                        "iteration": 1035,
                        "passed_time": 31.99997654,
                        "remaining_time": 29.77603994,
                        "test": [
                          0.5968681892,
                          0.8036348504
                        ]
                      },
                      {
                        "learn": [
                          0.6051623887,
                          0.7891137638
                        ],
                        "iteration": 1040,
                        "passed_time": 32.1208073,
                        "remaining_time": 29.59063804,
                        "test": [
                          0.5968646326,
                          0.8036330445
                        ]
                      },
                      {
                        "learn": [
                          0.6050757212,
                          0.7890530447
                        ],
                        "iteration": 1045,
                        "passed_time": 32.2668574,
                        "remaining_time": 29.42885464,
                        "test": [
                          0.5967674996,
                          0.8035976127
                        ]
                      },
                      {
                        "learn": [
                          0.6050195509,
                          0.7889763103
                        ],
                        "iteration": 1050,
                        "passed_time": 32.39279425,
                        "remaining_time": 29.2490597,
                        "test": [
                          0.5967306251,
                          0.8035624591
                        ]
                      },
                      {
                        "learn": [
                          0.6049581069,
                          0.788910321
                        ],
                        "iteration": 1055,
                        "passed_time": 32.530241,
                        "remaining_time": 29.08006392,
                        "test": [
                          0.5966962443,
                          0.8035355969
                        ]
                      },
                      {
                        "learn": [
                          0.6048784301,
                          0.7888244256
                        ],
                        "iteration": 1060,
                        "passed_time": 32.65364213,
                        "remaining_time": 28.89893493,
                        "test": [
                          0.596665461,
                          0.8035273295
                        ]
                      },
                      {
                        "learn": [
                          0.6048263478,
                          0.7887401277
                        ],
                        "iteration": 1065,
                        "passed_time": 32.77376138,
                        "remaining_time": 28.71547198,
                        "test": [
                          0.5966810774,
                          0.8035310944
                        ]
                      },
                      {
                        "learn": [
                          0.6047332621,
                          0.78865665
                        ],
                        "iteration": 1070,
                        "passed_time": 32.89374402,
                        "remaining_time": 28.53248197,
                        "test": [
                          0.5966348412,
                          0.8035282198
                        ]
                      },
                      {
                        "learn": [
                          0.6046365379,
                          0.7885949368
                        ],
                        "iteration": 1075,
                        "passed_time": 33.02068276,
                        "remaining_time": 28.35605099,
                        "test": [
                          0.5965733563,
                          0.8035022723
                        ]
                      },
                      {
                        "learn": [
                          0.6045897293,
                          0.7885310671
                        ],
                        "iteration": 1080,
                        "passed_time": 33.12913694,
                        "remaining_time": 28.16436341,
                        "test": [
                          0.5965733154,
                          0.8034936738
                        ]
                      },
                      {
                        "learn": [
                          0.6045092348,
                          0.7884845354
                        ],
                        "iteration": 1085,
                        "passed_time": 33.27517676,
                        "remaining_time": 28.0050751,
                        "test": [
                          0.5964688239,
                          0.8034690735
                        ]
                      },
                      {
                        "learn": [
                          0.60447142,
                          0.788443186
                        ],
                        "iteration": 1090,
                        "passed_time": 33.3929731,
                        "remaining_time": 27.8223763,
                        "test": [
                          0.5964332167,
                          0.8034525626
                        ]
                      },
                      {
                        "learn": [
                          0.6044184384,
                          0.7883881711
                        ],
                        "iteration": 1095,
                        "passed_time": 33.72180389,
                        "remaining_time": 27.8143346,
                        "test": [
                          0.5964108548,
                          0.8034361531
                        ]
                      },
                      {
                        "learn": [
                          0.6043400697,
                          0.788286998
                        ],
                        "iteration": 1100,
                        "passed_time": 34.10767331,
                        "remaining_time": 27.84995305,
                        "test": [
                          0.5964063579,
                          0.8034240684
                        ]
                      },
                      {
                        "learn": [
                          0.6042741289,
                          0.7882151421
                        ],
                        "iteration": 1105,
                        "passed_time": 34.56006424,
                        "remaining_time": 27.93553113,
                        "test": [
                          0.5963964648,
                          0.8034251879
                        ]
                      },
                      {
                        "learn": [
                          0.6042413424,
                          0.788186927
                        ],
                        "iteration": 1110,
                        "passed_time": 34.8881192,
                        "remaining_time": 27.91677585,
                        "test": [
                          0.5963732853,
                          0.8034208628
                        ]
                      },
                      {
                        "learn": [
                          0.6041969458,
                          0.7881304937
                        ],
                        "iteration": 1115,
                        "passed_time": 35.48996086,
                        "remaining_time": 28.11211953,
                        "test": [
                          0.5963770872,
                          0.8034265363
                        ]
                      },
                      {
                        "learn": [
                          0.6041153067,
                          0.7880549144
                        ],
                        "iteration": 1120,
                        "passed_time": 36.17856171,
                        "remaining_time": 28.36838157,
                        "test": [
                          0.5963094294,
                          0.8034121362
                        ]
                      },
                      {
                        "learn": [
                          0.6040510828,
                          0.788002207
                        ],
                        "iteration": 1125,
                        "passed_time": 36.82052921,
                        "remaining_time": 28.58005553,
                        "test": [
                          0.5963003947,
                          0.8034199723
                        ]
                      },
                      {
                        "learn": [
                          0.6039618807,
                          0.7879105312
                        ],
                        "iteration": 1130,
                        "passed_time": 37.16578897,
                        "remaining_time": 28.55620744,
                        "test": [
                          0.5962990456,
                          0.803433151
                        ]
                      },
                      {
                        "learn": [
                          0.6039367798,
                          0.7878678804
                        ],
                        "iteration": 1135,
                        "passed_time": 37.4615687,
                        "remaining_time": 28.49189732,
                        "test": [
                          0.5963043601,
                          0.8034301235
                        ]
                      },
                      {
                        "learn": [
                          0.6038696943,
                          0.7877916273
                        ],
                        "iteration": 1140,
                        "passed_time": 37.63444534,
                        "remaining_time": 28.33303116,
                        "test": [
                          0.5963168288,
                          0.8034297165
                        ]
                      },
                      {
                        "learn": [
                          0.603806983,
                          0.787707634
                        ],
                        "iteration": 1145,
                        "passed_time": 37.77979291,
                        "remaining_time": 28.15352805,
                        "test": [
                          0.596318832,
                          0.8034356952
                        ]
                      },
                      {
                        "learn": [
                          0.603745212,
                          0.7876360367
                        ],
                        "iteration": 1150,
                        "passed_time": 37.90185613,
                        "remaining_time": 27.9571467,
                        "test": [
                          0.5963240238,
                          0.8034406053
                        ]
                      },
                      {
                        "learn": [
                          0.6036997116,
                          0.7875654711
                        ],
                        "iteration": 1155,
                        "passed_time": 38.02916956,
                        "remaining_time": 27.76524144,
                        "test": [
                          0.5963440555,
                          0.8034435819
                        ]
                      },
                      {
                        "learn": [
                          0.6036274751,
                          0.787507384
                        ],
                        "iteration": 1160,
                        "passed_time": 38.14985784,
                        "remaining_time": 27.56910485,
                        "test": [
                          0.5962976148,
                          0.8034320571
                        ]
                      },
                      {
                        "learn": [
                          0.6035734714,
                          0.7874507203
                        ],
                        "iteration": 1165,
                        "passed_time": 38.27382469,
                        "remaining_time": 27.37596037,
                        "test": [
                          0.5962633975,
                          0.8034164613
                        ]
                      },
                      {
                        "learn": [
                          0.6035010305,
                          0.7873726355
                        ],
                        "iteration": 1170,
                        "passed_time": 38.41159058,
                        "remaining_time": 27.19317557,
                        "test": [
                          0.5962311016,
                          0.8033900776
                        ]
                      },
                      {
                        "learn": [
                          0.6034502565,
                          0.7872950103
                        ],
                        "iteration": 1175,
                        "passed_time": 38.54720403,
                        "remaining_time": 27.00926541,
                        "test": [
                          0.5962129505,
                          0.8033698759
                        ]
                      },
                      {
                        "learn": [
                          0.6033529191,
                          0.7872218955
                        ],
                        "iteration": 1180,
                        "passed_time": 38.69092339,
                        "remaining_time": 26.83138549,
                        "test": [
                          0.5961480316,
                          0.8033615049
                        ]
                      },
                      {
                        "learn": [
                          0.6032758177,
                          0.787133219
                        ],
                        "iteration": 1185,
                        "passed_time": 38.83126354,
                        "remaining_time": 26.6514743,
                        "test": [
                          0.5961102577,
                          0.8033571032
                        ]
                      },
                      {
                        "learn": [
                          0.6032474873,
                          0.7871073543
                        ],
                        "iteration": 1190,
                        "passed_time": 38.95239772,
                        "remaining_time": 26.4588495,
                        "test": [
                          0.5960928833,
                          0.8033388089
                        ]
                      },
                      {
                        "learn": [
                          0.6032209147,
                          0.7870811251
                        ],
                        "iteration": 1195,
                        "passed_time": 39.07036009,
                        "remaining_time": 26.26469023,
                        "test": [
                          0.5961091539,
                          0.8033488848
                        ]
                      },
                      {
                        "learn": [
                          0.6031738608,
                          0.7870098344
                        ],
                        "iteration": 1200,
                        "passed_time": 39.19101087,
                        "remaining_time": 26.07295394,
                        "test": [
                          0.5961003236,
                          0.8033375621
                        ]
                      },
                      {
                        "learn": [
                          0.6031503952,
                          0.7869782255
                        ],
                        "iteration": 1205,
                        "passed_time": 39.31276918,
                        "remaining_time": 25.88253626,
                        "test": [
                          0.596113242,
                          0.8033427019
                        ]
                      },
                      {
                        "learn": [
                          0.6030851493,
                          0.7869176794
                        ],
                        "iteration": 1210,
                        "passed_time": 39.45914641,
                        "remaining_time": 25.70872545,
                        "test": [
                          0.5960781253,
                          0.8033187331
                        ]
                      },
                      {
                        "learn": [
                          0.6029924724,
                          0.7868298519
                        ],
                        "iteration": 1215,
                        "passed_time": 39.57985727,
                        "remaining_time": 25.51859218,
                        "test": [
                          0.5960138606,
                          0.8032932877
                        ]
                      },
                      {
                        "learn": [
                          0.6029221164,
                          0.7867448206
                        ],
                        "iteration": 1220,
                        "passed_time": 39.72714678,
                        "remaining_time": 25.34598472,
                        "test": [
                          0.5960173355,
                          0.8033038985
                        ]
                      },
                      {
                        "learn": [
                          0.6028608768,
                          0.7866555707
                        ],
                        "iteration": 1225,
                        "passed_time": 39.85701298,
                        "remaining_time": 25.16258405,
                        "test": [
                          0.5960346689,
                          0.8033057814
                        ]
                      },
                      {
                        "learn": [
                          0.6028362256,
                          0.7866082005
                        ],
                        "iteration": 1230,
                        "passed_time": 39.98554866,
                        "remaining_time": 24.9787871,
                        "test": [
                          0.5960372853,
                          0.8032866463
                        ]
                      },
                      {
                        "learn": [
                          0.6027637029,
                          0.7865262898
                        ],
                        "iteration": 1235,
                        "passed_time": 40.1099076,
                        "remaining_time": 24.79285551,
                        "test": [
                          0.5960070335,
                          0.8032513519
                        ]
                      },
                      {
                        "learn": [
                          0.602704303,
                          0.7864451763
                        ],
                        "iteration": 1240,
                        "passed_time": 40.23723109,
                        "remaining_time": 24.60923319,
                        "test": [
                          0.5960189707,
                          0.8032610217
                        ]
                      },
                      {
                        "learn": [
                          0.602622296,
                          0.7863644183
                        ],
                        "iteration": 1245,
                        "passed_time": 40.36542902,
                        "remaining_time": 24.42659188,
                        "test": [
                          0.5959962409,
                          0.8032632102
                        ]
                      },
                      {
                        "learn": [
                          0.6025599117,
                          0.7862665983
                        ],
                        "iteration": 1250,
                        "passed_time": 40.52254302,
                        "remaining_time": 24.26169842,
                        "test": [
                          0.5959994705,
                          0.8032555252
                        ]
                      },
                      {
                        "learn": [
                          0.6025317448,
                          0.7862361554
                        ],
                        "iteration": 1255,
                        "passed_time": 40.65902056,
                        "remaining_time": 24.08464275,
                        "test": [
                          0.595986593,
                          0.8032506394
                        ]
                      },
                      {
                        "learn": [
                          0.6024597127,
                          0.7861820261
                        ],
                        "iteration": 1260,
                        "passed_time": 40.7977058,
                        "remaining_time": 23.90920269,
                        "test": [
                          0.5959393756,
                          0.8032257771
                        ]
                      },
                      {
                        "learn": [
                          0.602374517,
                          0.7861118239
                        ],
                        "iteration": 1265,
                        "passed_time": 40.92483524,
                        "remaining_time": 23.72735313,
                        "test": [
                          0.5958653403,
                          0.8031818273
                        ]
                      },
                      {
                        "learn": [
                          0.6023098843,
                          0.7860155848
                        ],
                        "iteration": 1270,
                        "passed_time": 41.05397798,
                        "remaining_time": 23.54708887,
                        "test": [
                          0.5958600258,
                          0.8031762793
                        ]
                      },
                      {
                        "learn": [
                          0.602230003,
                          0.7859264862
                        ],
                        "iteration": 1275,
                        "passed_time": 41.17851321,
                        "remaining_time": 23.36461094,
                        "test": [
                          0.595819472,
                          0.8031475718
                        ]
                      },
                      {
                        "learn": [
                          0.6021786566,
                          0.7858754046
                        ],
                        "iteration": 1280,
                        "passed_time": 41.29907414,
                        "remaining_time": 23.18035465,
                        "test": [
                          0.5957860314,
                          0.8031112532
                        ]
                      },
                      {
                        "learn": [
                          0.6021125931,
                          0.7858124325
                        ],
                        "iteration": 1285,
                        "passed_time": 41.42735812,
                        "remaining_time": 23.00088157,
                        "test": [
                          0.5957625658,
                          0.8031005635
                        ]
                      },
                      {
                        "learn": [
                          0.6020382717,
                          0.7857606672
                        ],
                        "iteration": 1290,
                        "passed_time": 41.58182121,
                        "remaining_time": 22.83618221,
                        "test": [
                          0.5957079489,
                          0.8030945059
                        ]
                      },
                      {
                        "learn": [
                          0.6019771548,
                          0.7857060107
                        ],
                        "iteration": 1295,
                        "passed_time": 41.73107682,
                        "remaining_time": 22.66873309,
                        "test": [
                          0.595681499,
                          0.8030812453
                        ]
                      },
                      {
                        "learn": [
                          0.6019126856,
                          0.7856605345
                        ],
                        "iteration": 1300,
                        "passed_time": 41.85266764,
                        "remaining_time": 22.48656009,
                        "test": [
                          0.5956239387,
                          0.8030608321
                        ]
                      },
                      {
                        "learn": [
                          0.6018505467,
                          0.7855936423
                        ],
                        "iteration": 1305,
                        "passed_time": 41.97645194,
                        "remaining_time": 22.30601657,
                        "test": [
                          0.5956059511,
                          0.8030395529
                        ]
                      },
                      {
                        "learn": [
                          0.6018242603,
                          0.7855611698
                        ],
                        "iteration": 1310,
                        "passed_time": 42.09236947,
                        "remaining_time": 22.1217716,
                        "test": [
                          0.595617316,
                          0.8030443892
                        ]
                      },
                      {
                        "learn": [
                          0.6017884078,
                          0.7855280714
                        ],
                        "iteration": 1315,
                        "passed_time": 42.2110162,
                        "remaining_time": 21.93946435,
                        "test": [
                          0.5956014134,
                          0.8030438037
                        ]
                      },
                      {
                        "learn": [
                          0.6017250015,
                          0.7854778227
                        ],
                        "iteration": 1320,
                        "passed_time": 42.33859347,
                        "remaining_time": 21.76222935,
                        "test": [
                          0.5955503123,
                          0.8030314586
                        ]
                      },
                      {
                        "learn": [
                          0.6016456926,
                          0.7854071933
                        ],
                        "iteration": 1325,
                        "passed_time": 42.46262937,
                        "remaining_time": 21.58356877,
                        "test": [
                          0.5955278278,
                          0.8030255278
                        ]
                      },
                      {
                        "learn": [
                          0.6015603742,
                          0.7853326013
                        ],
                        "iteration": 1330,
                        "passed_time": 42.62354212,
                        "remaining_time": 21.423854,
                        "test": [
                          0.5954625819,
                          0.8030181714
                        ]
                      },
                      {
                        "learn": [
                          0.6015005246,
                          0.7852565445
                        ],
                        "iteration": 1335,
                        "passed_time": 42.76500229,
                        "remaining_time": 21.25446222,
                        "test": [
                          0.5954763179,
                          0.8030340549
                        ]
                      },
                      {
                        "learn": [
                          0.6014147974,
                          0.785180194
                        ],
                        "iteration": 1340,
                        "passed_time": 42.89623719,
                        "remaining_time": 21.08025377,
                        "test": [
                          0.5954172859,
                          0.8030087023
                        ]
                      },
                      {
                        "learn": [
                          0.6013869575,
                          0.7851369003
                        ],
                        "iteration": 1345,
                        "passed_time": 43.01861871,
                        "remaining_time": 20.90206288,
                        "test": [
                          0.5954088235,
                          0.8030055459
                        ]
                      },
                      {
                        "learn": [
                          0.6013296425,
                          0.7850389013
                        ],
                        "iteration": 1350,
                        "passed_time": 43.13612858,
                        "remaining_time": 20.72194482,
                        "test": [
                          0.5954306948,
                          0.8030138696
                        ]
                      },
                      {
                        "learn": [
                          0.6012931768,
                          0.7849989327
                        ],
                        "iteration": 1355,
                        "passed_time": 43.25896796,
                        "remaining_time": 20.54481959,
                        "test": [
                          0.5954284055,
                          0.8030160333
                        ]
                      },
                      {
                        "learn": [
                          0.6012398681,
                          0.784949796
                        ],
                        "iteration": 1360,
                        "passed_time": 43.37793891,
                        "remaining_time": 20.36627697,
                        "test": [
                          0.5953890372,
                          0.8029975785
                        ]
                      },
                      {
                        "learn": [
                          0.6011751536,
                          0.7848764106
                        ],
                        "iteration": 1365,
                        "passed_time": 43.50230588,
                        "remaining_time": 20.19067491,
                        "test": [
                          0.5953616061,
                          0.8029976548
                        ]
                      },
                      {
                        "learn": [
                          0.6011099486,
                          0.7847831194
                        ],
                        "iteration": 1370,
                        "passed_time": 43.64845412,
                        "remaining_time": 20.02543956,
                        "test": [
                          0.5953546972,
                          0.8029799124
                        ]
                      },
                      {
                        "learn": [
                          0.6010739735,
                          0.7847468886
                        ],
                        "iteration": 1375,
                        "passed_time": 43.78580703,
                        "remaining_time": 19.85635435,
                        "test": [
                          0.5953399392,
                          0.8029742866
                        ]
                      },
                      {
                        "learn": [
                          0.6010171082,
                          0.7846961732
                        ],
                        "iteration": 1380,
                        "passed_time": 43.90975953,
                        "remaining_time": 19.68149251,
                        "test": [
                          0.5953182315,
                          0.8029620677
                        ]
                      },
                      {
                        "learn": [
                          0.6009881236,
                          0.7846579325
                        ],
                        "iteration": 1385,
                        "passed_time": 44.03349032,
                        "remaining_time": 19.50689975,
                        "test": [
                          0.5953260397,
                          0.8029598785
                        ]
                      },
                      {
                        "learn": [
                          0.6009393936,
                          0.7845909287
                        ],
                        "iteration": 1390,
                        "passed_time": 44.15178612,
                        "remaining_time": 19.33029313,
                        "test": [
                          0.5953357694,
                          0.8029691191
                        ]
                      },
                      {
                        "learn": [
                          0.6008968775,
                          0.7845538814
                        ],
                        "iteration": 1395,
                        "passed_time": 44.27127223,
                        "remaining_time": 19.15461922,
                        "test": [
                          0.5953094012,
                          0.8029668535
                        ]
                      },
                      {
                        "learn": [
                          0.6008506412,
                          0.7844903341
                        ],
                        "iteration": 1400,
                        "passed_time": 44.39821947,
                        "remaining_time": 18.98253638,
                        "test": [
                          0.5953046182,
                          0.8029613804
                        ]
                      },
                      {
                        "learn": [
                          0.600791323,
                          0.7844271465
                        ],
                        "iteration": 1405,
                        "passed_time": 44.51231829,
                        "remaining_time": 18.80534642,
                        "test": [
                          0.5953007754,
                          0.8029512742
                        ]
                      },
                      {
                        "learn": [
                          0.6007158161,
                          0.7843483438
                        ],
                        "iteration": 1410,
                        "passed_time": 44.6609884,
                        "remaining_time": 18.64303485,
                        "test": [
                          0.595304332,
                          0.8029562127
                        ]
                      },
                      {
                        "learn": [
                          0.6006724414,
                          0.7842997396
                        ],
                        "iteration": 1415,
                        "passed_time": 44.80128969,
                        "remaining_time": 18.47736806,
                        "test": [
                          0.5953016747,
                          0.8029505359
                        ]
                      },
                      {
                        "learn": [
                          0.6006264096,
                          0.7842458936
                        ],
                        "iteration": 1420,
                        "passed_time": 44.92550365,
                        "remaining_time": 18.30532485,
                        "test": [
                          0.5952857721,
                          0.8029430771
                        ]
                      },
                      {
                        "learn": [
                          0.6005838935,
                          0.7842022355
                        ],
                        "iteration": 1425,
                        "passed_time": 45.0551996,
                        "remaining_time": 18.13582368,
                        "test": [
                          0.5952661901,
                          0.8029316469
                        ]
                      },
                      {
                        "learn": [
                          0.6005508208,
                          0.7841626153
                        ],
                        "iteration": 1430,
                        "passed_time": 45.17262209,
                        "remaining_time": 17.96172046,
                        "test": [
                          0.5952422339,
                          0.8029278028
                        ]
                      },
                      {
                        "learn": [
                          0.6005085909,
                          0.7841016432
                        ],
                        "iteration": 1435,
                        "passed_time": 45.30210005,
                        "remaining_time": 17.79274681,
                        "test": [
                          0.5952369603,
                          0.8029254353
                        ]
                      },
                      {
                        "learn": [
                          0.6004721251,
                          0.7840419699
                        ],
                        "iteration": 1440,
                        "passed_time": 45.4269335,
                        "remaining_time": 17.62224554,
                        "test": [
                          0.5952537215,
                          0.8029289739
                        ]
                      },
                      {
                        "learn": [
                          0.6004191844,
                          0.783993086
                        ],
                        "iteration": 1445,
                        "passed_time": 45.54859368,
                        "remaining_time": 17.45084433,
                        "test": [
                          0.5952057273,
                          0.8028933837
                        ]
                      },
                      {
                        "learn": [
                          0.6003852124,
                          0.7839642756
                        ],
                        "iteration": 1450,
                        "passed_time": 45.72271091,
                        "remaining_time": 17.29963356,
                        "test": [
                          0.5951889253,
                          0.802883353
                        ]
                      },
                      {
                        "learn": [
                          0.6003314131,
                          0.7839136138
                        ],
                        "iteration": 1455,
                        "passed_time": 45.86049455,
                        "remaining_time": 17.13469027,
                        "test": [
                          0.5951628841,
                          0.8028919071
                        ]
                      },
                      {
                        "learn": [
                          0.6002667805,
                          0.7838388536
                        ],
                        "iteration": 1460,
                        "passed_time": 45.98676981,
                        "remaining_time": 16.96568715,
                        "test": [
                          0.5951447739,
                          0.8028939692
                        ]
                      },
                      {
                        "learn": [
                          0.6001950754,
                          0.7837891225
                        ],
                        "iteration": 1465,
                        "passed_time": 46.11330155,
                        "remaining_time": 16.79706892,
                        "test": [
                          0.595097393,
                          0.8028782867
                        ]
                      },
                      {
                        "learn": [
                          0.6001339176,
                          0.7837434308
                        ],
                        "iteration": 1470,
                        "passed_time": 46.23426297,
                        "remaining_time": 16.62673359,
                        "test": [
                          0.5950259332,
                          0.8028512743
                        ]
                      },
                      {
                        "learn": [
                          0.6000737001,
                          0.7836650027
                        ],
                        "iteration": 1475,
                        "passed_time": 46.35682447,
                        "remaining_time": 16.45730083,
                        "test": [
                          0.5950230307,
                          0.8028370676
                        ]
                      },
                      {
                        "learn": [
                          0.600023621,
                          0.7836154432
                        ],
                        "iteration": 1480,
                        "passed_time": 46.50160582,
                        "remaining_time": 16.29597125,
                        "test": [
                          0.5950003009,
                          0.8028298623
                        ]
                      },
                      {
                        "learn": [
                          0.6000039573,
                          0.7835935056
                        ],
                        "iteration": 1485,
                        "passed_time": 46.64597996,
                        "remaining_time": 16.13461218,
                        "test": [
                          0.5949940461,
                          0.802829073
                        ]
                      },
                      {
                        "learn": [
                          0.5999607462,
                          0.7835372893
                        ],
                        "iteration": 1490,
                        "passed_time": 46.78276118,
                        "remaining_time": 15.97077494,
                        "test": [
                          0.5949921247,
                          0.8028201872
                        ]
                      },
                      {
                        "learn": [
                          0.5999347868,
                          0.783479034
                        ],
                        "iteration": 1495,
                        "passed_time": 46.92232055,
                        "remaining_time": 15.80805452,
                        "test": [
                          0.5950122381,
                          0.8028281564
                        ]
                      },
                      {
                        "learn": [
                          0.5998935789,
                          0.7834376291
                        ],
                        "iteration": 1500,
                        "passed_time": 47.04212523,
                        "remaining_time": 15.63892104,
                        "test": [
                          0.5949945776,
                          0.8028257886
                        ]
                      },
                      {
                        "learn": [
                          0.5998835222,
                          0.7834244271
                        ],
                        "iteration": 1505,
                        "passed_time": 47.15924781,
                        "remaining_time": 15.46923534,
                        "test": [
                          0.5949963354,
                          0.8028255849
                        ]
                      },
                      {
                        "learn": [
                          0.5998572358,
                          0.7833986747
                        ],
                        "iteration": 1510,
                        "passed_time": 47.27687476,
                        "remaining_time": 15.30006073,
                        "test": [
                          0.5949770805,
                          0.8028079405
                        ]
                      },
                      {
                        "learn": [
                          0.5997866345,
                          0.7833233174
                        ],
                        "iteration": 1515,
                        "passed_time": 47.47457924,
                        "remaining_time": 15.15679179,
                        "test": [
                          0.5949322751,
                          0.8027849233
                        ]
                      },
                      {
                        "learn": [
                          0.5997554424,
                          0.7832843573
                        ],
                        "iteration": 1520,
                        "passed_time": 47.94448246,
                        "remaining_time": 15.09888698,
                        "test": [
                          0.5949358726,
                          0.8027883861
                        ]
                      },
                      {
                        "learn": [
                          0.5997303415,
                          0.7832527286
                        ],
                        "iteration": 1525,
                        "passed_time": 48.57765917,
                        "remaining_time": 15.08899767,
                        "test": [
                          0.5949444985,
                          0.8027986726
                        ]
                      },
                      {
                        "learn": [
                          0.5996576962,
                          0.7831658734
                        ],
                        "iteration": 1530,
                        "passed_time": 48.92833263,
                        "remaining_time": 14.98849641,
                        "test": [
                          0.5949300266,
                          0.80278612
                        ]
                      },
                      {
                        "learn": [
                          0.5996370922,
                          0.7831310555
                        ],
                        "iteration": 1535,
                        "passed_time": 49.31475051,
                        "remaining_time": 14.89716422,
                        "test": [
                          0.5949245486,
                          0.80278309
                        ]
                      },
                      {
                        "learn": [
                          0.5995964566,
                          0.7830712821
                        ],
                        "iteration": 1540,
                        "passed_time": 49.54270849,
                        "remaining_time": 14.75671849,
                        "test": [
                          0.5949433538,
                          0.802795439
                        ]
                      },
                      {
                        "learn": [
                          0.5995611764,
                          0.7830301429
                        ],
                        "iteration": 1545,
                        "passed_time": 50.14007957,
                        "remaining_time": 14.72418896,
                        "test": [
                          0.5949424953,
                          0.8027868074
                        ]
                      },
                      {
                        "learn": [
                          0.5995092986,
                          0.7829771755
                        ],
                        "iteration": 1550,
                        "passed_time": 50.70421131,
                        "remaining_time": 14.67839515,
                        "test": [
                          0.5949099541,
                          0.8027794999
                        ]
                      },
                      {
                        "learn": [
                          0.5994791285,
                          0.7829402868
                        ],
                        "iteration": 1555,
                        "passed_time": 51.02415625,
                        "remaining_time": 14.55959214,
                        "test": [
                          0.5949153504,
                          0.8027905249
                        ]
                      },
                      {
                        "learn": [
                          0.5994135965,
                          0.7828532925
                        ],
                        "iteration": 1560,
                        "passed_time": 51.41286186,
                        "remaining_time": 14.45883815,
                        "test": [
                          0.594904844,
                          0.8027886152
                        ]
                      },
                      {
                        "learn": [
                          0.5993975712,
                          0.7828359551
                        ],
                        "iteration": 1565,
                        "passed_time": 51.6286604,
                        "remaining_time": 14.30832606,
                        "test": [
                          0.5949088504,
                          0.8027893027
                        ]
                      },
                      {
                        "learn": [
                          0.5993838761,
                          0.7828226385
                        ],
                        "iteration": 1570,
                        "passed_time": 51.77958962,
                        "remaining_time": 14.13968424,
                        "test": [
                          0.5949009195,
                          0.8027842358
                        ]
                      },
                      {
                        "learn": [
                          0.5993083691,
                          0.7827381381
                        ],
                        "iteration": 1575,
                        "passed_time": 51.95406151,
                        "remaining_time": 13.97748863,
                        "test": [
                          0.5948651487,
                          0.8027784814
                        ]
                      },
                      {
                        "learn": [
                          0.5992456987,
                          0.7826627955
                        ],
                        "iteration": 1580,
                        "passed_time": 52.09646977,
                        "remaining_time": 13.8067178,
                        "test": [
                          0.5948549693,
                          0.8027940895
                        ]
                      },
                      {
                        "learn": [
                          0.5991976636,
                          0.7826210602
                        ],
                        "iteration": 1585,
                        "passed_time": 52.22120318,
                        "remaining_time": 13.63151205,
                        "test": [
                          0.5948162552,
                          0.8027889972
                        ]
                      },
                      {
                        "learn": [
                          0.5991751383,
                          0.7825851472
                        ],
                        "iteration": 1590,
                        "passed_time": 52.33456534,
                        "remaining_time": 13.45370033,
                        "test": [
                          0.5948289282,
                          0.8027985962
                        ]
                      },
                      {
                        "learn": [
                          0.5991303328,
                          0.7825052186
                        ],
                        "iteration": 1595,
                        "passed_time": 52.46151774,
                        "remaining_time": 13.27973256,
                        "test": [
                          0.5948586486,
                          0.8028090099
                        ]
                      },
                      {
                        "learn": [
                          0.599080499,
                          0.7824701624
                        ],
                        "iteration": 1600,
                        "passed_time": 52.58360274,
                        "remaining_time": 13.1048454,
                        "test": [
                          0.5948321987,
                          0.8028059545
                        ]
                      },
                      {
                        "learn": [
                          0.599016684,
                          0.78240271
                        ],
                        "iteration": 1605,
                        "passed_time": 52.71434467,
                        "remaining_time": 12.93241084,
                        "test": [
                          0.5948250445,
                          0.8028233698
                        ]
                      },
                      {
                        "learn": [
                          0.5989938316,
                          0.7823701573
                        ],
                        "iteration": 1610,
                        "passed_time": 52.82818298,
                        "remaining_time": 12.75615343,
                        "test": [
                          0.5948339975,
                          0.8028298877
                        ]
                      },
                      {
                        "learn": [
                          0.59892368,
                          0.7822876983
                        ],
                        "iteration": 1615,
                        "passed_time": 52.98581294,
                        "remaining_time": 12.59068822,
                        "test": [
                          0.5948044815,
                          0.8028134146
                        ]
                      },
                      {
                        "learn": [
                          0.5988908526,
                          0.7822523449
                        ],
                        "iteration": 1620,
                        "passed_time": 53.11014602,
                        "remaining_time": 12.41748633,
                        "test": [
                          0.5948030915,
                          0.8028230898
                        ]
                      },
                      {
                        "learn": [
                          0.5988528743,
                          0.782222582
                        ],
                        "iteration": 1625,
                        "passed_time": 53.23185195,
                        "remaining_time": 12.24398071,
                        "test": [
                          0.5947789718,
                          0.8028158334
                        ]
                      },
                      {
                        "learn": [
                          0.5987897542,
                          0.7821543765
                        ],
                        "iteration": 1630,
                        "passed_time": 53.3610757,
                        "remaining_time": 12.07249352,
                        "test": [
                          0.5947456948,
                          0.8028271889
                        ]
                      },
                      {
                        "learn": [
                          0.5987453576,
                          0.7821070995
                        ],
                        "iteration": 1635,
                        "passed_time": 53.48349059,
                        "remaining_time": 11.89974974,
                        "test": [
                          0.5947232103,
                          0.8028183031
                        ]
                      },
                      {
                        "learn": [
                          0.5987158416,
                          0.7820532333
                        ],
                        "iteration": 1640,
                        "passed_time": 53.61170646,
                        "remaining_time": 11.72858173,
                        "test": [
                          0.5947339211,
                          0.8028251266
                        ]
                      },
                      {
                        "learn": [
                          0.5986647405,
                          0.7819907375
                        ],
                        "iteration": 1645,
                        "passed_time": 53.73985818,
                        "remaining_time": 11.55766087,
                        "test": [
                          0.5947288109,
                          0.8028184304
                        ]
                      },
                      {
                        "learn": [
                          0.59862063,
                          0.7819386669
                        ],
                        "iteration": 1650,
                        "passed_time": 53.88652326,
                        "remaining_time": 11.39091255,
                        "test": [
                          0.5947242323,
                          0.8028180485
                        ]
                      },
                      {
                        "learn": [
                          0.5985658496,
                          0.7818900175
                        ],
                        "iteration": 1655,
                        "passed_time": 54.03692482,
                        "remaining_time": 11.22506168,
                        "test": [
                          0.5947091881,
                          0.8028104357
                        ]
                      },
                      {
                        "learn": [
                          0.5985221888,
                          0.7818328944
                        ],
                        "iteration": 1660,
                        "passed_time": 54.15995917,
                        "remaining_time": 11.05371834,
                        "test": [
                          0.5946798765,
                          0.802793453
                        ]
                      },
                      {
                        "learn": [
                          0.5984903835,
                          0.7817875589
                        ],
                        "iteration": 1665,
                        "passed_time": 54.28079727,
                        "remaining_time": 10.88222466,
                        "test": [
                          0.594690342,
                          0.8027939367
                        ]
                      },
                      {
                        "learn": [
                          0.5984553895,
                          0.7817441034
                        ],
                        "iteration": 1670,
                        "passed_time": 54.4187547,
                        "remaining_time": 10.71440472,
                        "test": [
                          0.5946788954,
                          0.8027938094
                        ]
                      },
                      {
                        "learn": [
                          0.5984141815,
                          0.7816943175
                        ],
                        "iteration": 1675,
                        "passed_time": 54.54706254,
                        "remaining_time": 10.54489753,
                        "test": [
                          0.5946789772,
                          0.8027816132
                        ]
                      },
                      {
                        "learn": [
                          0.5983653289,
                          0.781657316
                        ],
                        "iteration": 1680,
                        "passed_time": 54.67461375,
                        "remaining_time": 10.37549184,
                        "test": [
                          0.5946465995,
                          0.8027753241
                        ]
                      },
                      {
                        "learn": [
                          0.5983002056,
                          0.7815973514
                        ],
                        "iteration": 1685,
                        "passed_time": 54.8000005,
                        "remaining_time": 10.20593129,
                        "test": [
                          0.5946246465,
                          0.8027722431
                        ]
                      },
                      {
                        "learn": [
                          0.5982657839,
                          0.7815565007
                        ],
                        "iteration": 1690,
                        "passed_time": 54.93273503,
                        "remaining_time": 10.03797465,
                        "test": [
                          0.5946286119,
                          0.8027704608
                        ]
                      },
                      {
                        "learn": [
                          0.5982245351,
                          0.781508586
                        ],
                        "iteration": 1695,
                        "passed_time": 55.07715726,
                        "remaining_time": 9.872320642,
                        "test": [
                          0.5946377692,
                          0.8027788378
                        ]
                      },
                      {
                        "learn": [
                          0.5981739246,
                          0.7814321832
                        ],
                        "iteration": 1700,
                        "passed_time": 55.20114515,
                        "remaining_time": 9.703199529,
                        "test": [
                          0.5946333132,
                          0.8027792452
                        ]
                      },
                      {
                        "learn": [
                          0.5981536068,
                          0.7814023367
                        ],
                        "iteration": 1705,
                        "passed_time": 55.32691231,
                        "remaining_time": 9.534649602,
                        "test": [
                          0.5946342126,
                          0.8027783031
                        ]
                      },
                      {
                        "learn": [
                          0.598108597,
                          0.7813558776
                        ],
                        "iteration": 1710,
                        "passed_time": 55.45448716,
                        "remaining_time": 9.366655049,
                        "test": [
                          0.5946145898,
                          0.8027821479
                        ]
                      },
                      {
                        "learn": [
                          0.5980236056,
                          0.7812767127
                        ],
                        "iteration": 1715,
                        "passed_time": 55.58557855,
                        "remaining_time": 9.199478035,
                        "test": [
                          0.5945609949,
                          0.8027652155
                        ]
                      },
                      {
                        "learn": [
                          0.5979971148,
                          0.7812323916
                        ],
                        "iteration": 1720,
                        "passed_time": 55.71366955,
                        "remaining_time": 9.032024291,
                        "test": [
                          0.594553759,
                          0.8027597665
                        ]
                      },
                      {
                        "learn": [
                          0.5979107335,
                          0.7811594943
                        ],
                        "iteration": 1725,
                        "passed_time": 55.84379483,
                        "remaining_time": 8.865121542,
                        "test": [
                          0.5944978748,
                          0.8027395489
                        ]
                      },
                      {
                        "learn": [
                          0.5978741451,
                          0.7811063216
                        ],
                        "iteration": 1730,
                        "passed_time": 56.00877684,
                        "remaining_time": 8.703848048,
                        "test": [
                          0.5945015132,
                          0.8027316806
                        ]
                      },
                      {
                        "learn": [
                          0.5978121697,
                          0.7810168199
                        ],
                        "iteration": 1735,
                        "passed_time": 56.13693311,
                        "remaining_time": 8.536952962,
                        "test": [
                          0.5945293531,
                          0.8027664632
                        ]
                      },
                      {
                        "learn": [
                          0.5977644208,
                          0.7809488755
                        ],
                        "iteration": 1740,
                        "passed_time": 56.26404491,
                        "remaining_time": 8.370125004,
                        "test": [
                          0.5945336047,
                          0.8027588753
                        ]
                      },
                      {
                        "learn": [
                          0.5977104989,
                          0.780893987
                        ],
                        "iteration": 1745,
                        "passed_time": 56.40010073,
                        "remaining_time": 8.20482565,
                        "test": [
                          0.5945315198,
                          0.802775375
                        ]
                      },
                      {
                        "learn": [
                          0.597652489,
                          0.7808199587
                        ],
                        "iteration": 1750,
                        "passed_time": 56.53046123,
                        "remaining_time": 8.038883408,
                        "test": [
                          0.5945241204,
                          0.8027734653
                        ]
                      },
                      {
                        "learn": [
                          0.5975968501,
                          0.7807658727
                        ],
                        "iteration": 1755,
                        "passed_time": 56.66018912,
                        "remaining_time": 7.873055891,
                        "test": [
                          0.594487859,
                          0.8027510073
                        ]
                      },
                      {
                        "learn": [
                          0.5975504094,
                          0.7807052637
                        ],
                        "iteration": 1760,
                        "passed_time": 56.79107506,
                        "remaining_time": 7.70759054,
                        "test": [
                          0.5944914974,
                          0.8027476716
                        ]
                      },
                      {
                        "learn": [
                          0.5975336891,
                          0.7806695506
                        ],
                        "iteration": 1765,
                        "passed_time": 56.91608998,
                        "remaining_time": 7.541543067,
                        "test": [
                          0.594498161,
                          0.8027386067
                        ]
                      },
                      {
                        "learn": [
                          0.5975029467,
                          0.7806282847
                        ],
                        "iteration": 1770,
                        "passed_time": 57.07272072,
                        "remaining_time": 7.379815384,
                        "test": [
                          0.5944942773,
                          0.8027299236
                        ]
                      },
                      {
                        "learn": [
                          0.5974876164,
                          0.7806136474
                        ],
                        "iteration": 1775,
                        "passed_time": 57.18972322,
                        "remaining_time": 7.213118244,
                        "test": [
                          0.5944889219,
                          0.8027276828
                        ]
                      },
                      {
                        "learn": [
                          0.5974424839,
                          0.780571174
                        ],
                        "iteration": 1780,
                        "passed_time": 57.31571177,
                        "remaining_time": 7.047805097,
                        "test": [
                          0.5944611229,
                          0.8027203493
                        ]
                      },
                      {
                        "learn": [
                          0.5973859865,
                          0.7805071977
                        ],
                        "iteration": 1785,
                        "passed_time": 57.44168889,
                        "remaining_time": 6.882710763,
                        "test": [
                          0.5944416228,
                          0.8027173445
                        ]
                      },
                      {
                        "learn": [
                          0.597354222,
                          0.7804643781
                        ],
                        "iteration": 1790,
                        "passed_time": 57.55821948,
                        "remaining_time": 6.71673248,
                        "test": [
                          0.5944426857,
                          0.8027071588
                        ]
                      },
                      {
                        "learn": [
                          0.597319228,
                          0.7804319017
                        ],
                        "iteration": 1795,
                        "passed_time": 57.68594845,
                        "remaining_time": 6.552301494,
                        "test": [
                          0.5944317296,
                          0.8027081265
                        ]
                      },
                      {
                        "learn": [
                          0.5972581929,
                          0.7803522764
                        ],
                        "iteration": 1800,
                        "passed_time": 57.82881831,
                        "remaining_time": 6.389747275,
                        "test": [
                          0.5944336101,
                          0.8027034665
                        ]
                      },
                      {
                        "learn": [
                          0.5972229944,
                          0.7803115439
                        ],
                        "iteration": 1805,
                        "passed_time": 57.95087144,
                        "remaining_time": 6.225065924,
                        "test": [
                          0.5944315661,
                          0.8027021678
                        ]
                      },
                      {
                        "learn": [
                          0.5971812142,
                          0.7802592303
                        ],
                        "iteration": 1810,
                        "passed_time": 58.11533907,
                        "remaining_time": 6.065046429,
                        "test": [
                          0.5944251886,
                          0.8026894354
                        ]
                      },
                      {
                        "learn": [
                          0.5971255753,
                          0.7801993679
                        ],
                        "iteration": 1815,
                        "passed_time": 58.24045591,
                        "remaining_time": 5.901015356,
                        "test": [
                          0.5943890499,
                          0.8026898174
                        ]
                      },
                      {
                        "learn": [
                          0.597059103,
                          0.7801314833
                        ],
                        "iteration": 1820,
                        "passed_time": 58.37323326,
                        "remaining_time": 5.737950991,
                        "test": [
                          0.5943744555,
                          0.8026901739
                        ]
                      },
                      {
                        "learn": [
                          0.5970228825,
                          0.7800909227
                        ],
                        "iteration": 1825,
                        "passed_time": 58.50657763,
                        "remaining_time": 5.575106521,
                        "test": [
                          0.5943632541,
                          0.8026907596
                        ]
                      },
                      {
                        "learn": [
                          0.5969651178,
                          0.7800420008
                        ],
                        "iteration": 1830,
                        "passed_time": 58.63865246,
                        "remaining_time": 5.412305989,
                        "test": [
                          0.5943357004,
                          0.8026936116
                        ]
                      },
                      {
                        "learn": [
                          0.5969366647,
                          0.7800168443
                        ],
                        "iteration": 1835,
                        "passed_time": 58.75933765,
                        "remaining_time": 5.248655433,
                        "test": [
                          0.5943246626,
                          0.8026836294
                        ]
                      },
                      {
                        "learn": [
                          0.5968943939,
                          0.7799805493
                        ],
                        "iteration": 1840,
                        "passed_time": 58.88637674,
                        "remaining_time": 5.085787019,
                        "test": [
                          0.5942948195,
                          0.8026735706
                        ]
                      },
                      {
                        "learn": [
                          0.5968481985,
                          0.7799228146
                        ],
                        "iteration": 1845,
                        "passed_time": 59.01240197,
                        "remaining_time": 4.923028117,
                        "test": [
                          0.5942825961,
                          0.8026591825
                        ]
                      },
                      {
                        "learn": [
                          0.5967894118,
                          0.7798550633
                        ],
                        "iteration": 1850,
                        "passed_time": 59.17208976,
                        "remaining_time": 4.763177403,
                        "test": [
                          0.5942721306,
                          0.8026683502
                        ]
                      },
                      {
                        "learn": [
                          0.5967545813,
                          0.779828328
                        ],
                        "iteration": 1855,
                        "passed_time": 59.29528384,
                        "remaining_time": 4.60049616,
                        "test": [
                          0.5942594575,
                          0.8026597682
                        ]
                      },
                      {
                        "learn": [
                          0.596728581,
                          0.7797841605
                        ],
                        "iteration": 1860,
                        "passed_time": 59.42436436,
                        "remaining_time": 4.438466763,
                        "test": [
                          0.5942739703,
                          0.8026589278
                        ]
                      },
                      {
                        "learn": [
                          0.5966903574,
                          0.7797368447
                        ],
                        "iteration": 1865,
                        "passed_time": 59.55260843,
                        "remaining_time": 4.276553874,
                        "test": [
                          0.5942600708,
                          0.8026554899
                        ]
                      },
                      {
                        "learn": [
                          0.5966523791,
                          0.7796972859
                        ],
                        "iteration": 1870,
                        "passed_time": 59.67890667,
                        "remaining_time": 4.114686777,
                        "test": [
                          0.5942604387,
                          0.8026614235
                        ]
                      },
                      {
                        "learn": [
                          0.5965964131,
                          0.7796311667
                        ],
                        "iteration": 1875,
                        "passed_time": 59.8002872,
                        "remaining_time": 3.952684229,
                        "test": [
                          0.594274052,
                          0.8026661601
                        ]
                      },
                      {
                        "learn": [
                          0.5965494819,
                          0.7795786501
                        ],
                        "iteration": 1880,
                        "passed_time": 59.93199418,
                        "remaining_time": 3.791550935,
                        "test": [
                          0.5942545927,
                          0.8026641738
                        ]
                      },
                      {
                        "learn": [
                          0.5965205791,
                          0.779526733
                        ],
                        "iteration": 1885,
                        "passed_time": 60.15476792,
                        "remaining_time": 3.63607823,
                        "test": [
                          0.5942952283,
                          0.8026956743
                        ]
                      },
                      {
                        "learn": [
                          0.5964739749,
                          0.7794749699
                        ],
                        "iteration": 1890,
                        "passed_time": 60.28419596,
                        "remaining_time": 3.474869042,
                        "test": [
                          0.5942896276,
                          0.8027003343
                        ]
                      },
                      {
                        "learn": [
                          0.5964248361,
                          0.7794187188
                        ],
                        "iteration": 1895,
                        "passed_time": 60.41297042,
                        "remaining_time": 3.313791626,
                        "test": [
                          0.594283332,
                          0.802713805
                        ]
                      },
                      {
                        "learn": [
                          0.5963844867,
                          0.7793673681
                        ],
                        "iteration": 1900,
                        "passed_time": 60.54153724,
                        "remaining_time": 3.152873323,
                        "test": [
                          0.5942847628,
                          0.8027110549
                        ]
                      },
                      {
                        "learn": [
                          0.5963394768,
                          0.779310401
                        ],
                        "iteration": 1905,
                        "passed_time": 60.66828297,
                        "remaining_time": 2.992034942,
                        "test": [
                          0.5942760961,
                          0.802709858
                        ]
                      },
                      {
                        "learn": [
                          0.5963014576,
                          0.7792605121
                        ],
                        "iteration": 1910,
                        "passed_time": 60.79236548,
                        "remaining_time": 2.83125093,
                        "test": [
                          0.594269269,
                          0.8027086357
                        ]
                      },
                      {
                        "learn": [
                          0.5962644604,
                          0.779193359
                        ],
                        "iteration": 1915,
                        "passed_time": 60.91878112,
                        "remaining_time": 2.670760759,
                        "test": [
                          0.5942960051,
                          0.8027070315
                        ]
                      },
                      {
                        "learn": [
                          0.5962038749,
                          0.7791167554
                        ],
                        "iteration": 1920,
                        "passed_time": 61.08060458,
                        "remaining_time": 2.511904092,
                        "test": [
                          0.5942916717,
                          0.8027068023
                        ]
                      },
                      {
                        "learn": [
                          0.5961745224,
                          0.7790893651
                        ],
                        "iteration": 1925,
                        "passed_time": 61.24266202,
                        "remaining_time": 2.353041012,
                        "test": [
                          0.5942784263,
                          0.8027034919
                        ]
                      },
                      {
                        "learn": [
                          0.5961419404,
                          0.7790520824
                        ],
                        "iteration": 1930,
                        "passed_time": 61.37692515,
                        "remaining_time": 2.193168221,
                        "test": [
                          0.5942814515,
                          0.8027061148
                        ]
                      },
                      {
                        "learn": [
                          0.5961185565,
                          0.7790184189
                        ],
                        "iteration": 1935,
                        "passed_time": 61.62481517,
                        "remaining_time": 2.037183973,
                        "test": [
                          0.5942834137,
                          0.8027138305
                        ]
                      },
                      {
                        "learn": [
                          0.5960694995,
                          0.7789842816
                        ],
                        "iteration": 1940,
                        "passed_time": 61.87083422,
                        "remaining_time": 1.880669356,
                        "test": [
                          0.5942319856,
                          0.8026961327
                        ]
                      },
                      {
                        "learn": [
                          0.5960140241,
                          0.778926473
                        ],
                        "iteration": 1945,
                        "passed_time": 62.27252674,
                        "remaining_time": 1.728014617,
                        "test": [
                          0.5941809254,
                          0.8026834766
                        ]
                      },
                      {
                        "learn": [
                          0.5959603066,
                          0.7788887364
                        ],
                        "iteration": 1950,
                        "passed_time": 62.61531502,
                        "remaining_time": 1.572604016,
                        "test": [
                          0.5941391042,
                          0.8026828654
                        ]
                      },
                      {
                        "learn": [
                          0.595931363,
                          0.778854882
                        ],
                        "iteration": 1955,
                        "passed_time": 62.95740359,
                        "remaining_time": 1.416219713,
                        "test": [
                          0.5941305601,
                          0.8026809046
                        ]
                      },
                      {
                        "learn": [
                          0.5958938343,
                          0.7788036516
                        ],
                        "iteration": 1960,
                        "passed_time": 63.46269825,
                        "remaining_time": 1.262134233,
                        "test": [
                          0.5941525132,
                          0.8026851573
                        ]
                      },
                      {
                        "learn": [
                          0.5958696737,
                          0.7787691112
                        ],
                        "iteration": 1965,
                        "passed_time": 64.11893936,
                        "remaining_time": 1.108872807,
                        "test": [
                          0.5941537396,
                          0.8026823816
                        ]
                      },
                      {
                        "learn": [
                          0.5958450225,
                          0.7787379815
                        ],
                        "iteration": 1970,
                        "passed_time": 64.41815875,
                        "remaining_time": 0.947806496,
                        "test": [
                          0.5941465854,
                          0.8026886205
                        ]
                      },
                      {
                        "learn": [
                          0.5958166103,
                          0.7787032019
                        ],
                        "iteration": 1975,
                        "passed_time": 64.7752329,
                        "remaining_time": 0.7867437195,
                        "test": [
                          0.5941567648,
                          0.8026898938
                        ]
                      },
                      {
                        "learn": [
                          0.5957743395,
                          0.7786519615
                        ],
                        "iteration": 1980,
                        "passed_time": 65.11366062,
                        "remaining_time": 0.624512646,
                        "test": [
                          0.5941276985,
                          0.8026770848
                        ]
                      },
                      {
                        "learn": [
                          0.5957172698,
                          0.7785885626
                        ],
                        "iteration": 1985,
                        "passed_time": 65.47511776,
                        "remaining_time": 0.4615567214,
                        "test": [
                          0.5941215255,
                          0.8026845716
                        ]
                      },
                      {
                        "learn": [
                          0.5956633479,
                          0.7785233995
                        ],
                        "iteration": 1990,
                        "passed_time": 65.67535094,
                        "remaining_time": 0.2968750168,
                        "test": [
                          0.5941239783,
                          0.802689028
                        ]
                      },
                      {
                        "learn": [
                          0.5956246337,
                          0.7784875075
                        ],
                        "iteration": 1995,
                        "passed_time": 65.82327225,
                        "remaining_time": 0.1319103652,
                        "test": [
                          0.5940841603,
                          0.8026856666
                        ]
                      },
                      {
                        "learn": [
                          0.5955788062,
                          0.778463955
                        ],
                        "iteration": 1999,
                        "passed_time": 65.92358338,
                        "remaining_time": 0,
                        "test": [
                          0.5940354303,
                          0.8026860486
                        ]
                      }
                    ],
                    "meta": {
                      "test_sets": [
                        "test"
                      ],
                      "test_metrics": [
                        {
                          "best_value": "Min",
                          "name": "MAE"
                        },
                        {
                          "best_value": "Min",
                          "name": "RMSE"
                        }
                      ],
                      "learn_metrics": [
                        {
                          "best_value": "Min",
                          "name": "MAE"
                        },
                        {
                          "best_value": "Min",
                          "name": "RMSE"
                        }
                      ],
                      "launch_mode": "Train",
                      "parameters": "",
                      "iteration_count": 2000,
                      "learn_sets": [
                        "learn"
                      ],
                      "name": "experiment"
                    }
                  }
                }
              }
            },
            "layout": "IPY_MODEL_39e35d01473f4ee08228a1896554df98"
          }
        }
      }
    }
  },
  "nbformat": 4,
  "nbformat_minor": 0
}